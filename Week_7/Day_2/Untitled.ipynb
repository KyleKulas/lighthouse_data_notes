{
 "cells": [
  {
   "cell_type": "code",
   "execution_count": 3,
   "id": "6005fd6b-4e88-479b-809e-44d8690037a0",
   "metadata": {},
   "outputs": [],
   "source": [
    "import requests\n",
    "\n",
    "json_data = {\"alcohol\": 14.23,\n",
    " \"malic_acid\": 1.71,\n",
    " \"ash\": 2.43,\n",
    " \"alcalinity_of_ash\": 15.6,\n",
    " \"magnesium\": 127.0,\n",
    " \"total_phenols\": 2.8,\n",
    " \"flavanoids\": 3.06,\n",
    " \"nonflavanoid_phenols\": 0.28,\n",
    " \"proanthocyanins\": 2.29,\n",
    " \"color_intensity\": 5.64,\n",
    " \"hue\": 1.04,\n",
    " \"od280/od315_of_diluted_wines\": 3.92,\n",
    " \"proline\": 1065.0}\n",
    "\n",
    "URL = \"http://127.0.0.1:5000/scoring\"\n",
    "r = requests.post(url = URL, json = json_data)"
   ]
  },
  {
   "cell_type": "code",
   "execution_count": 4,
   "id": "47fbb18c-902e-4c01-8818-3b16730d3c0a",
   "metadata": {},
   "outputs": [
    {
     "name": "stdout",
     "output_type": "stream",
     "text": [
      "[[0.9785714285714284, 0.02142857142857143, 0.0]]\n"
     ]
    }
   ],
   "source": [
    "print(r.json())"
   ]
  },
  {
   "cell_type": "code",
   "execution_count": null,
   "id": "768e84d5-c20b-4d26-9f11-733a35d0428b",
   "metadata": {},
   "outputs": [],
   "source": []
  }
 ],
 "metadata": {
  "kernelspec": {
   "display_name": "Python 3 (ipykernel)",
   "language": "python",
   "name": "python3"
  },
  "language_info": {
   "codemirror_mode": {
    "name": "ipython",
    "version": 3
   },
   "file_extension": ".py",
   "mimetype": "text/x-python",
   "name": "python",
   "nbconvert_exporter": "python",
   "pygments_lexer": "ipython3",
   "version": "3.8.8"
  }
 },
 "nbformat": 4,
 "nbformat_minor": 5
}
