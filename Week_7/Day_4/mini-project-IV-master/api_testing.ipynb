{
 "cells": [
  {
   "cell_type": "code",
   "execution_count": 32,
   "id": "4bcfe984-a145-462e-994b-b8e328a4b77a",
   "metadata": {},
   "outputs": [],
   "source": [
    "import random\n",
    "import requests"
   ]
  },
  {
   "cell_type": "code",
   "execution_count": 54,
   "id": "78f672da-bcf5-406e-bdbd-fc4237b81e2f",
   "metadata": {},
   "outputs": [],
   "source": [
    "def test_random():\n",
    "    Gender = {0: \"Male\", 1: 'Female'} \n",
    "    Married = {0: \"Yes\", 1: 'No'}\n",
    "    Dependents = {0: '0', 1: '1', 2: '2', 3: '3+'} \n",
    "    Education = {0: \"Graduated\", 1: 'Not Graduated'}\n",
    "    Self_Employed = {0:\"No\", 1: 'Yes'}\n",
    "    Loan_Amount_Term = {0: \"360\"}, \n",
    "    Property_Area = {0: \"Urban\", 1: \"Semiurban\", 2: 'Rural'} \n",
    "    Gender[random.randint(0,1)]\n",
    "\n",
    "    url='http://ec2-18-220-36-23.us-east-2.compute.amazonaws.com:5000/loan'\n",
    "    data={\"Gender\": Gender[random.randint(0,1)], \n",
    "            \"Married\": Married[random.randint(0,1)],\n",
    "            \"Dependents\": Dependents[random.randint(0,1)], \n",
    "            \"Education\": Education[random.randint(0,1)],\n",
    "            \"Self_Employed\": Self_Employed[random.randint(0,1)], \n",
    "            \"ApplicantIncome\": random.randint(0,6000), \n",
    "            \"CoapplicantIncome\": random.randint(0,4000), \n",
    "            \"LoanAmount\": random.randint(100,200),\n",
    "            \"Loan_Amount_Term\": \"360\", \n",
    "            \"Credit_History\": random.randint(0,1), \n",
    "            \"Property_Area\": Property_Area[random.randint(0,1)]\n",
    "            }\n",
    "    headers=headers = {'Content-Type': \"application/json\"}\n",
    "    response = requests.post(url=url,json=data, headers=headers)\n",
    "    return response   "
   ]
  },
  {
   "cell_type": "code",
   "execution_count": 58,
   "id": "48fd7e89-fe7b-4929-a69a-3150948eed1b",
   "metadata": {},
   "outputs": [
    {
     "data": {
      "text/plain": [
       "['N']"
      ]
     },
     "execution_count": 58,
     "metadata": {},
     "output_type": "execute_result"
    }
   ],
   "source": [
    "test_random().json()"
   ]
  },
  {
   "cell_type": "code",
   "execution_count": 57,
   "id": "98f8329c-5658-4299-ab2a-c0a8a3aa6f05",
   "metadata": {
    "jupyter": {
     "source_hidden": true
    },
    "tags": []
   },
   "outputs": [
    {
     "ename": "SyntaxError",
     "evalue": "invalid syntax (1223094976.py, line 3)",
     "output_type": "error",
     "traceback": [
      "\u001b[0;36m  File \u001b[0;32m\"/tmp/ipykernel_60187/1223094976.py\"\u001b[0;36m, line \u001b[0;32m3\u001b[0m\n\u001b[0;31m    \"Married\": \"Yes\",\u001b[0m\n\u001b[0m             ^\u001b[0m\n\u001b[0;31mSyntaxError\u001b[0m\u001b[0;31m:\u001b[0m invalid syntax\n"
     ]
    }
   ],
   "source": [
    "url='http://ec2-18-220-36-23.us-east-2.compute.amazonaws.com:5000/loan'\n",
    "data={Gender[random.randint(0,1)], \n",
    "        \"Married\": \"Yes\",\n",
    "        \"Dependents\": \"1\", \n",
    "        \"Education\": \"Graduated\",\n",
    "        \"Self_Employed\": \"No\", \n",
    "        \"ApplicantIncome\": 3000, \n",
    "        \"CoapplicantIncome\": 1000, \n",
    "        \"LoanAmount\": 100,\n",
    "        \"Loan_Amount_Term\": \"360\", \n",
    "        \"Credit_History\": 0, \n",
    "        \"Property_Area\": \"Urban\" \n",
    "        }\n",
    "headers=headers = {'Content-Type': \"application/json\"}\n",
    "response = requests.post(url=url,json=data, headers=headers)\n",
    "       "
   ]
  },
  {
   "cell_type": "code",
   "execution_count": null,
   "id": "7b039eba-6059-483b-9c1a-0180d604c508",
   "metadata": {},
   "outputs": [],
   "source": []
  }
 ],
 "metadata": {
  "kernelspec": {
   "display_name": "Python 3 (ipykernel)",
   "language": "python",
   "name": "python3"
  },
  "language_info": {
   "codemirror_mode": {
    "name": "ipython",
    "version": 3
   },
   "file_extension": ".py",
   "mimetype": "text/x-python",
   "name": "python",
   "nbconvert_exporter": "python",
   "pygments_lexer": "ipython3",
   "version": "3.8.8"
  }
 },
 "nbformat": 4,
 "nbformat_minor": 5
}
