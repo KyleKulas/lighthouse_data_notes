{
 "cells": [
  {
   "cell_type": "code",
   "execution_count": 20,
   "id": "a4ec145a-21e1-4ac6-a4e0-b4409c668b0f",
   "metadata": {},
   "outputs": [],
   "source": [
    "import numpy as np\n",
    "import pandas as pd"
   ]
  },
  {
   "cell_type": "code",
   "execution_count": 2,
   "id": "9cc9945d-e04a-4e21-acce-3d74735e921e",
   "metadata": {},
   "outputs": [
    {
     "data": {
      "text/plain": [
       "a   -0.206657\n",
       "b   -2.091004\n",
       "c    1.809307\n",
       "d    1.397411\n",
       "e   -1.269874\n",
       "dtype: float64"
      ]
     },
     "execution_count": 2,
     "metadata": {},
     "output_type": "execute_result"
    }
   ],
   "source": [
    "s = pd.Series(np.random.randn(5), index=['a', 'b', 'c', 'd', 'e'])\n",
    "s"
   ]
  },
  {
   "cell_type": "code",
   "execution_count": 3,
   "id": "3d90a98e-a10d-4761-9179-23a6bc56bfba",
   "metadata": {},
   "outputs": [
    {
     "data": {
      "text/plain": [
       "Index(['a', 'b', 'c', 'd', 'e'], dtype='object')"
      ]
     },
     "execution_count": 3,
     "metadata": {},
     "output_type": "execute_result"
    }
   ],
   "source": [
    "s.index"
   ]
  },
  {
   "cell_type": "code",
   "execution_count": 4,
   "id": "4151db38-474e-43f1-b8ba-9135c5b0711e",
   "metadata": {},
   "outputs": [
    {
     "data": {
      "text/plain": [
       "0    0.361073\n",
       "1    0.497896\n",
       "2    0.354834\n",
       "3    0.013612\n",
       "4    0.665716\n",
       "dtype: float64"
      ]
     },
     "execution_count": 4,
     "metadata": {},
     "output_type": "execute_result"
    }
   ],
   "source": [
    "pd.Series(np.random.rand(5))"
   ]
  },
  {
   "cell_type": "markdown",
   "id": "3a55389a-244a-4bf2-8ba8-ff5cb245a53f",
   "metadata": {},
   "source": [
    "### From Dict"
   ]
  },
  {
   "cell_type": "code",
   "execution_count": 5,
   "id": "3827714d-b917-4646-9adf-9646861d771d",
   "metadata": {},
   "outputs": [
    {
     "data": {
      "text/plain": [
       "b    1\n",
       "a    0\n",
       "c    2\n",
       "dtype: int64"
      ]
     },
     "execution_count": 5,
     "metadata": {},
     "output_type": "execute_result"
    }
   ],
   "source": [
    "d = {'b': 1, 'a': 0, 'c': 2}\n",
    "pd.Series(d)"
   ]
  },
  {
   "cell_type": "markdown",
   "id": "abca0978-a058-474b-8b5a-7b591d6f00d1",
   "metadata": {},
   "source": [
    "### From scalar value"
   ]
  },
  {
   "cell_type": "code",
   "execution_count": 21,
   "id": "c55c14ca-0bc3-4c74-9c74-149009549003",
   "metadata": {},
   "outputs": [
    {
     "data": {
      "text/plain": [
       "a    5.0\n",
       "b    5.0\n",
       "c    5.0\n",
       "d    5.0\n",
       "e    5.0\n",
       "dtype: float64"
      ]
     },
     "execution_count": 21,
     "metadata": {},
     "output_type": "execute_result"
    }
   ],
   "source": [
    "pd.Series(5., index=['a', 'b', 'c', 'd', 'e'])"
   ]
  },
  {
   "cell_type": "markdown",
   "id": "14b5f1cd-e7ed-4c04-a85c-7818267ba00f",
   "metadata": {},
   "source": [
    "### Series is ndarray-like"
   ]
  },
  {
   "cell_type": "code",
   "execution_count": 7,
   "id": "c44c0196-61ae-44bc-b5b2-ea4715dd60df",
   "metadata": {},
   "outputs": [
    {
     "data": {
      "text/plain": [
       "-0.20665746679867483"
      ]
     },
     "execution_count": 7,
     "metadata": {},
     "output_type": "execute_result"
    }
   ],
   "source": [
    "s[0]"
   ]
  },
  {
   "cell_type": "code",
   "execution_count": 8,
   "id": "db456ab1-5c00-4f0e-889e-a1f449b9c3ad",
   "metadata": {},
   "outputs": [
    {
     "data": {
      "text/plain": [
       "a   -0.206657\n",
       "b   -2.091004\n",
       "c    1.809307\n",
       "dtype: float64"
      ]
     },
     "execution_count": 8,
     "metadata": {},
     "output_type": "execute_result"
    }
   ],
   "source": [
    "s[:3]"
   ]
  },
  {
   "cell_type": "code",
   "execution_count": 9,
   "id": "2f753f55-4e72-44dd-ba71-1e24393b67dd",
   "metadata": {},
   "outputs": [
    {
     "data": {
      "text/plain": [
       "c    1.809307\n",
       "d    1.397411\n",
       "dtype: float64"
      ]
     },
     "execution_count": 9,
     "metadata": {},
     "output_type": "execute_result"
    }
   ],
   "source": [
    "s[s > s.median()]"
   ]
  },
  {
   "cell_type": "code",
   "execution_count": 10,
   "id": "57de3902-c31d-49b7-a15c-488638a557a2",
   "metadata": {},
   "outputs": [
    {
     "data": {
      "text/plain": [
       "e   -1.269874\n",
       "d    1.397411\n",
       "b   -2.091004\n",
       "dtype: float64"
      ]
     },
     "execution_count": 10,
     "metadata": {},
     "output_type": "execute_result"
    }
   ],
   "source": [
    "s[[4, 3, 1]]"
   ]
  },
  {
   "cell_type": "code",
   "execution_count": 11,
   "id": "e6e688d4-025b-4ce1-8b21-95bfd4f14ea8",
   "metadata": {},
   "outputs": [
    {
     "data": {
      "text/plain": [
       "a    0.813298\n",
       "b    0.123563\n",
       "c    6.106211\n",
       "d    4.044716\n",
       "e    0.280867\n",
       "dtype: float64"
      ]
     },
     "execution_count": 11,
     "metadata": {},
     "output_type": "execute_result"
    }
   ],
   "source": [
    "np.exp(s)"
   ]
  },
  {
   "cell_type": "code",
   "execution_count": 12,
   "id": "e9e35fb5-5c8d-4721-aad9-504fee127d8d",
   "metadata": {},
   "outputs": [
    {
     "data": {
      "text/plain": [
       "dtype('float64')"
      ]
     },
     "execution_count": 12,
     "metadata": {},
     "output_type": "execute_result"
    }
   ],
   "source": [
    "s.dtype"
   ]
  },
  {
   "cell_type": "markdown",
   "id": "ed5a0eb2-dd67-433a-b606-3c792f43f8be",
   "metadata": {},
   "source": [
    "While Series is ndarray-like, if you need an actual ndarray, then use Series.to_numpy():"
   ]
  },
  {
   "cell_type": "code",
   "execution_count": 13,
   "id": "c0d12ce3-fb0a-46f0-aa5e-1dedaf1d5ed2",
   "metadata": {},
   "outputs": [
    {
     "data": {
      "text/plain": [
       "array([-0.20665747, -2.09100419,  1.80930652,  1.39741123, -1.26987358])"
      ]
     },
     "execution_count": 13,
     "metadata": {},
     "output_type": "execute_result"
    }
   ],
   "source": [
    "s.to_numpy()"
   ]
  },
  {
   "cell_type": "markdown",
   "id": "240ca630-cd0d-48c9-9a0b-a3b211c83002",
   "metadata": {},
   "source": [
    "### Series is dict-like"
   ]
  },
  {
   "cell_type": "code",
   "execution_count": 14,
   "id": "a3fab7cc-14a7-421d-8d2e-2b0ece10e7bd",
   "metadata": {},
   "outputs": [
    {
     "data": {
      "text/plain": [
       "-0.20665746679867483"
      ]
     },
     "execution_count": 14,
     "metadata": {},
     "output_type": "execute_result"
    }
   ],
   "source": [
    "s['a']"
   ]
  },
  {
   "cell_type": "code",
   "execution_count": 15,
   "id": "9df41f50-7abb-48a8-9008-ee3aa334b57b",
   "metadata": {},
   "outputs": [
    {
     "data": {
      "text/plain": [
       "-1.2698735776891692"
      ]
     },
     "execution_count": 15,
     "metadata": {},
     "output_type": "execute_result"
    }
   ],
   "source": [
    "s['e']"
   ]
  },
  {
   "cell_type": "code",
   "execution_count": 16,
   "id": "6e1bd043-6620-4d42-b48d-002b35e16e5e",
   "metadata": {},
   "outputs": [
    {
     "data": {
      "text/plain": [
       "a   -0.206657\n",
       "b   -2.091004\n",
       "c    1.809307\n",
       "d    1.397411\n",
       "e   -1.269874\n",
       "dtype: float64"
      ]
     },
     "execution_count": 16,
     "metadata": {},
     "output_type": "execute_result"
    }
   ],
   "source": [
    "s"
   ]
  },
  {
   "cell_type": "code",
   "execution_count": 17,
   "id": "e6d63564-0264-4db8-820f-21e3d96e29c0",
   "metadata": {},
   "outputs": [
    {
     "data": {
      "text/plain": [
       "True"
      ]
     },
     "execution_count": 17,
     "metadata": {},
     "output_type": "execute_result"
    }
   ],
   "source": [
    "'e' in s"
   ]
  },
  {
   "cell_type": "code",
   "execution_count": 18,
   "id": "c752bfb7-1ae6-41be-bbf9-a8e4a555e554",
   "metadata": {},
   "outputs": [
    {
     "data": {
      "text/plain": [
       "False"
      ]
     },
     "execution_count": 18,
     "metadata": {},
     "output_type": "execute_result"
    }
   ],
   "source": [
    "'f' in s"
   ]
  },
  {
   "cell_type": "code",
   "execution_count": 19,
   "id": "bfb43c9e-218a-4914-8f28-3448afa702b5",
   "metadata": {},
   "outputs": [
    {
     "ename": "KeyError",
     "evalue": "'f'",
     "output_type": "error",
     "traceback": [
      "\u001b[0;31m---------------------------------------------------------------------------\u001b[0m",
      "\u001b[0;31mKeyError\u001b[0m                                  Traceback (most recent call last)",
      "\u001b[0;32m~/anaconda3/envs/Python3.6/lib/python3.6/site-packages/pandas/core/indexes/base.py\u001b[0m in \u001b[0;36mget_loc\u001b[0;34m(self, key, method, tolerance)\u001b[0m\n\u001b[1;32m   2897\u001b[0m             \u001b[0;32mtry\u001b[0m\u001b[0;34m:\u001b[0m\u001b[0;34m\u001b[0m\u001b[0;34m\u001b[0m\u001b[0m\n\u001b[0;32m-> 2898\u001b[0;31m                 \u001b[0;32mreturn\u001b[0m \u001b[0mself\u001b[0m\u001b[0;34m.\u001b[0m\u001b[0m_engine\u001b[0m\u001b[0;34m.\u001b[0m\u001b[0mget_loc\u001b[0m\u001b[0;34m(\u001b[0m\u001b[0mcasted_key\u001b[0m\u001b[0;34m)\u001b[0m\u001b[0;34m\u001b[0m\u001b[0;34m\u001b[0m\u001b[0m\n\u001b[0m\u001b[1;32m   2899\u001b[0m             \u001b[0;32mexcept\u001b[0m \u001b[0mKeyError\u001b[0m \u001b[0;32mas\u001b[0m \u001b[0merr\u001b[0m\u001b[0;34m:\u001b[0m\u001b[0;34m\u001b[0m\u001b[0;34m\u001b[0m\u001b[0m\n",
      "\u001b[0;32mpandas/_libs/index.pyx\u001b[0m in \u001b[0;36mpandas._libs.index.IndexEngine.get_loc\u001b[0;34m()\u001b[0m\n",
      "\u001b[0;32mpandas/_libs/index.pyx\u001b[0m in \u001b[0;36mpandas._libs.index.IndexEngine.get_loc\u001b[0;34m()\u001b[0m\n",
      "\u001b[0;32mpandas/_libs/hashtable_class_helper.pxi\u001b[0m in \u001b[0;36mpandas._libs.hashtable.PyObjectHashTable.get_item\u001b[0;34m()\u001b[0m\n",
      "\u001b[0;32mpandas/_libs/hashtable_class_helper.pxi\u001b[0m in \u001b[0;36mpandas._libs.hashtable.PyObjectHashTable.get_item\u001b[0;34m()\u001b[0m\n",
      "\u001b[0;31mKeyError\u001b[0m: 'f'",
      "\nThe above exception was the direct cause of the following exception:\n",
      "\u001b[0;31mKeyError\u001b[0m                                  Traceback (most recent call last)",
      "\u001b[0;32m<ipython-input-19-c23937ec966b>\u001b[0m in \u001b[0;36m<module>\u001b[0;34m\u001b[0m\n\u001b[0;32m----> 1\u001b[0;31m \u001b[0ms\u001b[0m\u001b[0;34m[\u001b[0m\u001b[0;34m'f'\u001b[0m\u001b[0;34m]\u001b[0m\u001b[0;34m\u001b[0m\u001b[0;34m\u001b[0m\u001b[0m\n\u001b[0m",
      "\u001b[0;32m~/anaconda3/envs/Python3.6/lib/python3.6/site-packages/pandas/core/series.py\u001b[0m in \u001b[0;36m__getitem__\u001b[0;34m(self, key)\u001b[0m\n\u001b[1;32m    880\u001b[0m \u001b[0;34m\u001b[0m\u001b[0m\n\u001b[1;32m    881\u001b[0m         \u001b[0;32melif\u001b[0m \u001b[0mkey_is_scalar\u001b[0m\u001b[0;34m:\u001b[0m\u001b[0;34m\u001b[0m\u001b[0;34m\u001b[0m\u001b[0m\n\u001b[0;32m--> 882\u001b[0;31m             \u001b[0;32mreturn\u001b[0m \u001b[0mself\u001b[0m\u001b[0;34m.\u001b[0m\u001b[0m_get_value\u001b[0m\u001b[0;34m(\u001b[0m\u001b[0mkey\u001b[0m\u001b[0;34m)\u001b[0m\u001b[0;34m\u001b[0m\u001b[0;34m\u001b[0m\u001b[0m\n\u001b[0m\u001b[1;32m    883\u001b[0m \u001b[0;34m\u001b[0m\u001b[0m\n\u001b[1;32m    884\u001b[0m         \u001b[0;32mif\u001b[0m \u001b[0mis_hashable\u001b[0m\u001b[0;34m(\u001b[0m\u001b[0mkey\u001b[0m\u001b[0;34m)\u001b[0m\u001b[0;34m:\u001b[0m\u001b[0;34m\u001b[0m\u001b[0;34m\u001b[0m\u001b[0m\n",
      "\u001b[0;32m~/anaconda3/envs/Python3.6/lib/python3.6/site-packages/pandas/core/series.py\u001b[0m in \u001b[0;36m_get_value\u001b[0;34m(self, label, takeable)\u001b[0m\n\u001b[1;32m    988\u001b[0m \u001b[0;34m\u001b[0m\u001b[0m\n\u001b[1;32m    989\u001b[0m         \u001b[0;31m# Similar to Index.get_value, but we do not fall back to positional\u001b[0m\u001b[0;34m\u001b[0m\u001b[0;34m\u001b[0m\u001b[0;34m\u001b[0m\u001b[0m\n\u001b[0;32m--> 990\u001b[0;31m         \u001b[0mloc\u001b[0m \u001b[0;34m=\u001b[0m \u001b[0mself\u001b[0m\u001b[0;34m.\u001b[0m\u001b[0mindex\u001b[0m\u001b[0;34m.\u001b[0m\u001b[0mget_loc\u001b[0m\u001b[0;34m(\u001b[0m\u001b[0mlabel\u001b[0m\u001b[0;34m)\u001b[0m\u001b[0;34m\u001b[0m\u001b[0;34m\u001b[0m\u001b[0m\n\u001b[0m\u001b[1;32m    991\u001b[0m         \u001b[0;32mreturn\u001b[0m \u001b[0mself\u001b[0m\u001b[0;34m.\u001b[0m\u001b[0mindex\u001b[0m\u001b[0;34m.\u001b[0m\u001b[0m_get_values_for_loc\u001b[0m\u001b[0;34m(\u001b[0m\u001b[0mself\u001b[0m\u001b[0;34m,\u001b[0m \u001b[0mloc\u001b[0m\u001b[0;34m,\u001b[0m \u001b[0mlabel\u001b[0m\u001b[0;34m)\u001b[0m\u001b[0;34m\u001b[0m\u001b[0;34m\u001b[0m\u001b[0m\n\u001b[1;32m    992\u001b[0m \u001b[0;34m\u001b[0m\u001b[0m\n",
      "\u001b[0;32m~/anaconda3/envs/Python3.6/lib/python3.6/site-packages/pandas/core/indexes/base.py\u001b[0m in \u001b[0;36mget_loc\u001b[0;34m(self, key, method, tolerance)\u001b[0m\n\u001b[1;32m   2898\u001b[0m                 \u001b[0;32mreturn\u001b[0m \u001b[0mself\u001b[0m\u001b[0;34m.\u001b[0m\u001b[0m_engine\u001b[0m\u001b[0;34m.\u001b[0m\u001b[0mget_loc\u001b[0m\u001b[0;34m(\u001b[0m\u001b[0mcasted_key\u001b[0m\u001b[0;34m)\u001b[0m\u001b[0;34m\u001b[0m\u001b[0;34m\u001b[0m\u001b[0m\n\u001b[1;32m   2899\u001b[0m             \u001b[0;32mexcept\u001b[0m \u001b[0mKeyError\u001b[0m \u001b[0;32mas\u001b[0m \u001b[0merr\u001b[0m\u001b[0;34m:\u001b[0m\u001b[0;34m\u001b[0m\u001b[0;34m\u001b[0m\u001b[0m\n\u001b[0;32m-> 2900\u001b[0;31m                 \u001b[0;32mraise\u001b[0m \u001b[0mKeyError\u001b[0m\u001b[0;34m(\u001b[0m\u001b[0mkey\u001b[0m\u001b[0;34m)\u001b[0m \u001b[0;32mfrom\u001b[0m \u001b[0merr\u001b[0m\u001b[0;34m\u001b[0m\u001b[0;34m\u001b[0m\u001b[0m\n\u001b[0m\u001b[1;32m   2901\u001b[0m \u001b[0;34m\u001b[0m\u001b[0m\n\u001b[1;32m   2902\u001b[0m         \u001b[0;32mif\u001b[0m \u001b[0mtolerance\u001b[0m \u001b[0;32mis\u001b[0m \u001b[0;32mnot\u001b[0m \u001b[0;32mNone\u001b[0m\u001b[0;34m:\u001b[0m\u001b[0;34m\u001b[0m\u001b[0;34m\u001b[0m\u001b[0m\n",
      "\u001b[0;31mKeyError\u001b[0m: 'f'"
     ]
    }
   ],
   "source": [
    "s['f']"
   ]
  },
  {
   "cell_type": "markdown",
   "id": "c6272b42-dc32-4237-8db8-b7aea5bcbdbc",
   "metadata": {},
   "source": [
    "### Vectorized operations"
   ]
  },
  {
   "cell_type": "code",
   "execution_count": null,
   "id": "d736a733-146a-4bfb-bf05-fffee5be8a9a",
   "metadata": {},
   "outputs": [],
   "source": [
    "s + s"
   ]
  },
  {
   "cell_type": "code",
   "execution_count": null,
   "id": "4d864f29-9927-4de7-8ba3-b5b6e8e77303",
   "metadata": {},
   "outputs": [],
   "source": [
    "s * 2"
   ]
  },
  {
   "cell_type": "code",
   "execution_count": null,
   "id": "0f13a988-8161-4a5e-9b97-d7010eaca6f0",
   "metadata": {},
   "outputs": [],
   "source": [
    "np.exp(s)"
   ]
  },
  {
   "cell_type": "markdown",
   "id": "a4984522-7fe3-4e0e-8b7f-f957107b5691",
   "metadata": {},
   "source": [
    "A key difference between Series and ndarray is that operations between Series automatically align data based on the label. Thus, you can write computations without considering whether the Series involved have the same labels."
   ]
  },
  {
   "cell_type": "code",
   "execution_count": null,
   "id": "14b799c8-8fc5-44a2-9849-fc68822de055",
   "metadata": {},
   "outputs": [],
   "source": [
    "s1 = s[1:]\n",
    "s2 = s[:-1]\n",
    "s1 + s2"
   ]
  },
  {
   "cell_type": "markdown",
   "id": "72046520-237c-4020-a8b3-24f4a4e3d90d",
   "metadata": {},
   "source": [
    "### Name Attribute"
   ]
  },
  {
   "cell_type": "code",
   "execution_count": null,
   "id": "fd1ce106-359a-4c51-b7d3-dcee55b6cad1",
   "metadata": {},
   "outputs": [],
   "source": [
    "s = pd.Series(np.random.randn(5), name='something')\n",
    "s"
   ]
  },
  {
   "cell_type": "code",
   "execution_count": null,
   "id": "95bf6d89-4606-4e1d-89de-10001aa11a11",
   "metadata": {},
   "outputs": [],
   "source": [
    "s.name"
   ]
  },
  {
   "cell_type": "markdown",
   "id": "c03d6c6b-2d8d-462a-b753-e8a9444805c1",
   "metadata": {},
   "source": [
    "## DataFrame"
   ]
  },
  {
   "cell_type": "markdown",
   "id": "87dbcf92-4058-4a64-aa04-df7c337ebcb4",
   "metadata": {},
   "source": [
    "### From Dictionary of Series or dictionaries"
   ]
  },
  {
   "cell_type": "code",
   "execution_count": null,
   "id": "d29db876-b6da-4a3f-b82f-152c9c3b769e",
   "metadata": {},
   "outputs": [],
   "source": [
    "d = {'one': pd.Series([1., 2., 3.], index=['a','b','c']),\n",
    "    'two': pd.Series([1., 2., 3., 4.], index=['a', 'b', 'c', 'd'])}\n",
    "df = pd.DataFrame(d)\n",
    "df"
   ]
  },
  {
   "cell_type": "code",
   "execution_count": null,
   "id": "9b95a63d-e439-4fd5-be6a-77d99f8be079",
   "metadata": {},
   "outputs": [],
   "source": [
    "pd.DataFrame(d,index=['d','b','a'])"
   ]
  },
  {
   "cell_type": "code",
   "execution_count": null,
   "id": "e67a28e6-e406-471c-8273-1205664df2c1",
   "metadata": {},
   "outputs": [],
   "source": [
    "pd.DataFrame(d, index=['d', 'b', 'a'], columns=['two', 'three'])"
   ]
  },
  {
   "cell_type": "markdown",
   "id": "230c98d0-f501-45c6-b97a-7732de0575fd",
   "metadata": {},
   "source": [
    "### From Dictionary of ndarrays or lists"
   ]
  },
  {
   "cell_type": "code",
   "execution_count": null,
   "id": "4d9b15cf-7819-4b5a-9dc5-d13ffd2ba400",
   "metadata": {},
   "outputs": [],
   "source": [
    "d = {'one': [1., 2., 3., 4.], \n",
    "    'two': [4., 3., 2., 1.]}\n",
    "pd.DataFrame(d)"
   ]
  },
  {
   "cell_type": "code",
   "execution_count": null,
   "id": "c0de1e5d-8ab9-4bbb-baaa-05f8d8a398e9",
   "metadata": {},
   "outputs": [],
   "source": [
    "pd.DataFrame(d,index=['a', 'b', 'c', 'd'])"
   ]
  },
  {
   "cell_type": "markdown",
   "id": "4d697d66-ddcd-48a0-b178-67c1e1db2a4b",
   "metadata": {},
   "source": [
    "### From a Series"
   ]
  },
  {
   "cell_type": "code",
   "execution_count": null,
   "id": "9a98268a-432f-47a7-b07d-cc8924beba85",
   "metadata": {},
   "outputs": [],
   "source": [
    "pd.DataFrame(pd.Series(np.random.randn(5), name='something'))"
   ]
  },
  {
   "cell_type": "markdown",
   "id": "44464612-8c36-4cae-bfc2-183e0cbe8c58",
   "metadata": {},
   "source": [
    "### Column selection, addition, deletion"
   ]
  },
  {
   "cell_type": "code",
   "execution_count": null,
   "id": "6d65502f-906e-40aa-815e-d4c823955bfc",
   "metadata": {},
   "outputs": [],
   "source": [
    "df['one']"
   ]
  },
  {
   "cell_type": "code",
   "execution_count": null,
   "id": "17f04fd4-a448-4eaa-8519-931dd067d026",
   "metadata": {},
   "outputs": [],
   "source": [
    "df['three']= df['one']*df['two']\n",
    "df['flag'] = df['one'] > 2\n",
    "df"
   ]
  },
  {
   "cell_type": "code",
   "execution_count": null,
   "id": "a005bbb1-8f1c-4c70-8e33-f86f922b5f39",
   "metadata": {},
   "outputs": [],
   "source": [
    "del df['two']"
   ]
  },
  {
   "cell_type": "code",
   "execution_count": null,
   "id": "6a8d577c-a86a-4134-94b1-ce81e5a8161e",
   "metadata": {},
   "outputs": [],
   "source": [
    "df['foo'] = 'bar'\n",
    "df"
   ]
  },
  {
   "cell_type": "markdown",
   "id": "ae048224-31f6-467e-b125-8be42b61626e",
   "metadata": {},
   "source": [
    "When insterting a Series that does not have the same index as the DataFrame, it will be conformed to the DataFrame's index"
   ]
  },
  {
   "cell_type": "code",
   "execution_count": null,
   "id": "9d33a40b-b52b-4f26-975a-863565232123",
   "metadata": {},
   "outputs": [],
   "source": [
    "df['one_trunc'] = df['one'][:2]\n",
    "df"
   ]
  },
  {
   "cell_type": "markdown",
   "id": "8ded1a10-3c03-48df-a699-eb5102754afe",
   "metadata": {},
   "source": [
    "### Scalar Operations"
   ]
  },
  {
   "cell_type": "code",
   "execution_count": null,
   "id": "61681efc-6824-4506-8250-9dce678f14bb",
   "metadata": {},
   "outputs": [],
   "source": [
    "df = pd.DataFrame(np.random.randn(8,3),  columns=list('ABC'))\n",
    "df * 5 +2"
   ]
  },
  {
   "cell_type": "code",
   "execution_count": null,
   "id": "2c4b96d8-2842-43f5-9571-35d02eedd188",
   "metadata": {},
   "outputs": [],
   "source": [
    "1/df"
   ]
  },
  {
   "cell_type": "code",
   "execution_count": null,
   "id": "75124553-3be1-49c0-9737-3ae98f2284d1",
   "metadata": {},
   "outputs": [],
   "source": [
    "df ** 4"
   ]
  },
  {
   "cell_type": "markdown",
   "id": "870c2056-3ea2-4a08-9fb9-703ea927f877",
   "metadata": {},
   "source": [
    "## Boolean operators are vectorized as well"
   ]
  },
  {
   "cell_type": "markdown",
   "id": "f736e74b-c7c9-4620-abaf-c6ea9c126797",
   "metadata": {},
   "source": [
    "And:"
   ]
  },
  {
   "cell_type": "code",
   "execution_count": null,
   "id": "7c6ab090-e3e6-4525-8130-b3a92c4dce69",
   "metadata": {},
   "outputs": [],
   "source": [
    "df1 = pd.DataFrame({'a': [1, 0, 1], 'b': [0, 1, 1]}, dtype=bool)\n",
    "df2 = pd.DataFrame({'a': [0, 1, 1], 'b': [1, 1, 0]}, dtype=bool)\n",
    "print(df1, df2)\n",
    "df1 & df2"
   ]
  },
  {
   "cell_type": "markdown",
   "id": "33c93d80-dbdb-42e0-8545-41267f0db94d",
   "metadata": {},
   "source": [
    "Or:\n"
   ]
  },
  {
   "cell_type": "code",
   "execution_count": null,
   "id": "8c4c7d80-fa3d-4bce-b4d8-229ead615ead",
   "metadata": {},
   "outputs": [],
   "source": [
    "df1 | df2"
   ]
  },
  {
   "cell_type": "markdown",
   "id": "06fd4556-ec45-48cf-9224-c4a4c2dafbb1",
   "metadata": {},
   "source": [
    "exclusive or:"
   ]
  },
  {
   "cell_type": "code",
   "execution_count": null,
   "id": "603c17b8-059f-4514-9bcd-6b067b6a3949",
   "metadata": {},
   "outputs": [],
   "source": [
    "df1 ^ df2"
   ]
  },
  {
   "cell_type": "code",
   "execution_count": null,
   "id": "0c28fc4d-a742-4d7a-898e-bfa4ff06411a",
   "metadata": {},
   "outputs": [],
   "source": [
    "-df1"
   ]
  },
  {
   "cell_type": "markdown",
   "id": "49cf9c56-0009-4991-845d-e0ec5b29fc05",
   "metadata": {},
   "source": [
    "## dtypes"
   ]
  },
  {
   "cell_type": "code",
   "execution_count": 24,
   "id": "74e53434-02b1-451d-bfbb-654ef69e02b2",
   "metadata": {},
   "outputs": [
    {
     "data": {
      "text/html": [
       "<div>\n",
       "<style scoped>\n",
       "    .dataframe tbody tr th:only-of-type {\n",
       "        vertical-align: middle;\n",
       "    }\n",
       "\n",
       "    .dataframe tbody tr th {\n",
       "        vertical-align: top;\n",
       "    }\n",
       "\n",
       "    .dataframe thead th {\n",
       "        text-align: right;\n",
       "    }\n",
       "</style>\n",
       "<table border=\"1\" class=\"dataframe\">\n",
       "  <thead>\n",
       "    <tr style=\"text-align: right;\">\n",
       "      <th></th>\n",
       "      <th>A</th>\n",
       "      <th>B</th>\n",
       "      <th>C</th>\n",
       "      <th>D</th>\n",
       "      <th>E</th>\n",
       "      <th>F</th>\n",
       "      <th>G</th>\n",
       "    </tr>\n",
       "  </thead>\n",
       "  <tbody>\n",
       "    <tr>\n",
       "      <th>0</th>\n",
       "      <td>0.625848</td>\n",
       "      <td>1</td>\n",
       "      <td>foo</td>\n",
       "      <td>2001-01-02</td>\n",
       "      <td>1.0</td>\n",
       "      <td>False</td>\n",
       "      <td>1</td>\n",
       "    </tr>\n",
       "    <tr>\n",
       "      <th>1</th>\n",
       "      <td>0.436724</td>\n",
       "      <td>1</td>\n",
       "      <td>foo</td>\n",
       "      <td>2001-01-02</td>\n",
       "      <td>1.0</td>\n",
       "      <td>False</td>\n",
       "      <td>1</td>\n",
       "    </tr>\n",
       "    <tr>\n",
       "      <th>2</th>\n",
       "      <td>0.964131</td>\n",
       "      <td>1</td>\n",
       "      <td>foo</td>\n",
       "      <td>2001-01-02</td>\n",
       "      <td>1.0</td>\n",
       "      <td>False</td>\n",
       "      <td>1</td>\n",
       "    </tr>\n",
       "  </tbody>\n",
       "</table>\n",
       "</div>"
      ],
      "text/plain": [
       "          A  B    C          D    E      F  G\n",
       "0  0.625848  1  foo 2001-01-02  1.0  False  1\n",
       "1  0.436724  1  foo 2001-01-02  1.0  False  1\n",
       "2  0.964131  1  foo 2001-01-02  1.0  False  1"
      ]
     },
     "execution_count": 24,
     "metadata": {},
     "output_type": "execute_result"
    }
   ],
   "source": [
    "dft = pd.DataFrame({'A': np.random.rand(3),\n",
    "                    'B': 1,\n",
    "                    'C': 'foo',\n",
    "                    'D': pd.Timestamp('20010102'),\n",
    "                    'E': pd.Series([1.0] * 3).astype('float32'),\n",
    "                    'F': False,\n",
    "                    'G': pd.Series([1] * 3, dtype='int8')})\n",
    "                        \n",
    "dft"
   ]
  },
  {
   "cell_type": "code",
   "execution_count": 25,
   "id": "de02c3d6-e26b-42f9-88a5-cb6cec963866",
   "metadata": {},
   "outputs": [
    {
     "data": {
      "text/plain": [
       "A           float64\n",
       "B             int64\n",
       "C            object\n",
       "D    datetime64[ns]\n",
       "E           float32\n",
       "F              bool\n",
       "G              int8\n",
       "dtype: object"
      ]
     },
     "execution_count": 25,
     "metadata": {},
     "output_type": "execute_result"
    }
   ],
   "source": [
    "dft.dtypes"
   ]
  },
  {
   "cell_type": "code",
   "execution_count": 26,
   "id": "7e64cc6c-ecbb-4410-bd89-1c2121009e09",
   "metadata": {},
   "outputs": [
    {
     "data": {
      "text/plain": [
       "dtype('float64')"
      ]
     },
     "execution_count": 26,
     "metadata": {},
     "output_type": "execute_result"
    }
   ],
   "source": [
    "dft['A'].dtype"
   ]
  },
  {
   "cell_type": "code",
   "execution_count": 27,
   "id": "2862ddd7",
   "metadata": {},
   "outputs": [
    {
     "data": {
      "text/plain": [
       "0      1\n",
       "1      2\n",
       "2      3\n",
       "3      6\n",
       "4    foo\n",
       "dtype: object"
      ]
     },
     "execution_count": 27,
     "metadata": {},
     "output_type": "execute_result"
    }
   ],
   "source": [
    "pd.Series([1,2, 3, 6., 'foo'])"
   ]
  },
  {
   "cell_type": "code",
   "execution_count": 28,
   "id": "79533744",
   "metadata": {},
   "outputs": [
    {
     "data": {
      "text/plain": [
       "A    float32\n",
       "dtype: object"
      ]
     },
     "execution_count": 28,
     "metadata": {},
     "output_type": "execute_result"
    }
   ],
   "source": [
    "df1 = pd.DataFrame(np.random.randn(8,1), columns=['A'], dtype='float32')\n",
    "df1.dtypes"
   ]
  },
  {
   "cell_type": "code",
   "execution_count": 29,
   "id": "39480c2e-08d7-4625-b44d-753c4a9505c6",
   "metadata": {},
   "outputs": [],
   "source": [
    "df1 = df1.astype('float64')"
   ]
  },
  {
   "cell_type": "code",
   "execution_count": 30,
   "id": "971337de-d520-4a41-beb5-91431e44c8de",
   "metadata": {},
   "outputs": [
    {
     "data": {
      "text/plain": [
       "A    float64\n",
       "dtype: object"
      ]
     },
     "execution_count": 30,
     "metadata": {},
     "output_type": "execute_result"
    }
   ],
   "source": [
    "df1.dtypes"
   ]
  },
  {
   "cell_type": "markdown",
   "id": "50d8ec72-2786-44d1-b821-e795dd262b1f",
   "metadata": {},
   "source": [
    "Convert certain columns to a specific dtype by passing ia dict to astype()"
   ]
  },
  {
   "cell_type": "code",
   "execution_count": 31,
   "id": "d8c0f007-f1e7-4086-903e-2e11deb07c07",
   "metadata": {},
   "outputs": [
    {
     "data": {
      "text/html": [
       "<div>\n",
       "<style scoped>\n",
       "    .dataframe tbody tr th:only-of-type {\n",
       "        vertical-align: middle;\n",
       "    }\n",
       "\n",
       "    .dataframe tbody tr th {\n",
       "        vertical-align: top;\n",
       "    }\n",
       "\n",
       "    .dataframe thead th {\n",
       "        text-align: right;\n",
       "    }\n",
       "</style>\n",
       "<table border=\"1\" class=\"dataframe\">\n",
       "  <thead>\n",
       "    <tr style=\"text-align: right;\">\n",
       "      <th></th>\n",
       "      <th>a</th>\n",
       "      <th>b</th>\n",
       "      <th>c</th>\n",
       "    </tr>\n",
       "  </thead>\n",
       "  <tbody>\n",
       "    <tr>\n",
       "      <th>0</th>\n",
       "      <td>True</td>\n",
       "      <td>4</td>\n",
       "      <td>7.0</td>\n",
       "    </tr>\n",
       "    <tr>\n",
       "      <th>1</th>\n",
       "      <td>False</td>\n",
       "      <td>5</td>\n",
       "      <td>8.0</td>\n",
       "    </tr>\n",
       "    <tr>\n",
       "      <th>2</th>\n",
       "      <td>True</td>\n",
       "      <td>6</td>\n",
       "      <td>9.0</td>\n",
       "    </tr>\n",
       "  </tbody>\n",
       "</table>\n",
       "</div>"
      ],
      "text/plain": [
       "       a  b    c\n",
       "0   True  4  7.0\n",
       "1  False  5  8.0\n",
       "2   True  6  9.0"
      ]
     },
     "execution_count": 31,
     "metadata": {},
     "output_type": "execute_result"
    }
   ],
   "source": [
    "df1 = pd.DataFrame({'a': [1, 0, 1], 'b': [4, 5, 6], 'c':[7, 8, 9]})\n",
    "df1 = df1.astype({'a':np.bool, 'c': np.float64})\n",
    "df1"
   ]
  },
  {
   "cell_type": "code",
   "execution_count": 32,
   "id": "6b7799a1-c37a-488d-98d6-4c725c39b079",
   "metadata": {},
   "outputs": [
    {
     "data": {
      "text/plain": [
       "a       bool\n",
       "b      int64\n",
       "c    float64\n",
       "dtype: object"
      ]
     },
     "execution_count": 32,
     "metadata": {},
     "output_type": "execute_result"
    }
   ],
   "source": [
    "df1.dtypes"
   ]
  },
  {
   "cell_type": "code",
   "execution_count": null,
   "id": "05dadb75-c880-44a1-89b9-5febff5f724f",
   "metadata": {},
   "outputs": [],
   "source": []
  }
 ],
 "metadata": {
  "kernelspec": {
   "display_name": "py3.6",
   "language": "python",
   "name": "py3.6"
  },
  "language_info": {
   "codemirror_mode": {
    "name": "ipython",
    "version": 3
   },
   "file_extension": ".py",
   "mimetype": "text/x-python",
   "name": "python",
   "nbconvert_exporter": "python",
   "pygments_lexer": "ipython3",
   "version": "3.6.13"
  }
 },
 "nbformat": 4,
 "nbformat_minor": 5
}
