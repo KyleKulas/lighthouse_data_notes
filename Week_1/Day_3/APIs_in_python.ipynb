{
 "cells": [
  {
   "cell_type": "code",
   "execution_count": 1,
   "id": "0939ecce-c47c-4992-9e34-3090ccb1b6f8",
   "metadata": {},
   "outputs": [],
   "source": [
    "import requests as re\n",
    "import os\n",
    "import config as cfg\n"
   ]
  },
  {
   "cell_type": "code",
   "execution_count": 12,
   "id": "6d38d902-7a67-4537-8e68-e290199bd425",
   "metadata": {},
   "outputs": [],
   "source": [
    "payload = {'client_id': cfg.FOURSQUARE_CLIENT_ID, \n",
    "           'client_secret': cfg.FOURSQUARE_CLIENT_SECRET, \n",
    "           'v': \"20200731\", \n",
    "           'near': \"Toronto,Canada\",\n",
    "           'limit': \"10\"\n",
    "    }\n",
    "r = re.get(\"https://api.foursquare.com/v2/venues/search\", params = payload)"
   ]
  },
  {
   "cell_type": "code",
   "execution_count": 14,
   "id": "68a8c5dc-ddb9-44a3-a5f0-ab7bfb7b81e2",
   "metadata": {},
   "outputs": [
    {
     "name": "stdout",
     "output_type": "stream",
     "text": [
      "https://api.foursquare.com/v2/venues/search?client_id=FYZQVSJ3KU3GPXHEMGXZ03YJ4JSH0JOPNIQL2XYVN14C0LQW&client_secret=ELFXIKJLR3MYHEGW0LZ21PQFGH4ACQRUYXO4TRYTEXLWFDES&v=20200731&near=Toronto%2CCanada&limit=10\n"
     ]
    }
   ],
   "source": [
    "print(r.url)"
   ]
  },
  {
   "cell_type": "code",
   "execution_count": null,
   "id": "f3b99dac-59c6-4a5e-94e8-af6adc1914b7",
   "metadata": {},
   "outputs": [],
   "source": []
  }
 ],
 "metadata": {
  "kernelspec": {
   "display_name": "Python 3",
   "language": "python",
   "name": "python3"
  },
  "language_info": {
   "codemirror_mode": {
    "name": "ipython",
    "version": 3
   },
   "file_extension": ".py",
   "mimetype": "text/x-python",
   "name": "python",
   "nbconvert_exporter": "python",
   "pygments_lexer": "ipython3",
   "version": "3.8.8"
  }
 },
 "nbformat": 4,
 "nbformat_minor": 5
}
