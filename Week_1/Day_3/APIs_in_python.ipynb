{
 "cells": [
  {
   "cell_type": "code",
   "execution_count": 4,
   "id": "0939ecce-c47c-4992-9e34-3090ccb1b6f8",
   "metadata": {},
   "outputs": [],
   "source": [
    "import requests as re\n",
    "import os\n",
    "import config as cfg\n"
   ]
  },
  {
   "cell_type": "code",
   "execution_count": 12,
   "id": "6d38d902-7a67-4537-8e68-e290199bd425",
   "metadata": {},
   "outputs": [],
   "source": [
    "payload = {'client_id': cfg.FOURSQUARE_CLIENT_ID, \n",
    "           'client_secret': cfg.FOURSQUARE_CLIENT_SECRET, \n",
    "           'v': \"20200731\", \n",
    "           'll':  \"43.6532,-79.3832\",\n",
    "           'query': \"venue\",\n",
    "           'limit': \"1\"\n",
    "    }\n",
    "r = re.get(\"https://api.foursquare.com/v2/venues/explore\", params = payload)"
   ]
  },
  {
   "cell_type": "code",
   "execution_count": 13,
   "id": "68a8c5dc-ddb9-44a3-a5f0-ab7bfb7b81e2",
   "metadata": {},
   "outputs": [
    {
     "name": "stdout",
     "output_type": "stream",
     "text": [
      "{\"meta\":{\"code\":200,\"requestId\":\"6179dc0966bc2d630493539b\"},\"response\":{\"suggestedFilters\":{\"header\":\"Tap to show:\",\"filters\":[{\"name\":\"Open now\",\"key\":\"openNow\"}]},\"warning\":{\"text\":\"There aren't a lot of results for \\\"venue.\\\" Try something more general, reset your filters, or expand the search area.\"},\"suggestedRadius\":600,\"headerLocation\":\"Bay Street Corridor\",\"headerFullLocation\":\"Bay Street Corridor, Toronto\",\"headerLocationGranularity\":\"neighborhood\",\"query\":\"venue\",\"totalResults\":65,\"suggestedBounds\":{\"ne\":{\"lat\":43.65068892286892,\"lng\":-79.39454808027344},\"sw\":{\"lat\":43.647989263083474,\"lng\":-79.39740462229477}},\"groups\":[{\"type\":\"Recommended Places\",\"name\":\"recommended\",\"items\":[{\"reasons\":{\"count\":0,\"items\":[{\"summary\":\"This spot is popular\",\"type\":\"general\",\"reasonName\":\"globalInteractionReason\"}]},\"venue\":{\"id\":\"4ad4c05cf964a52007f620e3\",\"name\":\"Horseshoe Tavern\",\"location\":{\"address\":\"370 Queen St. W\",\"crossStreet\":\"at Spadina Ave.\",\"lat\":43.6493390929762,\"lng\":-79.3959763512841,\"labeledLatLngs\":[{\"label\":\"display\",\"lat\":43.6493390929762,\"lng\":-79.3959763512841}],\"distance\":1115,\"postalCode\":\"M5V 2A2\",\"cc\":\"CA\",\"city\":\"Toronto\",\"state\":\"ON\",\"country\":\"Canada\",\"formattedAddress\":[\"370 Queen St. W (at Spadina Ave.)\",\"Toronto ON M5V 2A2\",\"Canada\"]},\"categories\":[{\"id\":\"4bf58dd8d48988d1e5931735\",\"name\":\"Music Venue\",\"pluralName\":\"Music Venues\",\"shortName\":\"Music Venue\",\"icon\":{\"prefix\":\"https:\\/\\/ss3.4sqi.net\\/img\\/categories_v2\\/arts_entertainment\\/musicvenue_\",\"suffix\":\".png\"},\"primary\":true}],\"photos\":{\"count\":0,\"groups\":[]}},\"flags\":{\"outsideRadius\":true},\"referralId\":\"e-0-4ad4c05cf964a52007f620e3-0\"}]}]}}\n"
     ]
    }
   ],
   "source": [
    "print(r.text)"
   ]
  },
  {
   "cell_type": "code",
   "execution_count": null,
   "id": "f3b99dac-59c6-4a5e-94e8-af6adc1914b7",
   "metadata": {},
   "outputs": [],
   "source": []
  }
 ],
 "metadata": {
  "kernelspec": {
   "display_name": "Python 3",
   "language": "python",
   "name": "python3"
  },
  "language_info": {
   "codemirror_mode": {
    "name": "ipython",
    "version": 3
   },
   "file_extension": ".py",
   "mimetype": "text/x-python",
   "name": "python",
   "nbconvert_exporter": "python",
   "pygments_lexer": "ipython3",
   "version": "3.8.8"
  }
 },
 "nbformat": 4,
 "nbformat_minor": 5
}
