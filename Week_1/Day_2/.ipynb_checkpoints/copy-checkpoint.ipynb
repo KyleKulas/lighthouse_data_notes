{
 "cells": [
  {
   "cell_type": "markdown",
   "id": "7f309ca6-afb5-4d1d-b0b7-be2ed4658641",
   "metadata": {},
   "source": [
    "Shallow copy new object that stores reference to original object\n",
    "\n",
    "Deep copy new object that stores reference to new object"
   ]
  },
  {
   "cell_type": "markdown",
   "id": "3b4c079b-6fe7-4ac2-8854-8320ab49ff86",
   "metadata": {},
   "source": [
    "## Copy Module"
   ]
  },
  {
   "cell_type": "code",
   "execution_count": 2,
   "id": "d8e045f3-bf2e-464d-a0d5-f407e2514d3c",
   "metadata": {},
   "outputs": [
    {
     "data": {
      "text/plain": [
       "2"
      ]
     },
     "execution_count": 2,
     "metadata": {},
     "output_type": "execute_result"
    }
   ],
   "source": [
    "import copy\n",
    "copy.copy(x)\n",
    "copy.deepcopy(x)"
   ]
  },
  {
   "cell_type": "markdown",
   "id": "1b83c3db-12f0-4224-b3d8-6100777ccc26",
   "metadata": {},
   "source": [
    "Shallow copy"
   ]
  },
  {
   "cell_type": "code",
   "execution_count": 3,
   "id": "fc65fbab-fdef-4a2c-b0e6-ef9c167fbe0d",
   "metadata": {},
   "outputs": [
    {
     "name": "stdout",
     "output_type": "stream",
     "text": [
      "old list: [[1, 2, 3], [4, 5, 6], [7, 8, 9]]\n",
      "new list: [[1, 2, 3], [4, 5, 6], [7, 8, 9]]\n"
     ]
    }
   ],
   "source": [
    "import copy\n",
    "\n",
    "old_list = [[1, 2, 3], [4,5,6], [7,8,9]]\n",
    "new_list = copy.copy(old_list)\n",
    "\n",
    "print(\"old list:\", old_list)\n",
    "print('new list:', new_list)"
   ]
  },
  {
   "cell_type": "code",
   "execution_count": 4,
   "id": "fc1bd443-0d0b-4dd8-99e8-a993c63e2bda",
   "metadata": {},
   "outputs": [
    {
     "name": "stdout",
     "output_type": "stream",
     "text": [
      "old list: [[1, 2, 3], [4, 5, 6], [7, 8, 9], [4, 4, 4]]\n",
      "new list: [[1, 2, 3], [4, 5, 6], [7, 8, 9]]\n"
     ]
    }
   ],
   "source": [
    "import copy\n",
    "\n",
    "old_list = [[1, 2, 3], [4,5,6], [7,8,9]]\n",
    "new_list = copy.copy(old_list)\n",
    "\n",
    "old_list.append([4,4,4])\n",
    "print(\"old list:\", old_list)\n",
    "print('new list:', new_list)"
   ]
  },
  {
   "cell_type": "markdown",
   "id": "7376a543-65fb-430e-9048-e6bd9956d504",
   "metadata": {},
   "source": [
    "The new_list contains references to original nested objects stored in old_list. Then we add the new list i.e [4, 4, 4] into old_list. This new sublist was not copied in new_list.\n",
    "\n",
    "However, when you change any nested objects in old_list, the changes appear in new_list:"
   ]
  },
  {
   "cell_type": "code",
   "execution_count": 5,
   "id": "14fce01b-a982-42fc-86a7-27cb137d791b",
   "metadata": {},
   "outputs": [
    {
     "name": "stdout",
     "output_type": "stream",
     "text": [
      "old list: [[1, 2, 3], [4, 'AA', 6], [7, 8, 9]]\n",
      "new list: [[1, 2, 3], [4, 'AA', 6], [7, 8, 9]]\n"
     ]
    }
   ],
   "source": [
    "import copy\n",
    "\n",
    "old_list = [[1, 2, 3], [4,5,6], [7,8,9]]\n",
    "new_list = copy.copy(old_list)\n",
    "\n",
    "old_list[1][1] = 'AA'\n",
    "print(\"old list:\", old_list)\n",
    "print('new list:', new_list)"
   ]
  },
  {
   "cell_type": "markdown",
   "id": "387f26cc-fdea-431c-9c0f-48e7a6ad28ce",
   "metadata": {},
   "source": [
    "## Deep Copy\n",
    "\n",
    "Deep copy creates independent copy of the original object and all its nested objects."
   ]
  },
  {
   "cell_type": "code",
   "execution_count": 6,
   "id": "10dab038-5254-467d-aa9a-3fd573bba86b",
   "metadata": {},
   "outputs": [
    {
     "name": "stdout",
     "output_type": "stream",
     "text": [
      "Old list: [[1, 1, 1], [2, 2, 2], [3, 3, 3]]\n",
      "New list: [[1, 1, 1], [2, 2, 2], [3, 3, 3]]\n"
     ]
    }
   ],
   "source": [
    "import copy\n",
    "\n",
    "old_list = [[1,1,1], [2,2,2], [3,3,3]]\n",
    "new_list = copy.deepcopy(old_list)\n",
    "\n",
    "print('Old list:', old_list)\n",
    "print('New list:', new_list)"
   ]
  },
  {
   "cell_type": "code",
   "execution_count": 7,
   "id": "f62466f7-62da-46c4-9394-081e07899d39",
   "metadata": {},
   "outputs": [
    {
     "name": "stdout",
     "output_type": "stream",
     "text": [
      "Old list: [[1, 1, 1], [2, 'AA', 2], [3, 3, 3]]\n",
      "New list: [[1, 1, 1], [2, 2, 2], [3, 3, 3]]\n"
     ]
    }
   ],
   "source": [
    "import copy\n",
    "\n",
    "old_list = [[1,1,1], [2,2,2], [3,3,3]]\n",
    "new_list = copy.deepcopy(old_list)\n",
    "\n",
    "old_list[1][1] = 'AA'\n",
    "print('Old list:', old_list)\n",
    "print('New list:', new_list)"
   ]
  },
  {
   "cell_type": "code",
   "execution_count": null,
   "id": "2e5ad6fc-d8a5-4a94-845f-a699d38c557f",
   "metadata": {},
   "outputs": [],
   "source": []
  }
 ],
 "metadata": {
  "kernelspec": {
   "display_name": "bootcamp_env",
   "language": "python",
   "name": "bootcamp_env"
  },
  "language_info": {
   "codemirror_mode": {
    "name": "ipython",
    "version": 3
   },
   "file_extension": ".py",
   "mimetype": "text/x-python",
   "name": "python",
   "nbconvert_exporter": "python",
   "pygments_lexer": "ipython3",
   "version": "3.8.12"
  }
 },
 "nbformat": 4,
 "nbformat_minor": 5
}
