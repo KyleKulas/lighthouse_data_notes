{
 "cells": [
  {
   "cell_type": "markdown",
   "metadata": {},
   "source": [
    "# Python Programming Challenge\n",
    "\n",
    "## Poker Hand\n",
    "\n",
    "In this challenge, we have to determine which kind of Poker combination is present in a deck of 5 cards. Every card is a string containing the card value **with the upper-case initial for face-cards** and the **lower-case initial for the suit**, as seen in the examples below:\n",
    "\n",
    "> \"Ah\" ➞ Ace of hearts <br>\n",
    "> \"Ks\" ➞ King of spades<br>\n",
    "> \"3d\" ➞ Three of diamonds<br>\n",
    "> \"Qc\" ➞ Queen of clubs <br>\n",
    "\n",
    "There are 10 different combinations. Here's the list, in descending order of importance:"
   ]
  },
  {
   "cell_type": "markdown",
   "metadata": {},
   "source": [
    "| Name            | Description                                         |\n",
    "|-----------------|-----------------------------------------------------|\n",
    "| Royal Flush     | A, K, Q, J, 10, all with the same suit.             |\n",
    "| Straight Flush  | Five cards in sequence, all with the same suit.     |\n",
    "| Four of a Kind  | Four cards of the same rank.                        |\n",
    "| Full House      | Three of a Kind with a Pair.                        |\n",
    "| Flush           | Any five cards of the same suit, not in sequence    |\n",
    "| Straight        | Five cards in a sequence, but not of the same suit. |\n",
    "| Three of a Kind | Three cards of the same rank.                       |\n",
    "| Two Pair        | Two different Pairs.                                |\n",
    "| Pair            | Two cards of the same rank.                         |\n",
    "| High Card       | No other valid combination.                         |\n",
    "\n",
    "---------"
   ]
  },
  {
   "cell_type": "markdown",
   "metadata": {},
   "source": [
    "#### 1. Given a list `hand` containing five strings being the cards. Implement a function called `poker_hand_ranking` that **returns a string with the name of the highest combination obtained.** According to the table above.\n",
    "\n",
    "**Examples:**\n",
    "\n",
    "> poker_hand_ranking([\"10h\", \"Jh\", \"Qh\", \"Ah\", \"Kh\"]) ➞ \"Royal Flush\"<br>\n",
    "> poker_hand_ranking([\"3h\", \"5h\", \"Qs\", \"9h\", \"Ad\"]) ➞ \"High Card\"<br>\n",
    "> poker_hand_ranking([\"10s\", \"10c\", \"8d\", \"10d\", \"10h\"]) ➞ \"Four of a Kind\"<br>"
   ]
  },
  {
   "cell_type": "code",
   "execution_count": 45,
   "metadata": {},
   "outputs": [
    {
     "name": "stdout",
     "output_type": "stream",
     "text": [
      "Two Pair\n"
     ]
    }
   ],
   "source": [
    "from collections import Counter\n",
    "\n",
    "def check_royal_flush(hand):\n",
    "    rank_values = {'2': 2, '3': 3, '4': 4, '5': 5, '6': 6, '7': 7, '8': 8, '9': 9, '10': 10, 'J': 11, 'Q': 12, 'K': 13, 'A': 14}\n",
    "        \n",
    "    ranks = [rank_values[h[:-1]] for h in hand]\n",
    "    \n",
    "    ranks.sort()\n",
    "\n",
    "    if check_straight(hand) and check_flush(hand) and ranks[4] == 14:\n",
    "        return True\n",
    "    else:\n",
    "        return False\n",
    "\n",
    "def check_straight_flush(hand):\n",
    "    suits = [h[-1] for h in hand]\n",
    "    if len(set(suits)) == 1 and check_straight(hand):\n",
    "        return True\n",
    "    else:\n",
    "        return False\n",
    "\n",
    "def check_four_of_kind(hand):\n",
    "    ranks = [h[:-1] for h in hand]\n",
    "    c = Counter(ranks)\n",
    "    if 4 in c.values():\n",
    "        return True\n",
    "    else:\n",
    "        return False\n",
    "\n",
    "def check_full_house(hand):\n",
    "    ranks = [h[:-1] for h in hand]\n",
    "    c = Counter(ranks)\n",
    "    if 2 in c.values() and 3 in c.values():\n",
    "        return True\n",
    "    else:\n",
    "        return False\n",
    "        \n",
    "\n",
    "\n",
    "def check_flush(hand):\n",
    "    suits = [h[-1] for h in hand]\n",
    "    if len(set(suits)) == 1:\n",
    "        return True\n",
    "    else:\n",
    "        return False\n",
    "    \n",
    "def check_straight(hand):\n",
    "    rank_values = {'2': 2, '3': 3, '4': 4, '5': 5, '6': 6, '7': 7, '8': 8, '9': 9, '10': 10, 'J': 11, 'Q': 12, 'K': 13, 'A': 14}\n",
    "        \n",
    "    ranks = [rank_values[h[:-1]] for h in hand]\n",
    "    \n",
    "    ranks.sort()\n",
    "    \n",
    "    # If the rank + 1 equals the next rank then the card are sequencial\n",
    "    if (ranks[0] + 1 == ranks[1]) and (ranks[1] + 1 == ranks[2]) and (ranks[2] + 1 == ranks[3]) and (ranks[3] + 1 == ranks[4]):\n",
    "        return True\n",
    "    else:\n",
    "        return False\n",
    "    \n",
    "\n",
    "def check_three_of_kind(hand):\n",
    "    ranks = [h[:-1] for h in hand]\n",
    "    c = Counter(ranks)\n",
    "    if 3 in c.values():\n",
    "        return True\n",
    "    else:\n",
    "        return False\n",
    "        \n",
    "\n",
    "def check_two_pair(hand):\n",
    "    ranks = [h[:-1] for h in hand]\n",
    "    c = Counter(ranks)\n",
    "    if sum(c.values()) == 5:\n",
    "        return True\n",
    "    else:\n",
    "        return False\n",
    "           \n",
    "\n",
    "def check_pair(hand):\n",
    "    ranks = [h[:-1] for h in hand]\n",
    "    c = Counter(ranks)\n",
    "    if 2 in c.values():\n",
    "        return True\n",
    "    else:\n",
    "        return False\n",
    "    \n",
    "\n",
    "def poker_hand_ranking(hand):\n",
    "    \n",
    "    if check_royal_flush(hand):\n",
    "        return 'Royal Flush'\n",
    "    elif check_straight_flush(hand):\n",
    "        return 'Straigh Flush'\n",
    "    elif check_four_of_kind(hand):\n",
    "        return 'Four of a Kind'\n",
    "    elif check_full_house(hand):\n",
    "        return 'Full House'\n",
    "    elif check_flush(hand):\n",
    "        return 'Flush'\n",
    "    elif check_straight(hand):\n",
    "        return 'Straight'\n",
    "    elif check_three_of_kind(hand):\n",
    "        return 'Three of a Kind'\n",
    "    elif check_two_pair(hand):\n",
    "        return 'Two Pair'\n",
    "    elif check_pair(hand):\n",
    "        return 'Pair'\n",
    "    else:\n",
    "        return 'High Card'\n",
    "\n",
    "hand = ['10s', '10h', '2d', '2s', 'Ad']    \n",
    "print(poker_hand_ranking(hand))"
   ]
  },
  {
   "cell_type": "code",
   "execution_count": null,
   "metadata": {},
   "outputs": [],
   "source": []
  },
  {
   "cell_type": "code",
   "execution_count": null,
   "metadata": {},
   "outputs": [],
   "source": []
  },
  {
   "cell_type": "code",
   "execution_count": null,
   "metadata": {},
   "outputs": [],
   "source": []
  },
  {
   "cell_type": "markdown",
   "metadata": {},
   "source": [
    "------------\n",
    "### **Stretch Content**\n",
    "\n",
    "#### 2.  Implement a function `winner_is` that returns the winner given a dictionary with different players and their hands. \n",
    "**Example**\n",
    "\n",
    "We define dictionary like\n",
    "```python\n",
    "round_1 = {\"John\" = [\"10h\", \"Jh\", \"Qh\", \"Ah\", \"Kh\"], \n",
    "        \"Peter\" = [\"3h\", \"5h\", \"Qs\", \"9h\", \"Ad\"]}\n",
    "```\n",
    "\n",
    "Our function returns the name of the winner:\n",
    "> winner_is(round_1) --> \"John\"\n",
    "\n",
    "One table can have up to 10 players.\n"
   ]
  },
  {
   "cell_type": "code",
   "execution_count": null,
   "metadata": {},
   "outputs": [],
   "source": []
  },
  {
   "cell_type": "code",
   "execution_count": null,
   "metadata": {},
   "outputs": [],
   "source": []
  },
  {
   "cell_type": "code",
   "execution_count": null,
   "metadata": {},
   "outputs": [],
   "source": []
  },
  {
   "cell_type": "code",
   "execution_count": null,
   "metadata": {},
   "outputs": [],
   "source": []
  },
  {
   "cell_type": "markdown",
   "metadata": {},
   "source": [
    "#### 3. Create a function `distribute_cards` that randomly generates and gives 5 cards to every player given a list of player names.\n",
    "\n",
    "**Example**\n",
    "\n",
    "> distribute_cards([\"John\",\"Peter\"])  -> round_1 = {\"John\" = [\"10h\", \"Jh\", \"Qh\", \"Ah\", \"Kh\"], \n",
    "        \"Peter\" = [\"3h\", \"5h\", \"Qs\", \"9h\", \"Ad\"]\n",
    "}"
   ]
  },
  {
   "cell_type": "code",
   "execution_count": null,
   "metadata": {},
   "outputs": [],
   "source": []
  },
  {
   "cell_type": "code",
   "execution_count": null,
   "metadata": {},
   "outputs": [],
   "source": []
  },
  {
   "cell_type": "code",
   "execution_count": null,
   "metadata": {},
   "outputs": [],
   "source": []
  },
  {
   "cell_type": "code",
   "execution_count": null,
   "metadata": {},
   "outputs": [],
   "source": []
  }
 ],
 "metadata": {
  "kernelspec": {
   "display_name": "Python 3",
   "language": "python",
   "name": "python3"
  },
  "language_info": {
   "codemirror_mode": {
    "name": "ipython",
    "version": 3
   },
   "file_extension": ".py",
   "mimetype": "text/x-python",
   "name": "python",
   "nbconvert_exporter": "python",
   "pygments_lexer": "ipython3",
   "version": "3.8.8"
  }
 },
 "nbformat": 4,
 "nbformat_minor": 4
}
