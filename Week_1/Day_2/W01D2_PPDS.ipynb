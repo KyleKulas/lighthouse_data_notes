{
 "cells": [
  {
   "cell_type": "markdown",
   "metadata": {
    "slideshow": {
     "slide_type": "slide"
    }
   },
   "source": [
    "## Lighthouse Labs\n",
    "### W01D2 Programming in Python for DS\n",
    "Instructor: Socorro Dominguez  \n",
    "October 26, 2021"
   ]
  },
  {
   "cell_type": "markdown",
   "metadata": {
    "slideshow": {
     "slide_type": "slide"
    }
   },
   "source": [
    "**Agenda:**\n",
    "\n",
    "* Housekeeping Guidelines\n",
    "* Introduction to Python Programming Language\n",
    "    * History\n",
    "    * Syntax\n",
    "    * Basic Data Types\n",
    "* Python for Data Science\n",
    "* Popular IDEs"
   ]
  },
  {
   "cell_type": "markdown",
   "metadata": {
    "slideshow": {
     "slide_type": "slide"
    }
   },
   "source": [
    "## Housekeeping\n",
    "\n",
    "- Mics muted (to avoid background noises)\n",
    "- Cameras on\n",
    "- You can ask; unmute yourself if you want to ask something.\n",
    "    - You can ask me questions. I can ask you questions too. :)\n",
    "    \n",
    "\n",
    "- We will take a 10 min break after 45/50 minutes of class."
   ]
  },
  {
   "cell_type": "markdown",
   "metadata": {
    "slideshow": {
     "slide_type": "skip"
    }
   },
   "source": [
    "[Download this notebook](https://downgit.github.io/#/home?url=https://github.com/sedv8808/LighthouseLabs/blob/main/W01D2/W01D2_PPDS.ipynb)"
   ]
  },
  {
   "cell_type": "markdown",
   "metadata": {
    "slideshow": {
     "slide_type": "slide"
    }
   },
   "source": [
    "# What is Python?"
   ]
  },
  {
   "cell_type": "markdown",
   "metadata": {
    "slideshow": {
     "slide_type": "fragment"
    }
   },
   "source": [
    "- Python is a widely used general-purpose, high-level programming language. \n",
    "- Initially designed by Guido van Rossum in 1991 and developed by Python Software Foundation. \n",
    "- Developed to allow programmers express concepts in fewer lines of code.\n",
    "\n",
    "- Python is a General Purpose object-oriented programming language, which means that it can model real-world entities. It is also dynamically-typed because it carries out type-checking at runtime.\n",
    "\n",
    "- The distinctive feature of Python is that it is an interpreted language (no need to compile).\n",
    "\n",
    "We will be working with Python 3, which was released in December 2008."
   ]
  },
  {
   "cell_type": "markdown",
   "metadata": {
    "slideshow": {
     "slide_type": "slide"
    }
   },
   "source": [
    " \n",
    "![image](https://d2h0cx97tjks2p.cloudfront.net/blogs/wp-content/uploads/sites/2/2017/12/Features-of-python-01.jpg)"
   ]
  },
  {
   "cell_type": "markdown",
   "metadata": {
    "slideshow": {
     "slide_type": "slide"
    }
   },
   "source": [
    "### Python History\n",
    "\n",
    "Python was first introduced by <b>Guido Van Rossum</b> in 1991 at the National Research Institute for Mathematics and Computer Science, Netherlands.\n",
    "[source:https://www.journaldev.com/34415/history-of-python-programming-language]\n",
    "\n",
    "#### Python Versions\n",
    "* In 1994, Python 1.0 was released with new features like lambda, map, filter, and reduce.\n",
    "\n",
    "* Python 2.0 added new features such as list comprehensions, garbage collection systems.\n",
    "\n",
    "* On December 3, 2008, Python 3.0 (also called \"Py3K\") was released. It was designed to rectify the fundamental flaw of the      language.\n",
    "[source:https://www.javatpoint.com/python-history]"
   ]
  },
  {
   "cell_type": "markdown",
   "metadata": {
    "slideshow": {
     "slide_type": "slide"
    }
   },
   "source": [
    "### Fun Facts\n",
    "\n",
    "* Guido van Rossum named it after the comedy show [Monty Python's Flying Circus](https://www.netflix.com/ca/title/70213238).\n",
    "* Python has become the most popular coding language in the world. This makes a career in Python a great choice.\n",
    "* Python has just turned 30, but it still has that X factor: \n",
    "    * Google users have searched for Python much more than they have searched for Kim Kardashian, Donald Trump, Tom Cruise etc."
   ]
  },
  {
   "cell_type": "markdown",
   "metadata": {
    "slideshow": {
     "slide_type": "slide"
    }
   },
   "source": [
    "### Why Python for Data Science ?\n",
    "* Simple programming language to pick up, from a syntax point of view. \n",
    "\n",
    "* Python also has an active community with a vast selection of libraries and resources.\n",
    "\n",
    "* Professionals working with data science applications don’t want to be bogged down with complicated programming requirements. They want to use programming languages like Python and Ruby to perform tasks hassle-free.\n",
    "\n",
    "[source:https://www.cbtnuggets.com/blog/technology/data/why-data-scientists-love-python]"
   ]
  },
  {
   "cell_type": "markdown",
   "metadata": {
    "slideshow": {
     "slide_type": "slide"
    }
   },
   "source": [
    "## What is Jupyter?\n",
    "\n",
    "- For this Bootcamp, we will mostly be using Python via [Jupyter](https://jupyter.org/index.html)\n",
    "\n",
    "- You can think of Python like a car’s engine, while Jupyter is like a car’s dashboard\n",
    "\n",
    "  - Python is the programming language that runs computations\n",
    "  - Jupyter is an integrated development environment (IDE) that provides an interface by adding convenient features and tools\n",
    "\n",
    "![engine](img/python_jupyter.png)"
   ]
  },
  {
   "cell_type": "markdown",
   "metadata": {
    "slideshow": {
     "slide_type": "slide"
    }
   },
   "source": [
    "## Jupyter Notebooks\n",
    "\n",
    "- Code, plots, formatted text, equations, etc. in a single document\n",
    "- Run Python code interactively\n",
    "- Also supports R, Julia, Perl, and over 100 other languages (and counting!)"
   ]
  },
  {
   "cell_type": "markdown",
   "metadata": {
    "slideshow": {
     "slide_type": "fragment"
    }
   },
   "source": [
    "- Notebooks are great for exploration and for documenting your workflow\n",
    "- Many options for sharing notebooks in human readable format:\n",
    "  - Share online with [nbviewer.jupyter.org](http://nbviewer.jupyter.org/)\n",
    "  - If you use Github, any notebooks you upload are automatically rendered on the site\n",
    "  - Convert to HTML, PDF, etc. with [nbconvert](https://nbconvert.readthedocs.io/en/latest/)"
   ]
  },
  {
   "cell_type": "markdown",
   "metadata": {
    "slideshow": {
     "slide_type": "slide"
    }
   },
   "source": [
    "## Working with Notebooks\n",
    "\n",
    "A notebook consists of a series of \"cells\":\n",
    "- **Code cells**: execute snippets of code and display the output\n",
    "- **Markdown cells**: formatted text, equations, images, and more\n",
    "\n",
    "By default, a new cell is always a code cell."
   ]
  },
  {
   "cell_type": "markdown",
   "metadata": {
    "slideshow": {
     "slide_type": "slide"
    }
   },
   "source": [
    "## Python Data Science Ecosystem\n",
    "\n",
    "The Python libraries for data science are developed and maintained by external \"3rd party\" development teams\n",
    "- Python core + 3rd party libraries = **ecosystem** \n",
    "- To install and manage 3rd party libraries, you need to use a package manager such as `conda` (which comes with Anaconda/Miniconda)"
   ]
  },
  {
   "cell_type": "markdown",
   "metadata": {
    "slideshow": {
     "slide_type": "slide"
    }
   },
   "source": [
    "Some of the libraries in the Python data science ecosystem:\n",
    "\n",
    "![ecosystem_big](img/ecosystem_big.png)\n",
    "\n",
    "From [The Unexpected Effectiveness of Python in Science](https://speakerdeck.com/jakevdp/the-unexpected-effectiveness-of-python-in-science) (Jake VanderPlas)"
   ]
  },
  {
   "cell_type": "markdown",
   "metadata": {
    "slideshow": {
     "slide_type": "slide"
    }
   },
   "source": [
    "During the Bootcamp, we will be working with `pandas`, `numPy`, `seaborn`, `matplotlib`, `plotly`, `sklearn` and `keras` libraries."
   ]
  },
  {
   "cell_type": "markdown",
   "metadata": {
    "slideshow": {
     "slide_type": "slide"
    }
   },
   "source": [
    "## 2.Basic Syntax and Data Types"
   ]
  },
  {
   "cell_type": "markdown",
   "metadata": {
    "slideshow": {
     "slide_type": "slide"
    }
   },
   "source": [
    "### Built in Data Types - Values and Objects\n",
    "We will been working with values, which are pieces of data that a computer program works with, such as a number or text.\n",
    "We will assign a lot of these values to objects (variables) with the assignment operator `=`.\n",
    "These values will always belong to a data type"
   ]
  },
  {
   "cell_type": "markdown",
   "metadata": {
    "slideshow": {
     "slide_type": "slide"
    }
   },
   "source": [
    "Here are some data types built-in to the Python language:\n",
    "\n",
    "* Integers - `int`\n",
    "* Floating-point numbers - `float` - NaN belongs to this group\n",
    "* Strings - `str`\n",
    "* Booleans - `bool` - two values: True and False.\n",
    "* Lists - `list`\n",
    "* Tuples - `tuple`\n",
    "* Sets - `set`\n",
    "* Dictionaries - `dict`\n"
   ]
  },
  {
   "cell_type": "code",
   "execution_count": null,
   "metadata": {
    "slideshow": {
     "slide_type": "slide"
    }
   },
   "outputs": [],
   "source": [
    "length = 46"
   ]
  },
  {
   "cell_type": "code",
   "execution_count": null,
   "metadata": {
    "slideshow": {
     "slide_type": "fragment"
    }
   },
   "outputs": [],
   "source": [
    "string = \"Mulan's dragon's name is Mushu\""
   ]
  },
  {
   "cell_type": "code",
   "execution_count": null,
   "metadata": {
    "slideshow": {
     "slide_type": "slide"
    }
   },
   "outputs": [],
   "source": [
    "type(length)"
   ]
  },
  {
   "cell_type": "code",
   "execution_count": null,
   "metadata": {
    "slideshow": {
     "slide_type": "fragment"
    }
   },
   "outputs": [],
   "source": [
    "type(string)"
   ]
  },
  {
   "cell_type": "markdown",
   "metadata": {
    "slideshow": {
     "slide_type": "slide"
    }
   },
   "source": [
    "### String \"Verbs\"\n",
    "\n",
    "There are several methods/verbs to transform strings or extract information from them."
   ]
  },
  {
   "cell_type": "code",
   "execution_count": null,
   "metadata": {
    "scrolled": true,
    "slideshow": {
     "slide_type": "fragment"
    }
   },
   "outputs": [],
   "source": [
    "len(string)"
   ]
  },
  {
   "cell_type": "code",
   "execution_count": null,
   "metadata": {
    "slideshow": {
     "slide_type": "fragment"
    }
   },
   "outputs": [],
   "source": [
    "string.split()"
   ]
  },
  {
   "cell_type": "markdown",
   "metadata": {
    "slideshow": {
     "slide_type": "slide"
    }
   },
   "source": [
    "### Numerical Data Types and Casting"
   ]
  },
  {
   "cell_type": "code",
   "execution_count": null,
   "metadata": {
    "slideshow": {
     "slide_type": "fragment"
    }
   },
   "outputs": [],
   "source": [
    "age = 6 \n",
    "type(age)"
   ]
  },
  {
   "cell_type": "code",
   "execution_count": null,
   "metadata": {
    "slideshow": {
     "slide_type": "fragment"
    }
   },
   "outputs": [],
   "source": [
    "age = 6.0 \n",
    "type(age)"
   ]
  },
  {
   "cell_type": "markdown",
   "metadata": {
    "slideshow": {
     "slide_type": "subslide"
    }
   },
   "source": [
    "**IMPORTANT**\n",
    "Something that you will notice in Pandas dataframes are NaN values.\n",
    "\n",
    "This stands for **Not A Number**, and it is a special value used to represent missing data in pandas.\n",
    "\n",
    "It is considered a **float** numeric value."
   ]
  },
  {
   "cell_type": "markdown",
   "metadata": {
    "slideshow": {
     "slide_type": "slide"
    }
   },
   "source": [
    "**Casting**\n",
    "\n",
    "- `int` to `float`:"
   ]
  },
  {
   "cell_type": "code",
   "execution_count": null,
   "metadata": {
    "slideshow": {
     "slide_type": "fragment"
    }
   },
   "outputs": [],
   "source": [
    "float(4)"
   ]
  },
  {
   "cell_type": "markdown",
   "metadata": {
    "slideshow": {
     "slide_type": "slide"
    }
   },
   "source": [
    "- `int` to `str`"
   ]
  },
  {
   "cell_type": "code",
   "execution_count": null,
   "metadata": {
    "slideshow": {
     "slide_type": "fragment"
    }
   },
   "outputs": [],
   "source": [
    "length = 40\n",
    "length_string = str(length)\n",
    "print(length_string)\n",
    "type(length_string)"
   ]
  },
  {
   "cell_type": "markdown",
   "metadata": {
    "slideshow": {
     "slide_type": "slide"
    }
   },
   "source": [
    "- `float` to `int`"
   ]
  },
  {
   "cell_type": "code",
   "execution_count": null,
   "metadata": {
    "slideshow": {
     "slide_type": "fragment"
    }
   },
   "outputs": [],
   "source": [
    "int(4.99)"
   ]
  },
  {
   "cell_type": "markdown",
   "metadata": {
    "slideshow": {
     "slide_type": "slide"
    }
   },
   "source": [
    "### Python data structures: Lists, Tuples, Dictionaries and Sets"
   ]
  },
  {
   "cell_type": "markdown",
   "metadata": {
    "slideshow": {
     "slide_type": "slide"
    }
   },
   "source": [
    "### Lists\n",
    "\n",
    "Similarly to how a string is a sequence of characters in order, a   \n",
    "list is a sequence of elements with a particular order.\n",
    "\n",
    "Lists can be identified by their square brackets.\n",
    "\n",
    "The elements in a list can be any objects, and they don’t all need to have the same type."
   ]
  },
  {
   "cell_type": "code",
   "execution_count": null,
   "metadata": {
    "slideshow": {
     "slide_type": "fragment"
    }
   },
   "outputs": [],
   "source": [
    "my_list_ = [\"hello\", 4, 3.0, {\"good-bye!\": 0}]"
   ]
  },
  {
   "cell_type": "code",
   "execution_count": null,
   "metadata": {},
   "outputs": [],
   "source": [
    "my_list_[3]"
   ]
  },
  {
   "cell_type": "code",
   "execution_count": null,
   "metadata": {
    "slideshow": {
     "slide_type": "-"
    }
   },
   "outputs": [],
   "source": [
    "my_list_2_ = [my_list_, \"hello\"]\n",
    "my_list_2_"
   ]
  },
  {
   "cell_type": "code",
   "execution_count": null,
   "metadata": {
    "slideshow": {
     "slide_type": "slide"
    }
   },
   "outputs": [],
   "source": [
    "string_list = string.split()\n",
    "string_list"
   ]
  },
  {
   "cell_type": "code",
   "execution_count": null,
   "metadata": {},
   "outputs": [],
   "source": [
    "string_list[1:3]"
   ]
  },
  {
   "cell_type": "markdown",
   "metadata": {
    "slideshow": {
     "slide_type": "fragment"
    }
   },
   "source": [
    "By using the .split() verb, we can get a list from a string."
   ]
  },
  {
   "cell_type": "markdown",
   "metadata": {
    "slideshow": {
     "slide_type": "slide"
    }
   },
   "source": [
    "##### Slicing\n",
    "\n",
    "We can slice lists by elements.\n",
    "\n",
    "We slice with `[]`; the start is inclusive, and the end is exclusive.\n",
    "\n",
    "So string_list[1:3] fetches elements 1 and 2, but not 3.\n",
    "\n",
    "In other words, it gets the 2nd and 3rd elements in the list.\n",
    "\n",
    "[ x, y ) <- range"
   ]
  },
  {
   "cell_type": "code",
   "execution_count": null,
   "metadata": {
    "slideshow": {
     "slide_type": "slide"
    }
   },
   "outputs": [],
   "source": [
    "for i in string_list:\n",
    "    print(i)"
   ]
  },
  {
   "cell_type": "code",
   "execution_count": null,
   "metadata": {
    "slideshow": {
     "slide_type": "fragment"
    }
   },
   "outputs": [],
   "source": [
    "string_list[1:3]"
   ]
  },
  {
   "cell_type": "markdown",
   "metadata": {
    "slideshow": {
     "slide_type": "slide"
    }
   },
   "source": [
    "#### List Comprehension\n",
    "\n",
    "We can manipulate a whole list using list comprehension:"
   ]
  },
  {
   "cell_type": "code",
   "execution_count": null,
   "metadata": {
    "slideshow": {
     "slide_type": "fragment"
    }
   },
   "outputs": [],
   "source": [
    "new_list = [0,3,4,5,7,8,3,3,7,9,5,5]\n",
    "\n",
    "other_new_list = []\n",
    "for i in new_list:\n",
    "    x = i+5\n",
    "    other_new_list.append(x)\n",
    "    \n",
    "other_new_list"
   ]
  },
  {
   "cell_type": "code",
   "execution_count": null,
   "metadata": {
    "slideshow": {
     "slide_type": "fragment"
    }
   },
   "outputs": [],
   "source": [
    "other_new_list2 = [x+5 for x in new_list]\n",
    "other_new_list2[1] = 'HELLO!!!!!'\n",
    "other_new_list2"
   ]
  },
  {
   "cell_type": "markdown",
   "metadata": {
    "slideshow": {
     "slide_type": "slide"
    }
   },
   "source": [
    "### Tuples\n",
    "Tuples are a data structure very similar to lists but with two main differences:\n",
    "\n",
    "They are represented with parentheses instead of square brackets, and\n",
    "They are immutable"
   ]
  },
  {
   "cell_type": "code",
   "execution_count": null,
   "metadata": {
    "slideshow": {
     "slide_type": "fragment"
    }
   },
   "outputs": [],
   "source": [
    "my_tuple = ('I', None,  'do', 1, False)"
   ]
  },
  {
   "cell_type": "markdown",
   "metadata": {
    "slideshow": {
     "slide_type": "slide"
    }
   },
   "source": [
    "### Sets\n",
    "\n",
    "Data structure that:\n",
    "- are unordered, meaning there is no element 0 and element 1, and\n",
    "- The values contained are unique - meaning there are no duplicate entries.\n",
    "- Sets are made with curly brackets."
   ]
  },
  {
   "cell_type": "code",
   "execution_count": null,
   "metadata": {
    "slideshow": {
     "slide_type": "fragment"
    }
   },
   "outputs": [],
   "source": [
    "my_set = {2, 1.0, 'apple', 1.0, 'apple'}\n",
    "my_set"
   ]
  },
  {
   "cell_type": "markdown",
   "metadata": {
    "slideshow": {
     "slide_type": "slide"
    }
   },
   "source": [
    "#### Dictionaries\n",
    "Dictionaries are unordered pairs of keys and corresponding values"
   ]
  },
  {
   "cell_type": "code",
   "execution_count": null,
   "metadata": {
    "slideshow": {
     "slide_type": "fragment"
    }
   },
   "outputs": [],
   "source": [
    "account_details = {'Name':'Jack Sparrow',\n",
    "                   'Account_Type':'Checking',\n",
    "                   'Branch': 13,\n",
    "                   'Age': 23}\n",
    "\n",
    "account_details"
   ]
  },
  {
   "cell_type": "code",
   "execution_count": null,
   "metadata": {
    "slideshow": {
     "slide_type": "slide"
    }
   },
   "outputs": [],
   "source": [
    "account_details.values()"
   ]
  },
  {
   "cell_type": "code",
   "execution_count": null,
   "metadata": {
    "slideshow": {
     "slide_type": "fragment"
    }
   },
   "outputs": [],
   "source": [
    "account_details.items()"
   ]
  },
  {
   "cell_type": "markdown",
   "metadata": {
    "slideshow": {
     "slide_type": "slide"
    }
   },
   "source": [
    "#### Why do we need dictionaries if we have lists?\n",
    "\n",
    "Dictionaries can have labels or keys associated with a value whereas a list only has an index. In a list the order matters, in a dictionary, the order does not matter"
   ]
  },
  {
   "cell_type": "markdown",
   "metadata": {
    "slideshow": {
     "slide_type": "slide"
    }
   },
   "source": [
    "### Summary\n",
    "\n",
    "|Data Structure\t| Preserves order | Mutable | Symbol| Can contain duplicates | Can be sliced |\n",
    "|---------|------|------|------|------|------|\n",
    "|str\t|✓\t|☓\t|''  , \"\"|\t✓|✓|\n",
    "|list\t|✓\t|✓\t|[] |\t✓|✓|\n",
    "|tuple\t|✓\t|☓\t|() |\t✓|✓|\n",
    "|set\t|☓\t|✓\t|{} |\t☓|☓|\n",
    "|dict  |✓\t|✓\t|{ key : value} | \t☓| ☓|"
   ]
  },
  {
   "cell_type": "markdown",
   "metadata": {
    "slideshow": {
     "slide_type": "slide"
    }
   },
   "source": [
    "### Errors and Exceptions Handling"
   ]
  },
  {
   "cell_type": "code",
   "execution_count": null,
   "metadata": {
    "slideshow": {
     "slide_type": "slide"
    }
   },
   "outputs": [],
   "source": [
    "def div_func(a,b):\n",
    "    '''Here write documentation'''\n",
    "    result = a/b\n",
    "    return result"
   ]
  },
  {
   "cell_type": "code",
   "execution_count": null,
   "metadata": {
    "slideshow": {
     "slide_type": "fragment"
    }
   },
   "outputs": [],
   "source": [
    "div_func(5,2.0)"
   ]
  },
  {
   "cell_type": "code",
   "execution_count": null,
   "metadata": {
    "slideshow": {
     "slide_type": "fragment"
    }
   },
   "outputs": [],
   "source": [
    "div_func(5,0.0)"
   ]
  },
  {
   "cell_type": "code",
   "execution_count": null,
   "metadata": {
    "slideshow": {
     "slide_type": "slide"
    }
   },
   "outputs": [],
   "source": [
    "def div_func(a,b):\n",
    "    try:\n",
    "        result = a/b\n",
    "    except ZeroDivisionError:\n",
    "        print('b is zero and division is not possible')\n",
    "        return\n",
    "    return result"
   ]
  },
  {
   "cell_type": "code",
   "execution_count": null,
   "metadata": {
    "slideshow": {
     "slide_type": "slide"
    }
   },
   "outputs": [],
   "source": [
    "div_func(5,-5)"
   ]
  },
  {
   "cell_type": "code",
   "execution_count": null,
   "metadata": {
    "slideshow": {
     "slide_type": "fragment"
    }
   },
   "outputs": [],
   "source": [
    "div_func(10,0.0)"
   ]
  },
  {
   "cell_type": "code",
   "execution_count": null,
   "metadata": {
    "slideshow": {
     "slide_type": "slide"
    }
   },
   "outputs": [],
   "source": [
    "def count_letter_in_word(input_word='gulp'):\n",
    "    return len(input_word)"
   ]
  },
  {
   "cell_type": "code",
   "execution_count": null,
   "metadata": {
    "slideshow": {
     "slide_type": "fragment"
    }
   },
   "outputs": [],
   "source": [
    "count_letter_in_word(10)"
   ]
  },
  {
   "cell_type": "code",
   "execution_count": null,
   "metadata": {
    "slideshow": {
     "slide_type": "slide"
    }
   },
   "outputs": [],
   "source": [
    "def count_letter_in_word(input_word='gulp'):\n",
    "    if type(input_word)!=str:\n",
    "        raise TypeError('incorrect input type. Please provide a string input')\n",
    "    return len(input_word)"
   ]
  },
  {
   "cell_type": "code",
   "execution_count": null,
   "metadata": {
    "slideshow": {
     "slide_type": "fragment"
    }
   },
   "outputs": [],
   "source": [
    "count_letter_in_word(10)"
   ]
  },
  {
   "cell_type": "code",
   "execution_count": null,
   "metadata": {
    "slideshow": {
     "slide_type": "fragment"
    }
   },
   "outputs": [],
   "source": [
    "count_letter_in_word(5)"
   ]
  },
  {
   "cell_type": "code",
   "execution_count": null,
   "metadata": {
    "slideshow": {
     "slide_type": "slide"
    }
   },
   "outputs": [],
   "source": [
    "def count_letter_in_word_new(input_word='gulp'):\n",
    "    result=0\n",
    "    try:\n",
    "        result=len(input_word)\n",
    "    except Exception as e:\n",
    "        print(e)\n",
    "    return result"
   ]
  },
  {
   "cell_type": "code",
   "execution_count": null,
   "metadata": {
    "slideshow": {
     "slide_type": "fragment"
    }
   },
   "outputs": [],
   "source": [
    "count_letter_in_word_new(7)"
   ]
  },
  {
   "cell_type": "markdown",
   "metadata": {
    "slideshow": {
     "slide_type": "slide"
    }
   },
   "source": [
    "### Handling Date and Time in Python"
   ]
  },
  {
   "cell_type": "markdown",
   "metadata": {
    "slideshow": {
     "slide_type": "fragment"
    }
   },
   "source": [
    "**Get current date time**"
   ]
  },
  {
   "cell_type": "code",
   "execution_count": null,
   "metadata": {
    "slideshow": {
     "slide_type": "fragment"
    }
   },
   "outputs": [],
   "source": [
    "# import datetime class from datetime module\n",
    "from datetime import datetime\n",
    "\n",
    "# get current date\n",
    "datetime_object = datetime.now()\n",
    "print(datetime_object)\n",
    "print('Type :- ',type(datetime_object))\n",
    "print('Type :- ',type(5))\n"
   ]
  },
  {
   "cell_type": "code",
   "execution_count": null,
   "metadata": {
    "slideshow": {
     "slide_type": "slide"
    }
   },
   "outputs": [],
   "source": [
    "my_string = '2018-Nov-3'\n",
    "\n",
    "# Create date object in given time format yyyy-mm-dd\n",
    "my_date = datetime.strptime(my_string, \"%Y-%b-%d\")\n",
    "\n",
    "print(my_date)\n",
    "print('Type: ',type(my_date))"
   ]
  },
  {
   "cell_type": "code",
   "execution_count": null,
   "metadata": {
    "slideshow": {
     "slide_type": "fragment"
    }
   },
   "outputs": [],
   "source": [
    "print('Month: ', my_date.month) # To Get month from date\n",
    "print('Year: ', my_date.year) # To Get month from year"
   ]
  },
  {
   "cell_type": "markdown",
   "metadata": {
    "slideshow": {
     "slide_type": "slide"
    }
   },
   "source": [
    "#### Measuring Time Span with Timedelta Objects"
   ]
  },
  {
   "cell_type": "code",
   "execution_count": null,
   "metadata": {
    "slideshow": {
     "slide_type": "fragment"
    }
   },
   "outputs": [],
   "source": [
    "#import datetime\n",
    "from datetime import datetime, timedelta\n",
    "# get current time\n",
    "now = datetime.now()\n",
    "print (\"Today's date: \", str(now))"
   ]
  },
  {
   "cell_type": "code",
   "execution_count": null,
   "metadata": {
    "slideshow": {
     "slide_type": "fragment"
    }
   },
   "outputs": [],
   "source": [
    "#add 15 days to current date\n",
    "future_date_after_15days = now + timedelta(days = 15)\n",
    "print('Date after 15 days: ', future_date_after_15days)\n",
    "\n",
    "#subtract 2 weeks from current date\n",
    "two_weeks_ago = now - timedelta(weeks = 2)\n",
    "print('Date two weeks ago: ', two_weeks_ago)\n",
    "print('two_weeks_ago object type: ', type(two_weeks_ago))"
   ]
  },
  {
   "cell_type": "markdown",
   "metadata": {
    "slideshow": {
     "slide_type": "slide"
    }
   },
   "source": [
    "#### Find the Difference Between Two Dates and Times"
   ]
  },
  {
   "cell_type": "code",
   "execution_count": null,
   "metadata": {
    "slideshow": {
     "slide_type": "fragment"
    }
   },
   "outputs": [],
   "source": [
    "# import datetime\n",
    "from datetime import date\n",
    "# Create two dates\n",
    "date1 = date(2008, 8, 18)\n",
    "date2 = date(2008, 8, 10)\n",
    "\n",
    "# Difference between two dates\n",
    "delta = date2 - date1\n",
    "print(type(delta))\n",
    "print(\"Difference: \", delta.days)\n",
    "print('delta object type: ', type(delta))"
   ]
  },
  {
   "cell_type": "markdown",
   "metadata": {
    "slideshow": {
     "slide_type": "slide"
    }
   },
   "source": [
    "**Accessing certain date attributes**"
   ]
  },
  {
   "cell_type": "code",
   "execution_count": null,
   "metadata": {
    "slideshow": {
     "slide_type": "fragment"
    }
   },
   "outputs": [],
   "source": [
    "date1.month"
   ]
  },
  {
   "cell_type": "markdown",
   "metadata": {
    "slideshow": {
     "slide_type": "skip"
    }
   },
   "source": [
    "#### Formatting Dates: More on <code>strftime()</code> and <code>strptime()</code>"
   ]
  },
  {
   "cell_type": "markdown",
   "metadata": {
    "slideshow": {
     "slide_type": "skip"
    }
   },
   "source": [
    "<code>strptime()</code> is the method we used before, and you’ll recall that it can turn a date and time that’s formatted as a text string into a datetime object, in the following format:\n",
    "\n",
    "<code>time.strptime(string, format)</code>\n",
    "\n",
    "Note that it takes two arguments:\n",
    "\n",
    "<code>string</code> − the time in string format that we want to convert\n",
    "\n",
    "<code>format</code> − the specific formatting of the time in the string, so that <code>strptime()</code> can parse it correctly"
   ]
  },
  {
   "cell_type": "code",
   "execution_count": null,
   "metadata": {
    "slideshow": {
     "slide_type": "skip"
    }
   },
   "outputs": [],
   "source": [
    "# import datetime\n",
    "from datetime import datetime\n",
    "date_string = \"1 August, 2019\"\n",
    "\n",
    "# format date\n",
    "date_object = datetime.strptime(date_string, \"%d %B, %Y\")\n",
    "\n",
    "print(\"date_object: \", date_object)"
   ]
  },
  {
   "cell_type": "markdown",
   "metadata": {
    "slideshow": {
     "slide_type": "skip"
    }
   },
   "source": [
    "#### Below is a list of directives used in <code>strftime()</code> and their meanings"
   ]
  },
  {
   "cell_type": "markdown",
   "metadata": {
    "slideshow": {
     "slide_type": "slide"
    }
   },
   "source": [
    "| Directive | Meaning|\n",
    "|-----------|--------|\n",
    "| %a |Weekday abb. Sun, Mon, …, Sat (en_US)|\n",
    "| %A | Weekday Full Sunday,Monday (en_US)|\n",
    "| %w | weekday as decimal 0,1,2,3.. |\n",
    "| %d | day of month as decimal 0,1,2,...30 ||\n",
    "| %b | Month Jan, Feb, …, Dec (en_US) |\n",
    "| %B | Month January,February... |\n",
    "| %m | Month as a zero-padded decimal |\n",
    "| %y | Year without century as zero padded decimal 00,01,..,99 |\n",
    "| %Y | Year with century 1970,1980 etc. |\n",
    "| %H | our (24-hour clock) as a zero-padded decimal number.00, 01, …, 23 |\n",
    "| %I | Hour (12-hour clock) as a zero-padded decimal number.01, 02, …, 12 |\n",
    "| %p | Am,PM |\n",
    "| %M | Minute 00,01..,59 |\n",
    "| %S | Second 00,01..,59 |\n"
   ]
  },
  {
   "cell_type": "markdown",
   "metadata": {
    "slideshow": {
     "slide_type": "slide"
    }
   },
   "source": [
    "### IDEs for Python and DS \n",
    "\n",
    "![](https://s3.amazonaws.com/assets.datacamp.com/blog_assets/Python+IDEs/patolino-pernalonga-python-ide2.gif)"
   ]
  },
  {
   "cell_type": "markdown",
   "metadata": {
    "slideshow": {
     "slide_type": "slide"
    }
   },
   "source": [
    "Finding an IDE that works for you is important. \n",
    "\n",
    "If you are already familiar with an IDE, use it. \n",
    "\n",
    "Some previous LHL students have reported being happy with Visual Studio and others are happy with Jupyter Notebooks."
   ]
  },
  {
   "cell_type": "markdown",
   "metadata": {
    "slideshow": {
     "slide_type": "slide"
    }
   },
   "source": [
    "## Cooking Challenge"
   ]
  },
  {
   "cell_type": "markdown",
   "metadata": {
    "slideshow": {
     "slide_type": "fragment"
    }
   },
   "source": [
    "Alberto is making spaghetti tonight and he needs to make sure that if he doesn't have enough of the ingredients in his pantry, he adds them to his shopping list.\n",
    "\n",
    "- For each item in the recipe, check if the ingredient is in Alberto's pantry.\n",
    "\n",
    "- If the recipe ingredient is in the pantry, check if the recipe requires more of the ingredient than what Alberto has in storage. If so, add the name and the quantity he needs to purchase as key-value pairs in the dictionary shopping_list.\n",
    "\n",
    "- If the recipe item is not in the pantry, add the ingredient and the quantity as **key-value pairs in the dictionary** shopping_list."
   ]
  },
  {
   "cell_type": "code",
   "execution_count": 1,
   "metadata": {
    "slideshow": {
     "slide_type": "slide"
    }
   },
   "outputs": [
    {
     "data": {
      "text/plain": [
       "{'sauce': 1, 'basil': 2, 'pepper': 2, 'onions': 1, 'mushrooms': 3}"
      ]
     },
     "execution_count": 1,
     "metadata": {},
     "output_type": "execute_result"
    }
   ],
   "source": [
    "pantry = {'pasta': 3, 'garlic': 4,'sauce': 2,\n",
    "          'basil': 2, 'salt': 3, 'olive oil': 3,\n",
    "          'rice': 3, 'bread': 3, 'peanut butter': 1,\n",
    "          'flour': 1, 'eggs': 1, 'onions': 1, 'mushrooms': 3,\n",
    "          'broccoli': 2, 'butter': 2,'pickles': 6, 'milk': 2,\n",
    "          'chia seeds': 5}\n",
    "\n",
    "meal_recipe = {'pasta': 2, 'garlic': 2, 'sauce': 3,\n",
    "          'basil': 4, 'salt': 1, 'pepper': 2,\n",
    "          'olive oil': 2, 'onions': 2, 'mushrooms': 6}\n",
    "\n",
    "def create_shopping_list(pantry, meal_recipe):\n",
    "    import copy\n",
    "    shopping_list = copy.deepcopy(meal_recipe)\n",
    "    for ingredient in meal_recipe:\n",
    "        if ingredient in pantry:\n",
    "            shopping_list[ingredient] = meal_recipe[ingredient] - pantry[ingredient]\n",
    "        if shopping_list[ingredient] < 1:\n",
    "            del shopping_list[ingredient]\n",
    "    return shopping_list\n",
    "\n",
    "create_shopping_list(pantry, meal_recipe)"
   ]
  },
  {
   "cell_type": "code",
   "execution_count": null,
   "metadata": {},
   "outputs": [],
   "source": [
    "def create_shopping_list(pantry, meal_recipe):\n",
    "    "
   ]
  },
  {
   "cell_type": "markdown",
   "metadata": {
    "slideshow": {
     "slide_type": "slide"
    }
   },
   "source": [
    "## Additional Resources\n",
    "[Python Documentation](https://docs.python.org/3/contents.html)  \n",
    "[O'Reilly Python DS Handbook](https://jakevdp.github.io/PythonDataScienceHandbook/)  \n",
    "[UBC Programming in Python for DS](https://prog-learn.mds.ubc.ca/en/)"
   ]
  }
 ],
 "metadata": {
  "celltoolbar": "Slideshow",
  "kernelspec": {
   "display_name": "Python 3",
   "language": "python",
   "name": "python3"
  },
  "language_info": {
   "codemirror_mode": {
    "name": "ipython",
    "version": 3
   },
   "file_extension": ".py",
   "mimetype": "text/x-python",
   "name": "python",
   "nbconvert_exporter": "python",
   "pygments_lexer": "ipython3",
   "version": "3.8.8"
  }
 },
 "nbformat": 4,
 "nbformat_minor": 4
}
