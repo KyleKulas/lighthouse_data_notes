{
 "cells": [
  {
   "cell_type": "markdown",
   "id": "1c0f30f7-16ca-4d9f-ba78-87d7980ede37",
   "metadata": {},
   "source": [
    "Functions, modules, and packages are all constructs that promote code modularization"
   ]
  },
  {
   "cell_type": "markdown",
   "id": "79ef0b39-9ca8-4d12-b653-852c4afa758f",
   "metadata": {},
   "source": [
    "Some useful structures present in this module are:"
   ]
  },
  {
   "cell_type": "markdown",
   "id": "5fed3a1b-5c80-47a3-8530-f25bc7dfe0ac",
   "metadata": {},
   "source": [
    "## namedtuple()\n",
    "\n",
    "tuples are accessed through index. Namedtuples allow names to be given for individual elements stored in a tuple:"
   ]
  },
  {
   "cell_type": "code",
   "execution_count": 2,
   "id": "fb650542-1a6d-4e43-b793-702d185443df",
   "metadata": {},
   "outputs": [],
   "source": [
    "from collections import namedtuple\n",
    "fruit = namedtuple('fruit','number variety color')\n",
    "\n",
    "guava = fruit(number=2, variety = 'honeycrisp', color = 'green')\n",
    "\n",
    "apple = fruit(number = 2, variety = 'granny smith', color = 'red')"
   ]
  },
  {
   "cell_type": "code",
   "execution_count": 3,
   "id": "8a536fd0-6770-49fb-a07d-5017a882a86e",
   "metadata": {},
   "outputs": [
    {
     "data": {
      "text/plain": [
       "'green'"
      ]
     },
     "execution_count": 3,
     "metadata": {},
     "output_type": "execute_result"
    }
   ],
   "source": [
    "guava.color"
   ]
  },
  {
   "cell_type": "code",
   "execution_count": 4,
   "id": "b1cd3a54-8fd3-4fe6-a783-85698f015c62",
   "metadata": {},
   "outputs": [
    {
     "data": {
      "text/plain": [
       "'granny smith'"
      ]
     },
     "execution_count": 4,
     "metadata": {},
     "output_type": "execute_result"
    }
   ],
   "source": [
    "apple.variety"
   ]
  },
  {
   "cell_type": "markdown",
   "id": "592789f6-2423-4a72-80bb-ecb85047ec20",
   "metadata": {},
   "source": [
    "## Counter\n",
    "\n",
    "A dict subclass which helps count hashable objects. The elements are stored as dictionary keys and the count is stored as the value."
   ]
  },
  {
   "cell_type": "code",
   "execution_count": 5,
   "id": "dc1d2c5a-12e8-4d5a-a3cd-3df0cb409f71",
   "metadata": {},
   "outputs": [
    {
     "name": "stdout",
     "output_type": "stream",
     "text": [
      "Counter({'a': 4, 'c': 4, 'b': 2, 'd': 2})\n"
     ]
    }
   ],
   "source": [
    "from collections import Counter\n",
    "\n",
    "c = Counter('abcacdabcacd')\n",
    "print(c)"
   ]
  },
  {
   "cell_type": "code",
   "execution_count": 6,
   "id": "95ae6460-ac76-4269-84a7-5389f07b72be",
   "metadata": {},
   "outputs": [
    {
     "name": "stdout",
     "output_type": "stream",
     "text": [
      "Counter({5: 3, 7: 3, 1: 2, 9: 2, 6: 1, 3: 1, 2: 1})\n"
     ]
    }
   ],
   "source": [
    "lst = [5,6,7,1,3,9,9,1,2,5,5,7,7]\n",
    "c = Counter(lst)\n",
    "print(c)"
   ]
  },
  {
   "cell_type": "code",
   "execution_count": 9,
   "id": "6c5d3420-0752-42f2-b8c7-1b731094fa29",
   "metadata": {},
   "outputs": [
    {
     "data": {
      "text/plain": [
       "Counter({'the': 1, 'lazy': 2, 'dog': 2, 'jumped': 1, 'over': 1, 'another': 1})"
      ]
     },
     "execution_count": 9,
     "metadata": {},
     "output_type": "execute_result"
    }
   ],
   "source": [
    "s = 'the lazy dog jumped over another lazy dog'\n",
    "words = s.split()\n",
    "Counter(words)"
   ]
  },
  {
   "cell_type": "markdown",
   "id": "e9d031d7-10f7-4d29-8c84-a7b57fad6a55",
   "metadata": {},
   "source": [
    ".elements()\n",
    "\n",
    "Returns a count of each element and if an element's count is less than one, it is ignored"
   ]
  },
  {
   "cell_type": "code",
   "execution_count": 10,
   "id": "5a1e826b-6447-49a4-8322-58d46aa55d95",
   "metadata": {},
   "outputs": [
    {
     "data": {
      "text/plain": [
       "['a', 'a', 'a', 'b', 'b', 'c']"
      ]
     },
     "execution_count": 10,
     "metadata": {},
     "output_type": "execute_result"
    }
   ],
   "source": [
    "c = Counter(a = 3, b = 2, c = 1, d = -2)\n",
    "sorted(c.elements())"
   ]
  },
  {
   "cell_type": "markdown",
   "id": "8ebc806a-7f9b-45b4-9a5a-c918e9e1b120",
   "metadata": {},
   "source": [
    ".most_common([n])\n",
    "\n",
    "Returns a list of the most common elements with their counts. The number of elements has to be specified as n. If none is specified, it returns the count of all the elements"
   ]
  },
  {
   "cell_type": "code",
   "execution_count": 13,
   "id": "7aae1497-d305-4952-ab14-2ebf2325cc30",
   "metadata": {},
   "outputs": [
    {
     "data": {
      "text/plain": [
       "[('lazy', 2), ('dog', 2), ('the', 1)]"
      ]
     },
     "execution_count": 13,
     "metadata": {},
     "output_type": "execute_result"
    }
   ],
   "source": [
    "s = 'the lazy dog jumped over another lazy dog'\n",
    "words = s.split()\n",
    "Counter(words).most_common(3)"
   ]
  },
  {
   "cell_type": "markdown",
   "id": "b7ff0715-06df-47be-b8b1-97a86812dd1d",
   "metadata": {},
   "source": [
    "sum(c.values())                 # total of all counts \n",
    "\n",
    "c.clear()                       # reset all counts \n",
    "\n",
    "list(c)                         # list unique elements\n",
    "\n",
    "set(c)                          # convert to a set\n",
    "\n",
    "dict(c)                         # convert to a regular dictionary\n",
    "\n",
    "c.items()                       # convert to a list like (elem, cnt)\n",
    "\n",
    "Counter(dict(list_of_pairs))    # convert from a list of(elem, cnt)\n",
    "\n",
    "c.most_common()[:-n-1:-1]       # n least common elements \n",
    "\n",
    "c += Counter()                  # remove zero and negative counts"
   ]
  },
  {
   "cell_type": "markdown",
   "id": "b1e42be5-90e6-4631-b083-297ad2c3b713",
   "metadata": {},
   "source": [
    "## defaultdict\n",
    "\n",
    "defaultdict with create any item that you try to access provided they do not already exist:"
   ]
  },
  {
   "cell_type": "code",
   "execution_count": 14,
   "id": "f728def9-6097-4ee5-ab85-fcf55454ca51",
   "metadata": {},
   "outputs": [
    {
     "name": "stdout",
     "output_type": "stream",
     "text": [
      "<object object at 0x7f731f1721c0>\n"
     ]
    }
   ],
   "source": [
    "from collections import defaultdict\n",
    "d = defaultdict(object)\n",
    "print(d['A'])"
   ]
  },
  {
   "cell_type": "markdown",
   "id": "7fe15ed9-4010-4f63-8ee6-a3e33b350124",
   "metadata": {},
   "source": [
    "## OrderedDict\n",
    "\n",
    "dictionary subclass that remembers the order in which keys were inserted."
   ]
  },
  {
   "cell_type": "code",
   "execution_count": 16,
   "id": "e89b94d2-f52c-4a3e-8fb7-25e3fbcf36e3",
   "metadata": {},
   "outputs": [],
   "source": [
    "d = {'banana': 3, 'apple': 4, 'pear': 1, 'orange': 2}"
   ]
  },
  {
   "cell_type": "markdown",
   "id": "66482324-f500-49fc-a790-39c1ad46d5a9",
   "metadata": {},
   "source": [
    "dictionary sorted by key:"
   ]
  },
  {
   "cell_type": "code",
   "execution_count": 18,
   "id": "d9a81fc5-91f7-4255-aab9-c9a761e13a73",
   "metadata": {},
   "outputs": [
    {
     "data": {
      "text/plain": [
       "OrderedDict([('apple', 4), ('banana', 3), ('orange', 2), ('pear', 1)])"
      ]
     },
     "execution_count": 18,
     "metadata": {},
     "output_type": "execute_result"
    }
   ],
   "source": [
    "from collections import OrderedDict\n",
    "OrderedDict(sorted(d.items(), key=lambda t: t[0]))"
   ]
  },
  {
   "cell_type": "markdown",
   "id": "de47a338-9745-4301-807c-629de05687c9",
   "metadata": {},
   "source": [
    "Dictionary sorted by value:"
   ]
  },
  {
   "cell_type": "code",
   "execution_count": 22,
   "id": "d5058ce8-393a-4078-8982-80fee0c2dbc8",
   "metadata": {},
   "outputs": [
    {
     "data": {
      "text/plain": [
       "OrderedDict([('pear', 1), ('orange', 2), ('banana', 3), ('apple', 4)])"
      ]
     },
     "execution_count": 22,
     "metadata": {},
     "output_type": "execute_result"
    }
   ],
   "source": [
    "OrderedDict(sorted(d.items(), key= lambda t: t[1]))"
   ]
  },
  {
   "cell_type": "markdown",
   "id": "f22a5143-98fb-4e66-9cb2-86dd879a96bf",
   "metadata": {},
   "source": [
    "Dictionary sorted by the length of the key string:"
   ]
  },
  {
   "cell_type": "code",
   "execution_count": 24,
   "id": "aa60775d-7321-44ff-bb2e-147071ed91a2",
   "metadata": {},
   "outputs": [
    {
     "data": {
      "text/plain": [
       "OrderedDict([('pear', 1), ('apple', 4), ('banana', 3), ('orange', 2)])"
      ]
     },
     "execution_count": 24,
     "metadata": {},
     "output_type": "execute_result"
    }
   ],
   "source": [
    "OrderedDict(sorted(d.items(), key= lambda t: len(t[0])))"
   ]
  },
  {
   "cell_type": "code",
   "execution_count": null,
   "id": "3ab168b4-4b90-4e53-8b25-d5c8307cf09c",
   "metadata": {},
   "outputs": [],
   "source": []
  }
 ],
 "metadata": {
  "kernelspec": {
   "display_name": "bootcamp_env",
   "language": "python",
   "name": "bootcamp_env"
  },
  "language_info": {
   "codemirror_mode": {
    "name": "ipython",
    "version": 3
   },
   "file_extension": ".py",
   "mimetype": "text/x-python",
   "name": "python",
   "nbconvert_exporter": "python",
   "pygments_lexer": "ipython3",
   "version": "3.8.12"
  }
 },
 "nbformat": 4,
 "nbformat_minor": 5
}
