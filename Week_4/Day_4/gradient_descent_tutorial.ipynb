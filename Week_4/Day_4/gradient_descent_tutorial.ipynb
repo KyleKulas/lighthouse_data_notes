{
 "cells": [
  {
   "cell_type": "markdown",
   "metadata": {},
   "source": [
    "# Gradient Descent Tutorial\n",
    "\n",
    "We are going to implement our first gradient descent in Python. This is tutorial is from [**this material**](https://www.kaggle.com/tentotheminus9/linear-regression-from-scratch-gradient-descent).\n",
    "\n",
    "We are using two variables from our dataset with prices of houses. You can use the one you've already downloaded or download it from [**here**](https://drive.google.com/file/d/1rca0X0lIPey2xw60EBV6_DVJkmWp4afi/view?usp=sharing)."
   ]
  },
  {
   "cell_type": "code",
   "execution_count": null,
   "metadata": {},
   "outputs": [],
   "source": []
  },
  {
   "cell_type": "code",
   "execution_count": 1,
   "metadata": {},
   "outputs": [],
   "source": [
    "# Firstly, we are going to import important packages\n",
    "import numpy as np # linear algebra\n",
    "import pandas as pd # obvious reasons :)"
   ]
  },
  {
   "cell_type": "code",
   "execution_count": 2,
   "metadata": {},
   "outputs": [],
   "source": [
    "# Libraries for visualizations\n",
    "import matplotlib.pyplot as plt\n",
    "import matplotlib.animation as animation"
   ]
  },
  {
   "cell_type": "code",
   "execution_count": 3,
   "metadata": {},
   "outputs": [],
   "source": [
    "data_path = \"data\"\n",
    "data = pd.read_csv(data_path + '/train.csv')"
   ]
  },
  {
   "cell_type": "markdown",
   "metadata": {},
   "source": [
    "We are going to work with 1 variable only. For this example it's **GrLivArea**. We will scale and add columns of 1s. This is because we want to find **intercept** as well (we did add the constant in the tutorial yesterday as well). "
   ]
  },
  {
   "cell_type": "code",
   "execution_count": 4,
   "metadata": {},
   "outputs": [
    {
     "name": "stdout",
     "output_type": "stream",
     "text": [
      "0       0.370207\n",
      "1      -0.482347\n",
      "2       0.514836\n",
      "3       0.383528\n",
      "4       1.298881\n",
      "          ...   \n",
      "1455    0.250316\n",
      "1456    1.061003\n",
      "1457    1.569110\n",
      "1458   -0.832502\n",
      "1459   -0.493765\n",
      "Name: GrLivArea, Length: 1460, dtype: float64\n",
      "[[ 1.          0.37020659]\n",
      " [ 1.         -0.48234664]\n",
      " [ 1.          0.51483616]\n",
      " ...\n",
      " [ 1.          1.56910958]\n",
      " [ 1.         -0.83250243]\n",
      " [ 1.         -0.49376477]]\n"
     ]
    }
   ],
   "source": [
    "x = data['GrLivArea']\n",
    "y = data['SalePrice']\n",
    "\n",
    "x = (x - x.mean()) / x.std()\n",
    "print(x)\n",
    "x = np.c_[np.ones(x.shape[0]), x] \n"
   ]
  },
  {
   "cell_type": "code",
   "execution_count": 26,
   "metadata": {},
   "outputs": [],
   "source": [
    "#GRADIENT DESCENT\n",
    "\n",
    "alpha = 0.01 #Step size\n",
    "iterations = 2000 #No. of iterations\n",
    "m = y.size #No. of data points\n",
    "np.random.seed(123) #Set the seed\n",
    "theta = np.random.rand(2) #Pick some random values to start with - we are estimating 2 coeficients: 1 for the variable and 1 for intercept"
   ]
  },
  {
   "cell_type": "code",
   "execution_count": 11,
   "metadata": {},
   "outputs": [
    {
     "name": "stdout",
     "output_type": "stream",
     "text": [
      "[180921.19555322  56294.90199925]\n",
      "[[ 1.          0.37020659]\n",
      " [ 1.         -0.48234664]\n",
      " [ 1.          0.51483616]\n",
      " ...\n",
      " [ 1.          1.56910958]\n",
      " [ 1.         -0.83250243]\n",
      " [ 1.         -0.49376477]]\n"
     ]
    }
   ],
   "source": [
    "print(theta)\n",
    "print(x)\n"
   ]
  },
  {
   "cell_type": "markdown",
   "metadata": {},
   "source": [
    "We are using term **cost** in the function below. This can be linked to the **Sum of the Squared Residuals** from the earlier [video](https://www.youtube.com/watch?v=sDv4f4s2SB8&t=1173s)."
   ]
  },
  {
   "cell_type": "code",
   "execution_count": 35,
   "metadata": {},
   "outputs": [
    {
     "name": "stdout",
     "output_type": "stream",
     "text": [
      "Gradient Descent: 180921.20, 56294.90\n"
     ]
    }
   ],
   "source": [
    "#GRADIENT DESCENT\n",
    "def gradient_descent(x, y, theta, iterations, alpha):\n",
    "    # prepare the empty lists for our history\n",
    "    past_costs = []\n",
    "    past_thetas = [theta]\n",
    "    # repeating for number of iteration times\n",
    "    for i in range(iterations):\n",
    "        # computing of prediction. Dot product of coeficients and values\n",
    "        prediction = np.dot(x, theta)\n",
    "        \n",
    "        # computation of error\n",
    "        error = prediction - y\n",
    "        \n",
    "        # computation of overall cost for each iteration\n",
    "        cost = 1/(2*m) * np.dot(error.T, error)\n",
    "        past_costs.append(cost)\n",
    "        # GRADIENT DESCENT part\n",
    "        theta = theta - (alpha * (1/m) * np.dot(x.T, error))\n",
    "        past_thetas.append(theta)\n",
    "        \n",
    "    return past_thetas, past_costs\n",
    "\n",
    "#Pass the relevant variables to the function and get the new values back...\n",
    "past_thetas, past_costs = gradient_descent(x, y, theta, iterations, alpha)\n",
    "theta = past_thetas[-1]\n",
    "\n",
    "#Print the results...\n",
    "print(\"Gradient Descent: {:.2f}, {:.2f}\".format(theta[0], theta[1]))"
   ]
  },
  {
   "cell_type": "code",
   "execution_count": 28,
   "metadata": {},
   "outputs": [
    {
     "data": {
      "image/png": "[encoded data removed]",
      "text/plain": [
       "<Figure size 432x288 with 1 Axes>"
      ]
     },
     "metadata": {
      "needs_background": "light"
     },
     "output_type": "display_data"
    }
   ],
   "source": [
    "#Plot the cost function...\n",
    "plt.title('Cost Function J')\n",
    "plt.xlabel('No. of iterations')\n",
    "plt.ylabel('Cost')\n",
    "plt.plot(past_costs)\n",
    "plt.show()"
   ]
  },
  {
   "cell_type": "markdown",
   "metadata": {},
   "source": [
    "We will try to animate the descent:\n",
    "\n",
    "1. we export the gif of how the regression line is moving through the data\n",
    "2. we load the git back and show it in the notebook."
   ]
  },
  {
   "cell_type": "code",
   "execution_count": 8,
   "metadata": {},
   "outputs": [
    {
     "name": "stderr",
     "output_type": "stream",
     "text": [
      "MovieWriter imagemagick unavailable; using Pillow instead.\n"
     ]
    }
   ],
   "source": [
    "#Animation\n",
    "\n",
    "#Set the plot up,\n",
    "fig = plt.figure()\n",
    "ax = plt.axes()\n",
    "plt.title('Sale Price vs Living Area')\n",
    "plt.xlabel('Living Area in square feet (normalised)')\n",
    "plt.ylabel('Sale Price ($)')\n",
    "plt.scatter(x[:,1], y, color='red')\n",
    "line, = ax.plot([], [], lw=2)\n",
    "annotation = ax.text(-1, 700000, '')\n",
    "annotation.set_animated(True)\n",
    "plt.close()\n",
    "\n",
    "#Generate the animation data,\n",
    "def init():\n",
    "    line.set_data([], [])\n",
    "    annotation.set_text('')\n",
    "    return line, annotation\n",
    "\n",
    "# animation function.  This is called sequentially\n",
    "def animate(i):\n",
    "    x = np.linspace(-5, 20, 1000)\n",
    "    y = past_thetas[i][1]*x + past_thetas[i][0]\n",
    "    line.set_data(x, y)\n",
    "    annotation.set_text('Cost = %.2f e10' % (past_costs[i]/10000000000))\n",
    "    return line, annotation\n",
    "\n",
    "anim = animation.FuncAnimation(fig, animate, init_func=init,\n",
    "                               frames=300, interval=0, blit=True)\n",
    "\n",
    "# export of .gif\n",
    "anim.save('animation.gif', writer='imagemagick', fps = 30)"
   ]
  },
  {
   "cell_type": "code",
   "execution_count": 9,
   "metadata": {},
   "outputs": [
    {
     "data": {
      "text/html": [
       "<img src=\"data:image/gif;base64,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\" type=\"gif\" />"
      ],
      "text/plain": [
       "<IPython.core.display.HTML object>"
      ]
     },
     "execution_count": 22,
     "metadata": {},
     "output_type": "execute_result"
    }
   ],
   "source": [
    "#Display the animation...\n",
    "import io\n",
    "import base64\n",
    "from IPython.display import HTML\n",
    "\n",
    "filename = 'animation.gif'\n",
    "\n",
    "video = io.open(filename, 'r+b').read()\n",
    "encoded = base64.b64encode(video)\n",
    "HTML(data='''<img src=\"data:image/gif;base64,{0}\" type=\"gif\" />'''.format(encoded.decode('ascii')))"
   ]
  },
  {
   "cell_type": "code",
   "execution_count": null,
   "metadata": {},
   "outputs": [],
   "source": []
  },
  {
   "cell_type": "markdown",
   "metadata": {},
   "source": [
    "## Stretch content\n",
    "\n",
    "Try to choose 4 more variables and adjust the function to predict the coeficients for all predictors"
   ]
  },
  {
   "cell_type": "code",
   "execution_count": null,
   "metadata": {},
   "outputs": [],
   "source": []
  },
  {
   "cell_type": "code",
   "execution_count": null,
   "metadata": {},
   "outputs": [],
   "source": []
  }
 ],
 "metadata": {
  "kernelspec": {
   "display_name": "py3.6",
   "language": "python",
   "name": "py3.6"
  },
  "language_info": {
   "codemirror_mode": {
    "name": "ipython",
    "version": 3
   },
   "file_extension": ".py",
   "mimetype": "text/x-python",
   "name": "python",
   "nbconvert_exporter": "python",
   "pygments_lexer": "ipython3",
   "version": "3.6.13"
  }
 },
 "nbformat": 4,
 "nbformat_minor": 4
}
