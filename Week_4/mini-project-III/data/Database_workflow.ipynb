{
 "cells": [
  {
   "cell_type": "markdown",
   "id": "9e38b3a7-1a6e-473c-ad14-4bdac6fa95cd",
   "metadata": {},
   "source": [
    "# Workflow: Loading data from .csv files into SQLite Database"
   ]
  },
  {
   "cell_type": "markdown",
   "id": "1599bd35-1dce-41af-8e11-c65d47a76bff",
   "metadata": {},
   "source": [
    "## Load all neccessary packages"
   ]
  },
  {
   "cell_type": "code",
   "execution_count": 1,
   "id": "80b75b44-600f-4ecd-a05a-d5aa5f6da6c3",
   "metadata": {},
   "outputs": [],
   "source": [
    "import numpy as np\n",
    "import pandas as pd\n",
    "import sqlite3\n",
    "from sqlite3 import Error"
   ]
  },
  {
   "cell_type": "markdown",
   "id": "b44e3255-8fb5-445f-b6ba-525463374644",
   "metadata": {},
   "source": [
    "## Load csv tables into Pandas "
   ]
  },
  {
   "cell_type": "code",
   "execution_count": 52,
   "id": "0a3dbdd3-2b55-4ea9-832e-c225638298f1",
   "metadata": {},
   "outputs": [],
   "source": [
    "accounts = pd.read_csv('twm_accounts.csv', sep=';')\n",
    "checking_acct = pd.read_csv('twm_checking_acct.csv', sep=';')\n",
    "checking_tran = pd.read_csv('twm_checking_tran.csv', sep=';')\n",
    "credit_acct = pd.read_csv('twm_credit_acct.csv', sep=';')\n",
    "credit_tran = pd.read_csv('twm_credit_tran.csv', sep=';')\n",
    "customer = pd.read_csv('twm_customer.csv', sep = ';')\n",
    "savings_acct = pd.read_csv('twm_savings_acct.csv', sep=';')\n",
    "savings_tran = pd.read_csv('twm_savings_tran.csv', sep=';')\n",
    "transactions = pd.read_csv('twm_transactions.csv', sep=';')"
   ]
  },
  {
   "cell_type": "code",
   "execution_count": 57,
   "id": "c2f008d3-1d08-44e4-94d1-74f57d14e325",
   "metadata": {},
   "outputs": [
    {
     "data": {
      "text/plain": [
       "acct_nbr              13628063\n",
       "cust_id                1362806\n",
       "acct_type                   SV\n",
       "account_active               Y\n",
       "acct_start_date     10.12.1995\n",
       "acct_end_date              NaN\n",
       "starting_balance       1430.22\n",
       "ending_balance          284.58\n",
       "Name: 0, dtype: object"
      ]
     },
     "execution_count": 57,
     "metadata": {},
     "output_type": "execute_result"
    }
   ],
   "source": [
    "# stripping leading and trailing spaces\n",
    "#df_obj = accounts.select_dtypes(['object'])\n",
    "#accounts[df_obj.columns] = df_obj.apply(lambda x: x.str.strip())\n"
   ]
  },
  {
   "cell_type": "markdown",
   "id": "c33376f2-7b4b-4f7d-aca5-ed4b1190ebfb",
   "metadata": {},
   "source": [
    "## Create the database. If the databse exists, it will be overwritten. "
   ]
  },
  {
   "cell_type": "code",
   "execution_count": 3,
   "id": "33f317a5-6f92-4ee5-97f0-952da966bc09",
   "metadata": {},
   "outputs": [],
   "source": [
    "def create_connection(path):\n",
    "    connection = None\n",
    "    try:\n",
    "        connection = sqlite3.connect(path)\n",
    "        print(\"Connection to SQLite DB successful\")\n",
    "    except Error as e:\n",
    "        print(f\"The error '{e}' occurred\")\n",
    "\n",
    "    return connection"
   ]
  },
  {
   "cell_type": "code",
   "execution_count": 4,
   "id": "298a4900-b2ea-4590-ab33-7f8dd432237e",
   "metadata": {},
   "outputs": [
    {
     "name": "stdout",
     "output_type": "stream",
     "text": [
      "Connection to SQLite DB successful\n"
     ]
    }
   ],
   "source": [
    "connection = create_connection(\"twm.db\")"
   ]
  },
  {
   "cell_type": "markdown",
   "id": "775dc782-98ef-49bb-9311-0ba8feda27cb",
   "metadata": {},
   "source": [
    "## Executing the queries"
   ]
  },
  {
   "cell_type": "code",
   "execution_count": 5,
   "id": "71cdd225-5832-4bc5-8b37-349c300655a1",
   "metadata": {},
   "outputs": [],
   "source": [
    "def execute_query(connection, query):\n",
    "    cursor = connection.cursor()\n",
    "    try:\n",
    "        cursor.execute(query)\n",
    "        connection.commit()\n",
    "        print(\"Query executed successfully\")\n",
    "    except Error as e:\n",
    "        print(f\"The error '{e}' occurred\")"
   ]
  },
  {
   "cell_type": "markdown",
   "id": "72b95e33-fa3c-4b60-834a-05312fc2e32c",
   "metadata": {},
   "source": [
    "## Creating 'accounts' table"
   ]
  },
  {
   "cell_type": "markdown",
   "id": "7f55449e-93b1-494c-8a71-c29569a44eef",
   "metadata": {},
   "source": [
    "**This section could be neglected. I was struggling to load the data and tried to convert object datatype into string. Converting object datatype into string didn't actually work for 'twm_accounts' table.**"
   ]
  },
  {
   "cell_type": "code",
   "execution_count": 6,
   "id": "9832b386-d7db-4a7a-a84a-c741f183e32b",
   "metadata": {},
   "outputs": [],
   "source": [
    "#accounts = pd.read_csv('twm_accounts.csv', sep=\";\")\n",
    "#accounts['acct_type'] = accounts['acct_type'].astype('str')\n",
    "#accounts['acct_type'] = accounts['acct_type'].astype('str') \n",
    "#accounts['account_active'] = accounts['account_active'].astype('str') \n",
    "#accounts['acct_start_date'] = accounts['acct_start_date'].astype('str') \n",
    "#accounts['acct_end_date'] = accounts['acct_end_date'].astype('str')"
   ]
  },
  {
   "cell_type": "code",
   "execution_count": 7,
   "id": "1b3c6bbb-fd4f-47c3-b972-16f9c483114f",
   "metadata": {},
   "outputs": [
    {
     "data": {
      "text/html": [
       "<div>\n",
       "<style scoped>\n",
       "    .dataframe tbody tr th:only-of-type {\n",
       "        vertical-align: middle;\n",
       "    }\n",
       "\n",
       "    .dataframe tbody tr th {\n",
       "        vertical-align: top;\n",
       "    }\n",
       "\n",
       "    .dataframe thead th {\n",
       "        text-align: right;\n",
       "    }\n",
       "</style>\n",
       "<table border=\"1\" class=\"dataframe\">\n",
       "  <thead>\n",
       "    <tr style=\"text-align: right;\">\n",
       "      <th></th>\n",
       "      <th>acct_nbr</th>\n",
       "      <th>cust_id</th>\n",
       "      <th>acct_type</th>\n",
       "      <th>account_active</th>\n",
       "      <th>acct_start_date</th>\n",
       "      <th>acct_end_date</th>\n",
       "      <th>starting_balance</th>\n",
       "      <th>ending_balance</th>\n",
       "    </tr>\n",
       "  </thead>\n",
       "  <tbody>\n",
       "    <tr>\n",
       "      <th>0</th>\n",
       "      <td>13628063</td>\n",
       "      <td>1362806</td>\n",
       "      <td>SV</td>\n",
       "      <td>Y</td>\n",
       "      <td>10.12.1995</td>\n",
       "      <td>NaN</td>\n",
       "      <td>1430.22</td>\n",
       "      <td>284.58</td>\n",
       "    </tr>\n",
       "    <tr>\n",
       "      <th>1</th>\n",
       "      <td>4561143213627090</td>\n",
       "      <td>1362709</td>\n",
       "      <td>CC</td>\n",
       "      <td>Y</td>\n",
       "      <td>15.3.1993</td>\n",
       "      <td>NaN</td>\n",
       "      <td>266.34</td>\n",
       "      <td>496.15</td>\n",
       "    </tr>\n",
       "    <tr>\n",
       "      <th>2</th>\n",
       "      <td>4561143213628360</td>\n",
       "      <td>1362836</td>\n",
       "      <td>CC</td>\n",
       "      <td>Y</td>\n",
       "      <td>18.3.1992</td>\n",
       "      <td>NaN</td>\n",
       "      <td>55.90</td>\n",
       "      <td>1000.00</td>\n",
       "    </tr>\n",
       "    <tr>\n",
       "      <th>3</th>\n",
       "      <td>13633112</td>\n",
       "      <td>1363311</td>\n",
       "      <td>CK</td>\n",
       "      <td>Y</td>\n",
       "      <td>6.7.1995</td>\n",
       "      <td>NaN</td>\n",
       "      <td>11017.13</td>\n",
       "      <td>968.46</td>\n",
       "    </tr>\n",
       "    <tr>\n",
       "      <th>4</th>\n",
       "      <td>4561143213633610</td>\n",
       "      <td>1363361</td>\n",
       "      <td>CC</td>\n",
       "      <td>Y</td>\n",
       "      <td>17.6.1994</td>\n",
       "      <td>NaN</td>\n",
       "      <td>849.37</td>\n",
       "      <td>462.28</td>\n",
       "    </tr>\n",
       "  </tbody>\n",
       "</table>\n",
       "</div>"
      ],
      "text/plain": [
       "           acct_nbr  cust_id acct_type account_active acct_start_date  \\\n",
       "0          13628063  1362806      SV               Y       10.12.1995   \n",
       "1  4561143213627090  1362709      CC               Y        15.3.1993   \n",
       "2  4561143213628360  1362836      CC               Y        18.3.1992   \n",
       "3          13633112  1363311      CK               Y         6.7.1995   \n",
       "4  4561143213633610  1363361      CC               Y        17.6.1994   \n",
       "\n",
       "  acct_end_date  starting_balance  ending_balance  \n",
       "0           NaN           1430.22          284.58  \n",
       "1           NaN            266.34          496.15  \n",
       "2           NaN             55.90         1000.00  \n",
       "3           NaN          11017.13          968.46  \n",
       "4           NaN            849.37          462.28  "
      ]
     },
     "execution_count": 7,
     "metadata": {},
     "output_type": "execute_result"
    }
   ],
   "source": [
    "accounts.head()"
   ]
  },
  {
   "cell_type": "code",
   "execution_count": 8,
   "id": "72d04d00-718c-4797-9ee7-c632109e467a",
   "metadata": {},
   "outputs": [
    {
     "data": {
      "text/plain": [
       "acct_nbr              int64\n",
       "cust_id               int64\n",
       "acct_type            object\n",
       "account_active       object\n",
       "acct_start_date      object\n",
       "acct_end_date        object\n",
       "starting_balance    float64\n",
       "ending_balance      float64\n",
       "dtype: object"
      ]
     },
     "execution_count": 8,
     "metadata": {},
     "output_type": "execute_result"
    }
   ],
   "source": [
    "accounts.dtypes"
   ]
  },
  {
   "cell_type": "code",
   "execution_count": 9,
   "id": "a8a63ea6-106f-4044-92b0-3d29addfce77",
   "metadata": {},
   "outputs": [
    {
     "name": "stdout",
     "output_type": "stream",
     "text": [
      "Query executed successfully\n"
     ]
    }
   ],
   "source": [
    "create_table = \"\"\"\n",
    "CREATE TABLE  IF NOT EXISTS twm_accounts(\n",
    "  cust_id INTEGER,\n",
    "  acct_nbr BIGINT PRIMARY KEY,\n",
    "  acct_type TEXT,\n",
    "  account_active TEXT,\n",
    "  acct_start_date TEXT,\n",
    "  acct_end_date TEXT,\n",
    "  starting_balance REAL,\n",
    "  ending_balance REAL  \n",
    ");\n",
    "\"\"\"\n",
    "execute_query(connection, create_table)"
   ]
  },
  {
   "cell_type": "markdown",
   "id": "27e9c276-0f1a-4c61-bdd1-424ee7aae320",
   "metadata": {},
   "source": [
    "## Creating 'customer' table"
   ]
  },
  {
   "cell_type": "code",
   "execution_count": 10,
   "id": "3cbf33aa-2941-4186-ab50-ca0d7650f7a6",
   "metadata": {},
   "outputs": [
    {
     "data": {
      "text/html": [
       "<div>\n",
       "<style scoped>\n",
       "    .dataframe tbody tr th:only-of-type {\n",
       "        vertical-align: middle;\n",
       "    }\n",
       "\n",
       "    .dataframe tbody tr th {\n",
       "        vertical-align: top;\n",
       "    }\n",
       "\n",
       "    .dataframe thead th {\n",
       "        text-align: right;\n",
       "    }\n",
       "</style>\n",
       "<table border=\"1\" class=\"dataframe\">\n",
       "  <thead>\n",
       "    <tr style=\"text-align: right;\">\n",
       "      <th></th>\n",
       "      <th>cust_id</th>\n",
       "      <th>income</th>\n",
       "      <th>age</th>\n",
       "      <th>years_with_bank</th>\n",
       "      <th>nbr_children</th>\n",
       "      <th>gender</th>\n",
       "      <th>marital_status</th>\n",
       "      <th>name_prefix</th>\n",
       "      <th>first_name</th>\n",
       "      <th>last_name</th>\n",
       "      <th>street_nbr</th>\n",
       "      <th>street_name</th>\n",
       "      <th>postal_code</th>\n",
       "      <th>city_name</th>\n",
       "      <th>state_code</th>\n",
       "    </tr>\n",
       "  </thead>\n",
       "  <tbody>\n",
       "    <tr>\n",
       "      <th>0</th>\n",
       "      <td>1362691</td>\n",
       "      <td>26150</td>\n",
       "      <td>46</td>\n",
       "      <td>5</td>\n",
       "      <td>1</td>\n",
       "      <td>M</td>\n",
       "      <td>2</td>\n",
       "      <td></td>\n",
       "      <td>Donald                                        ...</td>\n",
       "      <td>Marek                                         ...</td>\n",
       "      <td>8298</td>\n",
       "      <td>Second                                        ...</td>\n",
       "      <td>89194</td>\n",
       "      <td>Las Vegas</td>\n",
       "      <td>NV</td>\n",
       "    </tr>\n",
       "    <tr>\n",
       "      <th>1</th>\n",
       "      <td>1362487</td>\n",
       "      <td>6605</td>\n",
       "      <td>71</td>\n",
       "      <td>1</td>\n",
       "      <td>0</td>\n",
       "      <td>M</td>\n",
       "      <td>2</td>\n",
       "      <td></td>\n",
       "      <td>ChingDyi                                      ...</td>\n",
       "      <td>Moussavi                                      ...</td>\n",
       "      <td>10603</td>\n",
       "      <td>Daffodil                                      ...</td>\n",
       "      <td>90159</td>\n",
       "      <td>Los Angeles</td>\n",
       "      <td>CA</td>\n",
       "    </tr>\n",
       "    <tr>\n",
       "      <th>2</th>\n",
       "      <td>1363160</td>\n",
       "      <td>18548</td>\n",
       "      <td>38</td>\n",
       "      <td>8</td>\n",
       "      <td>0</td>\n",
       "      <td>F</td>\n",
       "      <td>1</td>\n",
       "      <td></td>\n",
       "      <td>Rosa                                          ...</td>\n",
       "      <td>Johnston                                      ...</td>\n",
       "      <td>8817</td>\n",
       "      <td>Figueroa                                      ...</td>\n",
       "      <td>90024</td>\n",
       "      <td>Los Angeles</td>\n",
       "      <td>CA</td>\n",
       "    </tr>\n",
       "    <tr>\n",
       "      <th>3</th>\n",
       "      <td>1362752</td>\n",
       "      <td>47668</td>\n",
       "      <td>54</td>\n",
       "      <td>3</td>\n",
       "      <td>0</td>\n",
       "      <td>F</td>\n",
       "      <td>1</td>\n",
       "      <td></td>\n",
       "      <td>Lisa                                          ...</td>\n",
       "      <td>Martin                                        ...</td>\n",
       "      <td>676</td>\n",
       "      <td>Humble                                        ...</td>\n",
       "      <td>90172</td>\n",
       "      <td>Los Angeles</td>\n",
       "      <td>CA</td>\n",
       "    </tr>\n",
       "    <tr>\n",
       "      <th>4</th>\n",
       "      <td>1362548</td>\n",
       "      <td>44554</td>\n",
       "      <td>59</td>\n",
       "      <td>9</td>\n",
       "      <td>2</td>\n",
       "      <td>F</td>\n",
       "      <td>4</td>\n",
       "      <td></td>\n",
       "      <td>Barbara                                       ...</td>\n",
       "      <td>O'Malley                                      ...</td>\n",
       "      <td>6578</td>\n",
       "      <td>C                                             ...</td>\n",
       "      <td>10138</td>\n",
       "      <td>New York City</td>\n",
       "      <td>NY</td>\n",
       "    </tr>\n",
       "  </tbody>\n",
       "</table>\n",
       "</div>"
      ],
      "text/plain": [
       "   cust_id  income  age  years_with_bank  nbr_children gender  marital_status  \\\n",
       "0  1362691   26150   46                5             1     M                2   \n",
       "1  1362487    6605   71                1             0     M                2   \n",
       "2  1363160   18548   38                8             0     F                1   \n",
       "3  1362752   47668   54                3             0     F                1   \n",
       "4  1362548   44554   59                9             2     F                4   \n",
       "\n",
       "  name_prefix                                         first_name  \\\n",
       "0              Donald                                        ...   \n",
       "1              ChingDyi                                      ...   \n",
       "2              Rosa                                          ...   \n",
       "3              Lisa                                          ...   \n",
       "4              Barbara                                       ...   \n",
       "\n",
       "                                           last_name  street_nbr  \\\n",
       "0  Marek                                         ...        8298   \n",
       "1  Moussavi                                      ...       10603   \n",
       "2  Johnston                                      ...        8817   \n",
       "3  Martin                                        ...         676   \n",
       "4  O'Malley                                      ...        6578   \n",
       "\n",
       "                                         street_name  postal_code  \\\n",
       "0  Second                                        ...        89194   \n",
       "1  Daffodil                                      ...        90159   \n",
       "2  Figueroa                                      ...        90024   \n",
       "3  Humble                                        ...        90172   \n",
       "4  C                                             ...        10138   \n",
       "\n",
       "                                  city_name state_code  \n",
       "0  Las Vegas                                      NV    \n",
       "1  Los Angeles                                    CA    \n",
       "2  Los Angeles                                    CA    \n",
       "3  Los Angeles                                    CA    \n",
       "4  New York City                                  NY    "
      ]
     },
     "execution_count": 10,
     "metadata": {},
     "output_type": "execute_result"
    }
   ],
   "source": [
    "customer.head()"
   ]
  },
  {
   "cell_type": "code",
   "execution_count": 11,
   "id": "37073dd9-bdbc-4d1c-9b10-6e2baf89a30a",
   "metadata": {},
   "outputs": [
    {
     "data": {
      "text/plain": [
       "cust_id             int64\n",
       "income              int64\n",
       "age                 int64\n",
       "years_with_bank     int64\n",
       "nbr_children        int64\n",
       "gender             object\n",
       "marital_status      int64\n",
       "name_prefix        object\n",
       "first_name         object\n",
       "last_name          object\n",
       "street_nbr          int64\n",
       "street_name        object\n",
       "postal_code         int64\n",
       "city_name          object\n",
       "state_code         object\n",
       "dtype: object"
      ]
     },
     "execution_count": 11,
     "metadata": {},
     "output_type": "execute_result"
    }
   ],
   "source": [
    "customer.dtypes"
   ]
  },
  {
   "cell_type": "code",
   "execution_count": 12,
   "id": "b0865390-d461-4473-b35c-3e039471f8cd",
   "metadata": {},
   "outputs": [
    {
     "name": "stdout",
     "output_type": "stream",
     "text": [
      "Query executed successfully\n"
     ]
    }
   ],
   "source": [
    "#Creating fields for twm_customer table\n",
    "\n",
    "create_table = \"\"\"\n",
    "CREATE TABLE  IF NOT EXISTS twm_customer(\n",
    "    cust_id             INTEGER PRIMARY KEY,\n",
    "    income              INTEGER,\n",
    "    age                 INTEGER,\n",
    "    years_with_bank     INTEGER,\n",
    "    nbr_children        INTEGER,\n",
    "    gender              TEXT,\n",
    "    marital_status      INTEGER,\n",
    "    name_prefix         TEXT,\n",
    "    first_name          TEXT,\n",
    "    last_name           TEXT,\n",
    "    street_nbr          INTEGER,\n",
    "    street_name         TEXT,\n",
    "    postal_code         INTEGER,\n",
    "    city_name           TEXT,\n",
    "    state_code          TEXT\n",
    ");\n",
    "\"\"\"\n",
    "execute_query(connection, create_table)  "
   ]
  },
  {
   "cell_type": "markdown",
   "id": "b214238d-5d0d-4995-bab7-d1840f7e3681",
   "metadata": {},
   "source": [
    "## Creating 'transactions' table"
   ]
  },
  {
   "cell_type": "code",
   "execution_count": 13,
   "id": "f07f65a5-e97c-466e-bfaa-f9386e08bb6a",
   "metadata": {},
   "outputs": [
    {
     "data": {
      "text/html": [
       "<div>\n",
       "<style scoped>\n",
       "    .dataframe tbody tr th:only-of-type {\n",
       "        vertical-align: middle;\n",
       "    }\n",
       "\n",
       "    .dataframe tbody tr th {\n",
       "        vertical-align: top;\n",
       "    }\n",
       "\n",
       "    .dataframe thead th {\n",
       "        text-align: right;\n",
       "    }\n",
       "</style>\n",
       "<table border=\"1\" class=\"dataframe\">\n",
       "  <thead>\n",
       "    <tr style=\"text-align: right;\">\n",
       "      <th></th>\n",
       "      <th>tran_id</th>\n",
       "      <th>acct_nbr</th>\n",
       "      <th>tran_amt</th>\n",
       "      <th>principal_amt</th>\n",
       "      <th>interest_amt</th>\n",
       "      <th>new_balance</th>\n",
       "      <th>tran_date</th>\n",
       "      <th>tran_time</th>\n",
       "      <th>channel</th>\n",
       "      <th>tran_code</th>\n",
       "    </tr>\n",
       "  </thead>\n",
       "  <tbody>\n",
       "    <tr>\n",
       "      <th>0</th>\n",
       "      <td>27</td>\n",
       "      <td>13625623</td>\n",
       "      <td>0.00</td>\n",
       "      <td>0.00</td>\n",
       "      <td>0.0</td>\n",
       "      <td>3753.34</td>\n",
       "      <td>21.10.1995</td>\n",
       "      <td>121656</td>\n",
       "      <td>A</td>\n",
       "      <td>IQ</td>\n",
       "    </tr>\n",
       "    <tr>\n",
       "      <th>1</th>\n",
       "      <td>97</td>\n",
       "      <td>13628392</td>\n",
       "      <td>0.00</td>\n",
       "      <td>0.00</td>\n",
       "      <td>0.0</td>\n",
       "      <td>254.49</td>\n",
       "      <td>5.2.1995</td>\n",
       "      <td>153053</td>\n",
       "      <td>V</td>\n",
       "      <td>IQ</td>\n",
       "    </tr>\n",
       "    <tr>\n",
       "      <th>2</th>\n",
       "      <td>21</td>\n",
       "      <td>13630842</td>\n",
       "      <td>-97.57</td>\n",
       "      <td>-97.57</td>\n",
       "      <td>0.0</td>\n",
       "      <td>3819.56</td>\n",
       "      <td>23.7.1995</td>\n",
       "      <td>0</td>\n",
       "      <td>P</td>\n",
       "      <td>WD</td>\n",
       "    </tr>\n",
       "    <tr>\n",
       "      <th>3</th>\n",
       "      <td>44</td>\n",
       "      <td>13631412</td>\n",
       "      <td>-0.15</td>\n",
       "      <td>-0.15</td>\n",
       "      <td>0.0</td>\n",
       "      <td>224.05</td>\n",
       "      <td>30.1.1995</td>\n",
       "      <td>0</td>\n",
       "      <td></td>\n",
       "      <td>FK</td>\n",
       "    </tr>\n",
       "    <tr>\n",
       "      <th>4</th>\n",
       "      <td>31</td>\n",
       "      <td>13625722</td>\n",
       "      <td>0.00</td>\n",
       "      <td>0.00</td>\n",
       "      <td>0.0</td>\n",
       "      <td>240.55</td>\n",
       "      <td>25.1.1995</td>\n",
       "      <td>204521</td>\n",
       "      <td>B</td>\n",
       "      <td>IQ</td>\n",
       "    </tr>\n",
       "  </tbody>\n",
       "</table>\n",
       "</div>"
      ],
      "text/plain": [
       "   tran_id  acct_nbr  tran_amt  principal_amt  interest_amt  new_balance  \\\n",
       "0       27  13625623      0.00           0.00           0.0      3753.34   \n",
       "1       97  13628392      0.00           0.00           0.0       254.49   \n",
       "2       21  13630842    -97.57         -97.57           0.0      3819.56   \n",
       "3       44  13631412     -0.15          -0.15           0.0       224.05   \n",
       "4       31  13625722      0.00           0.00           0.0       240.55   \n",
       "\n",
       "    tran_date  tran_time channel tran_code  \n",
       "0  21.10.1995     121656      A       IQ    \n",
       "1    5.2.1995     153053      V       IQ    \n",
       "2   23.7.1995          0      P       WD    \n",
       "3   30.1.1995          0              FK    \n",
       "4   25.1.1995     204521      B       IQ    "
      ]
     },
     "execution_count": 13,
     "metadata": {},
     "output_type": "execute_result"
    }
   ],
   "source": [
    "transactions.head()"
   ]
  },
  {
   "cell_type": "code",
   "execution_count": 14,
   "id": "9165f4a8-5107-4c82-94a4-7d8965759f77",
   "metadata": {},
   "outputs": [
    {
     "data": {
      "text/plain": [
       "tran_id            int64\n",
       "acct_nbr           int64\n",
       "tran_amt         float64\n",
       "principal_amt    float64\n",
       "interest_amt     float64\n",
       "new_balance      float64\n",
       "tran_date         object\n",
       "tran_time          int64\n",
       "channel           object\n",
       "tran_code         object\n",
       "dtype: object"
      ]
     },
     "execution_count": 14,
     "metadata": {},
     "output_type": "execute_result"
    }
   ],
   "source": [
    "transactions.dtypes"
   ]
  },
  {
   "cell_type": "code",
   "execution_count": 15,
   "id": "6ce9bf3c-8bc5-4c97-8576-75487315d442",
   "metadata": {},
   "outputs": [
    {
     "name": "stdout",
     "output_type": "stream",
     "text": [
      "Query executed successfully\n"
     ]
    }
   ],
   "source": [
    "create_table = \"\"\"\n",
    "CREATE TABLE  IF NOT EXISTS twm_transactions(\n",
    "    tran_id            INTEGER,\n",
    "    acct_nbr           BIGINT,\n",
    "    tran_amt           REAL,\n",
    "    principal_amt      REAL,\n",
    "    interest_amt       REAL,\n",
    "    new_balance        REAL,\n",
    "    tran_date          TEXT,\n",
    "    tran_time          TEXT,\n",
    "    channel            TEXT,\n",
    "    tran_code          TEXT,\n",
    "    PRIMARY KEY (tran_id, acct_nbr)\n",
    ");\n",
    "\"\"\"\n",
    "execute_query(connection, create_table)  "
   ]
  },
  {
   "cell_type": "markdown",
   "id": "70eaf6b0-1eca-4a3d-b6db-a976b833d067",
   "metadata": {},
   "source": [
    "## 'Checking_acct' Table"
   ]
  },
  {
   "cell_type": "code",
   "execution_count": 16,
   "id": "4505f038-bd15-49cb-a443-d8adfed852a0",
   "metadata": {},
   "outputs": [
    {
     "data": {
      "text/html": [
       "<div>\n",
       "<style scoped>\n",
       "    .dataframe tbody tr th:only-of-type {\n",
       "        vertical-align: middle;\n",
       "    }\n",
       "\n",
       "    .dataframe tbody tr th {\n",
       "        vertical-align: top;\n",
       "    }\n",
       "\n",
       "    .dataframe thead th {\n",
       "        text-align: right;\n",
       "    }\n",
       "</style>\n",
       "<table border=\"1\" class=\"dataframe\">\n",
       "  <thead>\n",
       "    <tr style=\"text-align: right;\">\n",
       "      <th></th>\n",
       "      <th>cust_id</th>\n",
       "      <th>acct_nbr</th>\n",
       "      <th>minimum_balance</th>\n",
       "      <th>per_check_fee</th>\n",
       "      <th>account_active</th>\n",
       "      <th>acct_start_date</th>\n",
       "      <th>acct_end_date</th>\n",
       "      <th>starting_balance</th>\n",
       "      <th>ending_balance</th>\n",
       "    </tr>\n",
       "  </thead>\n",
       "  <tbody>\n",
       "    <tr>\n",
       "      <th>0</th>\n",
       "      <td>1362548</td>\n",
       "      <td>13625482</td>\n",
       "      <td>3000</td>\n",
       "      <td>0.00</td>\n",
       "      <td>Y</td>\n",
       "      <td>11.11.1986</td>\n",
       "      <td>NaN</td>\n",
       "      <td>6004.34</td>\n",
       "      <td>569.65</td>\n",
       "    </tr>\n",
       "    <tr>\n",
       "      <th>1</th>\n",
       "      <td>1362487</td>\n",
       "      <td>13624872</td>\n",
       "      <td>3000</td>\n",
       "      <td>0.00</td>\n",
       "      <td>Y</td>\n",
       "      <td>12.1.1995</td>\n",
       "      <td>NaN</td>\n",
       "      <td>2781.07</td>\n",
       "      <td>1401.21</td>\n",
       "    </tr>\n",
       "    <tr>\n",
       "      <th>2</th>\n",
       "      <td>1363017</td>\n",
       "      <td>13630172</td>\n",
       "      <td>3000</td>\n",
       "      <td>0.00</td>\n",
       "      <td>Y</td>\n",
       "      <td>19.3.1994</td>\n",
       "      <td>NaN</td>\n",
       "      <td>2694.91</td>\n",
       "      <td>147.15</td>\n",
       "    </tr>\n",
       "    <tr>\n",
       "      <th>3</th>\n",
       "      <td>1362752</td>\n",
       "      <td>13627522</td>\n",
       "      <td>100</td>\n",
       "      <td>0.15</td>\n",
       "      <td>Y</td>\n",
       "      <td>8.1.1994</td>\n",
       "      <td>NaN</td>\n",
       "      <td>487.69</td>\n",
       "      <td>3.76</td>\n",
       "    </tr>\n",
       "    <tr>\n",
       "      <th>4</th>\n",
       "      <td>1363282</td>\n",
       "      <td>13632822</td>\n",
       "      <td>100</td>\n",
       "      <td>0.15</td>\n",
       "      <td>Y</td>\n",
       "      <td>5.3.1988</td>\n",
       "      <td>NaN</td>\n",
       "      <td>133.90</td>\n",
       "      <td>84.18</td>\n",
       "    </tr>\n",
       "  </tbody>\n",
       "</table>\n",
       "</div>"
      ],
      "text/plain": [
       "   cust_id  acct_nbr  minimum_balance  per_check_fee account_active  \\\n",
       "0  1362548  13625482             3000           0.00             Y    \n",
       "1  1362487  13624872             3000           0.00             Y    \n",
       "2  1363017  13630172             3000           0.00             Y    \n",
       "3  1362752  13627522              100           0.15             Y    \n",
       "4  1363282  13632822              100           0.15             Y    \n",
       "\n",
       "  acct_start_date acct_end_date  starting_balance  ending_balance  \n",
       "0      11.11.1986           NaN           6004.34          569.65  \n",
       "1       12.1.1995           NaN           2781.07         1401.21  \n",
       "2       19.3.1994           NaN           2694.91          147.15  \n",
       "3        8.1.1994           NaN            487.69            3.76  \n",
       "4        5.3.1988           NaN            133.90           84.18  "
      ]
     },
     "execution_count": 16,
     "metadata": {},
     "output_type": "execute_result"
    }
   ],
   "source": [
    "checking_acct.head()"
   ]
  },
  {
   "cell_type": "code",
   "execution_count": 17,
   "id": "69c7b9ea-d2ac-48b7-8dbf-d5d50f01c5a0",
   "metadata": {},
   "outputs": [
    {
     "data": {
      "text/plain": [
       "cust_id               int64\n",
       "acct_nbr              int64\n",
       "minimum_balance       int64\n",
       "per_check_fee       float64\n",
       "account_active       object\n",
       "acct_start_date      object\n",
       "acct_end_date        object\n",
       "starting_balance    float64\n",
       "ending_balance      float64\n",
       "dtype: object"
      ]
     },
     "execution_count": 17,
     "metadata": {},
     "output_type": "execute_result"
    }
   ],
   "source": [
    "checking_acct.dtypes"
   ]
  },
  {
   "cell_type": "code",
   "execution_count": 18,
   "id": "f2c2cf76-bea0-4b60-bffb-d6f4cf658ce8",
   "metadata": {},
   "outputs": [
    {
     "name": "stdout",
     "output_type": "stream",
     "text": [
      "Query executed successfully\n"
     ]
    }
   ],
   "source": [
    "create_table = \"\"\"\n",
    "CREATE TABLE  IF NOT EXISTS twm_checking_acct(\n",
    "    cust_id               INTEGER,\n",
    "    acct_nbr              BIGINT PRIMARY KEY,\n",
    "    minimum_balance       INTEGER,\n",
    "    per_check_fee         REAL,\n",
    "    account_active        TEXT,\n",
    "    acct_start_date       TEXT,\n",
    "    acct_end_date         TEXT,\n",
    "    starting_balance      REAL,\n",
    "    ending_balance        REAL   \n",
    ");\n",
    "\"\"\"\n",
    "execute_query(connection, create_table)  "
   ]
  },
  {
   "cell_type": "markdown",
   "id": "5463849d-89b8-49af-acb3-e72b81c85560",
   "metadata": {},
   "source": [
    "## Checking Transactions"
   ]
  },
  {
   "cell_type": "code",
   "execution_count": 19,
   "id": "654bdd81-38b8-4633-9009-42a24fad0d9a",
   "metadata": {},
   "outputs": [
    {
     "data": {
      "text/html": [
       "<div>\n",
       "<style scoped>\n",
       "    .dataframe tbody tr th:only-of-type {\n",
       "        vertical-align: middle;\n",
       "    }\n",
       "\n",
       "    .dataframe tbody tr th {\n",
       "        vertical-align: top;\n",
       "    }\n",
       "\n",
       "    .dataframe thead th {\n",
       "        text-align: right;\n",
       "    }\n",
       "</style>\n",
       "<table border=\"1\" class=\"dataframe\">\n",
       "  <thead>\n",
       "    <tr style=\"text-align: right;\">\n",
       "      <th></th>\n",
       "      <th>cust_id</th>\n",
       "      <th>tran_id</th>\n",
       "      <th>tran_amt</th>\n",
       "      <th>principal_amt</th>\n",
       "      <th>interest_amt</th>\n",
       "      <th>new_balance</th>\n",
       "      <th>tran_date</th>\n",
       "      <th>tran_time</th>\n",
       "      <th>channel</th>\n",
       "      <th>tran_code</th>\n",
       "    </tr>\n",
       "  </thead>\n",
       "  <tbody>\n",
       "    <tr>\n",
       "      <th>0</th>\n",
       "      <td>1363481</td>\n",
       "      <td>26</td>\n",
       "      <td>-0.15</td>\n",
       "      <td>-0.15</td>\n",
       "      <td>0.0</td>\n",
       "      <td>58.99</td>\n",
       "      <td>29.1.1995</td>\n",
       "      <td></td>\n",
       "      <td></td>\n",
       "      <td>FK</td>\n",
       "    </tr>\n",
       "    <tr>\n",
       "      <th>1</th>\n",
       "      <td>1362784</td>\n",
       "      <td>90</td>\n",
       "      <td>-200.00</td>\n",
       "      <td>-200.00</td>\n",
       "      <td>0.0</td>\n",
       "      <td>1380.69</td>\n",
       "      <td>2.7.1995</td>\n",
       "      <td>53313</td>\n",
       "      <td>A</td>\n",
       "      <td>WD</td>\n",
       "    </tr>\n",
       "    <tr>\n",
       "      <th>2</th>\n",
       "      <td>1363088</td>\n",
       "      <td>46</td>\n",
       "      <td>0.00</td>\n",
       "      <td>0.00</td>\n",
       "      <td>0.0</td>\n",
       "      <td>128.35</td>\n",
       "      <td>26.3.1995</td>\n",
       "      <td>834</td>\n",
       "      <td>A</td>\n",
       "      <td>IQ</td>\n",
       "    </tr>\n",
       "    <tr>\n",
       "      <th>3</th>\n",
       "      <td>1363306</td>\n",
       "      <td>32</td>\n",
       "      <td>-40.32</td>\n",
       "      <td>-40.32</td>\n",
       "      <td>0.0</td>\n",
       "      <td>433.06</td>\n",
       "      <td>29.1.1995</td>\n",
       "      <td></td>\n",
       "      <td>P</td>\n",
       "      <td>WD</td>\n",
       "    </tr>\n",
       "    <tr>\n",
       "      <th>4</th>\n",
       "      <td>1363251</td>\n",
       "      <td>11</td>\n",
       "      <td>-87.88</td>\n",
       "      <td>-87.88</td>\n",
       "      <td>0.0</td>\n",
       "      <td>1919.55</td>\n",
       "      <td>8.2.1995</td>\n",
       "      <td></td>\n",
       "      <td>P</td>\n",
       "      <td>WD</td>\n",
       "    </tr>\n",
       "  </tbody>\n",
       "</table>\n",
       "</div>"
      ],
      "text/plain": [
       "   cust_id  tran_id  tran_amt  principal_amt  interest_amt  new_balance  \\\n",
       "0  1363481       26     -0.15          -0.15           0.0        58.99   \n",
       "1  1362784       90   -200.00        -200.00           0.0      1380.69   \n",
       "2  1363088       46      0.00           0.00           0.0       128.35   \n",
       "3  1363306       32    -40.32         -40.32           0.0       433.06   \n",
       "4  1363251       11    -87.88         -87.88           0.0      1919.55   \n",
       "\n",
       "   tran_date     tran_time channel tran_code  \n",
       "0  29.1.1995                            FK    \n",
       "1   2.7.1995         53313      A       WD    \n",
       "2  26.3.1995           834      A       IQ    \n",
       "3  29.1.1995                    P       WD    \n",
       "4   8.2.1995                    P       WD    "
      ]
     },
     "execution_count": 19,
     "metadata": {},
     "output_type": "execute_result"
    }
   ],
   "source": [
    "checking_tran.head()"
   ]
  },
  {
   "cell_type": "code",
   "execution_count": 20,
   "id": "66e6d413-4d2e-41e5-a8ba-3f883e6acaa7",
   "metadata": {},
   "outputs": [
    {
     "data": {
      "text/plain": [
       "cust_id            int64\n",
       "tran_id            int64\n",
       "tran_amt         float64\n",
       "principal_amt    float64\n",
       "interest_amt     float64\n",
       "new_balance      float64\n",
       "tran_date         object\n",
       "tran_time         object\n",
       "channel           object\n",
       "tran_code         object\n",
       "dtype: object"
      ]
     },
     "execution_count": 20,
     "metadata": {},
     "output_type": "execute_result"
    }
   ],
   "source": [
    "checking_tran.dtypes"
   ]
  },
  {
   "cell_type": "code",
   "execution_count": 21,
   "id": "08cd09e2-daa9-4897-91ef-df346f33afe5",
   "metadata": {},
   "outputs": [
    {
     "name": "stdout",
     "output_type": "stream",
     "text": [
      "Query executed successfully\n"
     ]
    }
   ],
   "source": [
    "create_table = \"\"\"\n",
    "CREATE TABLE  IF NOT EXISTS twm_checking_tran(\n",
    "    cust_id            INTEGER,\n",
    "    tran_id            INTEGER,\n",
    "    tran_amt           REAL,\n",
    "    principal_amt      REAL,\n",
    "    interest_amt       REAL,\n",
    "    new_balance        REAL,\n",
    "    tran_date          TEXT,\n",
    "    tran_time          TEXT,\n",
    "    channel            TEXT,\n",
    "    tran_code          TEXT,\n",
    "    PRIMARY KEY (cust_id, tran_id)\n",
    ");\n",
    "\"\"\"\n",
    "execute_query(connection, create_table)  "
   ]
  },
  {
   "cell_type": "markdown",
   "id": "c0f4cddf-6e1a-42e7-b173-5d03588eb81a",
   "metadata": {},
   "source": [
    "## Credit Accounts"
   ]
  },
  {
   "cell_type": "code",
   "execution_count": 22,
   "id": "21229ee7-b94f-45ab-b832-cb01183b8212",
   "metadata": {},
   "outputs": [
    {
     "data": {
      "text/html": [
       "<div>\n",
       "<style scoped>\n",
       "    .dataframe tbody tr th:only-of-type {\n",
       "        vertical-align: middle;\n",
       "    }\n",
       "\n",
       "    .dataframe tbody tr th {\n",
       "        vertical-align: top;\n",
       "    }\n",
       "\n",
       "    .dataframe thead th {\n",
       "        text-align: right;\n",
       "    }\n",
       "</style>\n",
       "<table border=\"1\" class=\"dataframe\">\n",
       "  <thead>\n",
       "    <tr style=\"text-align: right;\">\n",
       "      <th></th>\n",
       "      <th>cust_id</th>\n",
       "      <th>acct_nbr</th>\n",
       "      <th>credit_limit</th>\n",
       "      <th>credit_rating</th>\n",
       "      <th>account_active</th>\n",
       "      <th>acct_start_date</th>\n",
       "      <th>acct_end_date</th>\n",
       "      <th>starting_balance</th>\n",
       "      <th>ending_balance</th>\n",
       "    </tr>\n",
       "  </thead>\n",
       "  <tbody>\n",
       "    <tr>\n",
       "      <th>0</th>\n",
       "      <td>1363160</td>\n",
       "      <td>4561143213631600</td>\n",
       "      <td>1000</td>\n",
       "      <td>0</td>\n",
       "      <td>Y</td>\n",
       "      <td>12.10.1988</td>\n",
       "      <td>NaN</td>\n",
       "      <td>657.46</td>\n",
       "      <td>286.69</td>\n",
       "    </tr>\n",
       "    <tr>\n",
       "      <th>1</th>\n",
       "      <td>1362487</td>\n",
       "      <td>4561143213624870</td>\n",
       "      <td>3000</td>\n",
       "      <td>0</td>\n",
       "      <td>Y</td>\n",
       "      <td>8.8.1995</td>\n",
       "      <td>NaN</td>\n",
       "      <td>0.00</td>\n",
       "      <td>1548.23</td>\n",
       "    </tr>\n",
       "    <tr>\n",
       "      <th>2</th>\n",
       "      <td>1362548</td>\n",
       "      <td>4561143213625480</td>\n",
       "      <td>6700</td>\n",
       "      <td>0</td>\n",
       "      <td>Y</td>\n",
       "      <td>11.11.1986</td>\n",
       "      <td>NaN</td>\n",
       "      <td>6965.25</td>\n",
       "      <td>68.68</td>\n",
       "    </tr>\n",
       "    <tr>\n",
       "      <th>3</th>\n",
       "      <td>1362752</td>\n",
       "      <td>4561143213627520</td>\n",
       "      <td>2400</td>\n",
       "      <td>0</td>\n",
       "      <td>N</td>\n",
       "      <td>9.10.1994</td>\n",
       "      <td>2.4.1995</td>\n",
       "      <td>2302.14</td>\n",
       "      <td>0.00</td>\n",
       "    </tr>\n",
       "    <tr>\n",
       "      <th>4</th>\n",
       "      <td>1363017</td>\n",
       "      <td>4561143213630170</td>\n",
       "      <td>1000</td>\n",
       "      <td>0</td>\n",
       "      <td>Y</td>\n",
       "      <td>8.2.1995</td>\n",
       "      <td>NaN</td>\n",
       "      <td>0.00</td>\n",
       "      <td>1000.00</td>\n",
       "    </tr>\n",
       "  </tbody>\n",
       "</table>\n",
       "</div>"
      ],
      "text/plain": [
       "   cust_id          acct_nbr  credit_limit  credit_rating account_active  \\\n",
       "0  1363160  4561143213631600          1000              0             Y    \n",
       "1  1362487  4561143213624870          3000              0             Y    \n",
       "2  1362548  4561143213625480          6700              0             Y    \n",
       "3  1362752  4561143213627520          2400              0             N    \n",
       "4  1363017  4561143213630170          1000              0             Y    \n",
       "\n",
       "  acct_start_date acct_end_date  starting_balance  ending_balance  \n",
       "0      12.10.1988           NaN            657.46          286.69  \n",
       "1        8.8.1995           NaN              0.00         1548.23  \n",
       "2      11.11.1986           NaN           6965.25           68.68  \n",
       "3       9.10.1994      2.4.1995           2302.14            0.00  \n",
       "4        8.2.1995           NaN              0.00         1000.00  "
      ]
     },
     "execution_count": 22,
     "metadata": {},
     "output_type": "execute_result"
    }
   ],
   "source": [
    "credit_acct.head()"
   ]
  },
  {
   "cell_type": "code",
   "execution_count": 23,
   "id": "d2f7ebe9-5957-4062-876c-a489ab36650a",
   "metadata": {},
   "outputs": [
    {
     "data": {
      "text/plain": [
       "cust_id               int64\n",
       "acct_nbr              int64\n",
       "credit_limit          int64\n",
       "credit_rating         int64\n",
       "account_active       object\n",
       "acct_start_date      object\n",
       "acct_end_date        object\n",
       "starting_balance    float64\n",
       "ending_balance      float64\n",
       "dtype: object"
      ]
     },
     "execution_count": 23,
     "metadata": {},
     "output_type": "execute_result"
    }
   ],
   "source": [
    "credit_acct.dtypes"
   ]
  },
  {
   "cell_type": "code",
   "execution_count": 24,
   "id": "0ca22e3c-9d1e-4e17-8367-a5f9fc573a32",
   "metadata": {},
   "outputs": [
    {
     "name": "stdout",
     "output_type": "stream",
     "text": [
      "Query executed successfully\n"
     ]
    }
   ],
   "source": [
    "create_table = \"\"\"\n",
    "CREATE TABLE  IF NOT EXISTS twm_credit_acct(\n",
    "    cust_id               INTEGER,\n",
    "    acct_nbr              BIGINT PRIMARY KEY,\n",
    "    credit_limit          INTEGER,\n",
    "    credit_rating         INTEGER,\n",
    "    account_active        TEXT,\n",
    "    acct_start_date       TEXT,\n",
    "    acct_end_date         TEXT,\n",
    "    starting_balance      REAL,\n",
    "    ending_balance        REAL\n",
    ");\n",
    "\"\"\"\n",
    "execute_query(connection, create_table)  "
   ]
  },
  {
   "cell_type": "markdown",
   "id": "dd73e172-5b7e-4ef7-9d60-e5682e0dcc58",
   "metadata": {},
   "source": [
    "## Credit Transactions"
   ]
  },
  {
   "cell_type": "code",
   "execution_count": 25,
   "id": "7970fe16-0def-481d-84e7-1c1e267c19df",
   "metadata": {},
   "outputs": [
    {
     "data": {
      "text/html": [
       "<div>\n",
       "<style scoped>\n",
       "    .dataframe tbody tr th:only-of-type {\n",
       "        vertical-align: middle;\n",
       "    }\n",
       "\n",
       "    .dataframe tbody tr th {\n",
       "        vertical-align: top;\n",
       "    }\n",
       "\n",
       "    .dataframe thead th {\n",
       "        text-align: right;\n",
       "    }\n",
       "</style>\n",
       "<table border=\"1\" class=\"dataframe\">\n",
       "  <thead>\n",
       "    <tr style=\"text-align: right;\">\n",
       "      <th></th>\n",
       "      <th>cust_id</th>\n",
       "      <th>tran_id</th>\n",
       "      <th>tran_amt</th>\n",
       "      <th>principal_amt</th>\n",
       "      <th>interest_amt</th>\n",
       "      <th>new_balance</th>\n",
       "      <th>tran_date</th>\n",
       "      <th>tran_time</th>\n",
       "      <th>channel</th>\n",
       "      <th>tran_code</th>\n",
       "    </tr>\n",
       "  </thead>\n",
       "  <tbody>\n",
       "    <tr>\n",
       "      <th>0</th>\n",
       "      <td>1363088</td>\n",
       "      <td>46</td>\n",
       "      <td>-121.49</td>\n",
       "      <td>-121.49</td>\n",
       "      <td>0.0</td>\n",
       "      <td>-141.00</td>\n",
       "      <td>20.10.1995</td>\n",
       "      <td>101144</td>\n",
       "      <td>E</td>\n",
       "      <td>CG</td>\n",
       "    </tr>\n",
       "    <tr>\n",
       "      <th>1</th>\n",
       "      <td>1363306</td>\n",
       "      <td>32</td>\n",
       "      <td>-220.64</td>\n",
       "      <td>-220.64</td>\n",
       "      <td>0.0</td>\n",
       "      <td>-520.13</td>\n",
       "      <td>13.10.1995</td>\n",
       "      <td>83115</td>\n",
       "      <td>E</td>\n",
       "      <td>CG</td>\n",
       "    </tr>\n",
       "    <tr>\n",
       "      <th>2</th>\n",
       "      <td>1362959</td>\n",
       "      <td>10</td>\n",
       "      <td>0.00</td>\n",
       "      <td>0.00</td>\n",
       "      <td>0.0</td>\n",
       "      <td>-3900.00</td>\n",
       "      <td>26.2.1995</td>\n",
       "      <td>84129</td>\n",
       "      <td>K</td>\n",
       "      <td>IQ</td>\n",
       "    </tr>\n",
       "    <tr>\n",
       "      <th>3</th>\n",
       "      <td>1363429</td>\n",
       "      <td>13</td>\n",
       "      <td>-195.27</td>\n",
       "      <td>-195.27</td>\n",
       "      <td>0.0</td>\n",
       "      <td>-1739.74</td>\n",
       "      <td>3.1.1995</td>\n",
       "      <td>191815</td>\n",
       "      <td>E</td>\n",
       "      <td>CG</td>\n",
       "    </tr>\n",
       "    <tr>\n",
       "      <th>4</th>\n",
       "      <td>1363393</td>\n",
       "      <td>14</td>\n",
       "      <td>-37.32</td>\n",
       "      <td>-37.32</td>\n",
       "      <td>0.0</td>\n",
       "      <td>-198.98</td>\n",
       "      <td>4.7.1995</td>\n",
       "      <td>100811</td>\n",
       "      <td>E</td>\n",
       "      <td>CG</td>\n",
       "    </tr>\n",
       "  </tbody>\n",
       "</table>\n",
       "</div>"
      ],
      "text/plain": [
       "   cust_id  tran_id  tran_amt  principal_amt  interest_amt  new_balance  \\\n",
       "0  1363088       46   -121.49        -121.49           0.0      -141.00   \n",
       "1  1363306       32   -220.64        -220.64           0.0      -520.13   \n",
       "2  1362959       10      0.00           0.00           0.0     -3900.00   \n",
       "3  1363429       13   -195.27        -195.27           0.0     -1739.74   \n",
       "4  1363393       14    -37.32         -37.32           0.0      -198.98   \n",
       "\n",
       "    tran_date tran_time channel tran_code  \n",
       "0  20.10.1995    101144      E       CG    \n",
       "1  13.10.1995     83115      E       CG    \n",
       "2   26.2.1995     84129      K       IQ    \n",
       "3    3.1.1995    191815      E       CG    \n",
       "4    4.7.1995    100811      E       CG    "
      ]
     },
     "execution_count": 25,
     "metadata": {},
     "output_type": "execute_result"
    }
   ],
   "source": [
    "credit_tran.head()"
   ]
  },
  {
   "cell_type": "code",
   "execution_count": 26,
   "id": "2d54ad65-c8e7-431a-9f02-9781d727bdf2",
   "metadata": {},
   "outputs": [
    {
     "data": {
      "text/plain": [
       "cust_id            int64\n",
       "tran_id            int64\n",
       "tran_amt         float64\n",
       "principal_amt    float64\n",
       "interest_amt     float64\n",
       "new_balance      float64\n",
       "tran_date         object\n",
       "tran_time         object\n",
       "channel           object\n",
       "tran_code         object\n",
       "dtype: object"
      ]
     },
     "execution_count": 26,
     "metadata": {},
     "output_type": "execute_result"
    }
   ],
   "source": [
    "credit_tran.dtypes"
   ]
  },
  {
   "cell_type": "code",
   "execution_count": 27,
   "id": "45f618c5-f8ed-415b-aa0d-9183b0f84506",
   "metadata": {},
   "outputs": [
    {
     "name": "stdout",
     "output_type": "stream",
     "text": [
      "Query executed successfully\n"
     ]
    }
   ],
   "source": [
    "create_table = \"\"\"\n",
    "CREATE TABLE  IF NOT EXISTS twm_credit_tran(\n",
    "    cust_id            INTEGER,\n",
    "    tran_id            INTEGER,\n",
    "    tran_amt           REAL,\n",
    "    principal_amt      REAL,\n",
    "    interest_amt       REAL,\n",
    "    new_balance        REAL,\n",
    "    tran_date          TEXT,\n",
    "    tran_time          TEXT,\n",
    "    channel            TEXT,\n",
    "    tran_code          TEXT,\n",
    "    PRIMARY KEY (cust_id, tran_id)\n",
    ");\n",
    "\"\"\"\n",
    "execute_query(connection, create_table)  "
   ]
  },
  {
   "cell_type": "markdown",
   "id": "596ba55b-b55d-4ffc-98ab-fa7ff22b2fd3",
   "metadata": {},
   "source": [
    "## Savings Accounts"
   ]
  },
  {
   "cell_type": "code",
   "execution_count": 28,
   "id": "245af5bd-6d96-4bbc-979c-a623fdd83120",
   "metadata": {},
   "outputs": [
    {
     "data": {
      "text/html": [
       "<div>\n",
       "<style scoped>\n",
       "    .dataframe tbody tr th:only-of-type {\n",
       "        vertical-align: middle;\n",
       "    }\n",
       "\n",
       "    .dataframe tbody tr th {\n",
       "        vertical-align: top;\n",
       "    }\n",
       "\n",
       "    .dataframe thead th {\n",
       "        text-align: right;\n",
       "    }\n",
       "</style>\n",
       "<table border=\"1\" class=\"dataframe\">\n",
       "  <thead>\n",
       "    <tr style=\"text-align: right;\">\n",
       "      <th></th>\n",
       "      <th>cust_id</th>\n",
       "      <th>acct_nbr</th>\n",
       "      <th>minimum_balance</th>\n",
       "      <th>acct_type</th>\n",
       "      <th>account_active</th>\n",
       "      <th>acct_start_date</th>\n",
       "      <th>acct_end_date</th>\n",
       "      <th>starting_balance</th>\n",
       "      <th>ending_balance</th>\n",
       "    </tr>\n",
       "  </thead>\n",
       "  <tbody>\n",
       "    <tr>\n",
       "      <th>0</th>\n",
       "      <td>1363160</td>\n",
       "      <td>13631603</td>\n",
       "      <td>100</td>\n",
       "      <td>BS</td>\n",
       "      <td>Y</td>\n",
       "      <td>9.5.1988</td>\n",
       "      <td>NaN</td>\n",
       "      <td>113.04</td>\n",
       "      <td>122.54</td>\n",
       "    </tr>\n",
       "    <tr>\n",
       "      <th>1</th>\n",
       "      <td>1362487</td>\n",
       "      <td>13624873</td>\n",
       "      <td>500</td>\n",
       "      <td>MM</td>\n",
       "      <td>N</td>\n",
       "      <td>27.6.1994</td>\n",
       "      <td>25.8.1995</td>\n",
       "      <td>651.73</td>\n",
       "      <td>12.89</td>\n",
       "    </tr>\n",
       "    <tr>\n",
       "      <th>2</th>\n",
       "      <td>1362548</td>\n",
       "      <td>13625483</td>\n",
       "      <td>100</td>\n",
       "      <td>BS</td>\n",
       "      <td>Y</td>\n",
       "      <td>11.11.1986</td>\n",
       "      <td>NaN</td>\n",
       "      <td>250.24</td>\n",
       "      <td>254.02</td>\n",
       "    </tr>\n",
       "    <tr>\n",
       "      <th>3</th>\n",
       "      <td>1362752</td>\n",
       "      <td>13627523</td>\n",
       "      <td>100</td>\n",
       "      <td>BS</td>\n",
       "      <td>Y</td>\n",
       "      <td>20.2.1995</td>\n",
       "      <td>NaN</td>\n",
       "      <td>600.26</td>\n",
       "      <td>609.33</td>\n",
       "    </tr>\n",
       "    <tr>\n",
       "      <th>4</th>\n",
       "      <td>1363017</td>\n",
       "      <td>13630173</td>\n",
       "      <td>100</td>\n",
       "      <td>BS</td>\n",
       "      <td>N</td>\n",
       "      <td>27.4.1994</td>\n",
       "      <td>31.10.1995</td>\n",
       "      <td>2011.02</td>\n",
       "      <td>2901.35</td>\n",
       "    </tr>\n",
       "  </tbody>\n",
       "</table>\n",
       "</div>"
      ],
      "text/plain": [
       "   cust_id  acct_nbr  minimum_balance acct_type account_active  \\\n",
       "0  1363160  13631603              100      BS               Y    \n",
       "1  1362487  13624873              500      MM               N    \n",
       "2  1362548  13625483              100      BS               Y    \n",
       "3  1362752  13627523              100      BS               Y    \n",
       "4  1363017  13630173              100      BS               N    \n",
       "\n",
       "  acct_start_date acct_end_date  starting_balance  ending_balance  \n",
       "0        9.5.1988           NaN            113.04          122.54  \n",
       "1       27.6.1994     25.8.1995            651.73           12.89  \n",
       "2      11.11.1986           NaN            250.24          254.02  \n",
       "3       20.2.1995           NaN            600.26          609.33  \n",
       "4       27.4.1994    31.10.1995           2011.02         2901.35  "
      ]
     },
     "execution_count": 28,
     "metadata": {},
     "output_type": "execute_result"
    }
   ],
   "source": [
    "savings_acct.head()"
   ]
  },
  {
   "cell_type": "code",
   "execution_count": 29,
   "id": "d42d7001-c373-4a38-a03b-153d687f9a34",
   "metadata": {},
   "outputs": [
    {
     "data": {
      "text/plain": [
       "cust_id               int64\n",
       "acct_nbr              int64\n",
       "minimum_balance       int64\n",
       "acct_type            object\n",
       "account_active       object\n",
       "acct_start_date      object\n",
       "acct_end_date        object\n",
       "starting_balance    float64\n",
       "ending_balance      float64\n",
       "dtype: object"
      ]
     },
     "execution_count": 29,
     "metadata": {},
     "output_type": "execute_result"
    }
   ],
   "source": [
    "savings_acct.dtypes"
   ]
  },
  {
   "cell_type": "code",
   "execution_count": 30,
   "id": "1f53c3d8-f9eb-480a-b41a-b779f386ba84",
   "metadata": {},
   "outputs": [
    {
     "name": "stdout",
     "output_type": "stream",
     "text": [
      "Query executed successfully\n"
     ]
    }
   ],
   "source": [
    "create_table = \"\"\"\n",
    "CREATE TABLE  IF NOT EXISTS twm_savings_acct(\n",
    "    cust_id               INTEGER,\n",
    "    acct_nbr              BIGINT PRIMARY KEY,\n",
    "    minimum_balance       INTEGER,\n",
    "    acct_type             TEXT,\n",
    "    account_active        TEXT,\n",
    "    acct_start_date       TEXT,\n",
    "    acct_end_date         TEXT,\n",
    "    starting_balance      REAL,\n",
    "    ending_balance        REAL\n",
    ");\n",
    "\"\"\"\n",
    "execute_query(connection, create_table)  "
   ]
  },
  {
   "cell_type": "markdown",
   "id": "952c8d6f-d09b-45c7-9a83-566994989f18",
   "metadata": {},
   "source": [
    "## Savings Transactions"
   ]
  },
  {
   "cell_type": "code",
   "execution_count": 31,
   "id": "b3739033-a82b-4585-bed5-c708a6bba859",
   "metadata": {},
   "outputs": [
    {
     "data": {
      "text/html": [
       "<div>\n",
       "<style scoped>\n",
       "    .dataframe tbody tr th:only-of-type {\n",
       "        vertical-align: middle;\n",
       "    }\n",
       "\n",
       "    .dataframe tbody tr th {\n",
       "        vertical-align: top;\n",
       "    }\n",
       "\n",
       "    .dataframe thead th {\n",
       "        text-align: right;\n",
       "    }\n",
       "</style>\n",
       "<table border=\"1\" class=\"dataframe\">\n",
       "  <thead>\n",
       "    <tr style=\"text-align: right;\">\n",
       "      <th></th>\n",
       "      <th>cust_id</th>\n",
       "      <th>tran_id</th>\n",
       "      <th>tran_amt</th>\n",
       "      <th>principal_amt</th>\n",
       "      <th>interest_amt</th>\n",
       "      <th>new_balance</th>\n",
       "      <th>tran_date</th>\n",
       "      <th>tran_time</th>\n",
       "      <th>channel</th>\n",
       "      <th>tran_code</th>\n",
       "    </tr>\n",
       "  </thead>\n",
       "  <tbody>\n",
       "    <tr>\n",
       "      <th>0</th>\n",
       "      <td>1363481</td>\n",
       "      <td>26</td>\n",
       "      <td>136.03</td>\n",
       "      <td>136.03</td>\n",
       "      <td>0.00</td>\n",
       "      <td>1521.57</td>\n",
       "      <td>26.10.1995</td>\n",
       "      <td>84111</td>\n",
       "      <td>A</td>\n",
       "      <td>DP</td>\n",
       "    </tr>\n",
       "    <tr>\n",
       "      <th>1</th>\n",
       "      <td>1362746</td>\n",
       "      <td>1</td>\n",
       "      <td>2.83</td>\n",
       "      <td>0.00</td>\n",
       "      <td>2.83</td>\n",
       "      <td>2265.90</td>\n",
       "      <td>31.1.1995</td>\n",
       "      <td>235959</td>\n",
       "      <td></td>\n",
       "      <td>IN</td>\n",
       "    </tr>\n",
       "    <tr>\n",
       "      <th>2</th>\n",
       "      <td>1363251</td>\n",
       "      <td>11</td>\n",
       "      <td>13.56</td>\n",
       "      <td>0.00</td>\n",
       "      <td>13.56</td>\n",
       "      <td>5438.90</td>\n",
       "      <td>30.4.1995</td>\n",
       "      <td>235959</td>\n",
       "      <td></td>\n",
       "      <td>IN</td>\n",
       "    </tr>\n",
       "    <tr>\n",
       "      <th>3</th>\n",
       "      <td>1362542</td>\n",
       "      <td>4</td>\n",
       "      <td>0.76</td>\n",
       "      <td>0.00</td>\n",
       "      <td>0.76</td>\n",
       "      <td>610.92</td>\n",
       "      <td>30.4.1995</td>\n",
       "      <td>235959</td>\n",
       "      <td></td>\n",
       "      <td>IN</td>\n",
       "    </tr>\n",
       "    <tr>\n",
       "      <th>4</th>\n",
       "      <td>1363387</td>\n",
       "      <td>11</td>\n",
       "      <td>148.69</td>\n",
       "      <td>148.69</td>\n",
       "      <td>0.00</td>\n",
       "      <td>470.05</td>\n",
       "      <td>21.5.1995</td>\n",
       "      <td>144736</td>\n",
       "      <td>E</td>\n",
       "      <td>DP</td>\n",
       "    </tr>\n",
       "  </tbody>\n",
       "</table>\n",
       "</div>"
      ],
      "text/plain": [
       "   cust_id  tran_id  tran_amt  principal_amt  interest_amt  new_balance  \\\n",
       "0  1363481       26    136.03         136.03          0.00      1521.57   \n",
       "1  1362746        1      2.83           0.00          2.83      2265.90   \n",
       "2  1363251       11     13.56           0.00         13.56      5438.90   \n",
       "3  1362542        4      0.76           0.00          0.76       610.92   \n",
       "4  1363387       11    148.69         148.69          0.00       470.05   \n",
       "\n",
       "    tran_date tran_time channel tran_code  \n",
       "0  26.10.1995     84111      A       DP    \n",
       "1   31.1.1995    235959              IN    \n",
       "2   30.4.1995    235959              IN    \n",
       "3   30.4.1995    235959              IN    \n",
       "4   21.5.1995    144736      E       DP    "
      ]
     },
     "execution_count": 31,
     "metadata": {},
     "output_type": "execute_result"
    }
   ],
   "source": [
    "savings_tran.head()"
   ]
  },
  {
   "cell_type": "code",
   "execution_count": 32,
   "id": "68a3dd9b-bdc5-4369-987f-f13743a0ac12",
   "metadata": {},
   "outputs": [
    {
     "data": {
      "text/plain": [
       "cust_id            int64\n",
       "tran_id            int64\n",
       "tran_amt         float64\n",
       "principal_amt    float64\n",
       "interest_amt     float64\n",
       "new_balance      float64\n",
       "tran_date         object\n",
       "tran_time         object\n",
       "channel           object\n",
       "tran_code         object\n",
       "dtype: object"
      ]
     },
     "execution_count": 32,
     "metadata": {},
     "output_type": "execute_result"
    }
   ],
   "source": [
    "savings_tran.dtypes"
   ]
  },
  {
   "cell_type": "code",
   "execution_count": 33,
   "id": "ec81c684-8c59-4a0b-a027-bd066cff48e1",
   "metadata": {},
   "outputs": [
    {
     "name": "stdout",
     "output_type": "stream",
     "text": [
      "Query executed successfully\n"
     ]
    }
   ],
   "source": [
    "create_table = \"\"\"\n",
    "CREATE TABLE IF NOT EXISTS twm_savings_tran(\n",
    "    cust_id            INTEGER,\n",
    "    tran_id            INTEGER,\n",
    "    tran_amt           REAL,\n",
    "    principal_amt      REAL,\n",
    "    interest_amt       REAL,\n",
    "    new_balance        REAL,\n",
    "    tran_date          TEXT,\n",
    "    tran_time          TEXT,\n",
    "    channel            TEXT,\n",
    "    tran_code          TEXT,\n",
    "    PRIMARY KEY (cust_id, tran_id)\n",
    ");\n",
    "\"\"\"\n",
    "execute_query(connection, create_table)  "
   ]
  },
  {
   "cell_type": "markdown",
   "id": "4cf5bdaf-4ddc-443f-ab68-23f14fcdba0b",
   "metadata": {},
   "source": [
    "## Loading Data from .csv files"
   ]
  },
  {
   "cell_type": "code",
   "execution_count": 34,
   "id": "d2f53efd-94ff-4d68-a27c-5f8f16197d40",
   "metadata": {},
   "outputs": [],
   "source": [
    "#from sqlalchemy import create_engine\n",
    "#engine = create_engine('sqlite://', echo=False)"
   ]
  },
  {
   "cell_type": "code",
   "execution_count": 35,
   "id": "7df25971-1200-4c38-93ec-7ad70af41113",
   "metadata": {},
   "outputs": [],
   "source": [
    "accounts.to_sql('twm_accounts', con=connection, if_exists='append', index=False)\n",
    "customer.to_sql('twm_customer', con=connection, if_exists='append', index=False)\n",
    "transactions.to_sql('twm_transactions', con=connection, if_exists='append', index=False)\n",
    "checking_acct.to_sql('twm_checking_acct', con=connection, if_exists='append', index=False)\n",
    "checking_tran.to_sql('twm_checking_tran', con=connection, if_exists='append', index=False)\n",
    "credit_acct.to_sql('twm_credit_acct', con=connection, if_exists='append', index=False)\n",
    "credit_tran.to_sql('twm_credit_tran', con=connection, if_exists='append', index=False)\n",
    "savings_acct.to_sql('twm_savings_acct', con=connection, if_exists='append', index=False)\n",
    "savings_tran.to_sql('twm_savings_tran', con=connection, if_exists='append', index=False)\n"
   ]
  },
  {
   "cell_type": "code",
   "execution_count": 36,
   "id": "2691fcc5-4193-45d8-a1ed-a32be4c58098",
   "metadata": {},
   "outputs": [],
   "source": [
    "#accounts.to_sql('twm_accounts', con = engine)"
   ]
  },
  {
   "cell_type": "markdown",
   "id": "90a02932-5fe2-4e69-ac3b-ad238de3c784",
   "metadata": {},
   "source": [
    "## Read from Table"
   ]
  },
  {
   "cell_type": "code",
   "execution_count": 37,
   "id": "c0cdbe2e-ab37-4fcc-a673-79d40531c640",
   "metadata": {},
   "outputs": [],
   "source": [
    "def execute_read_query(connection, query):\n",
    "    cursor = connection.cursor()\n",
    "    result = None\n",
    "    try:\n",
    "        cursor.execute(query)\n",
    "        result = cursor.fetchall()\n",
    "        return result\n",
    "    except Error as e:\n",
    "        print(f\"The error '{e}' occurred\")"
   ]
  },
  {
   "cell_type": "code",
   "execution_count": 38,
   "id": "998ab23c-6dcf-4312-841e-73bd5d08e940",
   "metadata": {},
   "outputs": [],
   "source": [
    "#select_twm_accounts = \"SELECT * from twm_accounts\"\n",
    "#users = execute_read_query(connection, select_twm_accounts)\n"
   ]
  },
  {
   "cell_type": "code",
   "execution_count": 39,
   "id": "3c8dcd2c-8676-4428-bd6a-b692f82c4655",
   "metadata": {},
   "outputs": [
    {
     "data": {
      "text/html": [
       "<div>\n",
       "<style scoped>\n",
       "    .dataframe tbody tr th:only-of-type {\n",
       "        vertical-align: middle;\n",
       "    }\n",
       "\n",
       "    .dataframe tbody tr th {\n",
       "        vertical-align: top;\n",
       "    }\n",
       "\n",
       "    .dataframe thead th {\n",
       "        text-align: right;\n",
       "    }\n",
       "</style>\n",
       "<table border=\"1\" class=\"dataframe\">\n",
       "  <thead>\n",
       "    <tr style=\"text-align: right;\">\n",
       "      <th></th>\n",
       "      <th>cust_id</th>\n",
       "      <th>acct_nbr</th>\n",
       "      <th>acct_type</th>\n",
       "      <th>account_active</th>\n",
       "      <th>acct_start_date</th>\n",
       "      <th>acct_end_date</th>\n",
       "      <th>starting_balance</th>\n",
       "      <th>ending_balance</th>\n",
       "    </tr>\n",
       "  </thead>\n",
       "  <tbody>\n",
       "    <tr>\n",
       "      <th>0</th>\n",
       "      <td>1362806</td>\n",
       "      <td>13628063</td>\n",
       "      <td>SV</td>\n",
       "      <td>Y</td>\n",
       "      <td>10.12.1995</td>\n",
       "      <td>None</td>\n",
       "      <td>1430.22</td>\n",
       "      <td>284.58</td>\n",
       "    </tr>\n",
       "    <tr>\n",
       "      <th>1</th>\n",
       "      <td>1362709</td>\n",
       "      <td>4561143213627090</td>\n",
       "      <td>CC</td>\n",
       "      <td>Y</td>\n",
       "      <td>15.3.1993</td>\n",
       "      <td>None</td>\n",
       "      <td>266.34</td>\n",
       "      <td>496.15</td>\n",
       "    </tr>\n",
       "    <tr>\n",
       "      <th>2</th>\n",
       "      <td>1362836</td>\n",
       "      <td>4561143213628360</td>\n",
       "      <td>CC</td>\n",
       "      <td>Y</td>\n",
       "      <td>18.3.1992</td>\n",
       "      <td>None</td>\n",
       "      <td>55.90</td>\n",
       "      <td>1000.00</td>\n",
       "    </tr>\n",
       "    <tr>\n",
       "      <th>3</th>\n",
       "      <td>1363311</td>\n",
       "      <td>13633112</td>\n",
       "      <td>CK</td>\n",
       "      <td>Y</td>\n",
       "      <td>6.7.1995</td>\n",
       "      <td>None</td>\n",
       "      <td>11017.13</td>\n",
       "      <td>968.46</td>\n",
       "    </tr>\n",
       "    <tr>\n",
       "      <th>4</th>\n",
       "      <td>1363361</td>\n",
       "      <td>4561143213633610</td>\n",
       "      <td>CC</td>\n",
       "      <td>Y</td>\n",
       "      <td>17.6.1994</td>\n",
       "      <td>None</td>\n",
       "      <td>849.37</td>\n",
       "      <td>462.28</td>\n",
       "    </tr>\n",
       "    <tr>\n",
       "      <th>...</th>\n",
       "      <td>...</td>\n",
       "      <td>...</td>\n",
       "      <td>...</td>\n",
       "      <td>...</td>\n",
       "      <td>...</td>\n",
       "      <td>...</td>\n",
       "      <td>...</td>\n",
       "      <td>...</td>\n",
       "    </tr>\n",
       "    <tr>\n",
       "      <th>1404</th>\n",
       "      <td>1362556</td>\n",
       "      <td>4561143213625560</td>\n",
       "      <td>CC</td>\n",
       "      <td>N</td>\n",
       "      <td>20.1.1992</td>\n",
       "      <td>19.8.1995</td>\n",
       "      <td>1433.94</td>\n",
       "      <td>20.00</td>\n",
       "    </tr>\n",
       "    <tr>\n",
       "      <th>1405</th>\n",
       "      <td>1362624</td>\n",
       "      <td>4561143213626240</td>\n",
       "      <td>CC</td>\n",
       "      <td>Y</td>\n",
       "      <td>29.11.1990</td>\n",
       "      <td>None</td>\n",
       "      <td>632.75</td>\n",
       "      <td>1400.00</td>\n",
       "    </tr>\n",
       "    <tr>\n",
       "      <th>1406</th>\n",
       "      <td>1362875</td>\n",
       "      <td>4561143213628750</td>\n",
       "      <td>CC</td>\n",
       "      <td>Y</td>\n",
       "      <td>24.2.1989</td>\n",
       "      <td>None</td>\n",
       "      <td>2810.91</td>\n",
       "      <td>3000.00</td>\n",
       "    </tr>\n",
       "    <tr>\n",
       "      <th>1407</th>\n",
       "      <td>1362654</td>\n",
       "      <td>13626543</td>\n",
       "      <td>SV</td>\n",
       "      <td>Y</td>\n",
       "      <td>17.10.1992</td>\n",
       "      <td>None</td>\n",
       "      <td>784.53</td>\n",
       "      <td>622.46</td>\n",
       "    </tr>\n",
       "    <tr>\n",
       "      <th>1408</th>\n",
       "      <td>1362703</td>\n",
       "      <td>13627032</td>\n",
       "      <td>CK</td>\n",
       "      <td>Y</td>\n",
       "      <td>18.9.1994</td>\n",
       "      <td>None</td>\n",
       "      <td>3649.18</td>\n",
       "      <td>107.33</td>\n",
       "    </tr>\n",
       "  </tbody>\n",
       "</table>\n",
       "<p>1409 rows × 8 columns</p>\n",
       "</div>"
      ],
      "text/plain": [
       "      cust_id          acct_nbr acct_type account_active acct_start_date  \\\n",
       "0     1362806          13628063      SV               Y       10.12.1995   \n",
       "1     1362709  4561143213627090      CC               Y        15.3.1993   \n",
       "2     1362836  4561143213628360      CC               Y        18.3.1992   \n",
       "3     1363311          13633112      CK               Y         6.7.1995   \n",
       "4     1363361  4561143213633610      CC               Y        17.6.1994   \n",
       "...       ...               ...       ...            ...             ...   \n",
       "1404  1362556  4561143213625560      CC               N        20.1.1992   \n",
       "1405  1362624  4561143213626240      CC               Y       29.11.1990   \n",
       "1406  1362875  4561143213628750      CC               Y        24.2.1989   \n",
       "1407  1362654          13626543      SV               Y       17.10.1992   \n",
       "1408  1362703          13627032      CK               Y        18.9.1994   \n",
       "\n",
       "     acct_end_date  starting_balance  ending_balance  \n",
       "0             None           1430.22          284.58  \n",
       "1             None            266.34          496.15  \n",
       "2             None             55.90         1000.00  \n",
       "3             None          11017.13          968.46  \n",
       "4             None            849.37          462.28  \n",
       "...            ...               ...             ...  \n",
       "1404     19.8.1995           1433.94           20.00  \n",
       "1405          None            632.75         1400.00  \n",
       "1406          None           2810.91         3000.00  \n",
       "1407          None            784.53          622.46  \n",
       "1408          None           3649.18          107.33  \n",
       "\n",
       "[1409 rows x 8 columns]"
      ]
     },
     "execution_count": 39,
     "metadata": {},
     "output_type": "execute_result"
    }
   ],
   "source": [
    "pd.read_sql('SELECT * FROM twm_accounts', con = connection)"
   ]
  },
  {
   "cell_type": "code",
   "execution_count": null,
   "id": "713f2bec-475d-4560-9dd2-06860387dc80",
   "metadata": {},
   "outputs": [],
   "source": []
  }
 ],
 "metadata": {
  "kernelspec": {
   "display_name": "Python3",
   "language": "python",
   "name": "python3"
  },
  "language_info": {
   "codemirror_mode": {
    "name": "ipython",
    "version": 3
   },
   "file_extension": ".py",
   "mimetype": "text/x-python",
   "name": "python",
   "nbconvert_exporter": "python",
   "pygments_lexer": "ipython3",
   "version": "3.8.8"
  }
 },
 "nbformat": 4,
 "nbformat_minor": 5
}
