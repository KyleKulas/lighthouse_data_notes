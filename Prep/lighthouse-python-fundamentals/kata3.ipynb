{
 "cells": [
  {
   "cell_type": "markdown",
   "id": "c8b84410-9b58-43fd-8bd0-b3a0ddcc89ba",
   "metadata": {},
   "source": [
    "Create a function named numberOfVowels that will receive a string and return the number of vowels in that string."
   ]
  },
  {
   "cell_type": "code",
   "execution_count": 3,
   "id": "322043a7-4300-4205-be80-f1671ea30b89",
   "metadata": {},
   "outputs": [
    {
     "name": "stdout",
     "output_type": "stream",
     "text": [
      "3\n",
      "5\n",
      "5\n"
     ]
    }
   ],
   "source": [
    "def numberOfVowels(text):\n",
    "    \"\"\"Returns the total number of vowels in a string\"\"\"\n",
    "    vowels = ['a', 'e', 'i', 'o', 'u']\n",
    "    vowel_sum = 0\n",
    "    for character in text:\n",
    "        if character in vowels:\n",
    "            vowel_sum += 1\n",
    "    return vowel_sum\n",
    "\n",
    "print(numberOfVowels('orange'))\n",
    "print(numberOfVowels('lighthouse labs'))\n",
    "print(numberOfVowels('aeiou'))"
   ]
  },
  {
   "cell_type": "code",
   "execution_count": null,
   "id": "b778e0c5-55ea-43ea-859a-654d828f04a3",
   "metadata": {},
   "outputs": [],
   "source": []
  }
 ],
 "metadata": {
  "kernelspec": {
   "display_name": "Python 3",
   "language": "python",
   "name": "python3"
  },
  "language_info": {
   "codemirror_mode": {
    "name": "ipython",
    "version": 3
   },
   "file_extension": ".py",
   "mimetype": "text/x-python",
   "name": "python",
   "nbconvert_exporter": "python",
   "pygments_lexer": "ipython3",
   "version": "3.8.8"
  }
 },
 "nbformat": 4,
 "nbformat_minor": 5
}
