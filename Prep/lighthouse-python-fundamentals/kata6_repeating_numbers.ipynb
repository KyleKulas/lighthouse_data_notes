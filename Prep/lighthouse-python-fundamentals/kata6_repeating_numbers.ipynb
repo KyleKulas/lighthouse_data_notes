{
 "cells": [
  {
   "cell_type": "markdown",
   "id": "ed7269fa-5d42-4bb7-b946-0ccb8797af58",
   "metadata": {},
   "source": [
    "The input data for this exercise will be a nested list (a list of lists), where each sub-list will have two numeric values. For example:\n",
    "\n",
    "[[1, 2], [2, 3]]  \n",
    "The first will be the value to repeat, the second will be the amount of times to repeat that value.\n",
    "\n",
    "Create a function named repeatNumbers that will return a string with each of the given values repeated the appropriate number of times. If there are multiple sets of values each set should be separated by a comma. If there is only one set of values then you should omit the comma.\n",
    "\n"
   ]
  },
  {
   "cell_type": "code",
   "execution_count": 5,
   "id": "1c11546a-f043-4d1b-bf08-02c832a7a87f",
   "metadata": {},
   "outputs": [
    {
     "name": "stdout",
     "output_type": "stream",
     "text": [
      "1111111111\n",
      "11, 222\n",
      "10101010, 343434343434, 9292\n"
     ]
    }
   ],
   "source": [
    "def repeatNumbers(data):\n",
    "    string = ''\n",
    "    for input_pair in data:\n",
    "        string += ', ' + str(input_pair[0]) * input_pair[1]\n",
    "    return string[2:] #Removes leading comma\n",
    "\n",
    "\n",
    "print(repeatNumbers([[1,10]]))\n",
    "print(repeatNumbers([[1,2],[2,3]]))\n",
    "print(repeatNumbers([[10,4],[34,6],[92,2]]))"
   ]
  },
  {
   "cell_type": "code",
   "execution_count": null,
   "id": "05c7daf5-728f-46a4-9b8e-33cc82d9b7d0",
   "metadata": {},
   "outputs": [],
   "source": []
  }
 ],
 "metadata": {
  "kernelspec": {
   "display_name": "Python 3",
   "language": "python",
   "name": "python3"
  },
  "language_info": {
   "codemirror_mode": {
    "name": "ipython",
    "version": 3
   },
   "file_extension": ".py",
   "mimetype": "text/x-python",
   "name": "python",
   "nbconvert_exporter": "python",
   "pygments_lexer": "ipython3",
   "version": "3.8.8"
  }
 },
 "nbformat": 4,
 "nbformat_minor": 5
}
