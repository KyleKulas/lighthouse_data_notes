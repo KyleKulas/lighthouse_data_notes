{
 "cells": [
  {
   "cell_type": "markdown",
   "id": "8065129a-1c19-48f9-97d7-e8031675dcb5",
   "metadata": {},
   "source": [
    "# Variables\n",
    "### Variable Assignment"
   ]
  },
  {
   "cell_type": "code",
   "execution_count": 2,
   "id": "7fe22273-157b-4af8-ba56-8f69f0604785",
   "metadata": {},
   "outputs": [],
   "source": [
    "n=300"
   ]
  },
  {
   "cell_type": "code",
   "execution_count": 2,
   "id": "ddb8a9fe-3ca9-4964-a9b3-0c0cb6276b83",
   "metadata": {},
   "outputs": [],
   "source": [
    "print(n)"
   ]
  },
  {
   "cell_type": "code",
   "execution_count": 3,
   "id": "5beac9b3-0d38-4d3b-bb27-0df16855b41c",
   "metadata": {},
   "outputs": [
    {
     "data": {
      "text/plain": [
       "300"
      ]
     },
     "execution_count": 3,
     "metadata": {},
     "output_type": "execute_result"
    }
   ],
   "source": [
    "n"
   ]
  },
  {
   "cell_type": "code",
   "execution_count": 4,
   "id": "ce1b9202-7275-4abc-888e-3ff757db3e40",
   "metadata": {},
   "outputs": [],
   "source": [
    "n=1000"
   ]
  },
  {
   "cell_type": "code",
   "execution_count": 5,
   "id": "d322601d-8397-4c2b-a243-d8bb78104dde",
   "metadata": {},
   "outputs": [
    {
     "name": "stdout",
     "output_type": "stream",
     "text": [
      "1000\n"
     ]
    }
   ],
   "source": [
    "print(n)"
   ]
  },
  {
   "cell_type": "code",
   "execution_count": 6,
   "id": "a46ee951-58e3-44eb-a80d-e23a10923ee8",
   "metadata": {},
   "outputs": [
    {
     "data": {
      "text/plain": [
       "1000"
      ]
     },
     "execution_count": 6,
     "metadata": {},
     "output_type": "execute_result"
    }
   ],
   "source": [
    "n"
   ]
  },
  {
   "cell_type": "code",
   "execution_count": 7,
   "id": "d64d3e49-0932-434b-a074-46d20b3b2d11",
   "metadata": {},
   "outputs": [
    {
     "name": "stdout",
     "output_type": "stream",
     "text": [
      "300 300 300\n"
     ]
    }
   ],
   "source": [
    "a = b = c = 300\n",
    "print(a,b,c)"
   ]
  },
  {
   "cell_type": "markdown",
   "id": "c6b38e49-f900-4e5b-aa63-ff2da19ea8e4",
   "metadata": {},
   "source": [
    "### Variable Types in Python"
   ]
  },
  {
   "cell_type": "code",
   "execution_count": 8,
   "id": "b108feeb-1acd-405f-ac40-45cf3dfae044",
   "metadata": {},
   "outputs": [
    {
     "name": "stdout",
     "output_type": "stream",
     "text": [
      "23.5\n"
     ]
    }
   ],
   "source": [
    "var = 23.5\n",
    "print(var)"
   ]
  },
  {
   "cell_type": "code",
   "execution_count": 9,
   "id": "7719705b-f18f-4f5a-a3aa-022524b9581e",
   "metadata": {},
   "outputs": [
    {
     "name": "stdout",
     "output_type": "stream",
     "text": [
      "Now I'm a string\n"
     ]
    }
   ],
   "source": [
    "var = \"Now I'm a string\"\n",
    "print(var)"
   ]
  },
  {
   "cell_type": "markdown",
   "id": "9830ebae-9c11-4dba-a0f2-b9ef83a4fc1c",
   "metadata": {},
   "source": [
    "### Object References"
   ]
  },
  {
   "cell_type": "code",
   "execution_count": 10,
   "id": "93e8083a-56e1-4ba6-9def-dbe8e9e785c4",
   "metadata": {},
   "outputs": [
    {
     "name": "stdout",
     "output_type": "stream",
     "text": [
      "300\n"
     ]
    }
   ],
   "source": [
    "print(300)"
   ]
  },
  {
   "cell_type": "code",
   "execution_count": 11,
   "id": "11cb1b23-4f4b-4dac-ba90-2f79cb6507f9",
   "metadata": {},
   "outputs": [
    {
     "data": {
      "text/plain": [
       "int"
      ]
     },
     "execution_count": 11,
     "metadata": {},
     "output_type": "execute_result"
    }
   ],
   "source": [
    "type(300)"
   ]
  },
  {
   "cell_type": "code",
   "execution_count": 12,
   "id": "03432740-bf4d-46f5-9616-377585696f81",
   "metadata": {},
   "outputs": [],
   "source": [
    "n = 300"
   ]
  },
  {
   "cell_type": "markdown",
   "id": "c09a20ff-7457-4d13-869a-ac9d08666b49",
   "metadata": {},
   "source": [
    "This assignment creates an integer object with the value of 300 and assigns the variable n to point to that object."
   ]
  },
  {
   "cell_type": "code",
   "execution_count": 13,
   "id": "7d5ed7dc-9c80-4fe7-865c-0ef9de7a488b",
   "metadata": {},
   "outputs": [
    {
     "name": "stdout",
     "output_type": "stream",
     "text": [
      "300\n"
     ]
    }
   ],
   "source": [
    "print(n)"
   ]
  },
  {
   "cell_type": "code",
   "execution_count": 14,
   "id": "a60beaf8-270c-4e9a-a971-d8811361b2b8",
   "metadata": {},
   "outputs": [
    {
     "data": {
      "text/plain": [
       "int"
      ]
     },
     "execution_count": 14,
     "metadata": {},
     "output_type": "execute_result"
    }
   ],
   "source": [
    "type(n)"
   ]
  },
  {
   "cell_type": "code",
   "execution_count": 15,
   "id": "a35f672c-64a6-461f-b982-f3615fff46bc",
   "metadata": {},
   "outputs": [],
   "source": [
    "m = n"
   ]
  },
  {
   "cell_type": "markdown",
   "id": "487b0e5f-762b-495a-9eea-d1a112747598",
   "metadata": {},
   "source": [
    "Python creates a new symbolic name, m, which points to the same object that n points to."
   ]
  },
  {
   "cell_type": "code",
   "execution_count": null,
   "id": "fcca2c3e-6e45-4045-a3fa-b36da7ccbaf2",
   "metadata": {},
   "outputs": [],
   "source": [
    "m = 400"
   ]
  },
  {
   "cell_type": "markdown",
   "id": "244b16cc-c617-4515-814a-04c19483a032",
   "metadata": {},
   "source": [
    "Python creates a new integer object with the value 400, and m becomes a reference to it"
   ]
  },
  {
   "cell_type": "code",
   "execution_count": 16,
   "id": "87910cf3-ed74-4e0d-878a-4468fb14bb6d",
   "metadata": {},
   "outputs": [],
   "source": [
    "n = \"foo\""
   ]
  },
  {
   "cell_type": "markdown",
   "id": "80538719-4313-4fa2-9091-289a6ef15514",
   "metadata": {},
   "source": [
    "Now Python creates a string onject with the value \"foo\" and makes n reference that."
   ]
  },
  {
   "cell_type": "markdown",
   "id": "565a51d5-be03-4830-8182-a82e1eb81d0d",
   "metadata": {},
   "source": [
    "### Object Identity"
   ]
  },
  {
   "cell_type": "code",
   "execution_count": 17,
   "id": "d8c25f83-d048-4a40-aebc-af8431d29fee",
   "metadata": {},
   "outputs": [
    {
     "data": {
      "text/plain": [
       "139765621378256"
      ]
     },
     "execution_count": 17,
     "metadata": {},
     "output_type": "execute_result"
    }
   ],
   "source": [
    "n = 300\n",
    "m = n\n",
    "id(n)"
   ]
  },
  {
   "cell_type": "code",
   "execution_count": 18,
   "id": "7c2b4563-1605-4ad9-969c-161a936053ce",
   "metadata": {},
   "outputs": [
    {
     "data": {
      "text/plain": [
       "139765621378256"
      ]
     },
     "execution_count": 18,
     "metadata": {},
     "output_type": "execute_result"
    }
   ],
   "source": [
    "id(m)"
   ]
  },
  {
   "cell_type": "code",
   "execution_count": 19,
   "id": "a2e6037c-2b6d-4eb3-b016-6f42ede3a1bf",
   "metadata": {},
   "outputs": [
    {
     "data": {
      "text/plain": [
       "139765621378384"
      ]
     },
     "execution_count": 19,
     "metadata": {},
     "output_type": "execute_result"
    }
   ],
   "source": [
    "m = 400\n",
    "id(m)"
   ]
  },
  {
   "cell_type": "markdown",
   "id": "4f2d5bba-df73-499a-885a-0e8a5352fa98",
   "metadata": {},
   "source": [
    "After the assignment m = n, m and n both point to the same object, confirmed by the fact that id(m) and id(n) return the same number. Once m is reassigned to 400, m and n point to different objects with different indentities."
   ]
  },
  {
   "cell_type": "code",
   "execution_count": 21,
   "id": "8bd781f3-d7a4-49f5-be13-2519552cf2e4",
   "metadata": {},
   "outputs": [
    {
     "data": {
      "text/plain": [
       "139765621714992"
      ]
     },
     "execution_count": 21,
     "metadata": {},
     "output_type": "execute_result"
    }
   ],
   "source": [
    "m = 300\n",
    "id(m)"
   ]
  },
  {
   "cell_type": "code",
   "execution_count": 24,
   "id": "52a2b3c5-65a8-4f5b-861e-b537bf03a0d3",
   "metadata": {},
   "outputs": [
    {
     "data": {
      "text/plain": [
       "93849679720672"
      ]
     },
     "execution_count": 24,
     "metadata": {},
     "output_type": "execute_result"
    }
   ],
   "source": [
    "m = 30\n",
    "n = 30\n",
    "id(m)"
   ]
  },
  {
   "cell_type": "code",
   "execution_count": 25,
   "id": "206895c2-73db-47e0-aeb9-75897f451d30",
   "metadata": {},
   "outputs": [
    {
     "data": {
      "text/plain": [
       "93849679720672"
      ]
     },
     "execution_count": 25,
     "metadata": {},
     "output_type": "execute_result"
    }
   ],
   "source": [
    "id(n)"
   ]
  },
  {
   "cell_type": "markdown",
   "id": "7a9ad22d-bb5a-4341-8626-767beb1ccaf3",
   "metadata": {},
   "source": [
    "For the purposes of optimization, the interpreter creates objects for the integers in the range [-5, 256] at startup, and then reuses them during program execution. Thus, when you assign separate variables to an integer value in this range, they will actually reference the same object."
   ]
  },
  {
   "cell_type": "markdown",
   "id": "03de3c02-a867-4bbd-b33f-f6ee6b1b345f",
   "metadata": {},
   "source": [
    "### Variable Names"
   ]
  },
  {
   "cell_type": "code",
   "execution_count": 26,
   "id": "5472cacd-ae4e-4d07-b6ba-69d5dba50d72",
   "metadata": {},
   "outputs": [
    {
     "name": "stdout",
     "output_type": "stream",
     "text": [
      "Bob 54 True\n"
     ]
    }
   ],
   "source": [
    "name = \"Bob\"\n",
    "Age = 54\n",
    "has_W2 = True\n",
    "print(name, Age, has_W2)"
   ]
  },
  {
   "cell_type": "code",
   "execution_count": 27,
   "id": "2abe51e1-56de-4a8d-85a0-db1cffc13164",
   "metadata": {},
   "outputs": [
    {
     "ename": "SyntaxError",
     "evalue": "invalid decimal literal (<ipython-input-27-939a057bae00>, line 1)",
     "output_type": "error",
     "traceback": [
      "\u001b[0;36m  File \u001b[0;32m\"<ipython-input-27-939a057bae00>\"\u001b[0;36m, line \u001b[0;32m1\u001b[0m\n\u001b[0;31m    1099_filed = False\u001b[0m\n\u001b[0m        ^\u001b[0m\n\u001b[0;31mSyntaxError\u001b[0m\u001b[0;31m:\u001b[0m invalid decimal literal\n"
     ]
    }
   ],
   "source": [
    "1099_filed = False"
   ]
  },
  {
   "cell_type": "code",
   "execution_count": 28,
   "id": "9f1f0b71-b344-46b6-b110-c533f40abbb7",
   "metadata": {},
   "outputs": [
    {
     "name": "stdout",
     "output_type": "stream",
     "text": [
      "1 2 3 4 5 6 7 8\n"
     ]
    }
   ],
   "source": [
    "age = 1\n",
    "Age = 2\n",
    "aGe = 3\n",
    "AGE = 4\n",
    "a_g_e = 5\n",
    "_age = 6\n",
    "age_ = 7\n",
    "_AGE_ = 8\n",
    "\n",
    "print(age, Age, aGe, AGE, a_g_e, _age, age_, _AGE_)"
   ]
  },
  {
   "cell_type": "code",
   "execution_count": 29,
   "id": "9697fdfe-90ec-48c1-a828-ea5e1497c3cd",
   "metadata": {},
   "outputs": [
    {
     "name": "stdout",
     "output_type": "stream",
     "text": [
      "2500 2500 2500 2500 2500\n"
     ]
    }
   ],
   "source": [
    "numberofcollegegraduates = 2500\n",
    "NUMBEROFCOLLEGEGRADUATES = 2500\n",
    "numberOfCollegeGraduates = 2500\n",
    "NumberOfCollegeGraduates = 2500\n",
    "number_of_college_graduates = 2500\n",
    "\n",
    "print(numberofcollegegraduates, NUMBEROFCOLLEGEGRADUATES, numberOfCollegeGraduates, NumberOfCollegeGraduates, number_of_college_graduates)"
   ]
  },
  {
   "cell_type": "markdown",
   "id": "e2901afb-53b1-4a32-9204-f4e72631c80c",
   "metadata": {},
   "source": [
    "**Camel Case:** numberOfCollegeGraduates\n",
    "\n",
    "**Pascal Case:** NumberOfCollegeGraduates\n",
    "\n",
    "**Snake Case:** number_of_college_graduates\n",
    "\n",
    "PEP 8:\n",
    "Snake Case should be used for functions and variable names\n",
    "Pascal Case should be used for class names"
   ]
  },
  {
   "cell_type": "markdown",
   "id": "7158d7b0-bed1-4bcd-a52c-6f90b49dc943",
   "metadata": {},
   "source": [
    "### Reserved keywords\n",
    "False\n",
    "None \n",
    "True\n",
    "and\n",
    "as\n",
    "assert\n",
    "break\n",
    "class\n",
    "continue\n",
    "def\n",
    "del\n",
    "elif\n",
    "else\n",
    "except\n",
    "finally\n",
    "for\n",
    "from\n",
    "global\n",
    "if\n",
    "import\n",
    "in\n",
    "is\n",
    "lambda\n",
    "nonlocal\n",
    "not\n",
    "or\n",
    "pass\n",
    "raise\n",
    "return\n",
    "try\n",
    "while\n",
    "with\n",
    "yield"
   ]
  },
  {
   "cell_type": "code",
   "execution_count": 30,
   "id": "7acad025-c987-42fb-83a8-2bd5540e5d69",
   "metadata": {},
   "outputs": [
    {
     "name": "stdout",
     "output_type": "stream",
     "text": [
      "\n",
      "Here is a list of the Python keywords.  Enter any keyword to get more help.\n",
      "\n",
      "False               class               from                or\n",
      "None                continue            global              pass\n",
      "True                def                 if                  raise\n",
      "and                 del                 import              return\n",
      "as                  elif                in                  try\n",
      "assert              else                is                  while\n",
      "async               except              lambda              with\n",
      "await               finally             nonlocal            yield\n",
      "break               for                 not                 \n",
      "\n"
     ]
    }
   ],
   "source": [
    "help(\"keywords\")"
   ]
  },
  {
   "cell_type": "code",
   "execution_count": 31,
   "id": "1ac64057-ee14-4889-9277-82370ed24b77",
   "metadata": {},
   "outputs": [
    {
     "ename": "SyntaxError",
     "evalue": "invalid syntax (<ipython-input-31-c8ee3642ab3d>, line 1)",
     "output_type": "error",
     "traceback": [
      "\u001b[0;36m  File \u001b[0;32m\"<ipython-input-31-c8ee3642ab3d>\"\u001b[0;36m, line \u001b[0;32m1\u001b[0m\n\u001b[0;31m    for = 3\u001b[0m\n\u001b[0m        ^\u001b[0m\n\u001b[0;31mSyntaxError\u001b[0m\u001b[0;31m:\u001b[0m invalid syntax\n"
     ]
    }
   ],
   "source": [
    "for = 3"
   ]
  },
  {
   "cell_type": "code",
   "execution_count": null,
   "id": "e58a784f-743a-437b-894a-38e74790a8b9",
   "metadata": {},
   "outputs": [],
   "source": []
  },
  {
   "cell_type": "markdown",
   "id": "ee6c4256-8618-4601-9ab8-50e81e1cfe52",
   "metadata": {},
   "source": [
    "# Strings"
   ]
  },
  {
   "cell_type": "code",
   "execution_count": 1,
   "id": "9ec1c4ab-8f6b-4b7c-a1e6-7caba4ead320",
   "metadata": {},
   "outputs": [
    {
     "data": {
      "text/plain": [
       "'Hello World!'"
      ]
     },
     "execution_count": 1,
     "metadata": {},
     "output_type": "execute_result"
    }
   ],
   "source": [
    "\"Hello World!\""
   ]
  },
  {
   "cell_type": "code",
   "execution_count": 2,
   "id": "ffb4071f-8aba-4b3b-afe6-f842be6cfa52",
   "metadata": {},
   "outputs": [
    {
     "ename": "SyntaxError",
     "evalue": "invalid syntax (<ipython-input-2-2e0b12dd3e3e>, line 1)",
     "output_type": "error",
     "traceback": [
      "\u001b[0;36m  File \u001b[0;32m\"<ipython-input-2-2e0b12dd3e3e>\"\u001b[0;36m, line \u001b[0;32m1\u001b[0m\n\u001b[0;31m    print('Let's get down to business!')\u001b[0m\n\u001b[0m               ^\u001b[0m\n\u001b[0;31mSyntaxError\u001b[0m\u001b[0;31m:\u001b[0m invalid syntax\n"
     ]
    }
   ],
   "source": [
    "print('Let's get down to business!')"
   ]
  },
  {
   "cell_type": "code",
   "execution_count": 3,
   "id": "1454264a-56d9-43d5-99aa-7b3b6083c05e",
   "metadata": {},
   "outputs": [
    {
     "name": "stdout",
     "output_type": "stream",
     "text": [
      "Let's get down to business!\n"
     ]
    }
   ],
   "source": [
    "print(\"Let's get down to business!\")"
   ]
  },
  {
   "cell_type": "code",
   "execution_count": 4,
   "id": "05a88d79-8711-4ca7-af99-c0b8fb733b80",
   "metadata": {},
   "outputs": [
    {
     "name": "stdout",
     "output_type": "stream",
     "text": [
      "I said, \"we should go\" and we left.\n"
     ]
    }
   ],
   "source": [
    "print('I said, \"we should go\" and we left.')"
   ]
  },
  {
   "cell_type": "code",
   "execution_count": 5,
   "id": "7cccf9f2-ec2f-403a-b552-819fcc3ff74c",
   "metadata": {},
   "outputs": [
    {
     "ename": "SyntaxError",
     "evalue": "invalid syntax (<ipython-input-5-980bf52fa4fd>, line 1)",
     "output_type": "error",
     "traceback": [
      "\u001b[0;36m  File \u001b[0;32m\"<ipython-input-5-980bf52fa4fd>\"\u001b[0;36m, line \u001b[0;32m1\u001b[0m\n\u001b[0;31m    print(\"I said, \"we should go\" and we left.\")\u001b[0m\n\u001b[0m                    ^\u001b[0m\n\u001b[0;31mSyntaxError\u001b[0m\u001b[0;31m:\u001b[0m invalid syntax\n"
     ]
    }
   ],
   "source": [
    "print(\"I said, \"we should go\" and we left.\")"
   ]
  },
  {
   "cell_type": "code",
   "execution_count": 6,
   "id": "70684a72-0af2-42a3-8593-607170080405",
   "metadata": {},
   "outputs": [
    {
     "ename": "SyntaxError",
     "evalue": "invalid syntax (<ipython-input-6-3046f89fe10b>, line 1)",
     "output_type": "error",
     "traceback": [
      "\u001b[0;36m  File \u001b[0;32m\"<ipython-input-6-3046f89fe10b>\"\u001b[0;36m, line \u001b[0;32m1\u001b[0m\n\u001b[0;31m    print(\"She asked, \"Can't we just leave?\" If only it was that simple.\")\u001b[0m\n\u001b[0m                       ^\u001b[0m\n\u001b[0;31mSyntaxError\u001b[0m\u001b[0;31m:\u001b[0m invalid syntax\n"
     ]
    }
   ],
   "source": [
    "print(\"She asked, \"Can't we just leave?\" If only it was that simple.\")"
   ]
  },
  {
   "cell_type": "code",
   "execution_count": 7,
   "id": "59648a0d-0458-477a-aedf-bec079c05749",
   "metadata": {},
   "outputs": [
    {
     "ename": "SyntaxError",
     "evalue": "invalid syntax (<ipython-input-7-6a3f9c6a165d>, line 1)",
     "output_type": "error",
     "traceback": [
      "\u001b[0;36m  File \u001b[0;32m\"<ipython-input-7-6a3f9c6a165d>\"\u001b[0;36m, line \u001b[0;32m1\u001b[0m\n\u001b[0;31m    print('she asked, \"Can't we just leave?\" If only it was that simple.')\u001b[0m\n\u001b[0m                           ^\u001b[0m\n\u001b[0;31mSyntaxError\u001b[0m\u001b[0;31m:\u001b[0m invalid syntax\n"
     ]
    }
   ],
   "source": [
    "print('she asked, \"Can't we just leave?\" If only it was that simple.')"
   ]
  },
  {
   "cell_type": "code",
   "execution_count": 8,
   "id": "a0dafcd4-fcc6-49a1-a04f-f626d25c8144",
   "metadata": {},
   "outputs": [
    {
     "name": "stdout",
     "output_type": "stream",
     "text": [
      "She asked, \"Can't we just leave?\" If only it was that simple.\n"
     ]
    }
   ],
   "source": [
    "print(\"She asked, \\\"Can't we just leave?\\\" If only it was that simple.\")"
   ]
  },
  {
   "cell_type": "code",
   "execution_count": 9,
   "id": "a62d10fc-e8e4-454f-8fb0-62b300e6ec60",
   "metadata": {},
   "outputs": [
    {
     "name": "stdout",
     "output_type": "stream",
     "text": [
      "She asked, \"Can't we just leave?\" If only it was that simple.\n"
     ]
    }
   ],
   "source": [
    "print('She asked, \"Can\\'t we just leave?\" If only it was that simple.')"
   ]
  },
  {
   "cell_type": "code",
   "execution_count": 26,
   "id": "3ddd0f3c-cf2d-4f08-866a-70c848f37218",
   "metadata": {},
   "outputs": [
    {
     "data": {
      "text/plain": [
       "'  🚀  '"
      ]
     },
     "execution_count": 26,
     "metadata": {},
     "output_type": "execute_result"
    }
   ],
   "source": [
    "\"  \\U0001f680  \""
   ]
  },
  {
   "cell_type": "markdown",
   "id": "56eb02a2-1ce8-4bef-98ea-4880b4be7ccb",
   "metadata": {},
   "source": [
    "### String Operations"
   ]
  },
  {
   "cell_type": "code",
   "execution_count": 34,
   "id": "5e65ea5e-6abf-4671-97cb-3a8e846d50d6",
   "metadata": {},
   "outputs": [
    {
     "data": {
      "text/plain": [
       "'foobar'"
      ]
     },
     "execution_count": 34,
     "metadata": {},
     "output_type": "execute_result"
    }
   ],
   "source": [
    "s = 'foo'\n",
    "t = 'bar'\n",
    "u = 'baz'\n",
    "\n",
    "s + t"
   ]
  },
  {
   "cell_type": "code",
   "execution_count": 35,
   "id": "895b3e82-8948-4be6-9bde-3b911914c479",
   "metadata": {},
   "outputs": [
    {
     "data": {
      "text/plain": [
       "'foobarbaz'"
      ]
     },
     "execution_count": 35,
     "metadata": {},
     "output_type": "execute_result"
    }
   ],
   "source": [
    "s + t + u"
   ]
  },
  {
   "cell_type": "code",
   "execution_count": 36,
   "id": "f37a97a1-19e9-4fa2-935a-c79559617ba0",
   "metadata": {},
   "outputs": [
    {
     "name": "stdout",
     "output_type": "stream",
     "text": [
      "Go team!!!\n"
     ]
    }
   ],
   "source": [
    "print('Go team' + '!!!')"
   ]
  },
  {
   "cell_type": "code",
   "execution_count": 37,
   "id": "3a0f6af0-a534-4660-a89b-193ce3cdfa80",
   "metadata": {},
   "outputs": [
    {
     "data": {
      "text/plain": [
       "'foo.foo.foo.foo.'"
      ]
     },
     "execution_count": 37,
     "metadata": {},
     "output_type": "execute_result"
    }
   ],
   "source": [
    "s = 'foo.'\n",
    "\n",
    "s * 4"
   ]
  },
  {
   "cell_type": "code",
   "execution_count": 38,
   "id": "08c7f7a2-fdbc-4a83-95b1-19544887c70e",
   "metadata": {},
   "outputs": [
    {
     "data": {
      "text/plain": [
       "'foo.foo.foo.foo.'"
      ]
     },
     "execution_count": 38,
     "metadata": {},
     "output_type": "execute_result"
    }
   ],
   "source": [
    "4 * s"
   ]
  },
  {
   "cell_type": "code",
   "execution_count": 39,
   "id": "bd1e63ab-fa48-4eb3-8ac6-8ce7575d4743",
   "metadata": {},
   "outputs": [
    {
     "data": {
      "text/plain": [
       "''"
      ]
     },
     "execution_count": 39,
     "metadata": {},
     "output_type": "execute_result"
    }
   ],
   "source": [
    "'foo' * -8"
   ]
  },
  {
   "cell_type": "markdown",
   "id": "4a5c9e6b-b184-440c-b766-5813cf940ce0",
   "metadata": {},
   "source": [
    "#### The in Operator"
   ]
  },
  {
   "cell_type": "code",
   "execution_count": 40,
   "id": "dcc07474-be26-49d6-8f9f-ee0dd05ebd6a",
   "metadata": {},
   "outputs": [
    {
     "data": {
      "text/plain": [
       "True"
      ]
     },
     "execution_count": 40,
     "metadata": {},
     "output_type": "execute_result"
    }
   ],
   "source": [
    "s = 'foo'\n",
    "s in 'That\\'s food for thought.'"
   ]
  },
  {
   "cell_type": "code",
   "execution_count": 41,
   "id": "ef45f972-efb6-4279-875e-9ca4ea56d17d",
   "metadata": {},
   "outputs": [
    {
     "data": {
      "text/plain": [
       "False"
      ]
     },
     "execution_count": 41,
     "metadata": {},
     "output_type": "execute_result"
    }
   ],
   "source": [
    "s in 'That\\'s good for now.'"
   ]
  },
  {
   "cell_type": "code",
   "execution_count": 42,
   "id": "af63ee81-9426-4882-8e28-0071cb59c0a5",
   "metadata": {},
   "outputs": [
    {
     "data": {
      "text/plain": [
       "True"
      ]
     },
     "execution_count": 42,
     "metadata": {},
     "output_type": "execute_result"
    }
   ],
   "source": [
    "'z' not in 'abc'"
   ]
  },
  {
   "cell_type": "code",
   "execution_count": 43,
   "id": "0d106310-dbac-4f65-86e8-ffb53bfeb3dd",
   "metadata": {},
   "outputs": [
    {
     "data": {
      "text/plain": [
       "False"
      ]
     },
     "execution_count": 43,
     "metadata": {},
     "output_type": "execute_result"
    }
   ],
   "source": [
    "'z' not in 'xyz'"
   ]
  },
  {
   "cell_type": "markdown",
   "id": "132d01e5-a79d-47b0-84b0-2dafffbdcf11",
   "metadata": {},
   "source": [
    "#### Built-in String Functions"
   ]
  },
  {
   "cell_type": "markdown",
   "id": "2723b340-dc08-49cf-b609-a08a2d658700",
   "metadata": {},
   "source": [
    "chr()  Converts an integer to a character  \n",
    "ord()  Converts a character to an integer  \n",
    "len()  Returns the length of a string  \n",
    "str()  Returns a string representation of an object"
   ]
  },
  {
   "cell_type": "code",
   "execution_count": 44,
   "id": "a851c4ef-4e51-4f6c-b9c1-dc78967678c1",
   "metadata": {},
   "outputs": [
    {
     "data": {
      "text/plain": [
       "97"
      ]
     },
     "execution_count": 44,
     "metadata": {},
     "output_type": "execute_result"
    }
   ],
   "source": [
    "ord('a')"
   ]
  },
  {
   "cell_type": "code",
   "execution_count": 45,
   "id": "95348a02-2705-4938-a47d-8380aa797917",
   "metadata": {},
   "outputs": [
    {
     "data": {
      "text/plain": [
       "35"
      ]
     },
     "execution_count": 45,
     "metadata": {},
     "output_type": "execute_result"
    }
   ],
   "source": [
    "ord('#')"
   ]
  },
  {
   "cell_type": "code",
   "execution_count": 75,
   "id": "ed67ecbd-7a01-4491-b3a1-a64da6a504d6",
   "metadata": {},
   "outputs": [
    {
     "data": {
      "text/plain": [
       "8364"
      ]
     },
     "execution_count": 75,
     "metadata": {},
     "output_type": "execute_result"
    }
   ],
   "source": [
    " ord('€')"
   ]
  },
  {
   "cell_type": "code",
   "execution_count": 79,
   "id": "f2cad40e-8a41-473b-807e-a3b708bcd3c5",
   "metadata": {},
   "outputs": [
    {
     "data": {
      "text/plain": [
       "8721"
      ]
     },
     "execution_count": 79,
     "metadata": {},
     "output_type": "execute_result"
    }
   ],
   "source": [
    "ord('∑')"
   ]
  },
  {
   "cell_type": "markdown",
   "id": "84df3d01-6098-4482-80df-aa6caddd6261",
   "metadata": {},
   "source": [
    "#### Integer literals"
   ]
  },
  {
   "cell_type": "markdown",
   "id": "045a1f9e-b471-463e-8c26-690353d59668",
   "metadata": {},
   "source": [
    "Binary"
   ]
  },
  {
   "cell_type": "code",
   "execution_count": 46,
   "id": "b3d1a703-5fc1-4370-bc41-67f09931a2bc",
   "metadata": {},
   "outputs": [
    {
     "data": {
      "text/plain": [
       "3"
      ]
     },
     "execution_count": 46,
     "metadata": {},
     "output_type": "execute_result"
    }
   ],
   "source": [
    "0b11"
   ]
  },
  {
   "cell_type": "markdown",
   "id": "6e563b3b-b738-45ea-815d-a2454cf069e0",
   "metadata": {},
   "source": [
    "Octal"
   ]
  },
  {
   "cell_type": "code",
   "execution_count": 47,
   "id": "5187d56c-e8b6-4f19-9004-e674b1e5ba36",
   "metadata": {},
   "outputs": [
    {
     "data": {
      "text/plain": [
       "9"
      ]
     },
     "execution_count": 47,
     "metadata": {},
     "output_type": "execute_result"
    }
   ],
   "source": [
    "0o11"
   ]
  },
  {
   "cell_type": "markdown",
   "id": "e92fb1b6-e4a0-4be3-a2f3-bb2d03da25a2",
   "metadata": {},
   "source": [
    "Hex"
   ]
  },
  {
   "cell_type": "code",
   "execution_count": 48,
   "id": "4b265944-9f53-45a2-b370-bbce75a475f6",
   "metadata": {},
   "outputs": [
    {
     "data": {
      "text/plain": [
       "17"
      ]
     },
     "execution_count": 48,
     "metadata": {},
     "output_type": "execute_result"
    }
   ],
   "source": [
    "0x11"
   ]
  },
  {
   "cell_type": "markdown",
   "id": "d7fd0468-ad52-4c06-bffa-cb3527a6639b",
   "metadata": {},
   "source": [
    "Unicode"
   ]
  },
  {
   "cell_type": "code",
   "execution_count": 62,
   "id": "2d7d54e1-2b6a-45e7-93ca-1fe2fef9d8a3",
   "metadata": {},
   "outputs": [
    {
     "data": {
      "text/plain": [
       "'與'"
      ]
     },
     "execution_count": 62,
     "metadata": {},
     "output_type": "execute_result"
    }
   ],
   "source": [
    "'\\u8207'"
   ]
  },
  {
   "cell_type": "markdown",
   "id": "5d16747f-c63d-476e-9120-30f634bf4f1b",
   "metadata": {},
   "source": [
    "chr(n)\n",
    "\n",
    "chr() does the reverse of ord(). Given numeric value, returns string"
   ]
  },
  {
   "cell_type": "code",
   "execution_count": 80,
   "id": "c9ae4092-3955-4dea-bbe1-c572ccd4b871",
   "metadata": {},
   "outputs": [
    {
     "data": {
      "text/plain": [
       "'a'"
      ]
     },
     "execution_count": 80,
     "metadata": {},
     "output_type": "execute_result"
    }
   ],
   "source": [
    "chr(97)"
   ]
  },
  {
   "cell_type": "code",
   "execution_count": 81,
   "id": "74188456-c658-473d-bade-99284a957b42",
   "metadata": {},
   "outputs": [
    {
     "data": {
      "text/plain": [
       "'#'"
      ]
     },
     "execution_count": 81,
     "metadata": {},
     "output_type": "execute_result"
    }
   ],
   "source": [
    "chr(35)"
   ]
  },
  {
   "cell_type": "code",
   "execution_count": 82,
   "id": "fe0db39c-e7d0-4a1e-84eb-433e4b72d8e9",
   "metadata": {},
   "outputs": [
    {
     "data": {
      "text/plain": [
       "'€'"
      ]
     },
     "execution_count": 82,
     "metadata": {},
     "output_type": "execute_result"
    }
   ],
   "source": [
    "chr(8364)"
   ]
  },
  {
   "cell_type": "code",
   "execution_count": 83,
   "id": "012db3f0-7901-462a-9f3b-edb7a4a8144b",
   "metadata": {},
   "outputs": [
    {
     "data": {
      "text/plain": [
       "'∑'"
      ]
     },
     "execution_count": 83,
     "metadata": {},
     "output_type": "execute_result"
    }
   ],
   "source": [
    "chr(8721)"
   ]
  },
  {
   "cell_type": "code",
   "execution_count": null,
   "id": "561f6727-2cd4-4364-bf3f-61a50ae1e08f",
   "metadata": {},
   "outputs": [],
   "source": [
    "for i in range(9999):\n",
    "    print(chr(i) + \"   \" +  str(i))\n"
   ]
  },
  {
   "cell_type": "markdown",
   "id": "481d2ab4-0b4e-4570-a0fb-5d2aa38be48b",
   "metadata": {},
   "source": [
    "len(s)\n",
    "\n",
    "Returns the length of a string"
   ]
  },
  {
   "cell_type": "code",
   "execution_count": 85,
   "id": "e05d5130-a160-4fa5-92c7-e4ae31626db3",
   "metadata": {},
   "outputs": [
    {
     "data": {
      "text/plain": [
       "14"
      ]
     },
     "execution_count": 85,
     "metadata": {},
     "output_type": "execute_result"
    }
   ],
   "source": [
    "s = 'I am a string.'\n",
    "len(s)"
   ]
  },
  {
   "cell_type": "markdown",
   "id": "d2670c23-8351-4e9d-a32d-05bd6bfe74ad",
   "metadata": {},
   "source": [
    "str(obj)\n",
    "\n",
    "Returns a tring representation of an object.\n"
   ]
  },
  {
   "cell_type": "code",
   "execution_count": 86,
   "id": "453837ef-627e-41c7-b708-ebaf4db803e3",
   "metadata": {},
   "outputs": [
    {
     "data": {
      "text/plain": [
       "'49.2'"
      ]
     },
     "execution_count": 86,
     "metadata": {},
     "output_type": "execute_result"
    }
   ],
   "source": [
    "str(49.2)"
   ]
  },
  {
   "cell_type": "code",
   "execution_count": 87,
   "id": "5ccc747e-7195-4b4f-a1c6-e3a829544fa2",
   "metadata": {},
   "outputs": [
    {
     "data": {
      "text/plain": [
       "'(3+4j)'"
      ]
     },
     "execution_count": 87,
     "metadata": {},
     "output_type": "execute_result"
    }
   ],
   "source": [
    "str(3+4j)"
   ]
  },
  {
   "cell_type": "code",
   "execution_count": 88,
   "id": "7cd3b74f-d6e1-42bb-8426-ee398ed5941b",
   "metadata": {},
   "outputs": [
    {
     "data": {
      "text/plain": [
       "'32'"
      ]
     },
     "execution_count": 88,
     "metadata": {},
     "output_type": "execute_result"
    }
   ],
   "source": [
    "str(3 + 29)"
   ]
  },
  {
   "cell_type": "code",
   "execution_count": 89,
   "id": "783371b3-c2b8-40a9-9e1c-296555e68d3f",
   "metadata": {},
   "outputs": [
    {
     "data": {
      "text/plain": [
       "'foo'"
      ]
     },
     "execution_count": 89,
     "metadata": {},
     "output_type": "execute_result"
    }
   ],
   "source": [
    "str('foo')"
   ]
  },
  {
   "cell_type": "markdown",
   "id": "fe59b55e-590d-44ed-ba88-e2dff8fe43a7",
   "metadata": {},
   "source": [
    "#### String Indexing"
   ]
  },
  {
   "cell_type": "code",
   "execution_count": 90,
   "id": "757f4af9-90b2-4499-9116-55a28b00a837",
   "metadata": {},
   "outputs": [
    {
     "data": {
      "text/plain": [
       "'f'"
      ]
     },
     "execution_count": 90,
     "metadata": {},
     "output_type": "execute_result"
    }
   ],
   "source": [
    "s = 'foobar'\n",
    "\n",
    "s[0]"
   ]
  },
  {
   "cell_type": "code",
   "execution_count": 91,
   "id": "ef16dd44-461e-49cd-888e-5f1a5cc829e4",
   "metadata": {},
   "outputs": [
    {
     "data": {
      "text/plain": [
       "'o'"
      ]
     },
     "execution_count": 91,
     "metadata": {},
     "output_type": "execute_result"
    }
   ],
   "source": [
    "s[1]"
   ]
  },
  {
   "cell_type": "code",
   "execution_count": 92,
   "id": "f578b05c-b3c5-40e7-bd66-6aaa5f85ff61",
   "metadata": {},
   "outputs": [
    {
     "data": {
      "text/plain": [
       "'o'"
      ]
     },
     "execution_count": 92,
     "metadata": {},
     "output_type": "execute_result"
    }
   ],
   "source": [
    "s[2]"
   ]
  },
  {
   "cell_type": "code",
   "execution_count": 93,
   "id": "a58dd323-5e19-4fad-81e7-63fce9f91e34",
   "metadata": {},
   "outputs": [
    {
     "data": {
      "text/plain": [
       "'b'"
      ]
     },
     "execution_count": 93,
     "metadata": {},
     "output_type": "execute_result"
    }
   ],
   "source": [
    "s[3]"
   ]
  },
  {
   "cell_type": "code",
   "execution_count": 94,
   "id": "b6f1b448-4cff-43fc-8ca2-83efc9e06806",
   "metadata": {},
   "outputs": [
    {
     "data": {
      "text/plain": [
       "6"
      ]
     },
     "execution_count": 94,
     "metadata": {},
     "output_type": "execute_result"
    }
   ],
   "source": [
    "len(s)"
   ]
  },
  {
   "cell_type": "code",
   "execution_count": 95,
   "id": "a0d6e805-99a5-4d8e-8db8-acf0e698bac9",
   "metadata": {},
   "outputs": [
    {
     "data": {
      "text/plain": [
       "'r'"
      ]
     },
     "execution_count": 95,
     "metadata": {},
     "output_type": "execute_result"
    }
   ],
   "source": [
    "s[len(s)-1]"
   ]
  },
  {
   "cell_type": "code",
   "execution_count": 96,
   "id": "90f9a0dd-236c-44e3-9fc9-2d223050dfbc",
   "metadata": {},
   "outputs": [
    {
     "ename": "IndexError",
     "evalue": "string index out of range",
     "output_type": "error",
     "traceback": [
      "\u001b[0;31m---------------------------------------------------------------------------\u001b[0m",
      "\u001b[0;31mIndexError\u001b[0m                                Traceback (most recent call last)",
      "\u001b[0;32m<ipython-input-96-c4bc18d4aa1b>\u001b[0m in \u001b[0;36m<module>\u001b[0;34m\u001b[0m\n\u001b[0;32m----> 1\u001b[0;31m \u001b[0ms\u001b[0m\u001b[0;34m[\u001b[0m\u001b[0;36m6\u001b[0m\u001b[0;34m]\u001b[0m\u001b[0;34m\u001b[0m\u001b[0;34m\u001b[0m\u001b[0m\n\u001b[0m",
      "\u001b[0;31mIndexError\u001b[0m: string index out of range"
     ]
    }
   ],
   "source": [
    "s[6]"
   ]
  },
  {
   "cell_type": "code",
   "execution_count": 97,
   "id": "480aa2c6-5e90-4ff2-90c8-84b32da2331e",
   "metadata": {},
   "outputs": [
    {
     "data": {
      "text/plain": [
       "'r'"
      ]
     },
     "execution_count": 97,
     "metadata": {},
     "output_type": "execute_result"
    }
   ],
   "source": [
    "s[-1]"
   ]
  },
  {
   "cell_type": "code",
   "execution_count": 98,
   "id": "741a85eb-e7e6-45a0-b511-eea44e8b0477",
   "metadata": {},
   "outputs": [
    {
     "data": {
      "text/plain": [
       "'a'"
      ]
     },
     "execution_count": 98,
     "metadata": {},
     "output_type": "execute_result"
    }
   ],
   "source": [
    "s[-2]"
   ]
  },
  {
   "cell_type": "code",
   "execution_count": 99,
   "id": "2d8ab916-341d-46fb-bb52-b38c2e369ee3",
   "metadata": {},
   "outputs": [
    {
     "data": {
      "text/plain": [
       "6"
      ]
     },
     "execution_count": 99,
     "metadata": {},
     "output_type": "execute_result"
    }
   ],
   "source": [
    "len(s)"
   ]
  },
  {
   "cell_type": "code",
   "execution_count": 100,
   "id": "1ac89a6b-1bd0-4c29-9b3e-05819ddafc85",
   "metadata": {},
   "outputs": [
    {
     "data": {
      "text/plain": [
       "'f'"
      ]
     },
     "execution_count": 100,
     "metadata": {},
     "output_type": "execute_result"
    }
   ],
   "source": [
    "s[-len(s)]"
   ]
  },
  {
   "cell_type": "code",
   "execution_count": 101,
   "id": "7fc4f262-5bda-47e0-a42f-e18513c98abf",
   "metadata": {},
   "outputs": [
    {
     "ename": "IndexError",
     "evalue": "string index out of range",
     "output_type": "error",
     "traceback": [
      "\u001b[0;31m---------------------------------------------------------------------------\u001b[0m",
      "\u001b[0;31mIndexError\u001b[0m                                Traceback (most recent call last)",
      "\u001b[0;32m<ipython-input-101-f93c2f8ec6cd>\u001b[0m in \u001b[0;36m<module>\u001b[0;34m\u001b[0m\n\u001b[0;32m----> 1\u001b[0;31m \u001b[0ms\u001b[0m\u001b[0;34m[\u001b[0m\u001b[0;34m-\u001b[0m\u001b[0;36m7\u001b[0m\u001b[0;34m]\u001b[0m\u001b[0;34m\u001b[0m\u001b[0;34m\u001b[0m\u001b[0m\n\u001b[0m",
      "\u001b[0;31mIndexError\u001b[0m: string index out of range"
     ]
    }
   ],
   "source": [
    "s[-7]"
   ]
  },
  {
   "cell_type": "markdown",
   "id": "c9843ba0-b7d8-45a4-9abc-2a936588ff70",
   "metadata": {},
   "source": [
    "#### String Slicing"
   ]
  },
  {
   "cell_type": "code",
   "execution_count": 102,
   "id": "47720c80-b686-41fe-be81-9ccbcedec48d",
   "metadata": {},
   "outputs": [
    {
     "data": {
      "text/plain": [
       "'oba'"
      ]
     },
     "execution_count": 102,
     "metadata": {},
     "output_type": "execute_result"
    }
   ],
   "source": [
    "s = 'foobar'\n",
    "s[2:5]"
   ]
  },
  {
   "cell_type": "markdown",
   "id": "4096e19c-5893-436f-9dd0-7f3e96773a04",
   "metadata": {},
   "source": [
    "the expression s[m:n] will return a substring that is n - m characters in length"
   ]
  },
  {
   "cell_type": "code",
   "execution_count": 103,
   "id": "eb6b5b1f-d26b-4302-8460-12365c497049",
   "metadata": {},
   "outputs": [
    {
     "data": {
      "text/plain": [
       "'foob'"
      ]
     },
     "execution_count": 103,
     "metadata": {},
     "output_type": "execute_result"
    }
   ],
   "source": [
    "s[:4]"
   ]
  },
  {
   "cell_type": "code",
   "execution_count": 104,
   "id": "b433ff7a-82f4-41ae-ac62-114e27110aee",
   "metadata": {},
   "outputs": [
    {
     "data": {
      "text/plain": [
       "'foob'"
      ]
     },
     "execution_count": 104,
     "metadata": {},
     "output_type": "execute_result"
    }
   ],
   "source": [
    "s[0:4]"
   ]
  },
  {
   "cell_type": "code",
   "execution_count": 105,
   "id": "4c5251d2-818d-4992-92b7-891a29bcc0e4",
   "metadata": {},
   "outputs": [
    {
     "data": {
      "text/plain": [
       "'obar'"
      ]
     },
     "execution_count": 105,
     "metadata": {},
     "output_type": "execute_result"
    }
   ],
   "source": [
    "s[2:]"
   ]
  },
  {
   "cell_type": "code",
   "execution_count": 106,
   "id": "648aed91-bc7d-4319-97fb-b072a318aaa8",
   "metadata": {},
   "outputs": [
    {
     "data": {
      "text/plain": [
       "'obar'"
      ]
     },
     "execution_count": 106,
     "metadata": {},
     "output_type": "execute_result"
    }
   ],
   "source": [
    "s[2:len(s)]"
   ]
  },
  {
   "cell_type": "markdown",
   "id": "8f59b4ee-9578-44d9-a84e-7e4ac7e58263",
   "metadata": {},
   "source": [
    "For any string s and any integer n(0 ≤ n ≤ len(s)), s[:n] + s[n:] will be equal to s:"
   ]
  },
  {
   "cell_type": "code",
   "execution_count": 107,
   "id": "18ebf1c0-ea79-459a-8a39-f7f81338cb3c",
   "metadata": {},
   "outputs": [
    {
     "data": {
      "text/plain": [
       "'foobar'"
      ]
     },
     "execution_count": 107,
     "metadata": {},
     "output_type": "execute_result"
    }
   ],
   "source": [
    "s[:4] + s[4:]"
   ]
  },
  {
   "cell_type": "code",
   "execution_count": 108,
   "id": "13b1bf25-675c-4aca-afcb-1e2ec9041660",
   "metadata": {},
   "outputs": [
    {
     "data": {
      "text/plain": [
       "True"
      ]
     },
     "execution_count": 108,
     "metadata": {},
     "output_type": "execute_result"
    }
   ],
   "source": [
    "s[:4] + s[4:] == s"
   ]
  },
  {
   "cell_type": "markdown",
   "id": "9ac13c59-652b-4d1b-b736-bad4c87215f5",
   "metadata": {},
   "source": [
    "Omitting both indices returns the original string, in its entirety. Literally. It's not a copy, it's a reference of the original string:"
   ]
  },
  {
   "cell_type": "code",
   "execution_count": 109,
   "id": "4836462b-d915-47c6-b797-2423e5370a80",
   "metadata": {},
   "outputs": [
    {
     "data": {
      "text/plain": [
       "140005935073584"
      ]
     },
     "execution_count": 109,
     "metadata": {},
     "output_type": "execute_result"
    }
   ],
   "source": [
    "s ='foobar'\n",
    "t = s[:]\n",
    "id(s)"
   ]
  },
  {
   "cell_type": "code",
   "execution_count": 110,
   "id": "08d5f4ac-6de9-4b8a-a814-dea8634b35e9",
   "metadata": {},
   "outputs": [
    {
     "data": {
      "text/plain": [
       "140005935073584"
      ]
     },
     "execution_count": 110,
     "metadata": {},
     "output_type": "execute_result"
    }
   ],
   "source": [
    "id(t)"
   ]
  },
  {
   "cell_type": "code",
   "execution_count": 111,
   "id": "e31372f6-bbd4-488e-88ab-089aa32fb3d3",
   "metadata": {},
   "outputs": [
    {
     "data": {
      "text/plain": [
       "True"
      ]
     },
     "execution_count": 111,
     "metadata": {},
     "output_type": "execute_result"
    }
   ],
   "source": [
    "s is t"
   ]
  },
  {
   "cell_type": "code",
   "execution_count": 112,
   "id": "bbe9a49e-5f9f-41d7-aefe-4fece372b945",
   "metadata": {},
   "outputs": [
    {
     "data": {
      "text/plain": [
       "''"
      ]
     },
     "execution_count": 112,
     "metadata": {},
     "output_type": "execute_result"
    }
   ],
   "source": [
    "s[2:2]"
   ]
  },
  {
   "cell_type": "code",
   "execution_count": 113,
   "id": "89df9eb3-239b-42ad-a6bc-a530d1d64046",
   "metadata": {},
   "outputs": [
    {
     "data": {
      "text/plain": [
       "''"
      ]
     },
     "execution_count": 113,
     "metadata": {},
     "output_type": "execute_result"
    }
   ],
   "source": [
    "s[4:2]"
   ]
  },
  {
   "cell_type": "markdown",
   "id": "b7b6e32f-7a3a-4cba-a432-13368746d5bf",
   "metadata": {},
   "source": [
    "Positive and negative indices"
   ]
  },
  {
   "cell_type": "code",
   "execution_count": 114,
   "id": "35123913-d10b-4e18-b5a3-8d725ee80bdb",
   "metadata": {},
   "outputs": [
    {
     "data": {
      "text/plain": [
       "'oob'"
      ]
     },
     "execution_count": 114,
     "metadata": {},
     "output_type": "execute_result"
    }
   ],
   "source": [
    "s = 'foobar'\n",
    "\n",
    "s[-5:-2]"
   ]
  },
  {
   "cell_type": "code",
   "execution_count": 115,
   "id": "48acce34-4e5b-4290-8372-b448c8f5b7f4",
   "metadata": {},
   "outputs": [
    {
     "data": {
      "text/plain": [
       "'oob'"
      ]
     },
     "execution_count": 115,
     "metadata": {},
     "output_type": "execute_result"
    }
   ],
   "source": [
    "s[1:4]"
   ]
  },
  {
   "cell_type": "code",
   "execution_count": 116,
   "id": "a900b3f6-17ec-43f3-956e-7abe9c9f73ed",
   "metadata": {},
   "outputs": [
    {
     "data": {
      "text/plain": [
       "True"
      ]
     },
     "execution_count": 116,
     "metadata": {},
     "output_type": "execute_result"
    }
   ],
   "source": [
    "s[-5:-2] == s[1:4]"
   ]
  },
  {
   "cell_type": "markdown",
   "id": "115ea916-cb85-459b-a139-51fc81b848be",
   "metadata": {},
   "source": [
    "Specifying a stride"
   ]
  },
  {
   "cell_type": "code",
   "execution_count": 117,
   "id": "1dd79605-6260-40de-abc3-e9b0abe0270b",
   "metadata": {},
   "outputs": [
    {
     "data": {
      "text/plain": [
       "'foa'"
      ]
     },
     "execution_count": 117,
     "metadata": {},
     "output_type": "execute_result"
    }
   ],
   "source": [
    "s = 'foobar'\n",
    "s[0:6:2]"
   ]
  },
  {
   "cell_type": "code",
   "execution_count": 118,
   "id": "e83bf213-ebfd-4a81-ac9f-875b6c02f704",
   "metadata": {},
   "outputs": [
    {
     "data": {
      "text/plain": [
       "'obr'"
      ]
     },
     "execution_count": 118,
     "metadata": {},
     "output_type": "execute_result"
    }
   ],
   "source": [
    "s[1:6:2]"
   ]
  },
  {
   "cell_type": "code",
   "execution_count": 119,
   "id": "704a2e41-f60c-4703-ac5b-3e206b4cd63c",
   "metadata": {},
   "outputs": [
    {
     "data": {
      "text/plain": [
       "'foa'"
      ]
     },
     "execution_count": 119,
     "metadata": {},
     "output_type": "execute_result"
    }
   ],
   "source": [
    "s[::2]"
   ]
  },
  {
   "cell_type": "code",
   "execution_count": 121,
   "id": "c9aa362b-991e-4067-bac3-b40cab2c5f0d",
   "metadata": {},
   "outputs": [
    {
     "data": {
      "text/plain": [
       "'1234512345123451234512345'"
      ]
     },
     "execution_count": 121,
     "metadata": {},
     "output_type": "execute_result"
    }
   ],
   "source": [
    "s = '12345' * 5\n",
    "s"
   ]
  },
  {
   "cell_type": "code",
   "execution_count": 122,
   "id": "c59a0169-3c96-4506-8929-b9dd8823074a",
   "metadata": {},
   "outputs": [
    {
     "data": {
      "text/plain": [
       "'11111'"
      ]
     },
     "execution_count": 122,
     "metadata": {},
     "output_type": "execute_result"
    }
   ],
   "source": [
    "s[::5]"
   ]
  },
  {
   "cell_type": "code",
   "execution_count": 123,
   "id": "d434a187-faa0-4022-a246-daf9a72bf32b",
   "metadata": {},
   "outputs": [
    {
     "data": {
      "text/plain": [
       "'55555'"
      ]
     },
     "execution_count": 123,
     "metadata": {},
     "output_type": "execute_result"
    }
   ],
   "source": [
    "s[4::5]"
   ]
  },
  {
   "cell_type": "code",
   "execution_count": 124,
   "id": "d8bb6eb5-1931-4a2f-89c8-ff5ece7d9655",
   "metadata": {},
   "outputs": [
    {
     "data": {
      "text/plain": [
       "'rbo'"
      ]
     },
     "execution_count": 124,
     "metadata": {},
     "output_type": "execute_result"
    }
   ],
   "source": [
    "s = 'foobar'\n",
    "s[5:0:-2]"
   ]
  },
  {
   "cell_type": "code",
   "execution_count": 125,
   "id": "60508ce3-6c5c-4459-8f6d-b73de062576d",
   "metadata": {},
   "outputs": [
    {
     "data": {
      "text/plain": [
       "'1234512345123451234512345'"
      ]
     },
     "execution_count": 125,
     "metadata": {},
     "output_type": "execute_result"
    }
   ],
   "source": [
    "s = '12345' * 5\n",
    "s"
   ]
  },
  {
   "cell_type": "code",
   "execution_count": 126,
   "id": "4c61c5f6-d491-4eb5-9c2f-a98b389222c1",
   "metadata": {},
   "outputs": [
    {
     "data": {
      "text/plain": [
       "'55555'"
      ]
     },
     "execution_count": 126,
     "metadata": {},
     "output_type": "execute_result"
    }
   ],
   "source": [
    "s[::-5]"
   ]
  },
  {
   "cell_type": "markdown",
   "id": "ad1b7c83-4325-4efa-8f76-4261354a26d0",
   "metadata": {},
   "source": [
    "Reverse a String"
   ]
  },
  {
   "cell_type": "code",
   "execution_count": 127,
   "id": "8994dc54-bcc6-4402-bf0c-f384628bb879",
   "metadata": {},
   "outputs": [
    {
     "data": {
      "text/plain": [
       "'.thgir eb tsum ti ,ti syas noelopaN edarmoC fI'"
      ]
     },
     "execution_count": 127,
     "metadata": {},
     "output_type": "execute_result"
    }
   ],
   "source": [
    "s = 'If Comrade Napoleon says it, it must be right.'\n",
    "s[::-1]"
   ]
  },
  {
   "cell_type": "markdown",
   "id": "67bef7c0-f6f1-4829-80f7-c19a9b278654",
   "metadata": {},
   "source": [
    "#### Interpolating Variables into a string"
   ]
  },
  {
   "cell_type": "code",
   "execution_count": 128,
   "id": "1bb354de-02a3-4d62-b5df-056c111e9967",
   "metadata": {},
   "outputs": [
    {
     "name": "stdout",
     "output_type": "stream",
     "text": [
      "The product of 20 and 25 is 500\n"
     ]
    }
   ],
   "source": [
    "n = 20\n",
    "m = 25\n",
    "prod = n * m\n",
    "print('The product of', n, 'and', m, 'is', prod)"
   ]
  },
  {
   "cell_type": "markdown",
   "id": "a1ec082a-b314-48f1-b268-915439807fec",
   "metadata": {},
   "source": [
    "f-string\n",
    "\n",
    "- Specify either a lowercase f or uppercase F directly before the opening quote.\n",
    "- Specify any variable in curly braces {}."
   ]
  },
  {
   "cell_type": "code",
   "execution_count": 129,
   "id": "9e8aefca-e5ec-44a3-8fa8-6af4817fd9a1",
   "metadata": {},
   "outputs": [
    {
     "name": "stdout",
     "output_type": "stream",
     "text": [
      "The product of 20 and 25 is 500\n"
     ]
    }
   ],
   "source": [
    "n = 20\n",
    "m = 25\n",
    "prod = n * m \n",
    "print(f'The product of {n} and {m} is {prod}')"
   ]
  },
  {
   "cell_type": "code",
   "execution_count": 130,
   "id": "69db1bfc-aada-414b-a8e9-1048b71e07ff",
   "metadata": {},
   "outputs": [
    {
     "name": "stdout",
     "output_type": "stream",
     "text": [
      "A dog says Bark!\n"
     ]
    }
   ],
   "source": [
    "var = 'Bark'\n",
    "\n",
    "print(f'A dog says {var}!')"
   ]
  },
  {
   "cell_type": "code",
   "execution_count": 131,
   "id": "a18e2700-daca-40b9-b435-fb0ff861708e",
   "metadata": {},
   "outputs": [
    {
     "name": "stdout",
     "output_type": "stream",
     "text": [
      "A dog says Bark!\n"
     ]
    }
   ],
   "source": [
    "print(f\"A dog says {var}!\")"
   ]
  },
  {
   "cell_type": "code",
   "execution_count": 132,
   "id": "ee364f04-17b4-4991-8118-b9db9156570c",
   "metadata": {},
   "outputs": [
    {
     "name": "stdout",
     "output_type": "stream",
     "text": [
      "A dog says Bark!\n"
     ]
    }
   ],
   "source": [
    "print(f'''A dog says {var}!''')"
   ]
  },
  {
   "cell_type": "markdown",
   "id": "ff3e2a76-1be0-4b14-adea-fda3ba7f8ac3",
   "metadata": {},
   "source": [
    "#### Modifying Strings\n",
    "\n",
    "Strings are immutable."
   ]
  },
  {
   "cell_type": "code",
   "execution_count": 133,
   "id": "2f4381a0-2cce-4c81-bb9c-5857a0d06f03",
   "metadata": {},
   "outputs": [
    {
     "ename": "TypeError",
     "evalue": "'str' object does not support item assignment",
     "output_type": "error",
     "traceback": [
      "\u001b[0;31m---------------------------------------------------------------------------\u001b[0m",
      "\u001b[0;31mTypeError\u001b[0m                                 Traceback (most recent call last)",
      "\u001b[0;32m<ipython-input-133-589c32513b82>\u001b[0m in \u001b[0;36m<module>\u001b[0;34m\u001b[0m\n\u001b[1;32m      1\u001b[0m \u001b[0ms\u001b[0m \u001b[0;34m=\u001b[0m \u001b[0;34m'foobar'\u001b[0m\u001b[0;34m\u001b[0m\u001b[0;34m\u001b[0m\u001b[0m\n\u001b[0;32m----> 2\u001b[0;31m \u001b[0ms\u001b[0m\u001b[0;34m[\u001b[0m\u001b[0;36m3\u001b[0m\u001b[0;34m]\u001b[0m \u001b[0;34m=\u001b[0m \u001b[0;34m'x'\u001b[0m\u001b[0;34m\u001b[0m\u001b[0;34m\u001b[0m\u001b[0m\n\u001b[0m",
      "\u001b[0;31mTypeError\u001b[0m: 'str' object does not support item assignment"
     ]
    }
   ],
   "source": [
    "s = 'foobar'\n",
    "s[3] = 'x'"
   ]
  },
  {
   "cell_type": "code",
   "execution_count": 135,
   "id": "bb94e2c5-1f65-4957-9ccc-f010f9ac37bc",
   "metadata": {},
   "outputs": [
    {
     "data": {
      "text/plain": [
       "'fooxar'"
      ]
     },
     "execution_count": 135,
     "metadata": {},
     "output_type": "execute_result"
    }
   ],
   "source": [
    "s = s[:3] + 'x' + s[4:]\n",
    "s"
   ]
  },
  {
   "cell_type": "code",
   "execution_count": 137,
   "id": "62734e32-13f1-43a3-8b77-5ec4cfbf5df3",
   "metadata": {},
   "outputs": [
    {
     "data": {
      "text/plain": [
       "'fooxar'"
      ]
     },
     "execution_count": 137,
     "metadata": {},
     "output_type": "execute_result"
    }
   ],
   "source": [
    "s = 'foobar'\n",
    "s = s.replace('b', 'x')\n",
    "s"
   ]
  },
  {
   "cell_type": "markdown",
   "id": "df8cf07f-f093-4401-8596-6939a581c36a",
   "metadata": {},
   "source": [
    "#### Built in String Methods"
   ]
  },
  {
   "cell_type": "markdown",
   "id": "4f7c9422-bce0-49bd-8250-0a351c3d56cf",
   "metadata": {},
   "source": [
    "s.cpitalize()\n",
    "\n",
    "Capitalizes the target string"
   ]
  },
  {
   "cell_type": "code",
   "execution_count": 138,
   "id": "1c083c1b-7af0-46e7-a461-9b71f5706fda",
   "metadata": {},
   "outputs": [
    {
     "data": {
      "text/plain": [
       "'Foo bar baz qux'"
      ]
     },
     "execution_count": 138,
     "metadata": {},
     "output_type": "execute_result"
    }
   ],
   "source": [
    "s = 'foO BaR BAZ quX'\n",
    "s.capitalize()"
   ]
  },
  {
   "cell_type": "code",
   "execution_count": 139,
   "id": "2c6915de-4116-4669-b02c-f8f8cbb1636a",
   "metadata": {},
   "outputs": [
    {
     "data": {
      "text/plain": [
       "'Foo123#bar#.'"
      ]
     },
     "execution_count": 139,
     "metadata": {},
     "output_type": "execute_result"
    }
   ],
   "source": [
    "s = 'foo123#BAR#.'\n",
    "s.capitalize()"
   ]
  },
  {
   "cell_type": "markdown",
   "id": "49bc92b6-437f-4e62-babc-c62e0a482825",
   "metadata": {},
   "source": [
    "s.lower()\n",
    "\n",
    "Coversts alphabetic characters to lowercase"
   ]
  },
  {
   "cell_type": "code",
   "execution_count": 140,
   "id": "03e856d6-44ed-4f40-a587-1d4881b244cd",
   "metadata": {},
   "outputs": [
    {
     "data": {
      "text/plain": [
       "'foo bar 123 baz qux'"
      ]
     },
     "execution_count": 140,
     "metadata": {},
     "output_type": "execute_result"
    }
   ],
   "source": [
    "'FOO Bar 123 baz qUX'.lower()"
   ]
  },
  {
   "cell_type": "markdown",
   "id": "46c6ce25-0189-45ac-b92a-c609f6e1998d",
   "metadata": {},
   "source": [
    "s.swapcase()\n",
    "\n",
    "Swaps case of alphabetic characters"
   ]
  },
  {
   "cell_type": "code",
   "execution_count": 141,
   "id": "91b8a497-a9d8-4e31-8757-dabca138cc7c",
   "metadata": {},
   "outputs": [
    {
     "data": {
      "text/plain": [
       "'foo bAR 123 BAZ Qux'"
      ]
     },
     "execution_count": 141,
     "metadata": {},
     "output_type": "execute_result"
    }
   ],
   "source": [
    "'FOO Bar 123 baz qUX'.swapcase()"
   ]
  },
  {
   "cell_type": "markdown",
   "id": "04341ef3-d63e-4920-80ab-aec5ef947c60",
   "metadata": {},
   "source": [
    "s.title()\n",
    "\n",
    "Coverst the target string to \"title case\""
   ]
  },
  {
   "cell_type": "code",
   "execution_count": 142,
   "id": "17edf16c-42c4-48d1-a405-e7e5af5244e7",
   "metadata": {},
   "outputs": [
    {
     "data": {
      "text/plain": [
       "'The Sun Also Rises'"
      ]
     },
     "execution_count": 142,
     "metadata": {},
     "output_type": "execute_result"
    }
   ],
   "source": [
    "'the sun also rises'.title()"
   ]
  },
  {
   "cell_type": "code",
   "execution_count": 143,
   "id": "69e3ad94-d801-4475-9a54-a4b6a1144411",
   "metadata": {},
   "outputs": [
    {
     "data": {
      "text/plain": [
       "\"What'S Happended To Ted'S Ibm Stock?\""
      ]
     },
     "execution_count": 143,
     "metadata": {},
     "output_type": "execute_result"
    }
   ],
   "source": [
    "\"what's happended to ted's IBM stock?\".title()"
   ]
  },
  {
   "cell_type": "markdown",
   "id": "cccb3b05-f338-4283-807f-f4a4e9fd2fb6",
   "metadata": {},
   "source": [
    "s.upper()\n",
    "\n",
    "Coverts alphabetic characters to uppercase."
   ]
  },
  {
   "cell_type": "code",
   "execution_count": 144,
   "id": "6f29f3c3-abdb-497e-b775-a2ae590e17b3",
   "metadata": {},
   "outputs": [
    {
     "data": {
      "text/plain": [
       "'FOO BAR 123 BAZ QUX'"
      ]
     },
     "execution_count": 144,
     "metadata": {},
     "output_type": "execute_result"
    }
   ],
   "source": [
    "'FOO Bar 123 baz qUX'.upper()"
   ]
  },
  {
   "cell_type": "markdown",
   "id": "9a49b7df-b38b-4a8f-a93f-31ba8c6ba06f",
   "metadata": {},
   "source": [
    "s.count(\\<sub>,\\<start>, \\<end>)"
   ]
  },
  {
   "cell_type": "code",
   "execution_count": 145,
   "id": "8763bb54-d726-4ebe-92a4-704ad3b05c03",
   "metadata": {},
   "outputs": [
    {
     "data": {
      "text/plain": [
       "3"
      ]
     },
     "execution_count": 145,
     "metadata": {},
     "output_type": "execute_result"
    }
   ],
   "source": [
    "'foo goo moo'.count('oo')"
   ]
  },
  {
   "cell_type": "code",
   "execution_count": 146,
   "id": "32ebd0f9-5798-483a-a31d-f16fff6822b6",
   "metadata": {},
   "outputs": [
    {
     "data": {
      "text/plain": [
       "2"
      ]
     },
     "execution_count": 146,
     "metadata": {},
     "output_type": "execute_result"
    }
   ],
   "source": [
    "'foo goo moo'.count('oo', 0, 8)"
   ]
  },
  {
   "cell_type": "markdown",
   "id": "22f24921-9de8-4f1f-b7f5-e888f283b7e6",
   "metadata": {},
   "source": [
    "s.endswith(\\<suffix>, \\<start>, \\<end>)\n",
    "\n",
    "Determins wether the target string ends with a given substring."
   ]
  },
  {
   "cell_type": "code",
   "execution_count": 147,
   "id": "8616f1de-7c52-467d-9a75-66c78593a13d",
   "metadata": {},
   "outputs": [
    {
     "data": {
      "text/plain": [
       "True"
      ]
     },
     "execution_count": 147,
     "metadata": {},
     "output_type": "execute_result"
    }
   ],
   "source": [
    "'foobar'.endswith('bar')"
   ]
  },
  {
   "cell_type": "code",
   "execution_count": 148,
   "id": "6b8a331a-2a36-4f03-b752-16ebc5f59511",
   "metadata": {},
   "outputs": [
    {
     "data": {
      "text/plain": [
       "True"
      ]
     },
     "execution_count": 148,
     "metadata": {},
     "output_type": "execute_result"
    }
   ],
   "source": [
    "'foobar'.endswith('oob', 0, 4)"
   ]
  },
  {
   "cell_type": "markdown",
   "id": "54b2e6cc-b2aa-4f1e-9a49-b277553ccba5",
   "metadata": {},
   "source": [
    "s.find(\\<sub>, \\<start>, \\<end>)\n",
    "\n",
    "Searches the target string for a given substring."
   ]
  },
  {
   "cell_type": "code",
   "execution_count": 149,
   "id": "279c360b-3a96-47b8-b2ea-060d72459203",
   "metadata": {},
   "outputs": [
    {
     "data": {
      "text/plain": [
       "0"
      ]
     },
     "execution_count": 149,
     "metadata": {},
     "output_type": "execute_result"
    }
   ],
   "source": [
    "'foo bar foo baz foo qux'.find('foo')"
   ]
  },
  {
   "cell_type": "code",
   "execution_count": 150,
   "id": "94e0dc11-5091-47dc-8fbf-fa95c744274f",
   "metadata": {},
   "outputs": [
    {
     "data": {
      "text/plain": [
       "-1"
      ]
     },
     "execution_count": 150,
     "metadata": {},
     "output_type": "execute_result"
    }
   ],
   "source": [
    "'foo bar foo baz foo quz'.find('grault')"
   ]
  },
  {
   "cell_type": "code",
   "execution_count": 151,
   "id": "de5ffe99-1870-4e1d-8d01-b6b26398d1c0",
   "metadata": {},
   "outputs": [
    {
     "data": {
      "text/plain": [
       "8"
      ]
     },
     "execution_count": 151,
     "metadata": {},
     "output_type": "execute_result"
    }
   ],
   "source": [
    "'foo bar foo baz foo qux'.find('foo', 4)"
   ]
  },
  {
   "cell_type": "code",
   "execution_count": 152,
   "id": "7792c643-15c3-4998-ab72-3afee81ffb2f",
   "metadata": {},
   "outputs": [
    {
     "data": {
      "text/plain": [
       "-1"
      ]
     },
     "execution_count": 152,
     "metadata": {},
     "output_type": "execute_result"
    }
   ],
   "source": [
    "'foo bar foo baz foo qux'.find('foo', 4, 7)"
   ]
  },
  {
   "cell_type": "markdown",
   "id": "4f859c8b-8671-4aad-bead-3c0b3cd4836d",
   "metadata": {},
   "source": [
    "s.index(\\<sub>, \\<start>, \\<end>)\n",
    "\n",
    "Searches the target string for a given substring.\n",
    "\n",
    "This method is identical to .find(), except that it raises an exception if \\<sub> is not found rather than returning -1.\n",
    "   "
   ]
  },
  {
   "cell_type": "code",
   "execution_count": 153,
   "id": "05888ce1-4763-40af-b2c6-df7cab52a109",
   "metadata": {},
   "outputs": [
    {
     "ename": "ValueError",
     "evalue": "substring not found",
     "output_type": "error",
     "traceback": [
      "\u001b[0;31m---------------------------------------------------------------------------\u001b[0m",
      "\u001b[0;31mValueError\u001b[0m                                Traceback (most recent call last)",
      "\u001b[0;32m<ipython-input-153-00d42de8bb3d>\u001b[0m in \u001b[0;36m<module>\u001b[0;34m\u001b[0m\n\u001b[0;32m----> 1\u001b[0;31m \u001b[0;34m'foo bar foo baz foo qux'\u001b[0m\u001b[0;34m.\u001b[0m\u001b[0mindex\u001b[0m\u001b[0;34m(\u001b[0m\u001b[0;34m'grault'\u001b[0m\u001b[0;34m)\u001b[0m\u001b[0;34m\u001b[0m\u001b[0;34m\u001b[0m\u001b[0m\n\u001b[0m",
      "\u001b[0;31mValueError\u001b[0m: substring not found"
     ]
    }
   ],
   "source": [
    "'foo bar foo baz foo qux'.index('grault')"
   ]
  },
  {
   "cell_type": "markdown",
   "id": "db31a531-2148-4cca-a637-9a3f7f08b0e8",
   "metadata": {},
   "source": [
    "s.rfind(\\<sub>, \\<start>, \\<end>)\n",
    "\n",
    "Searches the target string for a given substing starting at the end.\n",
    "\n",
    "returns the highest index in s where substring \\<sub> is found:"
   ]
  },
  {
   "cell_type": "code",
   "execution_count": 154,
   "id": "f0815302-e04d-41ab-a6fc-f5df6ca60177",
   "metadata": {},
   "outputs": [
    {
     "data": {
      "text/plain": [
       "16"
      ]
     },
     "execution_count": 154,
     "metadata": {},
     "output_type": "execute_result"
    }
   ],
   "source": [
    "'foo bar foo baz foo qux'.rfind('foo')"
   ]
  },
  {
   "cell_type": "code",
   "execution_count": 155,
   "id": "04963255-5275-4b23-bac3-21a90cf4ed76",
   "metadata": {},
   "outputs": [
    {
     "data": {
      "text/plain": [
       "-1"
      ]
     },
     "execution_count": 155,
     "metadata": {},
     "output_type": "execute_result"
    }
   ],
   "source": [
    "'foo bar foo baz foo quz'.rfind('grault')"
   ]
  },
  {
   "cell_type": "code",
   "execution_count": 156,
   "id": "06e3140e-218c-4902-af67-7ae6e53d6d96",
   "metadata": {},
   "outputs": [
    {
     "data": {
      "text/plain": [
       "0"
      ]
     },
     "execution_count": 156,
     "metadata": {},
     "output_type": "execute_result"
    }
   ],
   "source": [
    "'foo bar foo baz foo quz'.rfind('foo', 0, 4)"
   ]
  },
  {
   "cell_type": "code",
   "execution_count": 157,
   "id": "5ae6094b-3273-4621-ad35-76f8937c02f6",
   "metadata": {},
   "outputs": [
    {
     "data": {
      "text/plain": [
       "-1"
      ]
     },
     "execution_count": 157,
     "metadata": {},
     "output_type": "execute_result"
    }
   ],
   "source": [
    "'foo bar foo baz foo qux'.rfind('foo', 10, 14)"
   ]
  },
  {
   "cell_type": "raw",
   "id": "7900d1fe-13d2-48a9-9995-8eb71fcae2e9",
   "metadata": {},
   "source": [
    "s.rindex(\\<sub>, \\<start>, \\<end>)\n",
    "\n",
    "Searches the target string for a given substring starting at the end\n",
    "\n",
    "This method is identical to .rfind(), except that it raises an exception if \\<sub> is not found rather than returning -1:"
   ]
  },
  {
   "cell_type": "code",
   "execution_count": 158,
   "id": "7e1ee39a-6d92-40f4-8426-cd7cd8692546",
   "metadata": {},
   "outputs": [
    {
     "ename": "ValueError",
     "evalue": "substring not found",
     "output_type": "error",
     "traceback": [
      "\u001b[0;31m---------------------------------------------------------------------------\u001b[0m",
      "\u001b[0;31mValueError\u001b[0m                                Traceback (most recent call last)",
      "\u001b[0;32m<ipython-input-158-7707dea6100b>\u001b[0m in \u001b[0;36m<module>\u001b[0;34m\u001b[0m\n\u001b[0;32m----> 1\u001b[0;31m \u001b[0;34m'foo bar foo baz foo qux'\u001b[0m\u001b[0;34m.\u001b[0m\u001b[0mrindex\u001b[0m\u001b[0;34m(\u001b[0m\u001b[0;34m'grault'\u001b[0m\u001b[0;34m)\u001b[0m\u001b[0;34m\u001b[0m\u001b[0;34m\u001b[0m\u001b[0m\n\u001b[0m",
      "\u001b[0;31mValueError\u001b[0m: substring not found"
     ]
    }
   ],
   "source": [
    "'foo bar foo baz foo qux'.rindex('grault')"
   ]
  },
  {
   "cell_type": "markdown",
   "id": "a7026e52-8052-4558-98e7-8bc409c4c862",
   "metadata": {},
   "source": [
    "s.startswith(\\<prefix>, \\<start>, \\<end>)\n",
    "\n",
    "Determins whether the target string starts with a given substring.\n",
    "\n"
   ]
  },
  {
   "cell_type": "code",
   "execution_count": 159,
   "id": "547b5bb5-84cd-42a2-86cc-7aacf0fc2f25",
   "metadata": {},
   "outputs": [
    {
     "data": {
      "text/plain": [
       "True"
      ]
     },
     "execution_count": 159,
     "metadata": {},
     "output_type": "execute_result"
    }
   ],
   "source": [
    "'foobar'.startswith('foo')"
   ]
  },
  {
   "cell_type": "code",
   "execution_count": 160,
   "id": "99e59f26-6145-45ad-a660-fc3e4dbd4e76",
   "metadata": {},
   "outputs": [
    {
     "data": {
      "text/plain": [
       "False"
      ]
     },
     "execution_count": 160,
     "metadata": {},
     "output_type": "execute_result"
    }
   ],
   "source": [
    "'foobar'.startswith('bar')"
   ]
  },
  {
   "cell_type": "code",
   "execution_count": 161,
   "id": "bf59e72a-1b44-44ed-8faa-239863e0b85f",
   "metadata": {},
   "outputs": [
    {
     "data": {
      "text/plain": [
       "True"
      ]
     },
     "execution_count": 161,
     "metadata": {},
     "output_type": "execute_result"
    }
   ],
   "source": [
    "'foobar'.startswith('bar', 3)"
   ]
  },
  {
   "cell_type": "code",
   "execution_count": 162,
   "id": "55815d00-3efe-472b-8495-da2f5cde80fe",
   "metadata": {},
   "outputs": [
    {
     "data": {
      "text/plain": [
       "False"
      ]
     },
     "execution_count": 162,
     "metadata": {},
     "output_type": "execute_result"
    }
   ],
   "source": [
    "'foobar'.startswith('bar', 3, 2)"
   ]
  },
  {
   "cell_type": "markdown",
   "id": "e53d60ad-208e-4806-a701-a72dca326c08",
   "metadata": {},
   "source": [
    "#### Character Classification\n",
    "\n",
    "Methods in this group classify a string based on the characters its contains."
   ]
  },
  {
   "cell_type": "markdown",
   "id": "fe0a1887-caa1-4309-b357-a81ea2bec278",
   "metadata": {},
   "source": [
    "s.isalnum()\n",
    "\n",
    "Determins wheter the target string consists of alphanumeric characters.\n",
    "\n",
    "s.isalnum() returns True if s is nonempty and all its characters are alphanumberic"
   ]
  },
  {
   "cell_type": "code",
   "execution_count": 163,
   "id": "356238db-8123-4534-8258-423035781e40",
   "metadata": {},
   "outputs": [
    {
     "data": {
      "text/plain": [
       "True"
      ]
     },
     "execution_count": 163,
     "metadata": {},
     "output_type": "execute_result"
    }
   ],
   "source": [
    "'abc123'.isalnum()"
   ]
  },
  {
   "cell_type": "code",
   "execution_count": 164,
   "id": "c5704766-9d51-4f6a-96f7-08b43f90f2bd",
   "metadata": {},
   "outputs": [
    {
     "data": {
      "text/plain": [
       "False"
      ]
     },
     "execution_count": 164,
     "metadata": {},
     "output_type": "execute_result"
    }
   ],
   "source": [
    "'abc$123'.isalnum()"
   ]
  },
  {
   "cell_type": "code",
   "execution_count": 165,
   "id": "1476cc96-594d-4aed-8817-78c8b32def4a",
   "metadata": {},
   "outputs": [
    {
     "data": {
      "text/plain": [
       "False"
      ]
     },
     "execution_count": 165,
     "metadata": {},
     "output_type": "execute_result"
    }
   ],
   "source": [
    "''.isalnum()"
   ]
  },
  {
   "cell_type": "markdown",
   "id": "ec0db79e-5305-4a3a-b539-803b37527376",
   "metadata": {},
   "source": [
    "s.isalpha()\n",
    "\n",
    "Determines whether the target string consists of alphabetic characters"
   ]
  },
  {
   "cell_type": "code",
   "execution_count": 166,
   "id": "3d0379a1-e396-4a55-9bdd-ac64a8624b52",
   "metadata": {},
   "outputs": [
    {
     "data": {
      "text/plain": [
       "True"
      ]
     },
     "execution_count": 166,
     "metadata": {},
     "output_type": "execute_result"
    }
   ],
   "source": [
    "'ABCabd'.isalpha()"
   ]
  },
  {
   "cell_type": "code",
   "execution_count": 167,
   "id": "7145f343-0889-4655-9c07-5af82f37525d",
   "metadata": {},
   "outputs": [
    {
     "data": {
      "text/plain": [
       "False"
      ]
     },
     "execution_count": 167,
     "metadata": {},
     "output_type": "execute_result"
    }
   ],
   "source": [
    "'abc123'.isalpha()"
   ]
  },
  {
   "cell_type": "markdown",
   "id": "f78b305f-7fe9-4238-bd3b-0c0e02c4afd9",
   "metadata": {},
   "source": [
    "s.isdigit()\n",
    "\n",
    "Determines whether the target string consists of digit characters"
   ]
  },
  {
   "cell_type": "code",
   "execution_count": 168,
   "id": "7afd779b-f65b-4464-8473-0f46b98c65cb",
   "metadata": {},
   "outputs": [
    {
     "data": {
      "text/plain": [
       "True"
      ]
     },
     "execution_count": 168,
     "metadata": {},
     "output_type": "execute_result"
    }
   ],
   "source": [
    "'123'.isdigit()\n"
   ]
  },
  {
   "cell_type": "code",
   "execution_count": 169,
   "id": "8b92e055-6795-4a60-be74-d3a95ea0a228",
   "metadata": {},
   "outputs": [
    {
     "data": {
      "text/plain": [
       "False"
      ]
     },
     "execution_count": 169,
     "metadata": {},
     "output_type": "execute_result"
    }
   ],
   "source": [
    "'123abc'.isdigit()"
   ]
  },
  {
   "cell_type": "markdown",
   "id": "85cc7fce-fbbf-485f-86a8-0f284f38e2b2",
   "metadata": {},
   "source": [
    "s.isidentifier()\n",
    "\n",
    "Determines whether the target string is a valid Python identifier\n"
   ]
  },
  {
   "cell_type": "code",
   "execution_count": 170,
   "id": "1341a112-c021-4ca0-a0c2-2f54d1462571",
   "metadata": {},
   "outputs": [
    {
     "data": {
      "text/plain": [
       "True"
      ]
     },
     "execution_count": 170,
     "metadata": {},
     "output_type": "execute_result"
    }
   ],
   "source": [
    "'foo32'.isidentifier()"
   ]
  },
  {
   "cell_type": "code",
   "execution_count": 171,
   "id": "da213196-7785-43a8-920b-b3003978994e",
   "metadata": {},
   "outputs": [
    {
     "data": {
      "text/plain": [
       "False"
      ]
     },
     "execution_count": 171,
     "metadata": {},
     "output_type": "execute_result"
    }
   ],
   "source": [
    "'32foo'.isidentifier()"
   ]
  },
  {
   "cell_type": "code",
   "execution_count": 172,
   "id": "e9a3c80a-7131-4d61-bedd-af375e269f8e",
   "metadata": {},
   "outputs": [
    {
     "data": {
      "text/plain": [
       "False"
      ]
     },
     "execution_count": 172,
     "metadata": {},
     "output_type": "execute_result"
    }
   ],
   "source": [
    "'foo$32'.isidentifier()"
   ]
  },
  {
   "cell_type": "markdown",
   "id": "d50ac620-95f8-47e3-8923-c48a33835490",
   "metadata": {},
   "source": [
    ".isdentifier() will return True for a string that matches a Python keyword even though that would not actually be a valid identifier:"
   ]
  },
  {
   "cell_type": "code",
   "execution_count": 173,
   "id": "99c8729e-a344-4592-ac0c-6480f7b69ed0",
   "metadata": {},
   "outputs": [
    {
     "data": {
      "text/plain": [
       "True"
      ]
     },
     "execution_count": 173,
     "metadata": {},
     "output_type": "execute_result"
    }
   ],
   "source": [
    "'and'.isidentifier()"
   ]
  },
  {
   "cell_type": "code",
   "execution_count": 176,
   "id": "317c3171-e434-4101-a61c-cfdc1e96e912",
   "metadata": {},
   "outputs": [
    {
     "data": {
      "text/plain": [
       "True"
      ]
     },
     "execution_count": 176,
     "metadata": {},
     "output_type": "execute_result"
    }
   ],
   "source": [
    "from keyword import iskeyword\n",
    "iskeyword('and')"
   ]
  },
  {
   "cell_type": "markdown",
   "id": "1b37e023-981a-425b-b613-42fe3fd327da",
   "metadata": {},
   "source": [
    "s.islower()\n",
    "\n",
    "Determins whether the target string's alphabetic characters are lowercase."
   ]
  },
  {
   "cell_type": "code",
   "execution_count": 177,
   "id": "9b9de2fe-ab2a-49e0-b192-1eb02e7b31ab",
   "metadata": {},
   "outputs": [
    {
     "data": {
      "text/plain": [
       "True"
      ]
     },
     "execution_count": 177,
     "metadata": {},
     "output_type": "execute_result"
    }
   ],
   "source": [
    "'abc'.islower()"
   ]
  },
  {
   "cell_type": "code",
   "execution_count": 178,
   "id": "d276b040-795c-4157-91c8-6de85e94daca",
   "metadata": {},
   "outputs": [
    {
     "data": {
      "text/plain": [
       "True"
      ]
     },
     "execution_count": 178,
     "metadata": {},
     "output_type": "execute_result"
    }
   ],
   "source": [
    "'abc1$d'.islower()"
   ]
  },
  {
   "cell_type": "code",
   "execution_count": 179,
   "id": "23a0bfb4-fb98-48a1-bda2-63350bcd1742",
   "metadata": {},
   "outputs": [
    {
     "data": {
      "text/plain": [
       "False"
      ]
     },
     "execution_count": 179,
     "metadata": {},
     "output_type": "execute_result"
    }
   ],
   "source": [
    "'Abc1$d'.islower()"
   ]
  },
  {
   "cell_type": "markdown",
   "id": "ba00e4a8-b0b6-4f35-a1e6-e1eae0b12ae5",
   "metadata": {},
   "source": [
    "s.isprintable()\n",
    "\n",
    "Determines whether the target string consists entirely of printable characters.\n",
    "\n",
    "*is the only .isxxx() method that returns True if s is an empty string"
   ]
  },
  {
   "cell_type": "code",
   "execution_count": 180,
   "id": "a9b2eeaf-7a1b-4750-b706-5463c2359baf",
   "metadata": {},
   "outputs": [
    {
     "data": {
      "text/plain": [
       "False"
      ]
     },
     "execution_count": 180,
     "metadata": {},
     "output_type": "execute_result"
    }
   ],
   "source": [
    "'a\\tb'.isprintable()"
   ]
  },
  {
   "cell_type": "code",
   "execution_count": 181,
   "id": "1d1de54f-2ed3-4c55-a15e-f5643a82be26",
   "metadata": {},
   "outputs": [
    {
     "data": {
      "text/plain": [
       "True"
      ]
     },
     "execution_count": 181,
     "metadata": {},
     "output_type": "execute_result"
    }
   ],
   "source": [
    "'a b'.isprintable()"
   ]
  },
  {
   "cell_type": "code",
   "execution_count": 182,
   "id": "c6e1345d-aa14-4e3a-a521-c941acf5bac4",
   "metadata": {},
   "outputs": [
    {
     "data": {
      "text/plain": [
       "True"
      ]
     },
     "execution_count": 182,
     "metadata": {},
     "output_type": "execute_result"
    }
   ],
   "source": [
    "''.isprintable()"
   ]
  },
  {
   "cell_type": "code",
   "execution_count": 183,
   "id": "29deab38-749a-4f32-88d3-09ced347cd32",
   "metadata": {},
   "outputs": [
    {
     "data": {
      "text/plain": [
       "False"
      ]
     },
     "execution_count": 183,
     "metadata": {},
     "output_type": "execute_result"
    }
   ],
   "source": [
    "'a\\nb'.isprintable()"
   ]
  },
  {
   "cell_type": "markdown",
   "id": "7994546b-45a6-422d-b97e-fc77ac257102",
   "metadata": {},
   "source": [
    "s.isspace()\n",
    "\n",
    "Determines whether the target string consists of whitespace characters."
   ]
  },
  {
   "cell_type": "code",
   "execution_count": 184,
   "id": "a17e8027-c10b-45f5-aac3-41e381c274da",
   "metadata": {},
   "outputs": [
    {
     "data": {
      "text/plain": [
       "True"
      ]
     },
     "execution_count": 184,
     "metadata": {},
     "output_type": "execute_result"
    }
   ],
   "source": [
    "' \\t \\n '.isspace()"
   ]
  },
  {
   "cell_type": "code",
   "execution_count": 185,
   "id": "a7b6ac33-fff7-43a8-b2a2-30a0cd8d144f",
   "metadata": {},
   "outputs": [
    {
     "data": {
      "text/plain": [
       "False"
      ]
     },
     "execution_count": 185,
     "metadata": {},
     "output_type": "execute_result"
    }
   ],
   "source": [
    "'  a  '.isspace()"
   ]
  },
  {
   "cell_type": "code",
   "execution_count": 186,
   "id": "85f65c5e-381a-4972-baa6-5a834b7ad493",
   "metadata": {},
   "outputs": [
    {
     "data": {
      "text/plain": [
       "True"
      ]
     },
     "execution_count": 186,
     "metadata": {},
     "output_type": "execute_result"
    }
   ],
   "source": [
    "'\\f\\u2005\\r'.isspace()"
   ]
  },
  {
   "cell_type": "markdown",
   "id": "8d086c0a-1fd0-46b2-9030-45c31846dcf0",
   "metadata": {},
   "source": [
    "s.istitle()\n",
    "\n",
    "Determines whether the target string is title cased.\n",
    "\n",
    "Uppercase characters may only follow uncased characters and lowercase characters only cased ones"
   ]
  },
  {
   "cell_type": "code",
   "execution_count": 188,
   "id": "5b8ad2ec-c37a-484c-8e44-2e0396547b7e",
   "metadata": {},
   "outputs": [
    {
     "data": {
      "text/plain": [
       "True"
      ]
     },
     "execution_count": 188,
     "metadata": {},
     "output_type": "execute_result"
    }
   ],
   "source": [
    "'This Is A Title'.istitle()"
   ]
  },
  {
   "cell_type": "code",
   "execution_count": 189,
   "id": "d8ee4d87-20b8-48d4-892b-1e897d64421b",
   "metadata": {},
   "outputs": [
    {
     "data": {
      "text/plain": [
       "False"
      ]
     },
     "execution_count": 189,
     "metadata": {},
     "output_type": "execute_result"
    }
   ],
   "source": [
    "'This is a title'.istitle()"
   ]
  },
  {
   "cell_type": "code",
   "execution_count": 190,
   "id": "8fbe1590-8b7b-41ed-9c3a-5082debbf9d1",
   "metadata": {},
   "outputs": [
    {
     "data": {
      "text/plain": [
       "True"
      ]
     },
     "execution_count": 190,
     "metadata": {},
     "output_type": "execute_result"
    }
   ],
   "source": [
    "'Give Me The #$#@ Ball!'.istitle()"
   ]
  },
  {
   "cell_type": "markdown",
   "id": "16ecc4bf-f9a5-46e4-8477-39bb0172b092",
   "metadata": {},
   "source": [
    "s.isupper()\n",
    "\n",
    "Determines whether the target string's alphabetic characters are uppercase"
   ]
  },
  {
   "cell_type": "code",
   "execution_count": 191,
   "id": "c1e5861b-0fdd-466e-801a-c58504876b9c",
   "metadata": {},
   "outputs": [
    {
     "data": {
      "text/plain": [
       "True"
      ]
     },
     "execution_count": 191,
     "metadata": {},
     "output_type": "execute_result"
    }
   ],
   "source": [
    "'ABC'.isupper()"
   ]
  },
  {
   "cell_type": "code",
   "execution_count": 193,
   "id": "0fef7b68-8e34-444f-8d8a-8abab30207f4",
   "metadata": {},
   "outputs": [
    {
     "data": {
      "text/plain": [
       "True"
      ]
     },
     "execution_count": 193,
     "metadata": {},
     "output_type": "execute_result"
    }
   ],
   "source": [
    "'ABC1\\$D'.isupper()"
   ]
  },
  {
   "cell_type": "code",
   "execution_count": 194,
   "id": "99c039ec-3309-4ef8-87f8-7472eca9fb92",
   "metadata": {},
   "outputs": [
    {
     "data": {
      "text/plain": [
       "False"
      ]
     },
     "execution_count": 194,
     "metadata": {},
     "output_type": "execute_result"
    }
   ],
   "source": [
    "'Abc1$'.isupper()"
   ]
  },
  {
   "cell_type": "code",
   "execution_count": null,
   "id": "6652f8f7-fbbf-42d3-9d74-b4e657b7b6cc",
   "metadata": {},
   "outputs": [],
   "source": []
  }
 ],
 "metadata": {
  "kernelspec": {
   "display_name": "Python 3",
   "language": "python",
   "name": "python3"
  },
  "language_info": {
   "codemirror_mode": {
    "name": "ipython",
    "version": 3
   },
   "file_extension": ".py",
   "mimetype": "text/x-python",
   "name": "python",
   "nbconvert_exporter": "python",
   "pygments_lexer": "ipython3",
   "version": "3.8.8"
  }
 },
 "nbformat": 4,
 "nbformat_minor": 5
}
