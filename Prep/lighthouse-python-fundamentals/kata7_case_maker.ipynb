{
 "cells": [
  {
   "cell_type": "markdown",
   "id": "7bbfd2dd-6912-4985-b658-c5154ba43c43",
   "metadata": {},
   "source": [
    "Create a function named camelCase that will convert a string to a camel case, and return the result."
   ]
  },
  {
   "cell_type": "code",
   "execution_count": 11,
   "id": "fd48a79a-5fdb-4e18-8d05-8742ae42a8a6",
   "metadata": {},
   "outputs": [
    {
     "name": "stdout",
     "output_type": "stream",
     "text": [
      "thisIsAString\n",
      "loopyLighthouse\n",
      "supercalifragalisticexpialidocious\n"
     ]
    }
   ],
   "source": [
    "def camelCase(input):\n",
    "    input = input.strip()\n",
    "    string = ''\n",
    "    capitalize_next_char = False\n",
    "    \n",
    "    for index,char in enumerate(input):\n",
    "        if not char.isspace():\n",
    "            if input[index-1].isspace():\n",
    "                string += char.upper()\n",
    "            else:\n",
    "                string += char\n",
    "    return string       \n",
    "\n",
    "print(camelCase('this is a string'))\n",
    "print(camelCase('loopy lighthouse'))\n",
    "print(camelCase('supercalifragalisticexpialidocious'))"
   ]
  },
  {
   "cell_type": "code",
   "execution_count": null,
   "id": "8b18037a-14ec-4c70-9302-0e2e3a947dad",
   "metadata": {},
   "outputs": [],
   "source": []
  }
 ],
 "metadata": {
  "kernelspec": {
   "display_name": "Python 3",
   "language": "python",
   "name": "python3"
  },
  "language_info": {
   "codemirror_mode": {
    "name": "ipython",
    "version": 3
   },
   "file_extension": ".py",
   "mimetype": "text/x-python",
   "name": "python",
   "nbconvert_exporter": "python",
   "pygments_lexer": "ipython3",
   "version": "3.8.8"
  }
 },
 "nbformat": 4,
 "nbformat_minor": 5
}
