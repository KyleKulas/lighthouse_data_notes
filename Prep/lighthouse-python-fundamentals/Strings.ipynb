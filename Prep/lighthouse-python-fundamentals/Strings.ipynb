{
 "cells": [
  {
   "cell_type": "markdown",
   "id": "bd8d289f-967e-42f2-9e28-b95de8659dc7",
   "metadata": {},
   "source": [
    "# Strings"
   ]
  },
  {
   "cell_type": "code",
   "execution_count": 1,
   "id": "9e45eb66-81b3-49ed-9983-571ca343c0fd",
   "metadata": {},
   "outputs": [
    {
     "data": {
      "text/plain": [
       "'Hello World!'"
      ]
     },
     "execution_count": 1,
     "metadata": {},
     "output_type": "execute_result"
    }
   ],
   "source": [
    "\"Hello World!\""
   ]
  },
  {
   "cell_type": "code",
   "execution_count": 2,
   "id": "994da454-c208-4233-8f17-4145db92ea5b",
   "metadata": {},
   "outputs": [
    {
     "ename": "SyntaxError",
     "evalue": "invalid syntax (<ipython-input-2-2e0b12dd3e3e>, line 1)",
     "output_type": "error",
     "traceback": [
      "\u001b[0;36m  File \u001b[0;32m\"<ipython-input-2-2e0b12dd3e3e>\"\u001b[0;36m, line \u001b[0;32m1\u001b[0m\n\u001b[0;31m    print('Let's get down to business!')\u001b[0m\n\u001b[0m               ^\u001b[0m\n\u001b[0;31mSyntaxError\u001b[0m\u001b[0;31m:\u001b[0m invalid syntax\n"
     ]
    }
   ],
   "source": [
    "print('Let's get down to business!')"
   ]
  },
  {
   "cell_type": "code",
   "execution_count": 3,
   "id": "f148a657-1079-43af-b2b1-13b621379f94",
   "metadata": {},
   "outputs": [
    {
     "name": "stdout",
     "output_type": "stream",
     "text": [
      "Let's get down to business!\n"
     ]
    }
   ],
   "source": [
    "print(\"Let's get down to business!\")"
   ]
  },
  {
   "cell_type": "code",
   "execution_count": 4,
   "id": "fa060368-889f-413a-bba8-79cff20604bf",
   "metadata": {},
   "outputs": [
    {
     "name": "stdout",
     "output_type": "stream",
     "text": [
      "I said, \"we should go\" and we left.\n"
     ]
    }
   ],
   "source": [
    "print('I said, \"we should go\" and we left.')"
   ]
  },
  {
   "cell_type": "code",
   "execution_count": 5,
   "id": "eb2f75f6-fef1-42f6-abf0-3418dd934c77",
   "metadata": {},
   "outputs": [
    {
     "ename": "SyntaxError",
     "evalue": "invalid syntax (<ipython-input-5-980bf52fa4fd>, line 1)",
     "output_type": "error",
     "traceback": [
      "\u001b[0;36m  File \u001b[0;32m\"<ipython-input-5-980bf52fa4fd>\"\u001b[0;36m, line \u001b[0;32m1\u001b[0m\n\u001b[0;31m    print(\"I said, \"we should go\" and we left.\")\u001b[0m\n\u001b[0m                    ^\u001b[0m\n\u001b[0;31mSyntaxError\u001b[0m\u001b[0;31m:\u001b[0m invalid syntax\n"
     ]
    }
   ],
   "source": [
    "print(\"I said, \"we should go\" and we left.\")"
   ]
  },
  {
   "cell_type": "code",
   "execution_count": 6,
   "id": "8ff7d734-cc76-406a-b63c-fe5ce915e693",
   "metadata": {},
   "outputs": [
    {
     "ename": "SyntaxError",
     "evalue": "invalid syntax (<ipython-input-6-3046f89fe10b>, line 1)",
     "output_type": "error",
     "traceback": [
      "\u001b[0;36m  File \u001b[0;32m\"<ipython-input-6-3046f89fe10b>\"\u001b[0;36m, line \u001b[0;32m1\u001b[0m\n\u001b[0;31m    print(\"She asked, \"Can't we just leave?\" If only it was that simple.\")\u001b[0m\n\u001b[0m                       ^\u001b[0m\n\u001b[0;31mSyntaxError\u001b[0m\u001b[0;31m:\u001b[0m invalid syntax\n"
     ]
    }
   ],
   "source": [
    "print(\"She asked, \"Can't we just leave?\" If only it was that simple.\")"
   ]
  },
  {
   "cell_type": "code",
   "execution_count": 7,
   "id": "550847ec-8d3a-4778-ad95-b9d9b8e949ed",
   "metadata": {},
   "outputs": [
    {
     "ename": "SyntaxError",
     "evalue": "invalid syntax (<ipython-input-7-6a3f9c6a165d>, line 1)",
     "output_type": "error",
     "traceback": [
      "\u001b[0;36m  File \u001b[0;32m\"<ipython-input-7-6a3f9c6a165d>\"\u001b[0;36m, line \u001b[0;32m1\u001b[0m\n\u001b[0;31m    print('she asked, \"Can't we just leave?\" If only it was that simple.')\u001b[0m\n\u001b[0m                           ^\u001b[0m\n\u001b[0;31mSyntaxError\u001b[0m\u001b[0;31m:\u001b[0m invalid syntax\n"
     ]
    }
   ],
   "source": [
    "print('she asked, \"Can't we just leave?\" If only it was that simple.')"
   ]
  },
  {
   "cell_type": "code",
   "execution_count": 8,
   "id": "3e4d3e16-450b-4fee-9c7c-02ed7824eaf5",
   "metadata": {},
   "outputs": [
    {
     "name": "stdout",
     "output_type": "stream",
     "text": [
      "She asked, \"Can't we just leave?\" If only it was that simple.\n"
     ]
    }
   ],
   "source": [
    "print(\"She asked, \\\"Can't we just leave?\\\" If only it was that simple.\")"
   ]
  },
  {
   "cell_type": "code",
   "execution_count": 9,
   "id": "03b41fea-b19e-4cac-bedd-a6ede4078fc7",
   "metadata": {},
   "outputs": [
    {
     "name": "stdout",
     "output_type": "stream",
     "text": [
      "She asked, \"Can't we just leave?\" If only it was that simple.\n"
     ]
    }
   ],
   "source": [
    "print('She asked, \"Can\\'t we just leave?\" If only it was that simple.')"
   ]
  },
  {
   "cell_type": "code",
   "execution_count": 26,
   "id": "fab9cfe7-90cd-48c5-ab5a-6022f02bff4d",
   "metadata": {},
   "outputs": [
    {
     "data": {
      "text/plain": [
       "'  🚀  '"
      ]
     },
     "execution_count": 26,
     "metadata": {},
     "output_type": "execute_result"
    }
   ],
   "source": [
    "\"  \\U0001f680  \""
   ]
  },
  {
   "cell_type": "markdown",
   "id": "d42ad6b8-87f7-4985-b891-cac026894fe5",
   "metadata": {},
   "source": [
    "### String Operations"
   ]
  },
  {
   "cell_type": "code",
   "execution_count": 34,
   "id": "dbc73117-6e66-4655-a3cd-917024b8e20d",
   "metadata": {},
   "outputs": [
    {
     "data": {
      "text/plain": [
       "'foobar'"
      ]
     },
     "execution_count": 34,
     "metadata": {},
     "output_type": "execute_result"
    }
   ],
   "source": [
    "s = 'foo'\n",
    "t = 'bar'\n",
    "u = 'baz'\n",
    "\n",
    "s + t"
   ]
  },
  {
   "cell_type": "code",
   "execution_count": 35,
   "id": "807e0d54-2cdb-4322-b296-100433db5510",
   "metadata": {},
   "outputs": [
    {
     "data": {
      "text/plain": [
       "'foobarbaz'"
      ]
     },
     "execution_count": 35,
     "metadata": {},
     "output_type": "execute_result"
    }
   ],
   "source": [
    "s + t + u"
   ]
  },
  {
   "cell_type": "code",
   "execution_count": 36,
   "id": "4548402f-e9d5-4625-90d1-207150e09d9c",
   "metadata": {},
   "outputs": [
    {
     "name": "stdout",
     "output_type": "stream",
     "text": [
      "Go team!!!\n"
     ]
    }
   ],
   "source": [
    "print('Go team' + '!!!')"
   ]
  },
  {
   "cell_type": "code",
   "execution_count": 37,
   "id": "f2bcda78-4721-4154-8e03-7c96b39e15d4",
   "metadata": {},
   "outputs": [
    {
     "data": {
      "text/plain": [
       "'foo.foo.foo.foo.'"
      ]
     },
     "execution_count": 37,
     "metadata": {},
     "output_type": "execute_result"
    }
   ],
   "source": [
    "s = 'foo.'\n",
    "\n",
    "s * 4"
   ]
  },
  {
   "cell_type": "code",
   "execution_count": 38,
   "id": "d4d2bf18-594b-4a57-aee1-7ff93467de95",
   "metadata": {},
   "outputs": [
    {
     "data": {
      "text/plain": [
       "'foo.foo.foo.foo.'"
      ]
     },
     "execution_count": 38,
     "metadata": {},
     "output_type": "execute_result"
    }
   ],
   "source": [
    "4 * s"
   ]
  },
  {
   "cell_type": "code",
   "execution_count": 39,
   "id": "af914ac8-8d23-4738-86e6-48038433f311",
   "metadata": {},
   "outputs": [
    {
     "data": {
      "text/plain": [
       "''"
      ]
     },
     "execution_count": 39,
     "metadata": {},
     "output_type": "execute_result"
    }
   ],
   "source": [
    "'foo' * -8"
   ]
  },
  {
   "cell_type": "markdown",
   "id": "53c71c6b-746c-4e84-8a8d-0adad6aa7480",
   "metadata": {},
   "source": [
    "#### The in Operator"
   ]
  },
  {
   "cell_type": "code",
   "execution_count": 40,
   "id": "d06a0cb1-9248-4806-8028-573e8ee55c5d",
   "metadata": {},
   "outputs": [
    {
     "data": {
      "text/plain": [
       "True"
      ]
     },
     "execution_count": 40,
     "metadata": {},
     "output_type": "execute_result"
    }
   ],
   "source": [
    "s = 'foo'\n",
    "s in 'That\\'s food for thought.'"
   ]
  },
  {
   "cell_type": "code",
   "execution_count": 41,
   "id": "68865697-82fc-443d-8172-481fe32ff93f",
   "metadata": {},
   "outputs": [
    {
     "data": {
      "text/plain": [
       "False"
      ]
     },
     "execution_count": 41,
     "metadata": {},
     "output_type": "execute_result"
    }
   ],
   "source": [
    "s in 'That\\'s good for now.'"
   ]
  },
  {
   "cell_type": "code",
   "execution_count": 42,
   "id": "04a00e5a-b0b3-4f96-a9e2-c3b7bf3aab89",
   "metadata": {},
   "outputs": [
    {
     "data": {
      "text/plain": [
       "True"
      ]
     },
     "execution_count": 42,
     "metadata": {},
     "output_type": "execute_result"
    }
   ],
   "source": [
    "'z' not in 'abc'"
   ]
  },
  {
   "cell_type": "code",
   "execution_count": 43,
   "id": "a7acb22d-4fac-419a-82ed-e184a2c68648",
   "metadata": {},
   "outputs": [
    {
     "data": {
      "text/plain": [
       "False"
      ]
     },
     "execution_count": 43,
     "metadata": {},
     "output_type": "execute_result"
    }
   ],
   "source": [
    "'z' not in 'xyz'"
   ]
  },
  {
   "cell_type": "markdown",
   "id": "9e21b8cb-9b5f-4fdd-954e-cd2de2699153",
   "metadata": {},
   "source": [
    "#### Built-in String Functions"
   ]
  },
  {
   "cell_type": "markdown",
   "id": "283a21c5-7835-485d-b175-6cd99b66217d",
   "metadata": {},
   "source": [
    "chr()  Converts an integer to a character  \n",
    "ord()  Converts a character to an integer  \n",
    "len()  Returns the length of a string  \n",
    "str()  Returns a string representation of an object"
   ]
  },
  {
   "cell_type": "code",
   "execution_count": 44,
   "id": "115233cd-b8bf-49e4-89b7-e6cdfe4dfd36",
   "metadata": {},
   "outputs": [
    {
     "data": {
      "text/plain": [
       "97"
      ]
     },
     "execution_count": 44,
     "metadata": {},
     "output_type": "execute_result"
    }
   ],
   "source": [
    "ord('a')"
   ]
  },
  {
   "cell_type": "code",
   "execution_count": 45,
   "id": "747ec9d6-4b09-4dd6-a7c8-9f75fba6cc03",
   "metadata": {},
   "outputs": [
    {
     "data": {
      "text/plain": [
       "35"
      ]
     },
     "execution_count": 45,
     "metadata": {},
     "output_type": "execute_result"
    }
   ],
   "source": [
    "ord('#')"
   ]
  },
  {
   "cell_type": "code",
   "execution_count": 75,
   "id": "76936260-39ec-4730-ae9f-7386fec0c73d",
   "metadata": {},
   "outputs": [
    {
     "data": {
      "text/plain": [
       "8364"
      ]
     },
     "execution_count": 75,
     "metadata": {},
     "output_type": "execute_result"
    }
   ],
   "source": [
    " ord('€')"
   ]
  },
  {
   "cell_type": "code",
   "execution_count": 79,
   "id": "dbc06a27-74f8-422d-89ff-661fc7973ad8",
   "metadata": {},
   "outputs": [
    {
     "data": {
      "text/plain": [
       "8721"
      ]
     },
     "execution_count": 79,
     "metadata": {},
     "output_type": "execute_result"
    }
   ],
   "source": [
    "ord('∑')"
   ]
  },
  {
   "cell_type": "markdown",
   "id": "1f4d947f-0ca7-40a6-b6bd-403ece7e5177",
   "metadata": {},
   "source": [
    "#### Integer literals"
   ]
  },
  {
   "cell_type": "markdown",
   "id": "4243983e-cdda-4be7-a54d-956906347edf",
   "metadata": {},
   "source": [
    "Binary"
   ]
  },
  {
   "cell_type": "code",
   "execution_count": 46,
   "id": "1e88b5ec-ffc7-49d1-80f8-2fbc12e649cf",
   "metadata": {},
   "outputs": [
    {
     "data": {
      "text/plain": [
       "3"
      ]
     },
     "execution_count": 46,
     "metadata": {},
     "output_type": "execute_result"
    }
   ],
   "source": [
    "0b11"
   ]
  },
  {
   "cell_type": "markdown",
   "id": "5ce14371-eae2-4d94-b305-7143bb4ef67c",
   "metadata": {},
   "source": [
    "Octal"
   ]
  },
  {
   "cell_type": "code",
   "execution_count": 47,
   "id": "2cb85c6d-6ec5-48c2-ab4c-943bfdfe44cf",
   "metadata": {},
   "outputs": [
    {
     "data": {
      "text/plain": [
       "9"
      ]
     },
     "execution_count": 47,
     "metadata": {},
     "output_type": "execute_result"
    }
   ],
   "source": [
    "0o11"
   ]
  },
  {
   "cell_type": "markdown",
   "id": "64236a11-d4f3-4524-bd79-2db6bf952ddb",
   "metadata": {},
   "source": [
    "Hex"
   ]
  },
  {
   "cell_type": "code",
   "execution_count": 48,
   "id": "1ecc6855-d4f6-40bc-9102-82170f446a6f",
   "metadata": {},
   "outputs": [
    {
     "data": {
      "text/plain": [
       "17"
      ]
     },
     "execution_count": 48,
     "metadata": {},
     "output_type": "execute_result"
    }
   ],
   "source": [
    "0x11"
   ]
  },
  {
   "cell_type": "markdown",
   "id": "59a5605f-15d2-47f1-88ed-48f33a187ed0",
   "metadata": {},
   "source": [
    "Unicode"
   ]
  },
  {
   "cell_type": "code",
   "execution_count": 62,
   "id": "ae244f02-ac33-4316-9bb0-4901cdc15e30",
   "metadata": {},
   "outputs": [
    {
     "data": {
      "text/plain": [
       "'與'"
      ]
     },
     "execution_count": 62,
     "metadata": {},
     "output_type": "execute_result"
    }
   ],
   "source": [
    "'\\u8207'"
   ]
  },
  {
   "cell_type": "markdown",
   "id": "8ffdc20d-0e54-4632-8829-e2d8db4daa43",
   "metadata": {},
   "source": [
    "chr(n)\n",
    "\n",
    "chr() does the reverse of ord(). Given numeric value, returns string"
   ]
  },
  {
   "cell_type": "code",
   "execution_count": 80,
   "id": "7cf273fe-3720-4102-9f06-ef6de6df49ce",
   "metadata": {},
   "outputs": [
    {
     "data": {
      "text/plain": [
       "'a'"
      ]
     },
     "execution_count": 80,
     "metadata": {},
     "output_type": "execute_result"
    }
   ],
   "source": [
    "chr(97)"
   ]
  },
  {
   "cell_type": "code",
   "execution_count": 81,
   "id": "36325c4c-3eba-4b8b-980f-c69613499d02",
   "metadata": {},
   "outputs": [
    {
     "data": {
      "text/plain": [
       "'#'"
      ]
     },
     "execution_count": 81,
     "metadata": {},
     "output_type": "execute_result"
    }
   ],
   "source": [
    "chr(35)"
   ]
  },
  {
   "cell_type": "code",
   "execution_count": 82,
   "id": "9b285ee2-4441-47f7-93b8-b40f4033e882",
   "metadata": {},
   "outputs": [
    {
     "data": {
      "text/plain": [
       "'€'"
      ]
     },
     "execution_count": 82,
     "metadata": {},
     "output_type": "execute_result"
    }
   ],
   "source": [
    "chr(8364)"
   ]
  },
  {
   "cell_type": "code",
   "execution_count": 83,
   "id": "0efac018-fe18-48a4-8630-1a03f2dfb2e5",
   "metadata": {},
   "outputs": [
    {
     "data": {
      "text/plain": [
       "'∑'"
      ]
     },
     "execution_count": 83,
     "metadata": {},
     "output_type": "execute_result"
    }
   ],
   "source": [
    "chr(8721)"
   ]
  },
  {
   "cell_type": "code",
   "execution_count": null,
   "id": "22fb9059-86ac-4bd8-9f8c-e21c6da05c73",
   "metadata": {},
   "outputs": [],
   "source": [
    "for i in range(9999):\n",
    "    print(chr(i) + \"   \" +  str(i))\n"
   ]
  },
  {
   "cell_type": "markdown",
   "id": "17d4e45d-c917-4e37-b953-dc5056d9d218",
   "metadata": {},
   "source": [
    "len(s)\n",
    "\n",
    "Returns the length of a string"
   ]
  },
  {
   "cell_type": "code",
   "execution_count": 85,
   "id": "6dc26327-74c0-419c-9694-18bd41b79b63",
   "metadata": {},
   "outputs": [
    {
     "data": {
      "text/plain": [
       "14"
      ]
     },
     "execution_count": 85,
     "metadata": {},
     "output_type": "execute_result"
    }
   ],
   "source": [
    "s = 'I am a string.'\n",
    "len(s)"
   ]
  },
  {
   "cell_type": "markdown",
   "id": "8d922de1-8116-4e79-af53-6aadaa2eafb9",
   "metadata": {},
   "source": [
    "str(obj)\n",
    "\n",
    "Returns a tring representation of an object.\n"
   ]
  },
  {
   "cell_type": "code",
   "execution_count": 86,
   "id": "378ceb9d-813b-4a88-82dc-4c7aed12fd33",
   "metadata": {},
   "outputs": [
    {
     "data": {
      "text/plain": [
       "'49.2'"
      ]
     },
     "execution_count": 86,
     "metadata": {},
     "output_type": "execute_result"
    }
   ],
   "source": [
    "str(49.2)"
   ]
  },
  {
   "cell_type": "code",
   "execution_count": 87,
   "id": "e7b0a52c-f338-4ca0-a4a7-d2fedcd35bf5",
   "metadata": {},
   "outputs": [
    {
     "data": {
      "text/plain": [
       "'(3+4j)'"
      ]
     },
     "execution_count": 87,
     "metadata": {},
     "output_type": "execute_result"
    }
   ],
   "source": [
    "str(3+4j)"
   ]
  },
  {
   "cell_type": "code",
   "execution_count": 88,
   "id": "798216e4-d073-4c23-b0e4-5d67f970b574",
   "metadata": {},
   "outputs": [
    {
     "data": {
      "text/plain": [
       "'32'"
      ]
     },
     "execution_count": 88,
     "metadata": {},
     "output_type": "execute_result"
    }
   ],
   "source": [
    "str(3 + 29)"
   ]
  },
  {
   "cell_type": "code",
   "execution_count": 89,
   "id": "914580d7-b54b-42f9-bd98-dd155d3bafbc",
   "metadata": {},
   "outputs": [
    {
     "data": {
      "text/plain": [
       "'foo'"
      ]
     },
     "execution_count": 89,
     "metadata": {},
     "output_type": "execute_result"
    }
   ],
   "source": [
    "str('foo')"
   ]
  },
  {
   "cell_type": "markdown",
   "id": "92523624-1f23-4ebf-af31-b21210114058",
   "metadata": {},
   "source": [
    "#### String Indexing"
   ]
  },
  {
   "cell_type": "code",
   "execution_count": 90,
   "id": "74065334-0d56-421c-b808-c20bfc0d6d84",
   "metadata": {},
   "outputs": [
    {
     "data": {
      "text/plain": [
       "'f'"
      ]
     },
     "execution_count": 90,
     "metadata": {},
     "output_type": "execute_result"
    }
   ],
   "source": [
    "s = 'foobar'\n",
    "\n",
    "s[0]"
   ]
  },
  {
   "cell_type": "code",
   "execution_count": 91,
   "id": "fcbc4997-78f6-4a0e-abee-bda9bf18ab8a",
   "metadata": {},
   "outputs": [
    {
     "data": {
      "text/plain": [
       "'o'"
      ]
     },
     "execution_count": 91,
     "metadata": {},
     "output_type": "execute_result"
    }
   ],
   "source": [
    "s[1]"
   ]
  },
  {
   "cell_type": "code",
   "execution_count": 92,
   "id": "b2c14d70-7ea3-4c91-ab38-f2f73a8b4879",
   "metadata": {},
   "outputs": [
    {
     "data": {
      "text/plain": [
       "'o'"
      ]
     },
     "execution_count": 92,
     "metadata": {},
     "output_type": "execute_result"
    }
   ],
   "source": [
    "s[2]"
   ]
  },
  {
   "cell_type": "code",
   "execution_count": 93,
   "id": "169dc839-1d53-4b8e-a4e3-8b31ad15dbec",
   "metadata": {},
   "outputs": [
    {
     "data": {
      "text/plain": [
       "'b'"
      ]
     },
     "execution_count": 93,
     "metadata": {},
     "output_type": "execute_result"
    }
   ],
   "source": [
    "s[3]"
   ]
  },
  {
   "cell_type": "code",
   "execution_count": 94,
   "id": "99e1c2c4-5f79-4df7-9f85-19bf8ea0fed8",
   "metadata": {},
   "outputs": [
    {
     "data": {
      "text/plain": [
       "6"
      ]
     },
     "execution_count": 94,
     "metadata": {},
     "output_type": "execute_result"
    }
   ],
   "source": [
    "len(s)"
   ]
  },
  {
   "cell_type": "code",
   "execution_count": 95,
   "id": "b1957155-13a1-4e05-b89f-d229599e75ee",
   "metadata": {},
   "outputs": [
    {
     "data": {
      "text/plain": [
       "'r'"
      ]
     },
     "execution_count": 95,
     "metadata": {},
     "output_type": "execute_result"
    }
   ],
   "source": [
    "s[len(s)-1]"
   ]
  },
  {
   "cell_type": "code",
   "execution_count": 96,
   "id": "11043ddd-3d2d-4e51-b3e6-5fdb6a6aac73",
   "metadata": {},
   "outputs": [
    {
     "ename": "IndexError",
     "evalue": "string index out of range",
     "output_type": "error",
     "traceback": [
      "\u001b[0;31m---------------------------------------------------------------------------\u001b[0m",
      "\u001b[0;31mIndexError\u001b[0m                                Traceback (most recent call last)",
      "\u001b[0;32m<ipython-input-96-c4bc18d4aa1b>\u001b[0m in \u001b[0;36m<module>\u001b[0;34m\u001b[0m\n\u001b[0;32m----> 1\u001b[0;31m \u001b[0ms\u001b[0m\u001b[0;34m[\u001b[0m\u001b[0;36m6\u001b[0m\u001b[0;34m]\u001b[0m\u001b[0;34m\u001b[0m\u001b[0;34m\u001b[0m\u001b[0m\n\u001b[0m",
      "\u001b[0;31mIndexError\u001b[0m: string index out of range"
     ]
    }
   ],
   "source": [
    "s[6]"
   ]
  },
  {
   "cell_type": "code",
   "execution_count": 97,
   "id": "bc00c0bd-89f5-4b7f-a313-796123184d96",
   "metadata": {},
   "outputs": [
    {
     "data": {
      "text/plain": [
       "'r'"
      ]
     },
     "execution_count": 97,
     "metadata": {},
     "output_type": "execute_result"
    }
   ],
   "source": [
    "s[-1]"
   ]
  },
  {
   "cell_type": "code",
   "execution_count": 98,
   "id": "24483a72-0177-4328-bc57-813652c07261",
   "metadata": {},
   "outputs": [
    {
     "data": {
      "text/plain": [
       "'a'"
      ]
     },
     "execution_count": 98,
     "metadata": {},
     "output_type": "execute_result"
    }
   ],
   "source": [
    "s[-2]"
   ]
  },
  {
   "cell_type": "code",
   "execution_count": 99,
   "id": "22d3e696-e08f-42bc-9908-6e7744772ad8",
   "metadata": {},
   "outputs": [
    {
     "data": {
      "text/plain": [
       "6"
      ]
     },
     "execution_count": 99,
     "metadata": {},
     "output_type": "execute_result"
    }
   ],
   "source": [
    "len(s)"
   ]
  },
  {
   "cell_type": "code",
   "execution_count": 100,
   "id": "0cf516be-b5ba-4a85-89c7-25f30e51cb9f",
   "metadata": {},
   "outputs": [
    {
     "data": {
      "text/plain": [
       "'f'"
      ]
     },
     "execution_count": 100,
     "metadata": {},
     "output_type": "execute_result"
    }
   ],
   "source": [
    "s[-len(s)]"
   ]
  },
  {
   "cell_type": "code",
   "execution_count": 101,
   "id": "483d1f87-d928-477b-93df-7faf64edc32e",
   "metadata": {},
   "outputs": [
    {
     "ename": "IndexError",
     "evalue": "string index out of range",
     "output_type": "error",
     "traceback": [
      "\u001b[0;31m---------------------------------------------------------------------------\u001b[0m",
      "\u001b[0;31mIndexError\u001b[0m                                Traceback (most recent call last)",
      "\u001b[0;32m<ipython-input-101-f93c2f8ec6cd>\u001b[0m in \u001b[0;36m<module>\u001b[0;34m\u001b[0m\n\u001b[0;32m----> 1\u001b[0;31m \u001b[0ms\u001b[0m\u001b[0;34m[\u001b[0m\u001b[0;34m-\u001b[0m\u001b[0;36m7\u001b[0m\u001b[0;34m]\u001b[0m\u001b[0;34m\u001b[0m\u001b[0;34m\u001b[0m\u001b[0m\n\u001b[0m",
      "\u001b[0;31mIndexError\u001b[0m: string index out of range"
     ]
    }
   ],
   "source": [
    "s[-7]"
   ]
  },
  {
   "cell_type": "markdown",
   "id": "48fdde5c-6ef7-4187-aa11-dc9db563769d",
   "metadata": {},
   "source": [
    "#### String Slicing"
   ]
  },
  {
   "cell_type": "code",
   "execution_count": 102,
   "id": "179b558f-7362-4857-8b6a-63ffaeaee70c",
   "metadata": {},
   "outputs": [
    {
     "data": {
      "text/plain": [
       "'oba'"
      ]
     },
     "execution_count": 102,
     "metadata": {},
     "output_type": "execute_result"
    }
   ],
   "source": [
    "s = 'foobar'\n",
    "s[2:5]"
   ]
  },
  {
   "cell_type": "markdown",
   "id": "a4c115be-1af3-43a5-9832-aede1bf245c7",
   "metadata": {},
   "source": [
    "the expression s[m:n] will return a substring that is n - m characters in length"
   ]
  },
  {
   "cell_type": "code",
   "execution_count": 103,
   "id": "3fefe281-d9a7-4cc3-8430-47667cdc7ae1",
   "metadata": {},
   "outputs": [
    {
     "data": {
      "text/plain": [
       "'foob'"
      ]
     },
     "execution_count": 103,
     "metadata": {},
     "output_type": "execute_result"
    }
   ],
   "source": [
    "s[:4]"
   ]
  },
  {
   "cell_type": "code",
   "execution_count": 104,
   "id": "1951c43d-2a9b-4b42-b8f6-208e3381c4d1",
   "metadata": {},
   "outputs": [
    {
     "data": {
      "text/plain": [
       "'foob'"
      ]
     },
     "execution_count": 104,
     "metadata": {},
     "output_type": "execute_result"
    }
   ],
   "source": [
    "s[0:4]"
   ]
  },
  {
   "cell_type": "code",
   "execution_count": 105,
   "id": "81ff8b0c-cd11-4ba5-b459-0b37ac44e307",
   "metadata": {},
   "outputs": [
    {
     "data": {
      "text/plain": [
       "'obar'"
      ]
     },
     "execution_count": 105,
     "metadata": {},
     "output_type": "execute_result"
    }
   ],
   "source": [
    "s[2:]"
   ]
  },
  {
   "cell_type": "code",
   "execution_count": 106,
   "id": "52d2113d-8418-4b6d-b629-da85df9526b0",
   "metadata": {},
   "outputs": [
    {
     "data": {
      "text/plain": [
       "'obar'"
      ]
     },
     "execution_count": 106,
     "metadata": {},
     "output_type": "execute_result"
    }
   ],
   "source": [
    "s[2:len(s)]"
   ]
  },
  {
   "cell_type": "markdown",
   "id": "a6490c64-ffaa-43bb-bac7-18f64c64b605",
   "metadata": {},
   "source": [
    "For any string s and any integer n(0 ≤ n ≤ len(s)), s[:n] + s[n:] will be equal to s:"
   ]
  },
  {
   "cell_type": "code",
   "execution_count": 107,
   "id": "92138a4f-920a-48de-ac36-48b8cc4081e7",
   "metadata": {},
   "outputs": [
    {
     "data": {
      "text/plain": [
       "'foobar'"
      ]
     },
     "execution_count": 107,
     "metadata": {},
     "output_type": "execute_result"
    }
   ],
   "source": [
    "s[:4] + s[4:]"
   ]
  },
  {
   "cell_type": "code",
   "execution_count": 108,
   "id": "4edef07a-3b49-40a5-ab6b-4c2943ea3489",
   "metadata": {},
   "outputs": [
    {
     "data": {
      "text/plain": [
       "True"
      ]
     },
     "execution_count": 108,
     "metadata": {},
     "output_type": "execute_result"
    }
   ],
   "source": [
    "s[:4] + s[4:] == s"
   ]
  },
  {
   "cell_type": "markdown",
   "id": "68df0e1c-23aa-4477-baa8-9faf18da4d0d",
   "metadata": {},
   "source": [
    "Omitting both indices returns the original string, in its entirety. Literally. It's not a copy, it's a reference of the original string:"
   ]
  },
  {
   "cell_type": "code",
   "execution_count": 109,
   "id": "76bf5d2d-0e73-43a1-ae5a-b775c03ef446",
   "metadata": {},
   "outputs": [
    {
     "data": {
      "text/plain": [
       "140005935073584"
      ]
     },
     "execution_count": 109,
     "metadata": {},
     "output_type": "execute_result"
    }
   ],
   "source": [
    "s ='foobar'\n",
    "t = s[:]\n",
    "id(s)"
   ]
  },
  {
   "cell_type": "code",
   "execution_count": 110,
   "id": "56c625e7-5304-488a-90fe-1307b33042e5",
   "metadata": {},
   "outputs": [
    {
     "data": {
      "text/plain": [
       "140005935073584"
      ]
     },
     "execution_count": 110,
     "metadata": {},
     "output_type": "execute_result"
    }
   ],
   "source": [
    "id(t)"
   ]
  },
  {
   "cell_type": "code",
   "execution_count": 111,
   "id": "83c20457-3b12-422f-86fe-f891605103fa",
   "metadata": {},
   "outputs": [
    {
     "data": {
      "text/plain": [
       "True"
      ]
     },
     "execution_count": 111,
     "metadata": {},
     "output_type": "execute_result"
    }
   ],
   "source": [
    "s is t"
   ]
  },
  {
   "cell_type": "code",
   "execution_count": 112,
   "id": "9596c36c-29c8-47c7-a360-94e4fadab58c",
   "metadata": {},
   "outputs": [
    {
     "data": {
      "text/plain": [
       "''"
      ]
     },
     "execution_count": 112,
     "metadata": {},
     "output_type": "execute_result"
    }
   ],
   "source": [
    "s[2:2]"
   ]
  },
  {
   "cell_type": "code",
   "execution_count": 113,
   "id": "4d584c45-7e79-481c-b4c6-25cd7f39fa97",
   "metadata": {},
   "outputs": [
    {
     "data": {
      "text/plain": [
       "''"
      ]
     },
     "execution_count": 113,
     "metadata": {},
     "output_type": "execute_result"
    }
   ],
   "source": [
    "s[4:2]"
   ]
  },
  {
   "cell_type": "markdown",
   "id": "75bf228f-97f0-4d0c-a88b-e8cb0e94d63d",
   "metadata": {},
   "source": [
    "Positive and negative indices"
   ]
  },
  {
   "cell_type": "code",
   "execution_count": 114,
   "id": "3a4c0c00-44d8-4b04-89c3-9c7fffcc5291",
   "metadata": {},
   "outputs": [
    {
     "data": {
      "text/plain": [
       "'oob'"
      ]
     },
     "execution_count": 114,
     "metadata": {},
     "output_type": "execute_result"
    }
   ],
   "source": [
    "s = 'foobar'\n",
    "\n",
    "s[-5:-2]"
   ]
  },
  {
   "cell_type": "code",
   "execution_count": 115,
   "id": "ec1479a3-e487-4ae1-a23b-ef08c0f61966",
   "metadata": {},
   "outputs": [
    {
     "data": {
      "text/plain": [
       "'oob'"
      ]
     },
     "execution_count": 115,
     "metadata": {},
     "output_type": "execute_result"
    }
   ],
   "source": [
    "s[1:4]"
   ]
  },
  {
   "cell_type": "code",
   "execution_count": 116,
   "id": "3d12a5b0-b4fe-4b4a-a633-c6b0a8e654c2",
   "metadata": {},
   "outputs": [
    {
     "data": {
      "text/plain": [
       "True"
      ]
     },
     "execution_count": 116,
     "metadata": {},
     "output_type": "execute_result"
    }
   ],
   "source": [
    "s[-5:-2] == s[1:4]"
   ]
  },
  {
   "cell_type": "markdown",
   "id": "4c9e5936-9a30-4d2d-b436-7d0af63c1a5c",
   "metadata": {},
   "source": [
    "Specifying a stride"
   ]
  },
  {
   "cell_type": "code",
   "execution_count": 117,
   "id": "f8196bc1-add1-46ae-a6c8-5fc0f19780a6",
   "metadata": {},
   "outputs": [
    {
     "data": {
      "text/plain": [
       "'foa'"
      ]
     },
     "execution_count": 117,
     "metadata": {},
     "output_type": "execute_result"
    }
   ],
   "source": [
    "s = 'foobar'\n",
    "s[0:6:2]"
   ]
  },
  {
   "cell_type": "code",
   "execution_count": 118,
   "id": "aa850687-7241-4335-bee5-2908173d4038",
   "metadata": {},
   "outputs": [
    {
     "data": {
      "text/plain": [
       "'obr'"
      ]
     },
     "execution_count": 118,
     "metadata": {},
     "output_type": "execute_result"
    }
   ],
   "source": [
    "s[1:6:2]"
   ]
  },
  {
   "cell_type": "code",
   "execution_count": 119,
   "id": "95d3712b-226d-4d7a-ab54-245917bd3d83",
   "metadata": {},
   "outputs": [
    {
     "data": {
      "text/plain": [
       "'foa'"
      ]
     },
     "execution_count": 119,
     "metadata": {},
     "output_type": "execute_result"
    }
   ],
   "source": [
    "s[::2]"
   ]
  },
  {
   "cell_type": "code",
   "execution_count": 121,
   "id": "9c799b00-d1cc-48c9-aa9f-b9e81d6bf736",
   "metadata": {},
   "outputs": [
    {
     "data": {
      "text/plain": [
       "'1234512345123451234512345'"
      ]
     },
     "execution_count": 121,
     "metadata": {},
     "output_type": "execute_result"
    }
   ],
   "source": [
    "s = '12345' * 5\n",
    "s"
   ]
  },
  {
   "cell_type": "code",
   "execution_count": 122,
   "id": "976092eb-597e-45d0-9ef7-b87301880aea",
   "metadata": {},
   "outputs": [
    {
     "data": {
      "text/plain": [
       "'11111'"
      ]
     },
     "execution_count": 122,
     "metadata": {},
     "output_type": "execute_result"
    }
   ],
   "source": [
    "s[::5]"
   ]
  },
  {
   "cell_type": "code",
   "execution_count": 123,
   "id": "aa19ba4e-aade-448c-92f9-1db22e5535e7",
   "metadata": {},
   "outputs": [
    {
     "data": {
      "text/plain": [
       "'55555'"
      ]
     },
     "execution_count": 123,
     "metadata": {},
     "output_type": "execute_result"
    }
   ],
   "source": [
    "s[4::5]"
   ]
  },
  {
   "cell_type": "code",
   "execution_count": 124,
   "id": "58ef8fec-5dc3-4dec-8415-3a40c9c5bc98",
   "metadata": {},
   "outputs": [
    {
     "data": {
      "text/plain": [
       "'rbo'"
      ]
     },
     "execution_count": 124,
     "metadata": {},
     "output_type": "execute_result"
    }
   ],
   "source": [
    "s = 'foobar'\n",
    "s[5:0:-2]"
   ]
  },
  {
   "cell_type": "code",
   "execution_count": 125,
   "id": "35dae889-8c06-47ad-8354-837c296cb1d7",
   "metadata": {},
   "outputs": [
    {
     "data": {
      "text/plain": [
       "'1234512345123451234512345'"
      ]
     },
     "execution_count": 125,
     "metadata": {},
     "output_type": "execute_result"
    }
   ],
   "source": [
    "s = '12345' * 5\n",
    "s"
   ]
  },
  {
   "cell_type": "code",
   "execution_count": 126,
   "id": "3b645d32-e000-451c-aca0-a3680fff6fe2",
   "metadata": {},
   "outputs": [
    {
     "data": {
      "text/plain": [
       "'55555'"
      ]
     },
     "execution_count": 126,
     "metadata": {},
     "output_type": "execute_result"
    }
   ],
   "source": [
    "s[::-5]"
   ]
  },
  {
   "cell_type": "markdown",
   "id": "f3ed2036-fdd3-49a3-8d3b-6930b76881af",
   "metadata": {},
   "source": [
    "Reverse a String"
   ]
  },
  {
   "cell_type": "code",
   "execution_count": 127,
   "id": "e2f7cb76-1333-4c93-ad7b-eb103467a4c4",
   "metadata": {},
   "outputs": [
    {
     "data": {
      "text/plain": [
       "'.thgir eb tsum ti ,ti syas noelopaN edarmoC fI'"
      ]
     },
     "execution_count": 127,
     "metadata": {},
     "output_type": "execute_result"
    }
   ],
   "source": [
    "s = 'If Comrade Napoleon says it, it must be right.'\n",
    "s[::-1]"
   ]
  },
  {
   "cell_type": "markdown",
   "id": "06c031d7-3aa6-4e0a-8bed-cfe6a6e28cd1",
   "metadata": {},
   "source": [
    "#### Interpolating Variables into a string"
   ]
  },
  {
   "cell_type": "code",
   "execution_count": 128,
   "id": "8797bba4-f80c-4779-a543-e838c08c5286",
   "metadata": {},
   "outputs": [
    {
     "name": "stdout",
     "output_type": "stream",
     "text": [
      "The product of 20 and 25 is 500\n"
     ]
    }
   ],
   "source": [
    "n = 20\n",
    "m = 25\n",
    "prod = n * m\n",
    "print('The product of', n, 'and', m, 'is', prod)"
   ]
  },
  {
   "cell_type": "markdown",
   "id": "5a52021f-e10c-4766-a66a-ffb6a016113d",
   "metadata": {},
   "source": [
    "f-string\n",
    "\n",
    "- Specify either a lowercase f or uppercase F directly before the opening quote.\n",
    "- Specify any variable in curly braces {}."
   ]
  },
  {
   "cell_type": "code",
   "execution_count": 129,
   "id": "3e9dd0f7-f08f-44d3-b155-de22ed990bd9",
   "metadata": {},
   "outputs": [
    {
     "name": "stdout",
     "output_type": "stream",
     "text": [
      "The product of 20 and 25 is 500\n"
     ]
    }
   ],
   "source": [
    "n = 20\n",
    "m = 25\n",
    "prod = n * m \n",
    "print(f'The product of {n} and {m} is {prod}')"
   ]
  },
  {
   "cell_type": "code",
   "execution_count": 130,
   "id": "f83b889a-c600-4d18-ab03-e3c3a9f3749f",
   "metadata": {},
   "outputs": [
    {
     "name": "stdout",
     "output_type": "stream",
     "text": [
      "A dog says Bark!\n"
     ]
    }
   ],
   "source": [
    "var = 'Bark'\n",
    "\n",
    "print(f'A dog says {var}!')"
   ]
  },
  {
   "cell_type": "code",
   "execution_count": 131,
   "id": "cbb2082b-edb9-44de-9ccf-af94e7b6d853",
   "metadata": {},
   "outputs": [
    {
     "name": "stdout",
     "output_type": "stream",
     "text": [
      "A dog says Bark!\n"
     ]
    }
   ],
   "source": [
    "print(f\"A dog says {var}!\")"
   ]
  },
  {
   "cell_type": "code",
   "execution_count": 132,
   "id": "6ef7f73e-3acb-4e97-9667-5aedb710ff91",
   "metadata": {},
   "outputs": [
    {
     "name": "stdout",
     "output_type": "stream",
     "text": [
      "A dog says Bark!\n"
     ]
    }
   ],
   "source": [
    "print(f'''A dog says {var}!''')"
   ]
  },
  {
   "cell_type": "markdown",
   "id": "bbb02345-dfc5-4a96-9d35-e6321e56991e",
   "metadata": {},
   "source": [
    "#### Modifying Strings\n",
    "\n",
    "Strings are immutable."
   ]
  },
  {
   "cell_type": "code",
   "execution_count": 133,
   "id": "b2a75a80-7fc9-4c4c-8182-6c82dbb4dfc3",
   "metadata": {},
   "outputs": [
    {
     "ename": "TypeError",
     "evalue": "'str' object does not support item assignment",
     "output_type": "error",
     "traceback": [
      "\u001b[0;31m---------------------------------------------------------------------------\u001b[0m",
      "\u001b[0;31mTypeError\u001b[0m                                 Traceback (most recent call last)",
      "\u001b[0;32m<ipython-input-133-589c32513b82>\u001b[0m in \u001b[0;36m<module>\u001b[0;34m\u001b[0m\n\u001b[1;32m      1\u001b[0m \u001b[0ms\u001b[0m \u001b[0;34m=\u001b[0m \u001b[0;34m'foobar'\u001b[0m\u001b[0;34m\u001b[0m\u001b[0;34m\u001b[0m\u001b[0m\n\u001b[0;32m----> 2\u001b[0;31m \u001b[0ms\u001b[0m\u001b[0;34m[\u001b[0m\u001b[0;36m3\u001b[0m\u001b[0;34m]\u001b[0m \u001b[0;34m=\u001b[0m \u001b[0;34m'x'\u001b[0m\u001b[0;34m\u001b[0m\u001b[0;34m\u001b[0m\u001b[0m\n\u001b[0m",
      "\u001b[0;31mTypeError\u001b[0m: 'str' object does not support item assignment"
     ]
    }
   ],
   "source": [
    "s = 'foobar'\n",
    "s[3] = 'x'"
   ]
  },
  {
   "cell_type": "code",
   "execution_count": 135,
   "id": "cbfa85a1-4ff0-47dc-b238-85fdcd67592e",
   "metadata": {},
   "outputs": [
    {
     "data": {
      "text/plain": [
       "'fooxar'"
      ]
     },
     "execution_count": 135,
     "metadata": {},
     "output_type": "execute_result"
    }
   ],
   "source": [
    "s = s[:3] + 'x' + s[4:]\n",
    "s"
   ]
  },
  {
   "cell_type": "code",
   "execution_count": 137,
   "id": "5972daa3-9447-4837-9940-3f19c0c34c29",
   "metadata": {},
   "outputs": [
    {
     "data": {
      "text/plain": [
       "'fooxar'"
      ]
     },
     "execution_count": 137,
     "metadata": {},
     "output_type": "execute_result"
    }
   ],
   "source": [
    "s = 'foobar'\n",
    "s = s.replace('b', 'x')\n",
    "s"
   ]
  },
  {
   "cell_type": "markdown",
   "id": "4121db3b-bc56-4c23-b8d1-157783eacd66",
   "metadata": {},
   "source": [
    "#### Built in String Methods"
   ]
  },
  {
   "cell_type": "markdown",
   "id": "e62e394a-0b64-426c-9ddd-369d284833a1",
   "metadata": {},
   "source": [
    "s.cpitalize()\n",
    "\n",
    "Capitalizes the target string"
   ]
  },
  {
   "cell_type": "code",
   "execution_count": 138,
   "id": "d18efe0f-f7fe-40a7-a54c-63f1b9b6b7f3",
   "metadata": {},
   "outputs": [
    {
     "data": {
      "text/plain": [
       "'Foo bar baz qux'"
      ]
     },
     "execution_count": 138,
     "metadata": {},
     "output_type": "execute_result"
    }
   ],
   "source": [
    "s = 'foO BaR BAZ quX'\n",
    "s.capitalize()"
   ]
  },
  {
   "cell_type": "code",
   "execution_count": 139,
   "id": "edf35812-b0f8-4a3a-a4c0-03879239e808",
   "metadata": {},
   "outputs": [
    {
     "data": {
      "text/plain": [
       "'Foo123#bar#.'"
      ]
     },
     "execution_count": 139,
     "metadata": {},
     "output_type": "execute_result"
    }
   ],
   "source": [
    "s = 'foo123#BAR#.'\n",
    "s.capitalize()"
   ]
  },
  {
   "cell_type": "markdown",
   "id": "8e48b541-6fcc-4ea2-9482-4ae145696a25",
   "metadata": {},
   "source": [
    "s.lower()\n",
    "\n",
    "Coversts alphabetic characters to lowercase"
   ]
  },
  {
   "cell_type": "code",
   "execution_count": 140,
   "id": "2737e815-8c93-4017-8f42-90492ae94f7b",
   "metadata": {},
   "outputs": [
    {
     "data": {
      "text/plain": [
       "'foo bar 123 baz qux'"
      ]
     },
     "execution_count": 140,
     "metadata": {},
     "output_type": "execute_result"
    }
   ],
   "source": [
    "'FOO Bar 123 baz qUX'.lower()"
   ]
  },
  {
   "cell_type": "markdown",
   "id": "c36403f7-b1d5-401f-9f65-749ee104ecdc",
   "metadata": {},
   "source": [
    "s.swapcase()\n",
    "\n",
    "Swaps case of alphabetic characters"
   ]
  },
  {
   "cell_type": "code",
   "execution_count": 141,
   "id": "8125b342-c0bf-4922-aa63-3a5ab10ef56d",
   "metadata": {},
   "outputs": [
    {
     "data": {
      "text/plain": [
       "'foo bAR 123 BAZ Qux'"
      ]
     },
     "execution_count": 141,
     "metadata": {},
     "output_type": "execute_result"
    }
   ],
   "source": [
    "'FOO Bar 123 baz qUX'.swapcase()"
   ]
  },
  {
   "cell_type": "markdown",
   "id": "3774db70-25c2-4c64-8e36-a1e68586964a",
   "metadata": {},
   "source": [
    "s.title()\n",
    "\n",
    "Coverst the target string to \"title case\""
   ]
  },
  {
   "cell_type": "code",
   "execution_count": 142,
   "id": "2f4cd779-c1b9-4e0c-bad7-5194d39f4bb5",
   "metadata": {},
   "outputs": [
    {
     "data": {
      "text/plain": [
       "'The Sun Also Rises'"
      ]
     },
     "execution_count": 142,
     "metadata": {},
     "output_type": "execute_result"
    }
   ],
   "source": [
    "'the sun also rises'.title()"
   ]
  },
  {
   "cell_type": "code",
   "execution_count": 143,
   "id": "905295d3-fe25-4468-984a-807813e8bdbd",
   "metadata": {},
   "outputs": [
    {
     "data": {
      "text/plain": [
       "\"What'S Happended To Ted'S Ibm Stock?\""
      ]
     },
     "execution_count": 143,
     "metadata": {},
     "output_type": "execute_result"
    }
   ],
   "source": [
    "\"what's happended to ted's IBM stock?\".title()"
   ]
  },
  {
   "cell_type": "markdown",
   "id": "100209eb-88cf-4f68-8be1-3beadf8e6bd7",
   "metadata": {},
   "source": [
    "s.upper()\n",
    "\n",
    "Coverts alphabetic characters to uppercase."
   ]
  },
  {
   "cell_type": "code",
   "execution_count": 144,
   "id": "84f13be4-e23a-489b-9dcd-a60791d42e0a",
   "metadata": {},
   "outputs": [
    {
     "data": {
      "text/plain": [
       "'FOO BAR 123 BAZ QUX'"
      ]
     },
     "execution_count": 144,
     "metadata": {},
     "output_type": "execute_result"
    }
   ],
   "source": [
    "'FOO Bar 123 baz qUX'.upper()"
   ]
  },
  {
   "cell_type": "markdown",
   "id": "7076def1-2261-4847-9b2d-ed37a68dc9f0",
   "metadata": {},
   "source": [
    "s.count(\\<sub>,\\<start>, \\<end>)"
   ]
  },
  {
   "cell_type": "code",
   "execution_count": 145,
   "id": "01b01691-90e0-41b4-b36e-232f868019ab",
   "metadata": {},
   "outputs": [
    {
     "data": {
      "text/plain": [
       "3"
      ]
     },
     "execution_count": 145,
     "metadata": {},
     "output_type": "execute_result"
    }
   ],
   "source": [
    "'foo goo moo'.count('oo')"
   ]
  },
  {
   "cell_type": "code",
   "execution_count": 146,
   "id": "2c0032f6-4a92-40fb-95a2-f198ef024eb8",
   "metadata": {},
   "outputs": [
    {
     "data": {
      "text/plain": [
       "2"
      ]
     },
     "execution_count": 146,
     "metadata": {},
     "output_type": "execute_result"
    }
   ],
   "source": [
    "'foo goo moo'.count('oo', 0, 8)"
   ]
  },
  {
   "cell_type": "markdown",
   "id": "6cf0ff12-8b10-4648-9d89-0361cc28ebc2",
   "metadata": {},
   "source": [
    "s.endswith(\\<suffix>, \\<start>, \\<end>)\n",
    "\n",
    "Determins wether the target string ends with a given substring."
   ]
  },
  {
   "cell_type": "code",
   "execution_count": 147,
   "id": "ac6cba05-3a7c-47c4-ba7b-dc9fd6c346d6",
   "metadata": {},
   "outputs": [
    {
     "data": {
      "text/plain": [
       "True"
      ]
     },
     "execution_count": 147,
     "metadata": {},
     "output_type": "execute_result"
    }
   ],
   "source": [
    "'foobar'.endswith('bar')"
   ]
  },
  {
   "cell_type": "code",
   "execution_count": 148,
   "id": "2a405efe-e417-48cd-b3df-f1d0a9c18f2c",
   "metadata": {},
   "outputs": [
    {
     "data": {
      "text/plain": [
       "True"
      ]
     },
     "execution_count": 148,
     "metadata": {},
     "output_type": "execute_result"
    }
   ],
   "source": [
    "'foobar'.endswith('oob', 0, 4)"
   ]
  },
  {
   "cell_type": "markdown",
   "id": "58eec98b-47f1-4253-842a-f28f36bd5cd4",
   "metadata": {},
   "source": [
    "s.find(\\<sub>, \\<start>, \\<end>)\n",
    "\n",
    "Searches the target string for a given substring."
   ]
  },
  {
   "cell_type": "code",
   "execution_count": 149,
   "id": "0196437d-d459-40eb-b968-b98e175192a9",
   "metadata": {},
   "outputs": [
    {
     "data": {
      "text/plain": [
       "0"
      ]
     },
     "execution_count": 149,
     "metadata": {},
     "output_type": "execute_result"
    }
   ],
   "source": [
    "'foo bar foo baz foo qux'.find('foo')"
   ]
  },
  {
   "cell_type": "code",
   "execution_count": 150,
   "id": "7b34c5ca-2997-4d57-b069-da9445e05393",
   "metadata": {},
   "outputs": [
    {
     "data": {
      "text/plain": [
       "-1"
      ]
     },
     "execution_count": 150,
     "metadata": {},
     "output_type": "execute_result"
    }
   ],
   "source": [
    "'foo bar foo baz foo quz'.find('grault')"
   ]
  },
  {
   "cell_type": "code",
   "execution_count": 151,
   "id": "0164f549-aa41-4376-b0d2-8a8f6b3b91c2",
   "metadata": {},
   "outputs": [
    {
     "data": {
      "text/plain": [
       "8"
      ]
     },
     "execution_count": 151,
     "metadata": {},
     "output_type": "execute_result"
    }
   ],
   "source": [
    "'foo bar foo baz foo qux'.find('foo', 4)"
   ]
  },
  {
   "cell_type": "code",
   "execution_count": 152,
   "id": "99e18221-f899-4464-840b-6ab0379e8120",
   "metadata": {},
   "outputs": [
    {
     "data": {
      "text/plain": [
       "-1"
      ]
     },
     "execution_count": 152,
     "metadata": {},
     "output_type": "execute_result"
    }
   ],
   "source": [
    "'foo bar foo baz foo qux'.find('foo', 4, 7)"
   ]
  },
  {
   "cell_type": "markdown",
   "id": "5af799ac-ead4-42ce-ba45-68cc2c9bdaa3",
   "metadata": {},
   "source": [
    "s.index(\\<sub>, \\<start>, \\<end>)\n",
    "\n",
    "Searches the target string for a given substring.\n",
    "\n",
    "This method is identical to .find(), except that it raises an exception if \\<sub> is not found rather than returning -1.\n",
    "   "
   ]
  },
  {
   "cell_type": "code",
   "execution_count": 153,
   "id": "a77563dc-d8ab-406b-8684-a1b0f90e7729",
   "metadata": {},
   "outputs": [
    {
     "ename": "ValueError",
     "evalue": "substring not found",
     "output_type": "error",
     "traceback": [
      "\u001b[0;31m---------------------------------------------------------------------------\u001b[0m",
      "\u001b[0;31mValueError\u001b[0m                                Traceback (most recent call last)",
      "\u001b[0;32m<ipython-input-153-00d42de8bb3d>\u001b[0m in \u001b[0;36m<module>\u001b[0;34m\u001b[0m\n\u001b[0;32m----> 1\u001b[0;31m \u001b[0;34m'foo bar foo baz foo qux'\u001b[0m\u001b[0;34m.\u001b[0m\u001b[0mindex\u001b[0m\u001b[0;34m(\u001b[0m\u001b[0;34m'grault'\u001b[0m\u001b[0;34m)\u001b[0m\u001b[0;34m\u001b[0m\u001b[0;34m\u001b[0m\u001b[0m\n\u001b[0m",
      "\u001b[0;31mValueError\u001b[0m: substring not found"
     ]
    }
   ],
   "source": [
    "'foo bar foo baz foo qux'.index('grault')"
   ]
  },
  {
   "cell_type": "markdown",
   "id": "23a164e6-1273-4be4-8de9-b918683e85f2",
   "metadata": {},
   "source": [
    "s.rfind(\\<sub>, \\<start>, \\<end>)\n",
    "\n",
    "Searches the target string for a given substing starting at the end.\n",
    "\n",
    "returns the highest index in s where substring \\<sub> is found:"
   ]
  },
  {
   "cell_type": "code",
   "execution_count": 154,
   "id": "afa46bef-c304-43c7-a58f-fd997c4d734b",
   "metadata": {},
   "outputs": [
    {
     "data": {
      "text/plain": [
       "16"
      ]
     },
     "execution_count": 154,
     "metadata": {},
     "output_type": "execute_result"
    }
   ],
   "source": [
    "'foo bar foo baz foo qux'.rfind('foo')"
   ]
  },
  {
   "cell_type": "code",
   "execution_count": 155,
   "id": "4006faec-f591-4c18-9fe1-8a1403ee09aa",
   "metadata": {},
   "outputs": [
    {
     "data": {
      "text/plain": [
       "-1"
      ]
     },
     "execution_count": 155,
     "metadata": {},
     "output_type": "execute_result"
    }
   ],
   "source": [
    "'foo bar foo baz foo quz'.rfind('grault')"
   ]
  },
  {
   "cell_type": "code",
   "execution_count": 156,
   "id": "bc9319d4-2092-43f8-8de3-36664c94a739",
   "metadata": {},
   "outputs": [
    {
     "data": {
      "text/plain": [
       "0"
      ]
     },
     "execution_count": 156,
     "metadata": {},
     "output_type": "execute_result"
    }
   ],
   "source": [
    "'foo bar foo baz foo quz'.rfind('foo', 0, 4)"
   ]
  },
  {
   "cell_type": "code",
   "execution_count": 157,
   "id": "1420b9e3-447d-4977-9854-744faf0d6f6a",
   "metadata": {},
   "outputs": [
    {
     "data": {
      "text/plain": [
       "-1"
      ]
     },
     "execution_count": 157,
     "metadata": {},
     "output_type": "execute_result"
    }
   ],
   "source": [
    "'foo bar foo baz foo qux'.rfind('foo', 10, 14)"
   ]
  },
  {
   "cell_type": "raw",
   "id": "97b1748b-f9a8-4446-896f-29148ce21b3d",
   "metadata": {},
   "source": [
    "s.rindex(\\<sub>, \\<start>, \\<end>)\n",
    "\n",
    "Searches the target string for a given substring starting at the end\n",
    "\n",
    "This method is identical to .rfind(), except that it raises an exception if \\<sub> is not found rather than returning -1:"
   ]
  },
  {
   "cell_type": "code",
   "execution_count": 158,
   "id": "9cb90a4a-3bed-41ac-91eb-82bf2cf4baf0",
   "metadata": {},
   "outputs": [
    {
     "ename": "ValueError",
     "evalue": "substring not found",
     "output_type": "error",
     "traceback": [
      "\u001b[0;31m---------------------------------------------------------------------------\u001b[0m",
      "\u001b[0;31mValueError\u001b[0m                                Traceback (most recent call last)",
      "\u001b[0;32m<ipython-input-158-7707dea6100b>\u001b[0m in \u001b[0;36m<module>\u001b[0;34m\u001b[0m\n\u001b[0;32m----> 1\u001b[0;31m \u001b[0;34m'foo bar foo baz foo qux'\u001b[0m\u001b[0;34m.\u001b[0m\u001b[0mrindex\u001b[0m\u001b[0;34m(\u001b[0m\u001b[0;34m'grault'\u001b[0m\u001b[0;34m)\u001b[0m\u001b[0;34m\u001b[0m\u001b[0;34m\u001b[0m\u001b[0m\n\u001b[0m",
      "\u001b[0;31mValueError\u001b[0m: substring not found"
     ]
    }
   ],
   "source": [
    "'foo bar foo baz foo qux'.rindex('grault')"
   ]
  },
  {
   "cell_type": "markdown",
   "id": "03908218-6a09-40e5-9280-06f6ddae88c3",
   "metadata": {},
   "source": [
    "s.startswith(\\<prefix>, \\<start>, \\<end>)\n",
    "\n",
    "Determins whether the target string starts with a given substring.\n",
    "\n"
   ]
  },
  {
   "cell_type": "code",
   "execution_count": 159,
   "id": "43f902ef-5750-42ac-86e5-c976578ed12e",
   "metadata": {},
   "outputs": [
    {
     "data": {
      "text/plain": [
       "True"
      ]
     },
     "execution_count": 159,
     "metadata": {},
     "output_type": "execute_result"
    }
   ],
   "source": [
    "'foobar'.startswith('foo')"
   ]
  },
  {
   "cell_type": "code",
   "execution_count": 160,
   "id": "86d0552f-73ed-4c6e-be0e-bb1847df1754",
   "metadata": {},
   "outputs": [
    {
     "data": {
      "text/plain": [
       "False"
      ]
     },
     "execution_count": 160,
     "metadata": {},
     "output_type": "execute_result"
    }
   ],
   "source": [
    "'foobar'.startswith('bar')"
   ]
  },
  {
   "cell_type": "code",
   "execution_count": 161,
   "id": "8f67dd7e-a9ea-40b7-9ef6-ad1248d967ea",
   "metadata": {},
   "outputs": [
    {
     "data": {
      "text/plain": [
       "True"
      ]
     },
     "execution_count": 161,
     "metadata": {},
     "output_type": "execute_result"
    }
   ],
   "source": [
    "'foobar'.startswith('bar', 3)"
   ]
  },
  {
   "cell_type": "code",
   "execution_count": 162,
   "id": "4f24e085-41b8-458a-bf5e-dbe4cc6e4411",
   "metadata": {},
   "outputs": [
    {
     "data": {
      "text/plain": [
       "False"
      ]
     },
     "execution_count": 162,
     "metadata": {},
     "output_type": "execute_result"
    }
   ],
   "source": [
    "'foobar'.startswith('bar', 3, 2)"
   ]
  },
  {
   "cell_type": "markdown",
   "id": "74bae53e-afc9-4e6f-a851-f4cb0d6dfe0b",
   "metadata": {},
   "source": [
    "#### Character Classification\n",
    "\n",
    "Methods in this group classify a string based on the characters its contains."
   ]
  },
  {
   "cell_type": "markdown",
   "id": "f030cca6-82a8-448a-a637-bc4648f9369f",
   "metadata": {},
   "source": [
    "s.isalnum()\n",
    "\n",
    "Determins wheter the target string consists of alphanumeric characters.\n",
    "\n",
    "s.isalnum() returns True if s is nonempty and all its characters are alphanumberic"
   ]
  },
  {
   "cell_type": "code",
   "execution_count": 163,
   "id": "14df0cb5-85c8-482f-a6d5-12169e1e37fb",
   "metadata": {},
   "outputs": [
    {
     "data": {
      "text/plain": [
       "True"
      ]
     },
     "execution_count": 163,
     "metadata": {},
     "output_type": "execute_result"
    }
   ],
   "source": [
    "'abc123'.isalnum()"
   ]
  },
  {
   "cell_type": "code",
   "execution_count": 164,
   "id": "346ed176-71a8-47a4-a455-a486bef16add",
   "metadata": {},
   "outputs": [
    {
     "data": {
      "text/plain": [
       "False"
      ]
     },
     "execution_count": 164,
     "metadata": {},
     "output_type": "execute_result"
    }
   ],
   "source": [
    "'abc$123'.isalnum()"
   ]
  },
  {
   "cell_type": "code",
   "execution_count": 165,
   "id": "d63892ce-32b7-41d5-8b5b-f10b50f53adb",
   "metadata": {},
   "outputs": [
    {
     "data": {
      "text/plain": [
       "False"
      ]
     },
     "execution_count": 165,
     "metadata": {},
     "output_type": "execute_result"
    }
   ],
   "source": [
    "''.isalnum()"
   ]
  },
  {
   "cell_type": "markdown",
   "id": "cfa84e6b-0b30-4387-8a1a-538f651c25cb",
   "metadata": {},
   "source": [
    "s.isalpha()\n",
    "\n",
    "Determines whether the target string consists of alphabetic characters"
   ]
  },
  {
   "cell_type": "code",
   "execution_count": 166,
   "id": "49cafbf0-d92c-4966-b62c-b84e5f051440",
   "metadata": {},
   "outputs": [
    {
     "data": {
      "text/plain": [
       "True"
      ]
     },
     "execution_count": 166,
     "metadata": {},
     "output_type": "execute_result"
    }
   ],
   "source": [
    "'ABCabd'.isalpha()"
   ]
  },
  {
   "cell_type": "code",
   "execution_count": 167,
   "id": "4a663349-442e-4635-a5dc-61243eb15267",
   "metadata": {},
   "outputs": [
    {
     "data": {
      "text/plain": [
       "False"
      ]
     },
     "execution_count": 167,
     "metadata": {},
     "output_type": "execute_result"
    }
   ],
   "source": [
    "'abc123'.isalpha()"
   ]
  },
  {
   "cell_type": "markdown",
   "id": "7769c050-0ceb-48c2-b2f4-b93809afd396",
   "metadata": {},
   "source": [
    "s.isdigit()\n",
    "\n",
    "Determines whether the target string consists of digit characters"
   ]
  },
  {
   "cell_type": "code",
   "execution_count": 168,
   "id": "ad5e3d9a-c72a-4bc3-adbd-789ee8e5f2aa",
   "metadata": {},
   "outputs": [
    {
     "data": {
      "text/plain": [
       "True"
      ]
     },
     "execution_count": 168,
     "metadata": {},
     "output_type": "execute_result"
    }
   ],
   "source": [
    "'123'.isdigit()\n"
   ]
  },
  {
   "cell_type": "code",
   "execution_count": 169,
   "id": "e0ee89bb-7495-45f4-aa58-6c936d6c43a6",
   "metadata": {},
   "outputs": [
    {
     "data": {
      "text/plain": [
       "False"
      ]
     },
     "execution_count": 169,
     "metadata": {},
     "output_type": "execute_result"
    }
   ],
   "source": [
    "'123abc'.isdigit()"
   ]
  },
  {
   "cell_type": "markdown",
   "id": "ecacd3bf-8148-4b72-9874-657f3eb0a054",
   "metadata": {},
   "source": [
    "s.isidentifier()\n",
    "\n",
    "Determines whether the target string is a valid Python identifier\n"
   ]
  },
  {
   "cell_type": "code",
   "execution_count": 170,
   "id": "bb411989-baac-4dc4-a6ca-f11bec66c3f5",
   "metadata": {},
   "outputs": [
    {
     "data": {
      "text/plain": [
       "True"
      ]
     },
     "execution_count": 170,
     "metadata": {},
     "output_type": "execute_result"
    }
   ],
   "source": [
    "'foo32'.isidentifier()"
   ]
  },
  {
   "cell_type": "code",
   "execution_count": 171,
   "id": "d3db98b4-c127-48a1-bba5-ad61db766c82",
   "metadata": {},
   "outputs": [
    {
     "data": {
      "text/plain": [
       "False"
      ]
     },
     "execution_count": 171,
     "metadata": {},
     "output_type": "execute_result"
    }
   ],
   "source": [
    "'32foo'.isidentifier()"
   ]
  },
  {
   "cell_type": "code",
   "execution_count": 172,
   "id": "e02e64c2-e204-430d-982b-3137483df7b4",
   "metadata": {},
   "outputs": [
    {
     "data": {
      "text/plain": [
       "False"
      ]
     },
     "execution_count": 172,
     "metadata": {},
     "output_type": "execute_result"
    }
   ],
   "source": [
    "'foo$32'.isidentifier()"
   ]
  },
  {
   "cell_type": "markdown",
   "id": "a1de8ea7-45d5-4905-8f72-b1a447859101",
   "metadata": {},
   "source": [
    ".isdentifier() will return True for a string that matches a Python keyword even though that would not actually be a valid identifier:"
   ]
  },
  {
   "cell_type": "code",
   "execution_count": 173,
   "id": "080c672d-65fe-4ead-b99e-f5c338c3bfb2",
   "metadata": {},
   "outputs": [
    {
     "data": {
      "text/plain": [
       "True"
      ]
     },
     "execution_count": 173,
     "metadata": {},
     "output_type": "execute_result"
    }
   ],
   "source": [
    "'and'.isidentifier()"
   ]
  },
  {
   "cell_type": "code",
   "execution_count": 176,
   "id": "85b201d8-dae4-4319-bb0a-b35d911e1926",
   "metadata": {},
   "outputs": [
    {
     "data": {
      "text/plain": [
       "True"
      ]
     },
     "execution_count": 176,
     "metadata": {},
     "output_type": "execute_result"
    }
   ],
   "source": [
    "from keyword import iskeyword\n",
    "iskeyword('and')"
   ]
  },
  {
   "cell_type": "markdown",
   "id": "7e1d5e4d-7e70-4377-b9a4-9af857662970",
   "metadata": {},
   "source": [
    "s.islower()\n",
    "\n",
    "Determins whether the target string's alphabetic characters are lowercase."
   ]
  },
  {
   "cell_type": "code",
   "execution_count": 177,
   "id": "cdd7e32b-7e66-4e12-b41a-33e2c1c2ba73",
   "metadata": {},
   "outputs": [
    {
     "data": {
      "text/plain": [
       "True"
      ]
     },
     "execution_count": 177,
     "metadata": {},
     "output_type": "execute_result"
    }
   ],
   "source": [
    "'abc'.islower()"
   ]
  },
  {
   "cell_type": "code",
   "execution_count": 178,
   "id": "5210aef3-b93e-4781-b398-f0b27a21e4bc",
   "metadata": {},
   "outputs": [
    {
     "data": {
      "text/plain": [
       "True"
      ]
     },
     "execution_count": 178,
     "metadata": {},
     "output_type": "execute_result"
    }
   ],
   "source": [
    "'abc1$d'.islower()"
   ]
  },
  {
   "cell_type": "code",
   "execution_count": 179,
   "id": "63676ae6-cf34-4922-aacd-92aedd91c47f",
   "metadata": {},
   "outputs": [
    {
     "data": {
      "text/plain": [
       "False"
      ]
     },
     "execution_count": 179,
     "metadata": {},
     "output_type": "execute_result"
    }
   ],
   "source": [
    "'Abc1$d'.islower()"
   ]
  },
  {
   "cell_type": "markdown",
   "id": "8032b1f1-a935-4fbb-ac8b-a8818d5abc6b",
   "metadata": {},
   "source": [
    "s.isprintable()\n",
    "\n",
    "Determines whether the target string consists entirely of printable characters.\n",
    "\n",
    "*is the only .isxxx() method that returns True if s is an empty string"
   ]
  },
  {
   "cell_type": "code",
   "execution_count": 180,
   "id": "8a8b1cd5-2d91-49c3-88ca-66974d57323f",
   "metadata": {},
   "outputs": [
    {
     "data": {
      "text/plain": [
       "False"
      ]
     },
     "execution_count": 180,
     "metadata": {},
     "output_type": "execute_result"
    }
   ],
   "source": [
    "'a\\tb'.isprintable()"
   ]
  },
  {
   "cell_type": "code",
   "execution_count": 181,
   "id": "1ebc168b-67f6-4828-8f4f-4faff2edcda2",
   "metadata": {},
   "outputs": [
    {
     "data": {
      "text/plain": [
       "True"
      ]
     },
     "execution_count": 181,
     "metadata": {},
     "output_type": "execute_result"
    }
   ],
   "source": [
    "'a b'.isprintable()"
   ]
  },
  {
   "cell_type": "code",
   "execution_count": 182,
   "id": "3b5ea022-968a-4875-a858-908d2493dce1",
   "metadata": {},
   "outputs": [
    {
     "data": {
      "text/plain": [
       "True"
      ]
     },
     "execution_count": 182,
     "metadata": {},
     "output_type": "execute_result"
    }
   ],
   "source": [
    "''.isprintable()"
   ]
  },
  {
   "cell_type": "code",
   "execution_count": 183,
   "id": "ea1fff7a-23fd-4cc6-a206-20139b8e75fa",
   "metadata": {},
   "outputs": [
    {
     "data": {
      "text/plain": [
       "False"
      ]
     },
     "execution_count": 183,
     "metadata": {},
     "output_type": "execute_result"
    }
   ],
   "source": [
    "'a\\nb'.isprintable()"
   ]
  },
  {
   "cell_type": "markdown",
   "id": "47aa9dd1-f2d3-40e8-a682-0b9b5853f6db",
   "metadata": {},
   "source": [
    "s.isspace()\n",
    "\n",
    "Determines whether the target string consists of whitespace characters."
   ]
  },
  {
   "cell_type": "code",
   "execution_count": 184,
   "id": "be7cb8f1-409d-40d9-85a1-1e36b22c4027",
   "metadata": {},
   "outputs": [
    {
     "data": {
      "text/plain": [
       "True"
      ]
     },
     "execution_count": 184,
     "metadata": {},
     "output_type": "execute_result"
    }
   ],
   "source": [
    "' \\t \\n '.isspace()"
   ]
  },
  {
   "cell_type": "code",
   "execution_count": 185,
   "id": "9bd4989b-0eda-4eb4-b70b-772b2b9a9f09",
   "metadata": {},
   "outputs": [
    {
     "data": {
      "text/plain": [
       "False"
      ]
     },
     "execution_count": 185,
     "metadata": {},
     "output_type": "execute_result"
    }
   ],
   "source": [
    "'  a  '.isspace()"
   ]
  },
  {
   "cell_type": "code",
   "execution_count": 186,
   "id": "aa4ae5ae-cb6e-4bbb-ae15-a690c20c225d",
   "metadata": {},
   "outputs": [
    {
     "data": {
      "text/plain": [
       "True"
      ]
     },
     "execution_count": 186,
     "metadata": {},
     "output_type": "execute_result"
    }
   ],
   "source": [
    "'\\f\\u2005\\r'.isspace()"
   ]
  },
  {
   "cell_type": "markdown",
   "id": "2e3c3efc-252d-4af8-b84d-d1aff3810420",
   "metadata": {},
   "source": [
    "s.istitle()\n",
    "\n",
    "Determines whether the target string is title cased.\n",
    "\n",
    "Uppercase characters may only follow uncased characters and lowercase characters only cased ones"
   ]
  },
  {
   "cell_type": "code",
   "execution_count": 188,
   "id": "f03d858f-ffb3-43fb-aa33-6d6efe82f39d",
   "metadata": {},
   "outputs": [
    {
     "data": {
      "text/plain": [
       "True"
      ]
     },
     "execution_count": 188,
     "metadata": {},
     "output_type": "execute_result"
    }
   ],
   "source": [
    "'This Is A Title'.istitle()"
   ]
  },
  {
   "cell_type": "code",
   "execution_count": 189,
   "id": "0ac66758-80bc-4879-a8a3-7e3047a5bceb",
   "metadata": {},
   "outputs": [
    {
     "data": {
      "text/plain": [
       "False"
      ]
     },
     "execution_count": 189,
     "metadata": {},
     "output_type": "execute_result"
    }
   ],
   "source": [
    "'This is a title'.istitle()"
   ]
  },
  {
   "cell_type": "code",
   "execution_count": 190,
   "id": "8484488f-079a-4588-97e7-09bd3b4f4c69",
   "metadata": {},
   "outputs": [
    {
     "data": {
      "text/plain": [
       "True"
      ]
     },
     "execution_count": 190,
     "metadata": {},
     "output_type": "execute_result"
    }
   ],
   "source": [
    "'Give Me The #$#@ Ball!'.istitle()"
   ]
  },
  {
   "cell_type": "markdown",
   "id": "62e8dd83-02f9-410b-b552-7064169eb7bc",
   "metadata": {},
   "source": [
    "s.isupper()\n",
    "\n",
    "Determines whether the target string's alphabetic characters are uppercase"
   ]
  },
  {
   "cell_type": "code",
   "execution_count": 191,
   "id": "2732dc66-4ec0-465c-9160-a0ed927fc9ab",
   "metadata": {},
   "outputs": [
    {
     "data": {
      "text/plain": [
       "True"
      ]
     },
     "execution_count": 191,
     "metadata": {},
     "output_type": "execute_result"
    }
   ],
   "source": [
    "'ABC'.isupper()"
   ]
  },
  {
   "cell_type": "code",
   "execution_count": 193,
   "id": "3dac7173-38d0-4531-8104-d96bfebc51d7",
   "metadata": {},
   "outputs": [
    {
     "data": {
      "text/plain": [
       "True"
      ]
     },
     "execution_count": 193,
     "metadata": {},
     "output_type": "execute_result"
    }
   ],
   "source": [
    "'ABC1\\$D'.isupper()"
   ]
  },
  {
   "cell_type": "code",
   "execution_count": 194,
   "id": "2cac97ed-87ba-4e8d-829b-033d787c4048",
   "metadata": {},
   "outputs": [
    {
     "data": {
      "text/plain": [
       "False"
      ]
     },
     "execution_count": 194,
     "metadata": {},
     "output_type": "execute_result"
    }
   ],
   "source": [
    "'Abc1$'.isupper()"
   ]
  },
  {
   "cell_type": "code",
   "execution_count": null,
   "id": "a0806a61-2e0e-4fd8-b21e-16ca4430d74b",
   "metadata": {},
   "outputs": [],
   "source": []
  }
 ],
 "metadata": {
  "kernelspec": {
   "display_name": "Python 3",
   "language": "python",
   "name": "python3"
  },
  "language_info": {
   "codemirror_mode": {
    "name": "ipython",
    "version": 3
   },
   "file_extension": ".py",
   "mimetype": "text/x-python",
   "name": "python",
   "nbconvert_exporter": "python",
   "pygments_lexer": "ipython3",
   "version": "3.8.8"
  }
 },
 "nbformat": 4,
 "nbformat_minor": 5
}
