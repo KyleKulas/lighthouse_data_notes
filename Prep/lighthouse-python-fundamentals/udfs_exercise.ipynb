{
 "cells": [
  {
   "cell_type": "markdown",
   "metadata": {},
   "source": [
    "# UDFs in Python"
   ]
  },
  {
   "cell_type": "markdown",
   "metadata": {},
   "source": [
    "#### Greeter\n",
    "Write a function that takes in a person's name, and prints out a greeting.\n",
    "The greeting must be at least three lines, and the person's name must be in each line.\n",
    "Use your function to greet at least **three** different people.\n",
    "\n",
    "**Bonus:** Store your three people in a list, and call your function from a for loop.\n",
    "\n",
    "\n",
    "**Example Output:**\n",
    "\n",
    "Hello John!<br>\n",
    "Hello John!<br>\n",
    "Hello John!<br>"
   ]
  },
  {
   "cell_type": "code",
   "execution_count": 5,
   "metadata": {},
   "outputs": [
    {
     "name": "stdout",
     "output_type": "stream",
     "text": [
      "Hello Kyle!\n",
      "Hello Kyle!\n",
      "Hello Kyle!\n",
      "Hello Laura!\n",
      "Hello Laura!\n",
      "Hello Laura!\n",
      "Hello George!\n",
      "Hello George!\n",
      "Hello George!\n"
     ]
    }
   ],
   "source": [
    "def greeter(name):\n",
    "    \"\"\"Prints a personalized greeting on 3 lines\"\"\"\n",
    "    \n",
    "    greetingCount = 3\n",
    "    while greetingCount:\n",
    "        print('Hello {}!'.format(name))\n",
    "        greetingCount -= 1\n",
    "        \n",
    "\n",
    "people = ['Kyle', 'Laura', 'George']\n",
    "\n",
    "for person in people:\n",
    "    greeter(person)\n",
    "    "
   ]
  },
  {
   "cell_type": "code",
   "execution_count": null,
   "metadata": {},
   "outputs": [],
   "source": []
  },
  {
   "cell_type": "markdown",
   "metadata": {},
   "source": [
    "#### Full Names\n",
    "Write a function that takes in a first name and a last name, and prints out a nicely formatted full name, in a sentence. Your sentence could be as simple as, \"Hello, full_name.\""
   ]
  },
  {
   "cell_type": "code",
   "execution_count": 11,
   "metadata": {},
   "outputs": [
    {
     "name": "stdout",
     "output_type": "stream",
     "text": [
      "Hello, Kyle Kulas.\n"
     ]
    }
   ],
   "source": [
    "def full_name_greeter(first_name, last_name):\n",
    "    \"\"\"Prints a nicely formatted full name greeting\"\"\"\n",
    "    print('Hello, {} {}.'.format(first_name, last_name))\n",
    "    \n",
    "full_name_greeter('Kyle', 'Kulas')"
   ]
  },
  {
   "cell_type": "code",
   "execution_count": null,
   "metadata": {},
   "outputs": [],
   "source": []
  },
  {
   "cell_type": "markdown",
   "metadata": {},
   "source": [
    "#### Addition Calculator\n",
    "Write a function that takes in two numbers, and adds them together. Make your function print out a sentence showing the two numbers, and the result.\n",
    "\n",
    "**Example Output:**\n",
    "\n",
    "The sum of 2 and 3 is 5."
   ]
  },
  {
   "cell_type": "code",
   "execution_count": 15,
   "metadata": {},
   "outputs": [
    {
     "name": "stdout",
     "output_type": "stream",
     "text": [
      "The sum of 2 and 3 is 5.\n"
     ]
    }
   ],
   "source": [
    "def addition_calc(num1, num2):\n",
    "    \"\"\"Adds 2 numbers and prints the results in a sentence\"\"\"\n",
    "    sum = num1 + num2\n",
    "    print('The sum of {} and {} is {}.'.format(num1, num2, sum))\n",
    "    \n",
    "addition_calc(2,3)"
   ]
  },
  {
   "cell_type": "code",
   "execution_count": null,
   "metadata": {},
   "outputs": [],
   "source": []
  },
  {
   "cell_type": "markdown",
   "metadata": {},
   "source": [
    "#### Return Calculator\n",
    "Modify Addition Calculator so that your function **returns** the sum of the two numbers. The printing should happen outside of the function."
   ]
  },
  {
   "cell_type": "code",
   "execution_count": null,
   "metadata": {},
   "outputs": [],
   "source": [
    "def return_calc(num1, num2):\n",
    "    \"\"\"Adds 2 numbers and returns the results\"\"\"\n",
    "    sum = num1 + num2\n",
    "    print('The sum of {} and {} is {}.'.format(num1, num2, sum))\n",
    "    \n",
    "addition_calc(2,3)"
   ]
  },
  {
   "cell_type": "code",
   "execution_count": null,
   "metadata": {},
   "outputs": [],
   "source": []
  },
  {
   "cell_type": "markdown",
   "metadata": {},
   "source": [
    "#### Sum everything in the list\n",
    "\n",
    "Write a Python function to sum all the numbers in a list"
   ]
  },
  {
   "cell_type": "code",
   "execution_count": 16,
   "metadata": {},
   "outputs": [
    {
     "data": {
      "text/plain": [
       "15"
      ]
     },
     "execution_count": 16,
     "metadata": {},
     "output_type": "execute_result"
    }
   ],
   "source": [
    "def sum_list(list_to_sum):\n",
    "    \"\"\"Returns the sum of all numbers in a list\"\"\"\n",
    "    sum = 0\n",
    "    for number in list_to_sum:\n",
    "        sum += number\n",
    "    return sum\n",
    "\n",
    "list_of_nums = [1, 2, 3, 4, 5]\n",
    "sum_list(list_of_nums)"
   ]
  },
  {
   "cell_type": "code",
   "execution_count": null,
   "metadata": {},
   "outputs": [],
   "source": []
  },
  {
   "cell_type": "markdown",
   "metadata": {},
   "source": [
    "#### Reverse string\n",
    "\n",
    "Write a Python program to reverse a string.\n",
    "\n",
    "Sample String : \"1234abcd\" <br>\n",
    "Expected Output : \"dcba4321\""
   ]
  },
  {
   "cell_type": "code",
   "execution_count": 17,
   "metadata": {},
   "outputs": [
    {
     "data": {
      "text/plain": [
       "'dcba4321'"
      ]
     },
     "execution_count": 17,
     "metadata": {},
     "output_type": "execute_result"
    }
   ],
   "source": [
    "def reverse_string(string_to_reverse):\n",
    "    \"\"\"Returns string in reverse order\"\"\"\n",
    "    return string_to_reverse[::-1]\n",
    "\n",
    "sample_string = \"1234abcd\"\n",
    "reverse_string(sample_string)\n"
   ]
  },
  {
   "cell_type": "code",
   "execution_count": null,
   "metadata": {},
   "outputs": [],
   "source": []
  },
  {
   "cell_type": "markdown",
   "metadata": {},
   "source": [
    "#### Range check\n",
    "\n",
    "Write a Python function to check whether a number is in a given range. \n",
    "\n",
    "Inputs: number, tuple of min and max<br>\n",
    "Outputs: True/False"
   ]
  },
  {
   "cell_type": "code",
   "execution_count": 27,
   "metadata": {},
   "outputs": [
    {
     "data": {
      "text/plain": [
       "True"
      ]
     },
     "execution_count": 27,
     "metadata": {},
     "output_type": "execute_result"
    }
   ],
   "source": [
    "def range_check(number, min_max):\n",
    "    \"\"\"Returns True if number is in range, False if out of range\"\"\"\n",
    "      \n",
    "    return min_max[0] <= number <= min_max[1]\n",
    "\n",
    "    \n",
    "range_check(4, (1,5))\n"
   ]
  },
  {
   "cell_type": "code",
   "execution_count": null,
   "metadata": {},
   "outputs": [],
   "source": []
  },
  {
   "cell_type": "code",
   "execution_count": null,
   "metadata": {},
   "outputs": [],
   "source": []
  }
 ],
 "metadata": {
  "kernelspec": {
   "display_name": "Python3",
   "language": "python",
   "name": "python3"
  },
  "language_info": {
   "codemirror_mode": {
    "name": "ipython",
    "version": 3
   },
   "file_extension": ".py",
   "mimetype": "text/x-python",
   "name": "python",
   "nbconvert_exporter": "python",
   "pygments_lexer": "ipython3",
   "version": "3.8.8"
  }
 },
 "nbformat": 4,
 "nbformat_minor": 4
}
