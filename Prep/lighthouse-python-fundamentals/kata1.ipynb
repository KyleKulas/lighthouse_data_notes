{
 "cells": [
  {
   "cell_type": "markdown",
   "id": "7c54bb92-2188-44a4-8b3f-ca4334242c7c",
   "metadata": {},
   "source": [
    "Create a function named sumLargestNumbers that will receive a list of numbers and return the sum of the two largest numbers in that array."
   ]
  },
  {
   "cell_type": "code",
   "execution_count": 4,
   "id": "c2f2c142-7f2c-4a10-a99a-adc8578e0f2b",
   "metadata": {},
   "outputs": [
    {
     "name": "stdout",
     "output_type": "stream",
     "text": [
      "11\n",
      "5\n",
      "126\n"
     ]
    }
   ],
   "source": [
    "def sumLargestNumbers(numbers):\n",
    "    \"\"\"Returns the sum of the largest 2 numbers in a list\"\"\"\n",
    "    sorted_numbers = sorted(numbers)\n",
    "    sum_of_largest2 = sorted_numbers[-1] + sorted_numbers[-2]\n",
    "    return sum_of_largest2\n",
    "\n",
    "print(sumLargestNumbers([1,10]))\n",
    "print(sumLargestNumbers([1,2,3]))\n",
    "print(sumLargestNumbers([10,4, 34, 6, 92, 2]))\n"
   ]
  },
  {
   "cell_type": "code",
   "execution_count": null,
   "id": "9bf4907a-5236-43c3-8891-81e4320d72d6",
   "metadata": {},
   "outputs": [],
   "source": []
  }
 ],
 "metadata": {
  "kernelspec": {
   "display_name": "Python 3",
   "language": "python",
   "name": "python3"
  },
  "language_info": {
   "codemirror_mode": {
    "name": "ipython",
    "version": 3
   },
   "file_extension": ".py",
   "mimetype": "text/x-python",
   "name": "python",
   "nbconvert_exporter": "python",
   "pygments_lexer": "ipython3",
   "version": "3.8.8"
  }
 },
 "nbformat": 4,
 "nbformat_minor": 5
}
