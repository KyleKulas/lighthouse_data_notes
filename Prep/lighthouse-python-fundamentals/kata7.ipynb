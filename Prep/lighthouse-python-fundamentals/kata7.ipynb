{
 "cells": [
  {
   "cell_type": "markdown",
   "id": "9e29bed8-cc4f-4a98-b1e2-ece5fe6eebf2",
   "metadata": {},
   "source": [
    "For this challenge, we will implement a function called checkAir(), which will check a collection of air samples. The function will take in two arguments. The first argument is a list of strings, where each string represents a small air sample that is either clean or dirty. The second argument is a number representing the highest acceptable amount of dirty samples. For example, a threshold of 0.4 means that there must be less than 40% of total samples classified as dirty for our air to be considered clean. Our function must return Polluted if there are too many dirty air samples, or Clean if the proportion of dirty samples is below the threshold.\n"
   ]
  },
  {
   "cell_type": "code",
   "execution_count": 1,
   "id": "425e7539-f8d0-4d13-81e3-2c1c7c120103",
   "metadata": {},
   "outputs": [
    {
     "name": "stdout",
     "output_type": "stream",
     "text": [
      "Polluted\n",
      "Polluted\n",
      "Clean\n"
     ]
    }
   ],
   "source": [
    "def checkAir(samples, threshold):\n",
    "    \"\"\"Return true if ratio of dirty samples to total is less than threshold, False if more.\"\"\"\n",
    "    clean_count = 0\n",
    "    dirty_count = 0\n",
    "    for sample in samples:\n",
    "        if sample == 'clean':\n",
    "            clean_count += 1\n",
    "        elif sample == 'dirty':\n",
    "            dirty_count += 1\n",
    "    ratio = dirty_count/(dirty_count + clean_count)\n",
    "    if ratio < threshold:\n",
    "        return 'Clean'\n",
    "    else:\n",
    "        return 'Polluted'\n",
    "\n",
    "\n",
    "print(checkAir(\n",
    "  ['clean', 'clean', 'dirty', 'clean', 'dirty', 'clean', 'clean', 'dirty', 'clean', 'dirty'],\n",
    "  0.3\n",
    "))\n",
    "\n",
    "print(checkAir(\n",
    "  ['dirty', 'dirty', 'dirty', 'dirty', 'clean'],\n",
    "  0.25\n",
    "))\n",
    "\n",
    "print(checkAir(\n",
    "  ['clean', 'dirty', 'clean', 'dirty', 'clean', 'dirty', 'clean'],\n",
    "  0.9\n",
    "))\n"
   ]
  },
  {
   "cell_type": "code",
   "execution_count": null,
   "id": "a8aacdef-e674-44f4-a830-bed0493c4433",
   "metadata": {},
   "outputs": [],
   "source": []
  }
 ],
 "metadata": {
  "kernelspec": {
   "display_name": "Python 3",
   "language": "python",
   "name": "python3"
  },
  "language_info": {
   "codemirror_mode": {
    "name": "ipython",
    "version": 3
   },
   "file_extension": ".py",
   "mimetype": "text/x-python",
   "name": "python",
   "nbconvert_exporter": "python",
   "pygments_lexer": "ipython3",
   "version": "3.8.8"
  }
 },
 "nbformat": 4,
 "nbformat_minor": 5
}
