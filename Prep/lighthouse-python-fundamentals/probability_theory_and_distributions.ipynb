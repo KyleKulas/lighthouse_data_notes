{
 "cells": [
  {
   "cell_type": "markdown",
   "id": "c4ed396c-c4dd-4e89-929a-32b0762b9dbd",
   "metadata": {},
   "source": [
    "## Importing Libraries"
   ]
  },
  {
   "cell_type": "code",
   "execution_count": 2,
   "id": "34faefcf-9ea7-46e4-89fb-132e34d1eb78",
   "metadata": {},
   "outputs": [],
   "source": [
    "import numpy as np\n",
    "import matplotlib.pyplot as plt\n",
    "from collections import Counter\n",
    "\n",
    "# set the plot style\n",
    "plt.style.use('fivethirtyeight')"
   ]
  },
  {
   "cell_type": "code",
   "execution_count": 3,
   "id": "415769c9-013f-4e8d-b704-2a57629c034c",
   "metadata": {},
   "outputs": [
    {
     "data": {
      "text/plain": [
       "array([0.48757955, 0.31124159, 0.22659311, 0.90570451])"
      ]
     },
     "execution_count": 3,
     "metadata": {},
     "output_type": "execute_result"
    }
   ],
   "source": [
    "random_num = np.random.random(4)\n",
    "random_num"
   ]
  },
  {
   "cell_type": "markdown",
   "id": "24cc4fc5-8b5c-4022-b92e-2a2698abd860",
   "metadata": {},
   "source": [
    "numpy.random.random() is a pseudorandom number generator. It is a mathematical function that generates a sequence of nearly random numbers. It takes a parameter to start the sequence, called the seed. The function is deterministic, meaning, given the same seed, it will produce the same sequence of numbers every time.\n",
    "\n",
    "If we want to set the seed to obtain the same result each run, we can use the following command before every generation:"
   ]
  },
  {
   "cell_type": "code",
   "execution_count": 17,
   "id": "368df411-1447-42d1-b82a-615184f2779b",
   "metadata": {},
   "outputs": [],
   "source": [
    "np.random.seed(42)"
   ]
  },
  {
   "cell_type": "markdown",
   "id": "48c5fecc-5493-4ed0-91d9-ae7a267a67e8",
   "metadata": {},
   "source": [
    "## Binomial Distribution (Discreet Distribution)"
   ]
  },
  {
   "cell_type": "markdown",
   "id": "81000537-d587-42db-8c9a-b3180f3bde34",
   "metadata": {},
   "source": [
    "* Binomial distribution with parameters n and p is a discrete probability distribution.\n",
    "\n",
    "We will demonstrate binomial distribution with a coin-flipping example. Imagine we toss a fair coin (the probability of getting heads or tails is 0.5) ten times. We want to know the probability of getting four heads as an outcome. Let's simulate this process in Python."
   ]
  },
  {
   "cell_type": "code",
   "execution_count": 20,
   "id": "fc54ec72-a27c-4ff9-a03e-284ce66500d7",
   "metadata": {},
   "outputs": [],
   "source": [
    "# n = the number of coin tosses\n",
    "# p = the probability of getting heads\n",
    "# size = the number repeats\n",
    "\n",
    "n = 10\n",
    "p = 0.5\n",
    "size = 1000\n",
    "\n",
    "samples = np.random.binomial(n, p, size)"
   ]
  },
  {
   "cell_type": "markdown",
   "id": "6798cf9c-0410-4e47-8ce0-c0d4d586db32",
   "metadata": {},
   "source": [
    "As we can see, samples is an array with the size of 1,000. Each number in the array represents how many times, out of 10 tosses, we get heads. Now we have to compute how many times each number occurs in the array."
   ]
  },
  {
   "cell_type": "code",
   "execution_count": 25,
   "id": "308863d4-141d-4f29-92c7-c3fe278afa17",
   "metadata": {},
   "outputs": [
    {
     "data": {
      "text/plain": [
       "Counter({5: 238,\n",
       "         6: 197,\n",
       "         2: 53,\n",
       "         8: 45,\n",
       "         7: 117,\n",
       "         4: 207,\n",
       "         3: 131,\n",
       "         1: 5,\n",
       "         9: 6,\n",
       "         10: 1})"
      ]
     },
     "execution_count": 25,
     "metadata": {},
     "output_type": "execute_result"
    }
   ],
   "source": [
    "# count the occurrence of each number\n",
    "head_occu_count = Counter(samples)\n",
    "head_occu_count"
   ]
  },
  {
   "cell_type": "markdown",
   "id": "c0f799e9-618e-4b5e-9910-bf5ff9620824",
   "metadata": {},
   "source": [
    "Calculate the probabilities"
   ]
  },
  {
   "cell_type": "code",
   "execution_count": 26,
   "id": "e7125c15-b54c-4bfc-bc6a-0bdf4fd794d4",
   "metadata": {},
   "outputs": [
    {
     "data": {
      "text/plain": [
       "[0.238, 0.197, 0.053, 0.045, 0.117, 0.207, 0.131, 0.005, 0.006, 0.001]"
      ]
     },
     "execution_count": 26,
     "metadata": {},
     "output_type": "execute_result"
    }
   ],
   "source": [
    "# calculate the probabilities as the number of occurences / size\n",
    "head_proba = [val/size for val in head_occu_count.values()]\n",
    "head_proba"
   ]
  },
  {
   "cell_type": "markdown",
   "id": "38e851b2-bd73-4914-8c04-85e2376b2eda",
   "metadata": {},
   "source": [
    "Plot the distribution"
   ]
  },
  {
   "cell_type": "code",
   "execution_count": 24,
   "id": "2fab7b79-448d-4a98-b607-d9e62929ea70",
   "metadata": {},
   "outputs": [
    {
     "data": {
      "image/png": "[encoded data removed]",
      "text/plain": [
       "<Figure size 432x288 with 1 Axes>"
      ]
     },
     "metadata": {},
     "output_type": "display_data"
    }
   ],
   "source": [
    "plt.scatter(x=head_occu_count.keys(), y=head_proba)\n",
    "plt.xlabel('number of heads out of 10 tosses')\n",
    "plt.ylabel('probability')\n",
    "\n",
    "# show plot\n",
    "plt.show()"
   ]
  },
  {
   "cell_type": "markdown",
   "id": "2171d824-4895-4199-b0a9-cee01a1547c4",
   "metadata": {},
   "source": [
    "## Normal Distribution (Continuous Distribution)"
   ]
  },
  {
   "cell_type": "markdown",
   "id": "5d267b4a-a218-4e76-8148-93243f6a98aa",
   "metadata": {},
   "source": [
    "* Normal distribution with the mean and variance parameters is a continous probability distribution.\n",
    "\n",
    "A normal distribution, also known as a Gaussian distribution, is a probability distribution that is symmetric around the mean, showing that data near the mean are more frequent in occurrence than data far from the mean. In a graph, the normal distribution will appear as a bell curve.\n",
    "\n",
    "Let's generate normally distributed data with Numpy:"
   ]
  },
  {
   "cell_type": "code",
   "execution_count": 30,
   "id": "5d9f2f47-c890-4159-b4b9-89e2b3897527",
   "metadata": {},
   "outputs": [],
   "source": [
    "# loc = mean ('a center') of the distribution.\n",
    "# scale = standard deviation (a spread or 'a width') of the distribution.\n",
    "\n",
    "samples = np.random.normal(loc=0, scale=1, size= 1000000)\n"
   ]
  },
  {
   "cell_type": "markdown",
   "id": "da87d7c1-5740-46b5-a3bf-3c5071ee2973",
   "metadata": {},
   "source": [
    "In the example above, we've generated a normal distribution with mean = 0 and std = 1.\n",
    "\n",
    "Let's plot the distribution, e.i. the probability density function:"
   ]
  },
  {
   "cell_type": "code",
   "execution_count": 31,
   "id": "d8bfc237-69c6-4cad-a607-1d4fddaae494",
   "metadata": {},
   "outputs": [
    {
     "data": {
      "image/png": "[encoded data removed]",
      "text/plain": [
       "<Figure size 432x288 with 1 Axes>"
      ]
     },
     "metadata": {},
     "output_type": "display_data"
    }
   ],
   "source": [
    "plt.hist(samples, density=True, histtype='step', bins=100)\n",
    "\n",
    "# show the plot\n",
    "plt.show()"
   ]
  },
  {
   "cell_type": "markdown",
   "id": "7a18e366-cdb5-414d-8fa9-9a05f5aa7079",
   "metadata": {},
   "source": [
    "The probability that we take a number smaller than zero from our sample array from the previous example equals to 0.5 (because the area under the PDF from minus infinity to zero is 0.5).\n",
    "\n",
    "But how does our PDF change with different parameters of the normal distribution?\n",
    "\n",
    "Let's try a couple of options and plot the results. In the first example, we will change the values of std parameter.\n",
    "\n"
   ]
  },
  {
   "cell_type": "code",
   "execution_count": 29,
   "id": "4f5ac183-4049-425e-a5d7-b2262f115618",
   "metadata": {},
   "outputs": [
    {
     "data": {
      "image/png": "[encoded data removed]",
      "text/plain": [
       "<Figure size 432x288 with 1 Axes>"
      ]
     },
     "metadata": {},
     "output_type": "display_data"
    }
   ],
   "source": [
    "samples_std1 = np.random.normal(20, 1, size=1000000)\n",
    "samples_std3 = np.random.normal(20, 3, size=1000000)\n",
    "samples_std10 = np.random.normal(20, 10, size=1000000)\n",
    "\n",
    "#make histograms\n",
    "plt.hist(samples_std1, density = True, histtype='step', bins=100)\n",
    "plt.hist(samples_std3, density = True, histtype='step', bins=100)\n",
    "plt.hist(samples_std10, density = True, histtype='step', bins=100)\n",
    "\n",
    "# make a legend, set limits, and show the plot\n",
    "plt.legend(('std=1', 'std = 3', 'std = 10'))\n",
    "plt.ylim(-0.01,0.42)\n",
    "plt.show()"
   ]
  },
  {
   "cell_type": "markdown",
   "id": "54281c64-5687-418e-b971-e169cde79f89",
   "metadata": {},
   "source": [
    "As we can see from the PDFs, the higher the std value is, the more spread out the distribution.\n",
    "\n",
    "But what will happen when we change the values of the mean parameter?"
   ]
  },
  {
   "cell_type": "code",
   "execution_count": 30,
   "id": "d98c88e0-9d8e-4552-a701-5c643018ce59",
   "metadata": {},
   "outputs": [
    {
     "data": {
      "image/png": "[encoded data removed]",
      "text/plain": [
       "<Figure size 432x288 with 1 Axes>"
      ]
     },
     "metadata": {},
     "output_type": "display_data"
    }
   ],
   "source": [
    "samples_std1 = np.random.normal(10, 3, size=1000000)\n",
    "samples_std3 = np.random.normal(20, 3, size=1000000)\n",
    "samples_std10 = np.random.normal(30, 3, size=1000000)\n",
    "\n",
    "# make histograms\n",
    "plt.hist(samples_std1, density = True, histtype='step', bins=100)\n",
    "plt.hist(samples_std3, density = True, histtype='step', bins=100)\n",
    "plt.hist(samples_std10, density = True, histtype='step', bins=100)\n",
    "\n",
    "# make a legend, set limits, and show the plot\n",
    "plt.legend(('mean = 10', 'mean = 20', 'mean = 30'))\n",
    "plt.ylim(-0.01, 0.42)\n",
    "plt.show()"
   ]
  },
  {
   "cell_type": "code",
   "execution_count": null,
   "id": "78feac5b-e288-4306-8734-159ffca1acfc",
   "metadata": {},
   "outputs": [],
   "source": []
  }
 ],
 "metadata": {
  "kernelspec": {
   "display_name": "Python 3",
   "language": "python",
   "name": "python3"
  },
  "language_info": {
   "codemirror_mode": {
    "name": "ipython",
    "version": 3
   },
   "file_extension": ".py",
   "mimetype": "text/x-python",
   "name": "python",
   "nbconvert_exporter": "python",
   "pygments_lexer": "ipython3",
   "version": "3.8.8"
  }
 },
 "nbformat": 4,
 "nbformat_minor": 5
}
