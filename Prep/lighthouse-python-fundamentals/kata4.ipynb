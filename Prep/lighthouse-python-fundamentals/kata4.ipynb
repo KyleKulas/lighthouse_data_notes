{
 "cells": [
  {
   "cell_type": "markdown",
   "id": "5a47b939-3eb3-4e34-ae2a-063861cdb7b2",
   "metadata": {},
   "source": [
    "Create a function named instructorWithLongestName that will receive a list of instructor dictionaries, and return the object that has the longest name. If there are two instructors with the longest name, return the first one."
   ]
  },
  {
   "cell_type": "code",
   "execution_count": 5,
   "id": "4c368db5-0de8-4521-bc78-da8071f7f4da",
   "metadata": {},
   "outputs": [
    {
     "name": "stdout",
     "output_type": "stream",
     "text": [
      "{'name': 'Jeremiah', 'course': 'Data'}\n",
      "{'name': 'Domascus', 'course': 'Web'}\n"
     ]
    }
   ],
   "source": [
    "def instructorWithLongestName(instructors):\n",
    "    \"\"\"Returns the instructor obj with the longest name\"\"\"\n",
    "    longest_name_length = 0\n",
    "    index_of_longest_name = None\n",
    "    for index, instructor in enumerate(instructors):\n",
    "        if len(instructor['name']) > longest_name_length:\n",
    "            longest_name_length = len(instructor['name'])\n",
    "            index_of_longest_name = index\n",
    "    return instructors[index_of_longest_name]\n",
    "    \n",
    "print(instructorWithLongestName([\n",
    "  {\"name\": \"Samuel\", \"course\": \"iOS\"},\n",
    "  {\"name\": \"Jeremiah\", \"course\": \"Data\"},\n",
    "  {\"name\": \"Ophilia\", \"course\": \"Web\"},\n",
    "  {\"name\": \"Donald\", \"course\": \"Web\"}\n",
    "]))\n",
    "print(instructorWithLongestName([\n",
    "  {\"name\": \"Matthew\", \"course\": \"Data\"},\n",
    "  {\"name\": \"David\", \"course\": \"iOS\"},\n",
    "  {\"name\": \"Domascus\", \"course\": \"Web\"}\n",
    "]))"
   ]
  },
  {
   "cell_type": "code",
   "execution_count": null,
   "id": "0d1936f8-a3f7-4bb5-9887-e8b7230c3292",
   "metadata": {},
   "outputs": [],
   "source": []
  }
 ],
 "metadata": {
  "kernelspec": {
   "display_name": "Python 3",
   "language": "python",
   "name": "python3"
  },
  "language_info": {
   "codemirror_mode": {
    "name": "ipython",
    "version": 3
   },
   "file_extension": ".py",
   "mimetype": "text/x-python",
   "name": "python",
   "nbconvert_exporter": "python",
   "pygments_lexer": "ipython3",
   "version": "3.8.8"
  }
 },
 "nbformat": 4,
 "nbformat_minor": 5
}
