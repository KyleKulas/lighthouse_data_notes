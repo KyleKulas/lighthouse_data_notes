{
 "cells": [
  {
   "cell_type": "markdown",
   "id": "5a852c56-9b22-45f3-80b3-3b8e90b01984",
   "metadata": {},
   "source": [
    "Create a function named conditionalSum that will be given a list of numbers and a condition, in this case odd or even. Given this condition, add up only the values which match that condition. If no values match the condition, return 0."
   ]
  },
  {
   "cell_type": "code",
   "execution_count": 2,
   "id": "4430c674-ef1d-42f0-b834-641c05b5a343",
   "metadata": {},
   "outputs": [
    {
     "name": "stdout",
     "output_type": "stream",
     "text": [
      "6\n",
      "9\n",
      "144\n",
      "0\n"
     ]
    }
   ],
   "source": [
    "def conditionalSum(numbers, condition):\n",
    "    \"\"\"Returns the sum of the numbers that match the condition 'even' or 'odd'\"\"\"\n",
    "    conditional_sum = 0\n",
    "    for number in numbers:\n",
    "        if condition == 'even' and number % 2 == 0:\n",
    "            conditional_sum += number\n",
    "        if condition == 'odd' and number % 2 == 1:\n",
    "            conditional_sum += number\n",
    "            \n",
    "    return conditional_sum\n",
    "\n",
    "print(conditionalSum([1, 2, 3, 4, 5], 'even'))\n",
    "print(conditionalSum([1, 2, 3, 4, 5], 'odd'))\n",
    "print(conditionalSum([13, 88, 12, 44, 99], 'even'))\n",
    "print(conditionalSum([], 'odd'))"
   ]
  },
  {
   "cell_type": "code",
   "execution_count": null,
   "id": "fa13f960-81c1-467b-baad-194ed4d8a6f1",
   "metadata": {},
   "outputs": [],
   "source": []
  }
 ],
 "metadata": {
  "kernelspec": {
   "display_name": "Python 3",
   "language": "python",
   "name": "python3"
  },
  "language_info": {
   "codemirror_mode": {
    "name": "ipython",
    "version": 3
   },
   "file_extension": ".py",
   "mimetype": "text/x-python",
   "name": "python",
   "nbconvert_exporter": "python",
   "pygments_lexer": "ipython3",
   "version": "3.8.8"
  }
 },
 "nbformat": 4,
 "nbformat_minor": 5
}
