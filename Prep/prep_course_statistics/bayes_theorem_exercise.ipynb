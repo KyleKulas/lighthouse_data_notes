{
 "cells": [
  {
   "cell_type": "markdown",
   "metadata": {
    "ExecuteTime": {
     "end_time": "2020-02-05T17:56:18.818219Z",
     "start_time": "2020-02-05T17:56:18.810698Z"
    }
   },
   "source": [
    "## Exercise 1\n",
    "In Orange County, 51% of the adults are males. (It doesn't take too much advanced\n",
    "mathematics to deduce that the other 49% are females.) One adult is randomly selected\n",
    "for a survey involving credit card usage.\n",
    "\n",
    "- **(a)** Find the probability that the selected person is a male.\n",
    "\n",
    "- **(b)** It is later learned that the selected survey subject was smoking a cigar. Also, 9.5% of males smoke cigars, whereas 1.7% of females smoke cigars (based on data from the Substance Abuse and Mental Health Services Administration). Use this additional information to find the probability that the cigar−smoking respondent is a male\n",
    "\n",
    "Use following notation:\n",
    "M = male <br>\n",
    "F = female <br>\n",
    "C = cigar smoker<br>\n",
    "NC = not a cigar smoker<br>\n"
   ]
  },
  {
   "cell_type": "code",
   "execution_count": null,
   "metadata": {},
   "outputs": [],
   "source": [
    "M = .51\n"
   ]
  },
  {
   "cell_type": "code",
   "execution_count": 4,
   "metadata": {},
   "outputs": [
    {
     "data": {
      "text/plain": [
       "0.8532934131736527"
      ]
     },
     "execution_count": 4,
     "metadata": {},
     "output_type": "execute_result"
    }
   ],
   "source": [
    "# P(M|C) = P(M)P(C|M)/P(C)\n",
    "# P(C) = P(M)P(C|M) + P(F)P(C|F)\n",
    "# P(M|C) = P(M)P(C|M)/ P(M)P(C|M) + P(F)P(C|F)\n",
    "MC =  .51 * .095 / ((.51 * 0.095) + (.49 * .017))\n",
    "MC"
   ]
  },
  {
   "cell_type": "code",
   "execution_count": null,
   "metadata": {},
   "outputs": [],
   "source": []
  },
  {
   "cell_type": "markdown",
   "metadata": {
    "ExecuteTime": {
     "end_time": "2020-02-05T17:56:20.532960Z",
     "start_time": "2020-02-05T17:56:20.525450Z"
    }
   },
   "source": [
    "# Exercise 2\n",
    "\n",
    "A diagnostic test has a probability 0.95 of giving a positive result when applied to a person suffering\n",
    "from a certain disease, and a probability 0.10 of giving a (false) positive when applied to a non-sufferer. It is\n",
    "estimated that 0.5 % of the population are sufferers. Suppose that the test is now administered to a person about\n",
    "whom we have no relevant information relating to the disease (apart from the fact that he/she comes from this\n",
    "population). \n",
    "\n",
    "Calculate the following probabilities:\n",
    "- **(a)** that the test result will be positive;\n",
    "- **(b)** that, given a positive result, the person is a sufferer;\n",
    "- **(c)** that, given a negative result, the person is a non-sufferer;\n",
    "- **(d)** that the person will be misclassified.\n",
    "\n",
    "Use following notation:\n",
    "\n",
    "T = test positive <br>\n",
    "NT = test negative<br>\n",
    "S = sufferer<br>\n",
    "NS = non-sufferer<br>\n",
    "M = misclassified<br>\n",
    "\n",
    "Solve it by two approaches:\n",
    "1. Arithmetically\n",
    "2. By simulation"
   ]
  },
  {
   "cell_type": "code",
   "execution_count": 35,
   "metadata": {},
   "outputs": [
    {
     "name": "stdout",
     "output_type": "stream",
     "text": [
      "P(T):  0.10425000000000001\n",
      "P(S|T):  0.04556354916067146\n",
      "P(NS|NT): 0.9997209042701646\n",
      "P(M):  0.09975\n"
     ]
    }
   ],
   "source": [
    "P_T = 0.95 * 0.005 + 0.995 * 0.1\n",
    "\n",
    "# P(S|T) = P(S) * P(T|S) / P(T)\n",
    "P_S_T = 0.005 * 0.95 / T\n",
    "\n",
    "# P(NS|NT) = P(NT|NS) * P(NS) / P(NT)\n",
    "P_NS_NT =  0.9 * 0.995 / (1 - P_T)\n",
    "\n",
    "# P(M) = P(false positive) + P(false negatives)\n",
    "P_M = (0.1 * 0.995) + (0.05 * 0.005)\n",
    "\n",
    "print('P(T): ', P_T)\n",
    "print('P(S|T): ', P_S_T)\n",
    "print('P(NS|NT):', P_NS_NT)\n",
    "print('P(M): ', P_M)"
   ]
  },
  {
   "cell_type": "code",
   "execution_count": 34,
   "metadata": {},
   "outputs": [
    {
     "name": "stdout",
     "output_type": "stream",
     "text": [
      "P(T) 0.1043485\n",
      "P(S|T) 0.04575532949683033\n",
      "P(NS|NT) 0.9997202036729688\n",
      "P(M) 0.0998246\n"
     ]
    }
   ],
   "source": [
    "import numpy as np\n",
    "\n",
    "n_trials = 1000000\n",
    "\n",
    "S = 0 # Sufferer\n",
    "S_T = 0 # Suffer and Test positive\n",
    "S_NT = 0 # Suffer and Test negative\n",
    "\n",
    "NS = 0 # Non-sufferer\n",
    "NS_T = 0 # Non-sufferer and Test Positive\n",
    "NS_NT = 0 # Non-sufferer and Test Negative\n",
    "M = 0 # Misclassified\n",
    "\n",
    "#loop\n",
    "for _ in range(n_trials):\n",
    "    if np.random.random() < .005:\n",
    "        S += 1\n",
    "        if np.random.random() < .95:\n",
    "            S_T += 1\n",
    "        else:\n",
    "            S_NT += 1\n",
    "            M += 1\n",
    "    else:\n",
    "        NS += 1\n",
    "        if np.random.random() < .1:\n",
    "            NS_T += 1\n",
    "            M += 1\n",
    "        else:\n",
    "            NS_NT += 1\n",
    "\n",
    "\n",
    "#calc probabilities\n",
    "P_T = (S_T + NS_T) / n_trials\n",
    "P_S_T = S_T / (S_T + NS_T)\n",
    "P_NS_NT = NS_NT/(NS_NT + S_NT)\n",
    "P_M = M / n_trials\n",
    "\n",
    "\n",
    "print('P(T)', P_T)\n",
    "print('P(S|T)', P_S_T)\n",
    "print('P(NS|NT)', P_NS_NT)\n",
    "print('P(M)', P_M)"
   ]
  },
  {
   "cell_type": "code",
   "execution_count": null,
   "metadata": {},
   "outputs": [],
   "source": []
  }
 ],
 "metadata": {
  "kernelspec": {
   "display_name": "Python 3",
   "language": "python",
   "name": "python3"
  },
  "language_info": {
   "codemirror_mode": {
    "name": "ipython",
    "version": 3
   },
   "file_extension": ".py",
   "mimetype": "text/x-python",
   "name": "python",
   "nbconvert_exporter": "python",
   "pygments_lexer": "ipython3",
   "version": "3.8.8"
  },
  "toc": {
   "base_numbering": 1,
   "nav_menu": {},
   "number_sections": true,
   "sideBar": true,
   "skip_h1_title": false,
   "title_cell": "Table of Contents",
   "title_sidebar": "Contents",
   "toc_cell": false,
   "toc_position": {},
   "toc_section_display": true,
   "toc_window_display": false
  },
  "varInspector": {
   "cols": {
    "lenName": 16,
    "lenType": 16,
    "lenVar": 40
   },
   "kernels_config": {
    "python": {
     "delete_cmd_postfix": "",
     "delete_cmd_prefix": "del ",
     "library": "var_list.py",
     "varRefreshCmd": "print(var_dic_list())"
    },
    "r": {
     "delete_cmd_postfix": ") ",
     "delete_cmd_prefix": "rm(",
     "library": "var_list.r",
     "varRefreshCmd": "cat(var_dic_list()) "
    }
   },
   "types_to_exclude": [
    "module",
    "function",
    "builtin_function_or_method",
    "instance",
    "_Feature"
   ],
   "window_display": false
  }
 },
 "nbformat": 4,
 "nbformat_minor": 4
}
