{
 "cells": [
  {
   "cell_type": "code",
   "execution_count": 17,
   "id": "dafca316-ceb7-4387-a3ba-dc11590303a2",
   "metadata": {},
   "outputs": [
    {
     "name": "stdout",
     "output_type": "stream",
     "text": [
      "Sam is the coach: 59.931%\n",
      "Sam is the coach and you are the goalkeeper: 30.06%\n",
      "Sam is the coach and you are not the goalkeeper: 29.871%\n",
      "Alex is the coach: 40.069%\n",
      "Alex is the coach and you are the goalkeeper: 12.036%\n",
      "Alex is the coach and you are not the goalkeeper: 28.033%\n",
      "You are the goalkeeper: 42.096000000000004%\n",
      "You are not the goalkeeper: 57.903999999999996%\n",
      "Sam is the coach when you are goalkeeper: 71.40820980615734%\n"
     ]
    }
   ],
   "source": [
    "import numpy as np\n",
    "\n",
    "n_runs = 100000\n",
    "\n",
    "SAM = 0\n",
    "SAM_YES = 0\n",
    "SAM_NO = 0\n",
    "ALEX = 0\n",
    "ALEX_YES = 0\n",
    "ALEX_NO = 0\n",
    "YES = 0 \n",
    "NO = 0\n",
    "\n",
    "for _ in range(n_runs):\n",
    "    # Sam (probability of Sam being the coach)\n",
    "    if np.random.random() < 0.6:\n",
    "        SAM += 1\n",
    "        \n",
    "        # YES\n",
    "        if np.random.random() < 0.5:\n",
    "            SAM_YES += 1\n",
    "            YES += 1\n",
    "            \n",
    "        # NO\n",
    "        else:\n",
    "            SAM_NO += 1\n",
    "            NO += 1\n",
    "            \n",
    "    # Alex (prob of Alex coach)\n",
    "    else:\n",
    "        ALEX += 1\n",
    "        \n",
    "        # YES\n",
    "        if np.random.random() < 0.3:\n",
    "            ALEX_YES += 1\n",
    "            YES += 1\n",
    "            \n",
    "        # NO\n",
    "        else:\n",
    "            ALEX_NO += 1\n",
    "            NO += 1\n",
    "            \n",
    "# Create probabilities\n",
    "P_SAM = SAM / n_runs * 100\n",
    "P_SAM_YES = SAM_YES / n_runs * 100\n",
    "P_SAM_NO = SAM_NO / n_runs * 100\n",
    "P_ALEX = ALEX / n_runs * 100\n",
    "P_ALEX_YES = ALEX_YES / n_runs * 100\n",
    "P_ALEX_NO = ALEX_NO / n_runs * 100\n",
    "P_YES = YES / n_runs * 100\n",
    "P_NO = NO / n_runs * 100\n",
    "\n",
    "# Print\n",
    "print(f'Sam is the coach: {P_SAM}%')\n",
    "print(f'Sam is the coach and you are the goalkeeper: {P_SAM_YES}%')\n",
    "print(f'Sam is the coach and you are not the goalkeeper: {P_SAM_NO}%')\n",
    "print(f'Alex is the coach: {P_ALEX}%')\n",
    "print(f'Alex is the coach and you are the goalkeeper: {P_ALEX_YES}%')\n",
    "print(f'Alex is the coach and you are not the goalkeeper: {P_ALEX_NO}%')\n",
    "print(f'You are the goalkeeper: {P_YES}%')\n",
    "print(f'You are not the goalkeeper: {P_NO}%')\n",
    "\n",
    "# P(SAM | goalkeeper)\n",
    "P_SAM_GOAL = P_SAM_YES / P_YES *100\n",
    "print(f'Sam is the coach when you are goalkeeper: {P_SAM_GOAL}%')\n"
   ]
  },
  {
   "cell_type": "markdown",
   "id": "f0e59583-1940-4764-bda5-36d15d105e7b",
   "metadata": {},
   "source": []
  },
  {
   "cell_type": "code",
   "execution_count": null,
   "id": "c0e8cc39-7f72-49e5-a90f-a6493c2ce755",
   "metadata": {},
   "outputs": [],
   "source": []
  }
 ],
 "metadata": {
  "kernelspec": {
   "display_name": "Python 3",
   "language": "python",
   "name": "python3"
  },
  "language_info": {
   "codemirror_mode": {
    "name": "ipython",
    "version": 3
   },
   "file_extension": ".py",
   "mimetype": "text/x-python",
   "name": "python",
   "nbconvert_exporter": "python",
   "pygments_lexer": "ipython3",
   "version": "3.8.8"
  }
 },
 "nbformat": 4,
 "nbformat_minor": 5
}
