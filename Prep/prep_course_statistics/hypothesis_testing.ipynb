{
 "cells": [
  {
   "cell_type": "markdown",
   "id": "cd545064-3c4c-4b2c-b8a8-c754a2bca06b",
   "metadata": {},
   "source": [
    "Imagine you are the owner of two stores with electronics. In both stores, you sell the same model of a cell-phone at the same price. Because you have the daily sales history from both stores, you are curious if the sales of this cell-phone are the same."
   ]
  },
  {
   "cell_type": "code",
   "execution_count": 1,
   "id": "9189f569-a4db-4170-89dc-02e6dc9e2132",
   "metadata": {},
   "outputs": [
    {
     "name": "stdout",
     "output_type": "stream",
     "text": [
      "20.04973201106029\n",
      "19.309929401404304\n",
      "0.7398026096559853\n"
     ]
    }
   ],
   "source": [
    "import numpy as np\n",
    "\n",
    "np.random.seed(42)\n",
    "\n",
    "# sales history in days\n",
    "history = 365\n",
    "\n",
    "# generate one-year sales for store A\n",
    "mean_A = 20\n",
    "std_A = 5\n",
    "shop_A_sales = np.random.normal(mean_A, std_A, history)\n",
    "\n",
    "# generate one-year sales for store B\n",
    "mean_B = 19.5\n",
    "std_B = 5\n",
    "shop_B_sales = np.random.normal(mean_B, std_B, history)\n",
    "\n",
    "# set the significance level\n",
    "alpha = 0.05\n",
    "\n",
    "print(shop_A_sales.mean())\n",
    "print(shop_B_sales.mean())\n",
    "\n",
    "# the difference in the means\n",
    "observed_means_diff = shop_A_sales.mean() - shop_B_sales.mean()\n",
    "print(observed_means_diff)\n",
    "\n",
    "\n"
   ]
  },
  {
   "cell_type": "markdown",
   "id": "9cd2dabd-52d8-4c7a-9226-eb774bba9824",
   "metadata": {},
   "source": [
    "Because the mean of sales in the store A is not so far from the mean of sales in the store B, and their standard deviations are equal, it is tough to decide if the sales are equal.\n",
    "\n",
    "Let's simulate what it would look like if both stores' sales were identically distributed. We can do that by putting sales data from both stores together.\n",
    "\n",
    "Now, we have to perform permutation on both_sales and re-create the sales with this permutation data."
   ]
  },
  {
   "cell_type": "code",
   "execution_count": 2,
   "id": "e36c733d-4949-4520-8e65-c24bcde1a1cc",
   "metadata": {},
   "outputs": [
    {
     "name": "stdout",
     "output_type": "stream",
     "text": [
      "0.21098789154327235\n"
     ]
    }
   ],
   "source": [
    "both_sales = np.concatenate((shop_A_sales, shop_B_sales))\n",
    "\n",
    "# permutation\n",
    "sales_perm = np.random.permutation(both_sales)\n",
    "\n",
    "# permutation replicates\n",
    "perm_shop_A_sales = sales_perm[:len(shop_A_sales)]\n",
    "perm_shop_B_sales = sales_perm[len(shop_A_sales):]\n",
    "\n",
    "print(perm_shop_A_sales.mean() - perm_shop_B_sales.mean())"
   ]
  },
  {
   "cell_type": "markdown",
   "id": "a4c167f6-7a6f-4b97-ad6b-847425b167a1",
   "metadata": {},
   "source": [
    "We can see that there is a difference between the permutation replicates mean and the original sales mean. But this was only one permutation. Let's try 1,000 different permutations and store the differences of the permutation replicates means in a list."
   ]
  },
  {
   "cell_type": "code",
   "execution_count": 3,
   "id": "1eb7d327-c9a9-449b-bc9b-aaaed3769ecb",
   "metadata": {},
   "outputs": [
    {
     "name": "stdout",
     "output_type": "stream",
     "text": [
      "p-value: 0.043\n"
     ]
    }
   ],
   "source": [
    "# create an empty list to store the permutation replicates means\n",
    "perm_repl_means = []\n",
    "\n",
    "for _ in range(1000):\n",
    "    # permutation\n",
    "    sales_perm = np.random.permutation(both_sales)\n",
    "    \n",
    "    # permutation replicates\n",
    "    perm_shop_A_sales = sales_perm[:len(shop_A_sales)]\n",
    "    perm_shop_B_sales = sales_perm[len(shop_A_sales):]\n",
    "    \n",
    "    #permutation replicates mean\n",
    "    perm_repl_mean = perm_shop_A_sales.mean() - perm_shop_B_sales.mean()\n",
    "    \n",
    "    # append perm_repl_mean to list\n",
    "    perm_repl_means.append(perm_repl_mean)\n",
    "    \n",
    "# compute the p-value\n",
    "p = np.sum(np.abs(perm_repl_means) >= observed_means_diff) / len(perm_repl_means)\n",
    "\n",
    "print('p-value:', p)"
   ]
  },
  {
   "cell_type": "markdown",
   "id": "90b9f8de-afc5-44a5-a759-bcae399745b1",
   "metadata": {},
   "source": [
    "The p-value tells us that there is about a 4.2% chance that we would get the difference of means observed in the experiment if sales were exactly the same."
   ]
  },
  {
   "cell_type": "code",
   "execution_count": 4,
   "id": "61ead9fa-50ac-4938-a7ec-530e5ab8a038",
   "metadata": {},
   "outputs": [
    {
     "name": "stdout",
     "output_type": "stream",
     "text": [
      "H0 is rejected.\n"
     ]
    }
   ],
   "source": [
    "# final decision\n",
    "if p < alpha:\n",
    "    print('H0 is rejected.')\n",
    "else:\n",
    "    print('H0 is not rejected')"
   ]
  },
  {
   "cell_type": "code",
   "execution_count": null,
   "id": "f08e0788-72fb-4d30-b9e6-02b6985639b5",
   "metadata": {},
   "outputs": [],
   "source": []
  }
 ],
 "metadata": {
  "kernelspec": {
   "display_name": "Python 3",
   "language": "python",
   "name": "python3"
  },
  "language_info": {
   "codemirror_mode": {
    "name": "ipython",
    "version": 3
   },
   "file_extension": ".py",
   "mimetype": "text/x-python",
   "name": "python",
   "nbconvert_exporter": "python",
   "pygments_lexer": "ipython3",
   "version": "3.8.8"
  }
 },
 "nbformat": 4,
 "nbformat_minor": 5
}
