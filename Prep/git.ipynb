{
 "cells": [
  {
   "cell_type": "markdown",
   "id": "b51dff9f-b410-446f-a17c-99f388e97e32",
   "metadata": {},
   "source": [
    "# Prep"
   ]
  },
  {
   "cell_type": "markdown",
   "id": "2f5a0610-ee20-43dc-81de-244ff2f1bfda",
   "metadata": {},
   "source": [
    "## Git"
   ]
  },
  {
   "cell_type": "markdown",
   "id": "32512130-1ada-44f8-8f54-749bb00a8618",
   "metadata": {},
   "source": [
    "### Create local repository"
   ]
  },
  {
   "cell_type": "markdown",
   "id": "88e7d66b-8089-4002-bb34-5bfc0d146cec",
   "metadata": {},
   "source": [
    "To make a new folder"
   ]
  },
  {
   "cell_type": "code",
   "execution_count": null,
   "id": "514ab4a3-eb86-48ed-aff4-b1f9da6458bf",
   "metadata": {},
   "outputs": [],
   "source": [
    "$ mkdir hello-world"
   ]
  },
  {
   "cell_type": "markdown",
   "id": "27c12881-9590-42c5-971d-521044f124fb",
   "metadata": {},
   "source": [
    "To go into that folder"
   ]
  },
  {
   "cell_type": "code",
   "execution_count": null,
   "id": "ea08fb7a-6520-4881-9170-f2a92d9e6898",
   "metadata": {},
   "outputs": [],
   "source": [
    "$cd hello-world"
   ]
  },
  {
   "cell_type": "markdown",
   "id": "f3eb8330-ed7c-44e8-9fcc-b89b4781164a",
   "metadata": {},
   "source": [
    "To creata new Git instance for a project"
   ]
  },
  {
   "cell_type": "code",
   "execution_count": null,
   "id": "f782b6d9-43e9-4b6b-a046-584b0374034d",
   "metadata": {},
   "outputs": [],
   "source": [
    "$ git init"
   ]
  },
  {
   "cell_type": "markdown",
   "id": "80cf27da-cc5b-4f85-b846-b8c8c1f6b434",
   "metadata": {},
   "source": [
    "Check status of changes to a repository\n"
   ]
  },
  {
   "cell_type": "code",
   "execution_count": null,
   "id": "53add657-fc54-400a-90f8-9fd9c75d78f3",
   "metadata": {},
   "outputs": [],
   "source": [
    "$ git status"
   ]
  },
  {
   "cell_type": "markdown",
   "id": "57363420-3350-4d8d-b7f9-4b849e72151c",
   "metadata": {},
   "source": [
    "View chages to files"
   ]
  },
  {
   "cell_type": "code",
   "execution_count": null,
   "id": "e1b02f78-5f92-4415-8c24-66599add2474",
   "metadata": {},
   "outputs": [],
   "source": [
    "$ git diff"
   ]
  },
  {
   "cell_type": "markdown",
   "id": "6d75bf0f-c1eb-4732-aa47-7234ab089751",
   "metadata": {},
   "source": [
    "Add a file's changes to be committed"
   ]
  },
  {
   "cell_type": "code",
   "execution_count": null,
   "id": "67213b9d-dd93-401a-a6b6-82cbce857cd2",
   "metadata": {},
   "outputs": [],
   "source": [
    "$ git add <FILENAME>"
   ]
  },
  {
   "cell_type": "markdown",
   "id": "ac44b221-f410-4769-85bd-30f8bbebf8fe",
   "metadata": {},
   "source": [
    "To add all files changes"
   ]
  },
  {
   "cell_type": "code",
   "execution_count": null,
   "id": "19b9db55-fd4c-43af-adb2-266868c7efb1",
   "metadata": {},
   "outputs": [],
   "source": [
    "$ git add ."
   ]
  },
  {
   "cell_type": "markdown",
   "id": "b3316e48-f3f3-4188-91ed-679d28266864",
   "metadata": {},
   "source": [
    "To commit (aka save) the changes you've added with a short message describing the changes"
   ]
  },
  {
   "cell_type": "code",
   "execution_count": null,
   "id": "ac8ec4d9-a929-44ac-9874-c4b045798c8c",
   "metadata": {},
   "outputs": [],
   "source": [
    "$ git commit -m \"<your commit message>\""
   ]
  },
  {
   "cell_type": "markdown",
   "id": "bd8b7ca4-8852-4c52-9a15-1d97fa0a7e41",
   "metadata": {},
   "source": [
    "Add you GitHub username to your configuration:"
   ]
  },
  {
   "cell_type": "code",
   "execution_count": null,
   "id": "7ee1d51c-c13e-4c0e-a4a2-3454b4f70245",
   "metadata": {},
   "outputs": [],
   "source": [
    "$ git config --global user.username <UserName>"
   ]
  },
  {
   "cell_type": "markdown",
   "id": "cde2180f-b9a1-493f-bfbb-879d27811095",
   "metadata": {},
   "source": [
    "### Create remote repository \n",
    "1. Go to github.com, log in, and click the \"+\" to create a new repository\n",
    "2. Give it a name that mathes your local repository and a short description\n",
    "3. make it public\n",
    "4. Don't initialize with a README because we already have a file, locally, named readme.txt\n",
    "5. Leave .gitignore and licence on 'none'\n",
    "6. Click create repository\n"
   ]
  },
  {
   "cell_type": "markdown",
   "id": "352efd51-4acd-46f2-b3d1-53980c6d23f2",
   "metadata": {},
   "source": [
    "### Connect your local to your remote"
   ]
  },
  {
   "cell_type": "markdown",
   "id": "97a0aeef-d2df-4f23-9cc1-370541734035",
   "metadata": {},
   "source": [
    "Now you've got an empty repository started on GitHub.com. At the top you'll see 'Quick Setup', make sure the 'SSH' button is selected and copy the address — this is the location (address) of your repository on GitHub's servers."
   ]
  },
  {
   "cell_type": "code",
   "execution_count": null,
   "id": "7f970104-b7fa-4345-8cd3-a98da713d416",
   "metadata": {},
   "outputs": [],
   "source": [
    "$ git remote add origin <URLFROMGITHUB>"
   ]
  },
  {
   "cell_type": "markdown",
   "id": "c7e6e303-7138-4eaf-94db-c5880c678c21",
   "metadata": {},
   "source": [
    "To modify the url use:"
   ]
  },
  {
   "cell_type": "code",
   "execution_count": null,
   "id": "d4530839-10f2-45ed-bd24-24c740ed6ff0",
   "metadata": {},
   "outputs": [],
   "source": [
    "$ git remote set-url <REMOTENAME> <URL>"
   ]
  },
  {
   "cell_type": "markdown",
   "id": "6fe642db-f210-4090-b6d8-2d0c1d72ed61",
   "metadata": {},
   "source": [
    "View remote connections:"
   ]
  },
  {
   "cell_type": "code",
   "execution_count": null,
   "id": "88960d90-ee17-4757-93e3-514c76b82a24",
   "metadata": {},
   "outputs": [],
   "source": [
    "$ git remote -v"
   ]
  },
  {
   "cell_type": "markdown",
   "id": "ec7853af-bbca-4659-b837-799bb119336c",
   "metadata": {},
   "source": [
    "### Push work to your remote"
   ]
  },
  {
   "cell_type": "markdown",
   "id": "af309116-80fd-42f8-a2d8-a4800d310ec1",
   "metadata": {},
   "source": [
    "Next you want to push (send) everything you've done locally to GitHub. \n",
    "\n",
    "Git has a branching system. By default the first branch is named 'main'. When you push from a project, you tell Git the branch name you want and the name of the remote that it lives on.\n",
    "\n",
    "In this case, we'll send our branch named 'main' to our remote on GitHub named 'origin':\n"
   ]
  },
  {
   "cell_type": "code",
   "execution_count": null,
   "id": "ff23a2b1-9ccd-4d95-a83f-f69e85e298fe",
   "metadata": {},
   "outputs": [],
   "source": [
    "$ git push origin main"
   ]
  },
  {
   "cell_type": "markdown",
   "id": "afc3b826-bb4c-4ead-ba93-93444ee6c123",
   "metadata": {},
   "source": [
    "### Forks"
   ]
  },
  {
   "cell_type": "markdown",
   "id": "a282de1f-38ec-435c-a2cb-5e6e693c8b97",
   "metadata": {},
   "source": [
    "The project we'll work with is github.com/jlord/patchwork. Go to that site and click the fork button at the top right. Once the fork animation is complete, you've got a copy on your account. Copy your fork's SSH URL on the right sidebar."
   ]
  },
  {
   "cell_type": "markdown",
   "id": "34cb8a38-ffee-4999-8c99-274bc2d444cd",
   "metadata": {},
   "source": [
    "#### Clone fork locally"
   ]
  },
  {
   "cell_type": "code",
   "execution_count": null,
   "id": "6df73d8e-8a17-4c52-b349-eaa00d81601e",
   "metadata": {},
   "outputs": [],
   "source": [
    "$ cd ..\n",
    "$ git clone <URLFROMGITHUB>\n",
    "$ cd patchwork"
   ]
  },
  {
   "cell_type": "markdown",
   "id": "87aa4766-a1f9-453a-8aa1-1e3784463352",
   "metadata": {},
   "source": [
    "Now you've got a copy of the repository on your computer and it is automatically connected to the remote repository (your forked copy) on your GitHub account."
   ]
  },
  {
   "cell_type": "markdown",
   "id": "a984b1c6-25dd-4993-ac65-f2836808a397",
   "metadata": {},
   "source": [
    "#### Connect to the original repository\n",
    "\n",
    "But what if the original repository you forked from changes? You'll want to be able to pull in those changes too. So let's add another remote connection, this time to the original, github.com/jlord/patchwork, repository with its URL, found on the right hand side of the original on GitHub.\n",
    "\n",
    "You can name this remote connection anything you want, but often people use 'upstream', let's use that for this."
   ]
  },
  {
   "cell_type": "code",
   "execution_count": null,
   "id": "e2b1ab40-fea2-43c2-84da-32af48d611b9",
   "metadata": {},
   "outputs": [],
   "source": [
    "$ git remote add upstream git@github.com:jlord/patchwork.git"
   ]
  },
  {
   "cell_type": "markdown",
   "id": "678b94ed-1386-4c51-b632-f7d7c11de825",
   "metadata": {},
   "source": [
    "### Branches\n",
    "#### Create a branch\n",
    "\n",
    "Create a branch and name it \"add-<username>\", where 'username' is your username. For instance, \"add-jlord\". Branches are case-sensitive so name your branch exactly the way your GitHub name appears."
   ]
  },
  {
   "cell_type": "code",
   "execution_count": null,
   "id": "860822c1-305d-4111-a0d6-dfe3d5cb66ea",
   "metadata": {},
   "outputs": [],
   "source": [
    "$ git branch <BRANCHNAME>"
   ]
  },
  {
   "cell_type": "markdown",
   "id": "13b7e4f0-2596-4cba-b609-8b5ea8b59cb5",
   "metadata": {},
   "source": [
    "To go into that branch and work on it, similar to using cd to change directory in terminal, you checkout a branch. Go onto your new branch:"
   ]
  },
  {
   "cell_type": "code",
   "execution_count": null,
   "id": "2bb543d2-2039-475c-a3f7-0a09ab2a3465",
   "metadata": {},
   "outputs": [],
   "source": [
    "$ git checkout <BRANCHNAME>"
   ]
  },
  {
   "cell_type": "markdown",
   "id": "46d4e3e1-db4c-4653-947f-a708b68708e3",
   "metadata": {},
   "source": [
    "#### Create a new file\n",
    "Back to the text editor:\n",
    "\n",
    "Create a new file named \"add-<USERNAME>.txt\", where 'username' is your username. For instance, \"add-jlord.txt\".\n",
    "Then, just write your GitHub username in it, that's it and that's all. For instance, I'd type 'jlord'.\n",
    "Save this file in the 'contributors' folder in Patchwork: Patchwork/contributors/add-yourusername.txt\n",
    "Next, check in your changes!\n",
    "    \n",
    "#### Check-in\n"
   ]
  },
  {
   "cell_type": "code",
   "execution_count": null,
   "id": "76d50403-de6a-4943-ad8c-3590bad54a55",
   "metadata": {},
   "outputs": [],
   "source": [
    "$ git status\n",
    "$ git add <FILENAME>\n",
    "$ git commit -m \"<commit message>\"\n"
   ]
  },
  {
   "cell_type": "markdown",
   "id": "74118211-fc40-4aae-b088-2759defdb02d",
   "metadata": {},
   "source": [
    "Now push your update to your fork on GitHub"
   ]
  },
  {
   "cell_type": "code",
   "execution_count": null,
   "id": "3c576d79-ed10-4539-9339-b51ffcbecece",
   "metadata": {},
   "outputs": [],
   "source": [
    "$ git push origin <BRANCHNAME>"
   ]
  },
  {
   "cell_type": "markdown",
   "id": "b2dc8dca-8ab4-41d6-9f91-c853fca4ec7a",
   "metadata": {},
   "source": [
    "The file you create should inside the existing 'contributors' folder in the Patchwork repository. If you put it somewhere else, simply use Finder or Windows Explorer to move your file into the folder. You can check git status again and you'll find it sees your changes. Stage and then commit \"all\" (-A) of these changes (additions and deletions) with the commands below."
   ]
  },
  {
   "cell_type": "code",
   "execution_count": null,
   "id": "adda1dd1-0d3b-489e-aebf-71d8bd2dc4ca",
   "metadata": {},
   "outputs": [],
   "source": [
    "$ git add -A\n",
    "$ git commit -m \"move file into contributors folder\""
   ]
  },
  {
   "cell_type": "markdown",
   "id": "b851dd56-e497-4446-bbc6-dbff703e1358",
   "metadata": {},
   "source": [
    "If you're working on something with someone you need to stay up to date with the latest state. So you'll want to pull in any changes that may have been made."
   ]
  },
  {
   "cell_type": "code",
   "execution_count": null,
   "id": "cf3cd820-f2c4-464a-a49e-a0351c906d10",
   "metadata": {},
   "outputs": [],
   "source": [
    "$ git pull <REMOTENAME> <BRANCHNAME>"
   ]
  },
  {
   "cell_type": "markdown",
   "id": "3285f63e-d492-4529-acc6-a2da1e9a5353",
   "metadata": {},
   "source": [
    "#### Create a pull request\n",
    "Visit the original repository you forked on GitHub, in this case http://github.com/jlord/patchwork.\n",
    "\n",
    "Often GitHub will detect when you've pushed a branch to a fork, and display a 'Compare & pull request' button at the top of both the original and forked repositories. If you see this for your 'add-username' branch, you can click it to continue. If not:\n",
    "\n",
    "Go to your forked repository.\n",
    "Click 'Pull requests' on the right-side menu, then 'New pull request' at the top.\n",
    "Select the branch with the changes you want to submit. It should be the one with 'add-yourusername'.\n",
    "Click 'Create pull request' at the top."
   ]
  },
  {
   "cell_type": "markdown",
   "id": "adde4d3c-7a56-4c57-8d2e-7986ecf74af8",
   "metadata": {},
   "source": [
    "#### Merge Locally\n",
    "Your pull request has been merged! Now, since you know that you definitely want those updates in your forked version, and your branch is in good working order, merge it into the main branch on your forked repository, in this case, 'gh-pages'.\n",
    "\n",
    "First, move into the branch you want to merge into — in this case, branch 'gh-pages'.\n"
   ]
  },
  {
   "cell_type": "code",
   "execution_count": null,
   "id": "fa3b7748-a745-4759-9663-6e7c8cb34c40",
   "metadata": {},
   "outputs": [],
   "source": [
    "$ git checkout gh-pages"
   ]
  },
  {
   "cell_type": "markdown",
   "id": "730bc406-6a12-4178-b466-3d9b4c662fc4",
   "metadata": {},
   "source": [
    "Now tell Git what branch you want to merge in — in this case, your feature branch that begins with \"add-\"."
   ]
  },
  {
   "cell_type": "code",
   "execution_count": null,
   "id": "27d12c70-0505-470e-9698-ad6330dfbfe6",
   "metadata": {},
   "outputs": [],
   "source": [
    "$ git merge <BRANCHNAME>"
   ]
  },
  {
   "cell_type": "markdown",
   "id": "66796043-00d8-4c62-b793-320b5de3bf07",
   "metadata": {},
   "source": [
    "Tidy up by deleting your feature branch now that it has been merged."
   ]
  },
  {
   "cell_type": "code",
   "execution_count": null,
   "id": "6fd059db-9f2a-4708-a7b0-2584913a2c4c",
   "metadata": {},
   "outputs": [],
   "source": [
    "$ git branch -d <BRANCHNAME>"
   ]
  },
  {
   "cell_type": "markdown",
   "id": "9a8bff58-1612-4cda-9cbc-006502efc3e2",
   "metadata": {},
   "source": [
    "You can also delete the branch from your fork on GitHub:"
   ]
  },
  {
   "cell_type": "code",
   "execution_count": null,
   "id": "376ec034-36dd-40f9-9c8e-e4d7d2cdc663",
   "metadata": {},
   "outputs": [],
   "source": [
    "$ git push <REMOTENAME> --delete <BRANCHNAME>"
   ]
  },
  {
   "cell_type": "markdown",
   "id": "9179ee59-f900-45e8-86e3-a5a97b6ebc38",
   "metadata": {},
   "source": [
    "#### Pull from upstream\n",
    "And last but not least, if you pull in updates from the original (since it now shows you on the home page) you'll be up to date and have a version too, live at: yourusername.github.io/patchwork.\n",
    "\n",
    "To pull from the original upstream:"
   ]
  },
  {
   "cell_type": "code",
   "execution_count": null,
   "id": "fc426c36-bf60-41b0-b15f-4491db4404d2",
   "metadata": {},
   "outputs": [],
   "source": [
    "$ git pull upstream gh-pages"
   ]
  },
  {
   "cell_type": "code",
   "execution_count": null,
   "id": "140576b7-5e0e-42db-99f3-ca52714e8e57",
   "metadata": {},
   "outputs": [],
   "source": []
  }
 ],
 "metadata": {
  "kernelspec": {
   "display_name": "Python 3",
   "language": "python",
   "name": "python3"
  },
  "language_info": {
   "codemirror_mode": {
    "name": "ipython",
    "version": 3
   },
   "file_extension": ".py",
   "mimetype": "text/x-python",
   "name": "python",
   "nbconvert_exporter": "python",
   "pygments_lexer": "ipython3",
   "version": "3.8.8"
  }
 },
 "nbformat": 4,
 "nbformat_minor": 5
}
