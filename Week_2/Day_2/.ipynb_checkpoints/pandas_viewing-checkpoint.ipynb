{
 "cells": [
  {
   "cell_type": "code",
   "execution_count": 1,
   "id": "2fe8fb17-86aa-46d5-bded-61d3ea562b7b",
   "metadata": {},
   "outputs": [],
   "source": [
    "import numpy as np\n",
    "import pandas as pd"
   ]
  },
  {
   "cell_type": "markdown",
   "id": "f7812ee8-2bcf-4ffa-8fea-055bd97e92ca",
   "metadata": {},
   "source": [
    "## Object creation"
   ]
  },
  {
   "cell_type": "code",
   "execution_count": 2,
   "id": "f7d4f30f-5cb9-4f5a-9bb5-24ee2499362a",
   "metadata": {},
   "outputs": [
    {
     "data": {
      "text/plain": [
       "0    1.0\n",
       "1    3.0\n",
       "2    5.0\n",
       "3    NaN\n",
       "4    6.0\n",
       "5    8.0\n",
       "dtype: float64"
      ]
     },
     "execution_count": 2,
     "metadata": {},
     "output_type": "execute_result"
    }
   ],
   "source": [
    "s = pd.Series([1, 3, 5, np.nan, 6, 8])\n",
    "s"
   ]
  },
  {
   "cell_type": "code",
   "execution_count": 3,
   "id": "58bbc195-7a5d-41c2-8e21-596fbc6fab44",
   "metadata": {},
   "outputs": [
    {
     "data": {
      "text/plain": [
       "DatetimeIndex(['2013-01-01', '2013-01-02', '2013-01-03', '2013-01-04',\n",
       "               '2013-01-05', '2013-01-06'],\n",
       "              dtype='datetime64[ns]', freq='D')"
      ]
     },
     "execution_count": 3,
     "metadata": {},
     "output_type": "execute_result"
    }
   ],
   "source": [
    "dates = pd.date_range('20130101', periods=6)\n",
    "dates"
   ]
  },
  {
   "cell_type": "code",
   "execution_count": 5,
   "id": "6c838a53-1ed4-411e-8e0c-239cda1ea1dc",
   "metadata": {},
   "outputs": [
    {
     "data": {
      "text/html": [
       "<div>\n",
       "<style scoped>\n",
       "    .dataframe tbody tr th:only-of-type {\n",
       "        vertical-align: middle;\n",
       "    }\n",
       "\n",
       "    .dataframe tbody tr th {\n",
       "        vertical-align: top;\n",
       "    }\n",
       "\n",
       "    .dataframe thead th {\n",
       "        text-align: right;\n",
       "    }\n",
       "</style>\n",
       "<table border=\"1\" class=\"dataframe\">\n",
       "  <thead>\n",
       "    <tr style=\"text-align: right;\">\n",
       "      <th></th>\n",
       "      <th>A</th>\n",
       "      <th>B</th>\n",
       "      <th>C</th>\n",
       "      <th>D</th>\n",
       "    </tr>\n",
       "  </thead>\n",
       "  <tbody>\n",
       "    <tr>\n",
       "      <th>2013-01-01</th>\n",
       "      <td>3.206741</td>\n",
       "      <td>0.546167</td>\n",
       "      <td>1.063248</td>\n",
       "      <td>-0.139581</td>\n",
       "    </tr>\n",
       "    <tr>\n",
       "      <th>2013-01-02</th>\n",
       "      <td>0.696769</td>\n",
       "      <td>0.154739</td>\n",
       "      <td>-0.494991</td>\n",
       "      <td>0.689771</td>\n",
       "    </tr>\n",
       "    <tr>\n",
       "      <th>2013-01-03</th>\n",
       "      <td>1.505585</td>\n",
       "      <td>0.437031</td>\n",
       "      <td>1.088750</td>\n",
       "      <td>0.535271</td>\n",
       "    </tr>\n",
       "    <tr>\n",
       "      <th>2013-01-04</th>\n",
       "      <td>0.544482</td>\n",
       "      <td>-0.070716</td>\n",
       "      <td>0.865140</td>\n",
       "      <td>0.111277</td>\n",
       "    </tr>\n",
       "    <tr>\n",
       "      <th>2013-01-05</th>\n",
       "      <td>0.194684</td>\n",
       "      <td>0.533071</td>\n",
       "      <td>-2.236613</td>\n",
       "      <td>-0.873917</td>\n",
       "    </tr>\n",
       "    <tr>\n",
       "      <th>2013-01-06</th>\n",
       "      <td>0.278263</td>\n",
       "      <td>1.657618</td>\n",
       "      <td>1.183768</td>\n",
       "      <td>0.811066</td>\n",
       "    </tr>\n",
       "  </tbody>\n",
       "</table>\n",
       "</div>"
      ],
      "text/plain": [
       "                   A         B         C         D\n",
       "2013-01-01  3.206741  0.546167  1.063248 -0.139581\n",
       "2013-01-02  0.696769  0.154739 -0.494991  0.689771\n",
       "2013-01-03  1.505585  0.437031  1.088750  0.535271\n",
       "2013-01-04  0.544482 -0.070716  0.865140  0.111277\n",
       "2013-01-05  0.194684  0.533071 -2.236613 -0.873917\n",
       "2013-01-06  0.278263  1.657618  1.183768  0.811066"
      ]
     },
     "execution_count": 5,
     "metadata": {},
     "output_type": "execute_result"
    }
   ],
   "source": [
    "df = pd.DataFrame(np.random.randn(6,4), index=dates, columns=list('ABCD'))\n",
    "df"
   ]
  },
  {
   "cell_type": "code",
   "execution_count": 6,
   "id": "a0a9c3fd-9a7f-43a4-923e-8bef852cd776",
   "metadata": {},
   "outputs": [
    {
     "data": {
      "text/html": [
       "<div>\n",
       "<style scoped>\n",
       "    .dataframe tbody tr th:only-of-type {\n",
       "        vertical-align: middle;\n",
       "    }\n",
       "\n",
       "    .dataframe tbody tr th {\n",
       "        vertical-align: top;\n",
       "    }\n",
       "\n",
       "    .dataframe thead th {\n",
       "        text-align: right;\n",
       "    }\n",
       "</style>\n",
       "<table border=\"1\" class=\"dataframe\">\n",
       "  <thead>\n",
       "    <tr style=\"text-align: right;\">\n",
       "      <th></th>\n",
       "      <th>A</th>\n",
       "      <th>B</th>\n",
       "      <th>C</th>\n",
       "      <th>D</th>\n",
       "      <th>E</th>\n",
       "      <th>F</th>\n",
       "    </tr>\n",
       "  </thead>\n",
       "  <tbody>\n",
       "    <tr>\n",
       "      <th>0</th>\n",
       "      <td>1.0</td>\n",
       "      <td>2013-01-02</td>\n",
       "      <td>1.0</td>\n",
       "      <td>3</td>\n",
       "      <td>test</td>\n",
       "      <td>foo</td>\n",
       "    </tr>\n",
       "    <tr>\n",
       "      <th>1</th>\n",
       "      <td>1.0</td>\n",
       "      <td>2013-01-02</td>\n",
       "      <td>1.0</td>\n",
       "      <td>3</td>\n",
       "      <td>train</td>\n",
       "      <td>foo</td>\n",
       "    </tr>\n",
       "    <tr>\n",
       "      <th>2</th>\n",
       "      <td>1.0</td>\n",
       "      <td>2013-01-02</td>\n",
       "      <td>1.0</td>\n",
       "      <td>3</td>\n",
       "      <td>test</td>\n",
       "      <td>foo</td>\n",
       "    </tr>\n",
       "    <tr>\n",
       "      <th>3</th>\n",
       "      <td>1.0</td>\n",
       "      <td>2013-01-02</td>\n",
       "      <td>1.0</td>\n",
       "      <td>3</td>\n",
       "      <td>train</td>\n",
       "      <td>foo</td>\n",
       "    </tr>\n",
       "  </tbody>\n",
       "</table>\n",
       "</div>"
      ],
      "text/plain": [
       "     A          B    C  D      E    F\n",
       "0  1.0 2013-01-02  1.0  3   test  foo\n",
       "1  1.0 2013-01-02  1.0  3  train  foo\n",
       "2  1.0 2013-01-02  1.0  3   test  foo\n",
       "3  1.0 2013-01-02  1.0  3  train  foo"
      ]
     },
     "execution_count": 6,
     "metadata": {},
     "output_type": "execute_result"
    }
   ],
   "source": [
    "df2 = pd.DataFrame({'A': 1.0,\n",
    "                       'B': pd.Timestamp('20130102'),\n",
    "                       'C': pd.Series(1, index=list(range(4)), dtype='float32'),\n",
    "                       'D': np.array([3] * 4, dtype='int32'),\n",
    "                       'E': pd.Categorical([\"test\", \"train\", \"test\", \"train\"]),\n",
    "                       'F': 'foo'})\n",
    "df2\n"
   ]
  },
  {
   "cell_type": "code",
   "execution_count": 9,
   "id": "9293da84-782a-4681-b2a8-4e2d0780e9a3",
   "metadata": {},
   "outputs": [
    {
     "data": {
      "text/plain": [
       "A           float64\n",
       "B    datetime64[ns]\n",
       "C           float32\n",
       "D             int32\n",
       "E          category\n",
       "F            object\n",
       "dtype: object"
      ]
     },
     "execution_count": 9,
     "metadata": {},
     "output_type": "execute_result"
    }
   ],
   "source": [
    "df2.dtypes"
   ]
  },
  {
   "cell_type": "markdown",
   "id": "40e39f87-cb6f-48f8-9482-741d744d9567",
   "metadata": {},
   "source": [
    "## Viewing Data"
   ]
  },
  {
   "cell_type": "code",
   "execution_count": 12,
   "id": "393f0702-c282-4797-8517-c9dd480d82b1",
   "metadata": {},
   "outputs": [
    {
     "data": {
      "text/html": [
       "<div>\n",
       "<style scoped>\n",
       "    .dataframe tbody tr th:only-of-type {\n",
       "        vertical-align: middle;\n",
       "    }\n",
       "\n",
       "    .dataframe tbody tr th {\n",
       "        vertical-align: top;\n",
       "    }\n",
       "\n",
       "    .dataframe thead th {\n",
       "        text-align: right;\n",
       "    }\n",
       "</style>\n",
       "<table border=\"1\" class=\"dataframe\">\n",
       "  <thead>\n",
       "    <tr style=\"text-align: right;\">\n",
       "      <th></th>\n",
       "      <th>A</th>\n",
       "      <th>B</th>\n",
       "      <th>C</th>\n",
       "      <th>D</th>\n",
       "    </tr>\n",
       "  </thead>\n",
       "  <tbody>\n",
       "    <tr>\n",
       "      <th>2013-01-01</th>\n",
       "      <td>3.206741</td>\n",
       "      <td>0.546167</td>\n",
       "      <td>1.063248</td>\n",
       "      <td>-0.139581</td>\n",
       "    </tr>\n",
       "    <tr>\n",
       "      <th>2013-01-02</th>\n",
       "      <td>0.696769</td>\n",
       "      <td>0.154739</td>\n",
       "      <td>-0.494991</td>\n",
       "      <td>0.689771</td>\n",
       "    </tr>\n",
       "    <tr>\n",
       "      <th>2013-01-03</th>\n",
       "      <td>1.505585</td>\n",
       "      <td>0.437031</td>\n",
       "      <td>1.088750</td>\n",
       "      <td>0.535271</td>\n",
       "    </tr>\n",
       "    <tr>\n",
       "      <th>2013-01-04</th>\n",
       "      <td>0.544482</td>\n",
       "      <td>-0.070716</td>\n",
       "      <td>0.865140</td>\n",
       "      <td>0.111277</td>\n",
       "    </tr>\n",
       "    <tr>\n",
       "      <th>2013-01-05</th>\n",
       "      <td>0.194684</td>\n",
       "      <td>0.533071</td>\n",
       "      <td>-2.236613</td>\n",
       "      <td>-0.873917</td>\n",
       "    </tr>\n",
       "  </tbody>\n",
       "</table>\n",
       "</div>"
      ],
      "text/plain": [
       "                   A         B         C         D\n",
       "2013-01-01  3.206741  0.546167  1.063248 -0.139581\n",
       "2013-01-02  0.696769  0.154739 -0.494991  0.689771\n",
       "2013-01-03  1.505585  0.437031  1.088750  0.535271\n",
       "2013-01-04  0.544482 -0.070716  0.865140  0.111277\n",
       "2013-01-05  0.194684  0.533071 -2.236613 -0.873917"
      ]
     },
     "execution_count": 12,
     "metadata": {},
     "output_type": "execute_result"
    }
   ],
   "source": [
    "df.head()"
   ]
  },
  {
   "cell_type": "code",
   "execution_count": 13,
   "id": "8035d551-0b63-462a-85bf-472e63dfcd31",
   "metadata": {},
   "outputs": [
    {
     "data": {
      "text/html": [
       "<div>\n",
       "<style scoped>\n",
       "    .dataframe tbody tr th:only-of-type {\n",
       "        vertical-align: middle;\n",
       "    }\n",
       "\n",
       "    .dataframe tbody tr th {\n",
       "        vertical-align: top;\n",
       "    }\n",
       "\n",
       "    .dataframe thead th {\n",
       "        text-align: right;\n",
       "    }\n",
       "</style>\n",
       "<table border=\"1\" class=\"dataframe\">\n",
       "  <thead>\n",
       "    <tr style=\"text-align: right;\">\n",
       "      <th></th>\n",
       "      <th>A</th>\n",
       "      <th>B</th>\n",
       "      <th>C</th>\n",
       "      <th>D</th>\n",
       "    </tr>\n",
       "  </thead>\n",
       "  <tbody>\n",
       "    <tr>\n",
       "      <th>2013-01-02</th>\n",
       "      <td>0.696769</td>\n",
       "      <td>0.154739</td>\n",
       "      <td>-0.494991</td>\n",
       "      <td>0.689771</td>\n",
       "    </tr>\n",
       "    <tr>\n",
       "      <th>2013-01-03</th>\n",
       "      <td>1.505585</td>\n",
       "      <td>0.437031</td>\n",
       "      <td>1.088750</td>\n",
       "      <td>0.535271</td>\n",
       "    </tr>\n",
       "    <tr>\n",
       "      <th>2013-01-04</th>\n",
       "      <td>0.544482</td>\n",
       "      <td>-0.070716</td>\n",
       "      <td>0.865140</td>\n",
       "      <td>0.111277</td>\n",
       "    </tr>\n",
       "    <tr>\n",
       "      <th>2013-01-05</th>\n",
       "      <td>0.194684</td>\n",
       "      <td>0.533071</td>\n",
       "      <td>-2.236613</td>\n",
       "      <td>-0.873917</td>\n",
       "    </tr>\n",
       "    <tr>\n",
       "      <th>2013-01-06</th>\n",
       "      <td>0.278263</td>\n",
       "      <td>1.657618</td>\n",
       "      <td>1.183768</td>\n",
       "      <td>0.811066</td>\n",
       "    </tr>\n",
       "  </tbody>\n",
       "</table>\n",
       "</div>"
      ],
      "text/plain": [
       "                   A         B         C         D\n",
       "2013-01-02  0.696769  0.154739 -0.494991  0.689771\n",
       "2013-01-03  1.505585  0.437031  1.088750  0.535271\n",
       "2013-01-04  0.544482 -0.070716  0.865140  0.111277\n",
       "2013-01-05  0.194684  0.533071 -2.236613 -0.873917\n",
       "2013-01-06  0.278263  1.657618  1.183768  0.811066"
      ]
     },
     "execution_count": 13,
     "metadata": {},
     "output_type": "execute_result"
    }
   ],
   "source": [
    "df.tail()"
   ]
  },
  {
   "cell_type": "code",
   "execution_count": 14,
   "id": "4c5d55de-4eec-4fce-a011-11dbb83923b5",
   "metadata": {},
   "outputs": [
    {
     "data": {
      "text/plain": [
       "DatetimeIndex(['2013-01-01', '2013-01-02', '2013-01-03', '2013-01-04',\n",
       "               '2013-01-05', '2013-01-06'],\n",
       "              dtype='datetime64[ns]', freq='D')"
      ]
     },
     "execution_count": 14,
     "metadata": {},
     "output_type": "execute_result"
    }
   ],
   "source": [
    "df.index"
   ]
  },
  {
   "cell_type": "code",
   "execution_count": 15,
   "id": "bb0520c8-c300-4f76-85cd-22bca98b8374",
   "metadata": {},
   "outputs": [
    {
     "data": {
      "text/plain": [
       "Index(['A', 'B', 'C', 'D'], dtype='object')"
      ]
     },
     "execution_count": 15,
     "metadata": {},
     "output_type": "execute_result"
    }
   ],
   "source": [
    "df.columns"
   ]
  },
  {
   "cell_type": "code",
   "execution_count": 16,
   "id": "154c74d0-897c-4ed0-a00e-c618684b54bd",
   "metadata": {},
   "outputs": [
    {
     "data": {
      "text/plain": [
       "array([[ 3.20674081,  0.5461671 ,  1.0632478 , -0.13958073],\n",
       "       [ 0.69676934,  0.15473944, -0.49499143,  0.68977057],\n",
       "       [ 1.50558512,  0.4370307 ,  1.08874972,  0.53527067],\n",
       "       [ 0.54448209, -0.07071602,  0.86513996,  0.11127726],\n",
       "       [ 0.19468359,  0.53307125, -2.2366131 , -0.87391699],\n",
       "       [ 0.27826305,  1.65761771,  1.18376771,  0.81106613]])"
      ]
     },
     "execution_count": 16,
     "metadata": {},
     "output_type": "execute_result"
    }
   ],
   "source": [
    "df.to_numpy()"
   ]
  },
  {
   "cell_type": "code",
   "execution_count": 17,
   "id": "67fb7902-1e60-4524-9454-fd0eca44646c",
   "metadata": {},
   "outputs": [
    {
     "data": {
      "text/html": [
       "<div>\n",
       "<style scoped>\n",
       "    .dataframe tbody tr th:only-of-type {\n",
       "        vertical-align: middle;\n",
       "    }\n",
       "\n",
       "    .dataframe tbody tr th {\n",
       "        vertical-align: top;\n",
       "    }\n",
       "\n",
       "    .dataframe thead th {\n",
       "        text-align: right;\n",
       "    }\n",
       "</style>\n",
       "<table border=\"1\" class=\"dataframe\">\n",
       "  <thead>\n",
       "    <tr style=\"text-align: right;\">\n",
       "      <th></th>\n",
       "      <th>A</th>\n",
       "      <th>B</th>\n",
       "      <th>C</th>\n",
       "      <th>D</th>\n",
       "    </tr>\n",
       "  </thead>\n",
       "  <tbody>\n",
       "    <tr>\n",
       "      <th>count</th>\n",
       "      <td>6.000000</td>\n",
       "      <td>6.000000</td>\n",
       "      <td>6.000000</td>\n",
       "      <td>6.000000</td>\n",
       "    </tr>\n",
       "    <tr>\n",
       "      <th>mean</th>\n",
       "      <td>1.071087</td>\n",
       "      <td>0.542985</td>\n",
       "      <td>0.244883</td>\n",
       "      <td>0.188981</td>\n",
       "    </tr>\n",
       "    <tr>\n",
       "      <th>std</th>\n",
       "      <td>1.145765</td>\n",
       "      <td>0.596842</td>\n",
       "      <td>1.367720</td>\n",
       "      <td>0.632683</td>\n",
       "    </tr>\n",
       "    <tr>\n",
       "      <th>min</th>\n",
       "      <td>0.194684</td>\n",
       "      <td>-0.070716</td>\n",
       "      <td>-2.236613</td>\n",
       "      <td>-0.873917</td>\n",
       "    </tr>\n",
       "    <tr>\n",
       "      <th>25%</th>\n",
       "      <td>0.344818</td>\n",
       "      <td>0.225312</td>\n",
       "      <td>-0.154959</td>\n",
       "      <td>-0.076866</td>\n",
       "    </tr>\n",
       "    <tr>\n",
       "      <th>50%</th>\n",
       "      <td>0.620626</td>\n",
       "      <td>0.485051</td>\n",
       "      <td>0.964194</td>\n",
       "      <td>0.323274</td>\n",
       "    </tr>\n",
       "    <tr>\n",
       "      <th>75%</th>\n",
       "      <td>1.303381</td>\n",
       "      <td>0.542893</td>\n",
       "      <td>1.082374</td>\n",
       "      <td>0.651146</td>\n",
       "    </tr>\n",
       "    <tr>\n",
       "      <th>max</th>\n",
       "      <td>3.206741</td>\n",
       "      <td>1.657618</td>\n",
       "      <td>1.183768</td>\n",
       "      <td>0.811066</td>\n",
       "    </tr>\n",
       "  </tbody>\n",
       "</table>\n",
       "</div>"
      ],
      "text/plain": [
       "              A         B         C         D\n",
       "count  6.000000  6.000000  6.000000  6.000000\n",
       "mean   1.071087  0.542985  0.244883  0.188981\n",
       "std    1.145765  0.596842  1.367720  0.632683\n",
       "min    0.194684 -0.070716 -2.236613 -0.873917\n",
       "25%    0.344818  0.225312 -0.154959 -0.076866\n",
       "50%    0.620626  0.485051  0.964194  0.323274\n",
       "75%    1.303381  0.542893  1.082374  0.651146\n",
       "max    3.206741  1.657618  1.183768  0.811066"
      ]
     },
     "execution_count": 17,
     "metadata": {},
     "output_type": "execute_result"
    }
   ],
   "source": [
    "df.describe()"
   ]
  },
  {
   "cell_type": "code",
   "execution_count": 18,
   "id": "cb66e3dd-8cbf-41c5-b7d4-e0d5b5b08fd4",
   "metadata": {},
   "outputs": [
    {
     "data": {
      "text/html": [
       "<div>\n",
       "<style scoped>\n",
       "    .dataframe tbody tr th:only-of-type {\n",
       "        vertical-align: middle;\n",
       "    }\n",
       "\n",
       "    .dataframe tbody tr th {\n",
       "        vertical-align: top;\n",
       "    }\n",
       "\n",
       "    .dataframe thead th {\n",
       "        text-align: right;\n",
       "    }\n",
       "</style>\n",
       "<table border=\"1\" class=\"dataframe\">\n",
       "  <thead>\n",
       "    <tr style=\"text-align: right;\">\n",
       "      <th></th>\n",
       "      <th>2013-01-01</th>\n",
       "      <th>2013-01-02</th>\n",
       "      <th>2013-01-03</th>\n",
       "      <th>2013-01-04</th>\n",
       "      <th>2013-01-05</th>\n",
       "      <th>2013-01-06</th>\n",
       "    </tr>\n",
       "  </thead>\n",
       "  <tbody>\n",
       "    <tr>\n",
       "      <th>A</th>\n",
       "      <td>3.206741</td>\n",
       "      <td>0.696769</td>\n",
       "      <td>1.505585</td>\n",
       "      <td>0.544482</td>\n",
       "      <td>0.194684</td>\n",
       "      <td>0.278263</td>\n",
       "    </tr>\n",
       "    <tr>\n",
       "      <th>B</th>\n",
       "      <td>0.546167</td>\n",
       "      <td>0.154739</td>\n",
       "      <td>0.437031</td>\n",
       "      <td>-0.070716</td>\n",
       "      <td>0.533071</td>\n",
       "      <td>1.657618</td>\n",
       "    </tr>\n",
       "    <tr>\n",
       "      <th>C</th>\n",
       "      <td>1.063248</td>\n",
       "      <td>-0.494991</td>\n",
       "      <td>1.088750</td>\n",
       "      <td>0.865140</td>\n",
       "      <td>-2.236613</td>\n",
       "      <td>1.183768</td>\n",
       "    </tr>\n",
       "    <tr>\n",
       "      <th>D</th>\n",
       "      <td>-0.139581</td>\n",
       "      <td>0.689771</td>\n",
       "      <td>0.535271</td>\n",
       "      <td>0.111277</td>\n",
       "      <td>-0.873917</td>\n",
       "      <td>0.811066</td>\n",
       "    </tr>\n",
       "  </tbody>\n",
       "</table>\n",
       "</div>"
      ],
      "text/plain": [
       "   2013-01-01  2013-01-02  2013-01-03  2013-01-04  2013-01-05  2013-01-06\n",
       "A    3.206741    0.696769    1.505585    0.544482    0.194684    0.278263\n",
       "B    0.546167    0.154739    0.437031   -0.070716    0.533071    1.657618\n",
       "C    1.063248   -0.494991    1.088750    0.865140   -2.236613    1.183768\n",
       "D   -0.139581    0.689771    0.535271    0.111277   -0.873917    0.811066"
      ]
     },
     "execution_count": 18,
     "metadata": {},
     "output_type": "execute_result"
    }
   ],
   "source": [
    "df.T"
   ]
  },
  {
   "cell_type": "code",
   "execution_count": 23,
   "id": "49dcc3d1-9190-4f4c-8bbe-a584bd9dcf35",
   "metadata": {},
   "outputs": [
    {
     "data": {
      "text/html": [
       "<div>\n",
       "<style scoped>\n",
       "    .dataframe tbody tr th:only-of-type {\n",
       "        vertical-align: middle;\n",
       "    }\n",
       "\n",
       "    .dataframe tbody tr th {\n",
       "        vertical-align: top;\n",
       "    }\n",
       "\n",
       "    .dataframe thead th {\n",
       "        text-align: right;\n",
       "    }\n",
       "</style>\n",
       "<table border=\"1\" class=\"dataframe\">\n",
       "  <thead>\n",
       "    <tr style=\"text-align: right;\">\n",
       "      <th></th>\n",
       "      <th>D</th>\n",
       "      <th>C</th>\n",
       "      <th>B</th>\n",
       "      <th>A</th>\n",
       "    </tr>\n",
       "  </thead>\n",
       "  <tbody>\n",
       "    <tr>\n",
       "      <th>2013-01-01</th>\n",
       "      <td>-0.139581</td>\n",
       "      <td>1.063248</td>\n",
       "      <td>0.546167</td>\n",
       "      <td>3.206741</td>\n",
       "    </tr>\n",
       "    <tr>\n",
       "      <th>2013-01-02</th>\n",
       "      <td>0.689771</td>\n",
       "      <td>-0.494991</td>\n",
       "      <td>0.154739</td>\n",
       "      <td>0.696769</td>\n",
       "    </tr>\n",
       "    <tr>\n",
       "      <th>2013-01-03</th>\n",
       "      <td>0.535271</td>\n",
       "      <td>1.088750</td>\n",
       "      <td>0.437031</td>\n",
       "      <td>1.505585</td>\n",
       "    </tr>\n",
       "    <tr>\n",
       "      <th>2013-01-04</th>\n",
       "      <td>0.111277</td>\n",
       "      <td>0.865140</td>\n",
       "      <td>-0.070716</td>\n",
       "      <td>0.544482</td>\n",
       "    </tr>\n",
       "    <tr>\n",
       "      <th>2013-01-05</th>\n",
       "      <td>-0.873917</td>\n",
       "      <td>-2.236613</td>\n",
       "      <td>0.533071</td>\n",
       "      <td>0.194684</td>\n",
       "    </tr>\n",
       "    <tr>\n",
       "      <th>2013-01-06</th>\n",
       "      <td>0.811066</td>\n",
       "      <td>1.183768</td>\n",
       "      <td>1.657618</td>\n",
       "      <td>0.278263</td>\n",
       "    </tr>\n",
       "  </tbody>\n",
       "</table>\n",
       "</div>"
      ],
      "text/plain": [
       "                   D         C         B         A\n",
       "2013-01-01 -0.139581  1.063248  0.546167  3.206741\n",
       "2013-01-02  0.689771 -0.494991  0.154739  0.696769\n",
       "2013-01-03  0.535271  1.088750  0.437031  1.505585\n",
       "2013-01-04  0.111277  0.865140 -0.070716  0.544482\n",
       "2013-01-05 -0.873917 -2.236613  0.533071  0.194684\n",
       "2013-01-06  0.811066  1.183768  1.657618  0.278263"
      ]
     },
     "execution_count": 23,
     "metadata": {},
     "output_type": "execute_result"
    }
   ],
   "source": [
    "df.sort_index(axis=1, ascending=False)"
   ]
  },
  {
   "cell_type": "code",
   "execution_count": 24,
   "id": "91b2c4f9-3936-49a7-99ff-4260630a71bf",
   "metadata": {},
   "outputs": [
    {
     "data": {
      "text/html": [
       "<div>\n",
       "<style scoped>\n",
       "    .dataframe tbody tr th:only-of-type {\n",
       "        vertical-align: middle;\n",
       "    }\n",
       "\n",
       "    .dataframe tbody tr th {\n",
       "        vertical-align: top;\n",
       "    }\n",
       "\n",
       "    .dataframe thead th {\n",
       "        text-align: right;\n",
       "    }\n",
       "</style>\n",
       "<table border=\"1\" class=\"dataframe\">\n",
       "  <thead>\n",
       "    <tr style=\"text-align: right;\">\n",
       "      <th></th>\n",
       "      <th>A</th>\n",
       "      <th>B</th>\n",
       "      <th>C</th>\n",
       "      <th>D</th>\n",
       "    </tr>\n",
       "  </thead>\n",
       "  <tbody>\n",
       "    <tr>\n",
       "      <th>2013-01-04</th>\n",
       "      <td>0.544482</td>\n",
       "      <td>-0.070716</td>\n",
       "      <td>0.865140</td>\n",
       "      <td>0.111277</td>\n",
       "    </tr>\n",
       "    <tr>\n",
       "      <th>2013-01-02</th>\n",
       "      <td>0.696769</td>\n",
       "      <td>0.154739</td>\n",
       "      <td>-0.494991</td>\n",
       "      <td>0.689771</td>\n",
       "    </tr>\n",
       "    <tr>\n",
       "      <th>2013-01-03</th>\n",
       "      <td>1.505585</td>\n",
       "      <td>0.437031</td>\n",
       "      <td>1.088750</td>\n",
       "      <td>0.535271</td>\n",
       "    </tr>\n",
       "    <tr>\n",
       "      <th>2013-01-05</th>\n",
       "      <td>0.194684</td>\n",
       "      <td>0.533071</td>\n",
       "      <td>-2.236613</td>\n",
       "      <td>-0.873917</td>\n",
       "    </tr>\n",
       "    <tr>\n",
       "      <th>2013-01-01</th>\n",
       "      <td>3.206741</td>\n",
       "      <td>0.546167</td>\n",
       "      <td>1.063248</td>\n",
       "      <td>-0.139581</td>\n",
       "    </tr>\n",
       "    <tr>\n",
       "      <th>2013-01-06</th>\n",
       "      <td>0.278263</td>\n",
       "      <td>1.657618</td>\n",
       "      <td>1.183768</td>\n",
       "      <td>0.811066</td>\n",
       "    </tr>\n",
       "  </tbody>\n",
       "</table>\n",
       "</div>"
      ],
      "text/plain": [
       "                   A         B         C         D\n",
       "2013-01-04  0.544482 -0.070716  0.865140  0.111277\n",
       "2013-01-02  0.696769  0.154739 -0.494991  0.689771\n",
       "2013-01-03  1.505585  0.437031  1.088750  0.535271\n",
       "2013-01-05  0.194684  0.533071 -2.236613 -0.873917\n",
       "2013-01-01  3.206741  0.546167  1.063248 -0.139581\n",
       "2013-01-06  0.278263  1.657618  1.183768  0.811066"
      ]
     },
     "execution_count": 24,
     "metadata": {},
     "output_type": "execute_result"
    }
   ],
   "source": [
    "df.sort_values(by='B')"
   ]
  },
  {
   "cell_type": "code",
   "execution_count": null,
   "id": "a9b03db6-da5f-4dd7-8f95-ac4b3501102f",
   "metadata": {},
   "outputs": [],
   "source": []
  }
 ],
 "metadata": {
  "kernelspec": {
   "display_name": "py3.6",
   "language": "python",
   "name": "py3.6"
  },
  "language_info": {
   "codemirror_mode": {
    "name": "ipython",
    "version": 3
   },
   "file_extension": ".py",
   "mimetype": "text/x-python",
   "name": "python",
   "nbconvert_exporter": "python",
   "pygments_lexer": "ipython3",
   "version": "3.6.13"
  }
 },
 "nbformat": 4,
 "nbformat_minor": 5
}
