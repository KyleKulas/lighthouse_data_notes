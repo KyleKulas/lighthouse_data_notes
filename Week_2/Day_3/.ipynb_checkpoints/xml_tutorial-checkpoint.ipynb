{
 "cells": [
  {
   "cell_type": "code",
   "execution_count": 1,
   "id": "2be1fc52-22d7-4de7-8eb8-84db54d70ebb",
   "metadata": {},
   "outputs": [],
   "source": [
    "import xml.etree.ElementTree as ET"
   ]
  },
  {
   "cell_type": "code",
   "execution_count": 2,
   "id": "39d6f2b8-2869-4126-9767-ad3c413b09cc",
   "metadata": {},
   "outputs": [],
   "source": [
    "tree = ET.parse('data.xml')"
   ]
  },
  {
   "cell_type": "code",
   "execution_count": 3,
   "id": "1f2d5ff2-9971-42a7-8d6a-cb18752ee383",
   "metadata": {},
   "outputs": [
    {
     "name": "stdout",
     "output_type": "stream",
     "text": [
      "<class 'xml.etree.ElementTree.ElementTree'>\n"
     ]
    }
   ],
   "source": [
    "print(type(tree))"
   ]
  },
  {
   "cell_type": "code",
   "execution_count": 4,
   "id": "8d194643-0e26-4b30-83a8-e817818e3dce",
   "metadata": {},
   "outputs": [
    {
     "data": {
      "text/plain": [
       "<Element 'data' at 0x7fa534bb5818>"
      ]
     },
     "execution_count": 4,
     "metadata": {},
     "output_type": "execute_result"
    }
   ],
   "source": [
    "root = tree.getroot()\n",
    "root"
   ]
  },
  {
   "cell_type": "code",
   "execution_count": 6,
   "id": "e9f37c3f-1b05-4a75-8ff3-eb2e71442415",
   "metadata": {},
   "outputs": [
    {
     "name": "stdout",
     "output_type": "stream",
     "text": [
      "data\n",
      "{}\n",
      "3\n"
     ]
    }
   ],
   "source": [
    "print(root.tag)\n",
    "print(root.attrib)\n",
    "print(len(root))"
   ]
  },
  {
   "cell_type": "code",
   "execution_count": 9,
   "id": "90ab6ac0-940b-4d75-b645-d93a86ba8c48",
   "metadata": {},
   "outputs": [
    {
     "name": "stdout",
     "output_type": "stream",
     "text": [
      "rank\n",
      "1\n",
      "{'name': 'Switzerland', 'direction': 'W'}\n"
     ]
    }
   ],
   "source": [
    "# First child of root\n",
    "country1 = root[0]\n",
    "\n",
    "# First child of the child\n",
    "rank = country1[0]\n",
    "\n",
    "# What is the rank of the grandchild\n",
    "print(rank.tag)\n",
    "\n",
    "# What is the text inside this grandchild\n",
    "print(rank.text)\n",
    "\n",
    "# What are the attributes of the last element?\n",
    "print(country1[4].attrib)"
   ]
  },
  {
   "cell_type": "code",
   "execution_count": 10,
   "id": "1aff5820-6f26-420f-9eee-eb6ab5a3f04a",
   "metadata": {},
   "outputs": [
    {
     "data": {
      "text/plain": [
       "'13600'"
      ]
     },
     "execution_count": 10,
     "metadata": {},
     "output_type": "execute_result"
    }
   ],
   "source": [
    "# Some info about third child of the root\n",
    "country3 = root[2]\n",
    "gdppc = country3[2]\n",
    "gdppc.text"
   ]
  },
  {
   "cell_type": "markdown",
   "id": "eca74817-8858-472f-aafe-39744f2eeb2b",
   "metadata": {},
   "source": [
    "#### Iterating through the file"
   ]
  },
  {
   "cell_type": "code",
   "execution_count": 11,
   "id": "af5dd53e-bc37-4901-9fb9-566d9ebf6f82",
   "metadata": {},
   "outputs": [
    {
     "name": "stdout",
     "output_type": "stream",
     "text": [
      "Liechtenstein 1\n",
      "Singapore 4\n",
      "Panama 68\n"
     ]
    }
   ],
   "source": [
    "# find all the child with tag country\n",
    "\n",
    "for country in root.findall('country'):\n",
    "    # rank is child of the country\n",
    "    rank = country.find('rank').text\n",
    "    \n",
    "    #name is attribute of the country\n",
    "    name = country.get('name')\n",
    "    print(name, rank)"
   ]
  },
  {
   "cell_type": "code",
   "execution_count": 15,
   "id": "b27b026e-9380-4c68-969f-e4fd391cc608",
   "metadata": {},
   "outputs": [
    {
     "name": "stdout",
     "output_type": "stream",
     "text": [
      "{'name': 'Austria', 'direction': 'E'}\n",
      "{'name': 'Switzerland', 'direction': 'W'}\n",
      "{'name': 'Malaysia', 'direction': 'N'}\n",
      "{'name': 'Costa Rica', 'direction': 'W'}\n",
      "{'name': 'Colombia', 'direction': 'E'}\n"
     ]
    }
   ],
   "source": [
    "for neighbor in root.iter('neighbor'):\n",
    "    print(neighbor.attrib)"
   ]
  },
  {
   "cell_type": "markdown",
   "id": "96bd4170-e6c9-4e9d-bc1c-5f5d21194600",
   "metadata": {},
   "source": [
    "#### findall()"
   ]
  },
  {
   "cell_type": "code",
   "execution_count": 17,
   "id": "098b0105-b3ab-4f97-8fbf-91875d5bf06c",
   "metadata": {},
   "outputs": [
    {
     "name": "stdout",
     "output_type": "stream",
     "text": [
      "[<Element 'data' at 0x7fa534bb5818>]\n"
     ]
    }
   ],
   "source": [
    "# Top-level elements\n",
    "root.findall('.')\n",
    "\n",
    "# All 'neighbor' grand-children of 'country' children of the top-level elements\n",
    "root.findall(\"./country/neighbor\")\n",
    "\n",
    "# elements with name='Singapore' that have a 'year' child\n",
    "root.findall(\".//year/..[@name='Singapore']\")\n",
    "\n",
    "# 'year' elements that are children of elements with name='Singapore'\n",
    "root.findall(\".//*[@name='Singapore']/year\")\n",
    "\n",
    "# All 'neighbor' elements that are the second child of their parent\n",
    "root.findall(\".//neighbor[2]\")"
   ]
  },
  {
   "cell_type": "code",
   "execution_count": 24,
   "id": "8c299f76-3330-4313-988a-b28e75d7a837",
   "metadata": {},
   "outputs": [
    {
     "name": "stdout",
     "output_type": "stream",
     "text": [
      "country\n"
     ]
    }
   ],
   "source": [
    "for test in root.findall(\".//year/..[@name='Singapore']\"):\n",
    "    print(test.tag)"
   ]
  },
  {
   "cell_type": "markdown",
   "id": "8b699fca-4a94-45da-96a2-ede9b5e4afcc",
   "metadata": {},
   "source": [
    "### Create Pandas DataFrame"
   ]
  },
  {
   "cell_type": "code",
   "execution_count": 28,
   "id": "3229c874-43b8-45df-bfd1-149805165b5f",
   "metadata": {},
   "outputs": [
    {
     "data": {
      "text/html": [
       "<div>\n",
       "<style scoped>\n",
       "    .dataframe tbody tr th:only-of-type {\n",
       "        vertical-align: middle;\n",
       "    }\n",
       "\n",
       "    .dataframe tbody tr th {\n",
       "        vertical-align: top;\n",
       "    }\n",
       "\n",
       "    .dataframe thead th {\n",
       "        text-align: right;\n",
       "    }\n",
       "</style>\n",
       "<table border=\"1\" class=\"dataframe\">\n",
       "  <thead>\n",
       "    <tr style=\"text-align: right;\">\n",
       "      <th></th>\n",
       "      <th>name</th>\n",
       "      <th>rank</th>\n",
       "      <th>year</th>\n",
       "      <th>gdppc</th>\n",
       "    </tr>\n",
       "  </thead>\n",
       "  <tbody>\n",
       "    <tr>\n",
       "      <th>0</th>\n",
       "      <td>Liechtenstein</td>\n",
       "      <td>1</td>\n",
       "      <td>2008</td>\n",
       "      <td>141100</td>\n",
       "    </tr>\n",
       "    <tr>\n",
       "      <th>1</th>\n",
       "      <td>Singapore</td>\n",
       "      <td>4</td>\n",
       "      <td>2011</td>\n",
       "      <td>59900</td>\n",
       "    </tr>\n",
       "    <tr>\n",
       "      <th>2</th>\n",
       "      <td>Panama</td>\n",
       "      <td>68</td>\n",
       "      <td>2011</td>\n",
       "      <td>13600</td>\n",
       "    </tr>\n",
       "  </tbody>\n",
       "</table>\n",
       "</div>"
      ],
      "text/plain": [
       "            name rank  year   gdppc\n",
       "0  Liechtenstein    1  2008  141100\n",
       "1      Singapore    4  2011   59900\n",
       "2         Panama   68  2011   13600"
      ]
     },
     "execution_count": 28,
     "metadata": {},
     "output_type": "execute_result"
    }
   ],
   "source": [
    "import xml.etree.ElementTree as ET\n",
    "import pandas as pd\n",
    "\n",
    "tree = ET.parse('data.xml')  # Load from file\n",
    "root = tree.getroot()\n",
    "\n",
    "data = {'name': [],\n",
    "        'rank': [],\n",
    "        'year': [],\n",
    "        'gdppc': []}\n",
    "\n",
    "for country in root.findall('country'):\n",
    "\n",
    "    data['name'].append(country.get('name'))\n",
    "    data['rank'].append(country.find('rank').text)\n",
    "    data['year'].append(country.find('year').text)\n",
    "    data['gdppc'].append(country.find('gdppc').text)\n",
    "    \n",
    "   \n",
    "df = pd.DataFrame(data)\n",
    "df    "
   ]
  },
  {
   "cell_type": "markdown",
   "id": "59cd6334-c55f-47aa-9126-b27ca4bdd5cc",
   "metadata": {},
   "source": [
    "Note: Because all children of the root are countries therefore for country in root: equals for country in root.findall('country')"
   ]
  },
  {
   "cell_type": "code",
   "execution_count": null,
   "id": "99c9ed47-d02d-4707-b4d6-45e47d1cc846",
   "metadata": {},
   "outputs": [],
   "source": []
  }
 ],
 "metadata": {
  "kernelspec": {
   "display_name": "py3.6",
   "language": "python",
   "name": "py3.6"
  },
  "language_info": {
   "codemirror_mode": {
    "name": "ipython",
    "version": 3
   },
   "file_extension": ".py",
   "mimetype": "text/x-python",
   "name": "python",
   "nbconvert_exporter": "python",
   "pygments_lexer": "ipython3",
   "version": "3.6.13"
  }
 },
 "nbformat": 4,
 "nbformat_minor": 5
}
