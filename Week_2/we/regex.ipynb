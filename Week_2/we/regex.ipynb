{
 "cells": [
  {
   "cell_type": "code",
   "execution_count": 1,
   "id": "4af02bbc-0b1d-47f4-aea3-8105c535e167",
   "metadata": {},
   "outputs": [
    {
     "name": "stdout",
     "output_type": "stream",
     "text": [
      "Match at index 0, 7\n",
      "Full match: June 24\n",
      "Month: June\n",
      "Day: 24\n"
     ]
    }
   ],
   "source": [
    "import re \n",
    "\n",
    "regex = r\"([a-zA-Z]+) (\\d+)\"\n",
    "if re.search(regex, \"June 24\"):\n",
    "    \n",
    "    match = re.search(regex, \"June 24\")\n",
    "    \n",
    "    print(\"Match at index %s, %s\" % (match.start(),match.end()))\n",
    "    print(\"Full match: %s\" % (match.group(0)))\n",
    "    print(\"Month: %s\" % (match.group(1)))\n",
    "    print(\"Day: %s\" % (match.group(2)))\n",
    "else:\n",
    "    print(\"The regex pattern does not match.:(\")"
   ]
  },
  {
   "cell_type": "markdown",
   "id": "88088436-f88d-45e7-bad7-aa788855ae93",
   "metadata": {},
   "source": [
    "## Findall \n",
    "\n",
    "`matchList = re.findall(pattern, input_str, flags=0)\n",
    "matchList = re.finditer(pattern, input_str, flags=0)`\n",
    "\n",
    "If you need additional context for each match, you can use re.finditer() which instead returns an iterator of re.MatchObjects to walk through. Both methods take the same parameters."
   ]
  },
  {
   "cell_type": "code",
   "execution_count": 3,
   "id": "1c59a62e-dd8a-409a-9a5f-31a23c4c9fed",
   "metadata": {},
   "outputs": [
    {
     "name": "stdout",
     "output_type": "stream",
     "text": [
      "Full match: June 24\n",
      "Full match: August 9\n",
      "Full match: Dec 12\n"
     ]
    }
   ],
   "source": [
    "import re\n",
    "# Lets use a regular expression to match a few date strings.\n",
    "regex = r\"[a-zA-Z]+ \\d+\"\n",
    "matches = re.findall(regex, \"June 24, August 9, Dec 12\")\n",
    "for match in matches:\n",
    "\n",
    "    print(\"Full match: %s\" % (match))\n",
    "\n"
   ]
  },
  {
   "cell_type": "code",
   "execution_count": 4,
   "id": "62812ec0-bb65-4e84-8915-ba3289b8e9c2",
   "metadata": {},
   "outputs": [
    {
     "name": "stdout",
     "output_type": "stream",
     "text": [
      "Match month: June\n",
      "Match month: August\n",
      "Match month: Dec\n"
     ]
    }
   ],
   "source": [
    "# To capture the specific months of each date we can use the following pattern\n",
    "regex = r\"([a-zA-Z]+) \\d+\"\n",
    "matches = re.findall(regex, \"June 24, August 9, Dec 12\")\n",
    "for match in matches:\n",
    "\n",
    "    print(\"Match month: %s\" % (match))\n"
   ]
  },
  {
   "cell_type": "code",
   "execution_count": 5,
   "id": "ccfba3d6-5061-4ec0-bd60-606b2c21c8fb",
   "metadata": {},
   "outputs": [
    {
     "name": "stdout",
     "output_type": "stream",
     "text": [
      "Match at index: 0, 7\n",
      "Match at index: 9, 17\n",
      "Match at index: 19, 25\n"
     ]
    }
   ],
   "source": [
    "# If we need the exact positions of each match\n",
    "regex = r\"([a-zA-Z]+) \\d+\"\n",
    "matches = re.finditer(regex, \"June 24, August 9, Dec 12\")\n",
    "for match in matches:\n",
    "\n",
    "    print(\"Match at index: %s, %s\" % (match.start(), match.end()))"
   ]
  },
  {
   "cell_type": "markdown",
   "id": "0519fc0f-f7f3-4ec2-8fec-d8cdf06b496f",
   "metadata": {},
   "source": [
    "## Find and replace strings\n",
    "\n",
    "\n",
    "`replacedString = re.sub(pattern, replacement_pattern, input_str, count, flags=0)`\n"
   ]
  },
  {
   "cell_type": "code",
   "execution_count": 6,
   "id": "ac10ea2b-b300-42c5-a5f9-05d8f5d715a5",
   "metadata": {},
   "outputs": [
    {
     "name": "stdout",
     "output_type": "stream",
     "text": [
      "24 of June, 9 of August, 12 of Dec\n"
     ]
    }
   ],
   "source": [
    "regex = r\"([a-zA-Z]+) (\\d+)\"\n",
    "print(re.sub(regex, r\"\\2 of \\1\", \"June 24, August 9, Dec 12\"))"
   ]
  },
  {
   "cell_type": "markdown",
   "id": "b2b0b6df-58da-4ef1-a133-29045fac89f0",
   "metadata": {},
   "source": [
    "## Flags"
   ]
  },
  {
   "cell_type": "markdown",
   "id": "662585ed-b63d-4ce3-b239-371147174bb4",
   "metadata": {},
   "source": [
    "`re.IGNORECASE` makes the pattern case insensitive so that it matches strings of different capitalizations\n",
    "\n",
    "`re.MULTILINE` is necessary if your input string has newline characters (\\n), this flag allows the start and end metacharacter (^ and $ respectively) to match at the beginning and end of each line instead of at the beginning and end of the whole input string\n",
    "\n",
    "`re.DOTALL` allows the dot (.) metacharacter match all characters, including the newline character (\\n)\n"
   ]
  },
  {
   "cell_type": "markdown",
   "id": "c82ff2c6-ae5e-4d51-9c10-a2698b8a8b07",
   "metadata": {},
   "source": [
    "## Compiling for performance\n",
    "\n",
    "In Python, creating a new regular expression pattern to match many strings can be slow, so it is recommended that you compile them if you need to be testing or extracting information from many input strings using the same expression. This method returns a re.RegexObject.\n",
    "\n",
    "`regexObject = re.compile(pattern, flags=0)`\n",
    "\n",
    "The returned object has exactly the same methods as above, except that they take the input string and no longer require the pattern or flags for each call.\n",
    "\n"
   ]
  },
  {
   "cell_type": "code",
   "execution_count": 7,
   "id": "dcd8908f-17dc-40a2-a7a4-63a74b1be3f9",
   "metadata": {},
   "outputs": [
    {
     "name": "stdout",
     "output_type": "stream",
     "text": [
      "0 11\n",
      "Hello\n",
      "Bonjour\n",
      "Hello Earth\n"
     ]
    }
   ],
   "source": [
    "import re\n",
    "\n",
    "regex = re.compile(r\"(\\w+) World\")\n",
    "result = regex.search(\"Hello World is the easiest\")\n",
    "if result:\n",
    "\n",
    "    print(result.start(), result.end())\n",
    "\n",
    "for result in regex.findall(\"Hello World, Bonjour World\"):\n",
    "    print(result)\n",
    "\n",
    "print(regex.sub(r\"\\1 Earth\", \"Hello World\"))"
   ]
  },
  {
   "cell_type": "code",
   "execution_count": null,
   "id": "a5e3a2dd-aa97-4163-a9f5-d00a17629024",
   "metadata": {},
   "outputs": [],
   "source": []
  }
 ],
 "metadata": {
  "kernelspec": {
   "display_name": "py3.6",
   "language": "python",
   "name": "py3.6"
  },
  "language_info": {
   "codemirror_mode": {
    "name": "ipython",
    "version": 3
   },
   "file_extension": ".py",
   "mimetype": "text/x-python",
   "name": "python",
   "nbconvert_exporter": "python",
   "pygments_lexer": "ipython3",
   "version": "3.6.13"
  }
 },
 "nbformat": 4,
 "nbformat_minor": 5
}
