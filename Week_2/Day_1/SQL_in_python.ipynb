{
 "cells": [
  {
   "cell_type": "code",
   "execution_count": 18,
   "id": "8dbcddb1-d4b3-4780-9aa0-b2f25708d7a8",
   "metadata": {},
   "outputs": [],
   "source": [
    "import sqlite3\n",
    "from sqlite3 import Error\n",
    "import pandas as pd"
   ]
  },
  {
   "cell_type": "markdown",
   "id": "ac8c885a-649a-4f60-9e90-78e552e5e101",
   "metadata": {},
   "source": [
    "## Create connection to db\n"
   ]
  },
  {
   "cell_type": "code",
   "execution_count": 2,
   "id": "5c2336fc-9013-4402-bff5-95ec8698a757",
   "metadata": {},
   "outputs": [],
   "source": [
    "def create_connection(path):\n",
    "    connection = None\n",
    "    try:\n",
    "        connection = sqlite3.connect(path)\n",
    "        print(\"connection to sqlite db successful\")\n",
    "    except Error as e:\n",
    "        print(f\"The error '{e}' occured\")\n",
    "    return connection"
   ]
  },
  {
   "cell_type": "code",
   "execution_count": 3,
   "id": "475a5336-a0c9-4fee-8de9-209394afe3ed",
   "metadata": {},
   "outputs": [
    {
     "name": "stdout",
     "output_type": "stream",
     "text": [
      "connection to sqlite db successful\n"
     ]
    }
   ],
   "source": [
    "connection = create_connection(\"sm_app.sqlite\")"
   ]
  },
  {
   "cell_type": "markdown",
   "id": "8dbb95b7-dbbb-4788-a8d9-744a52aae4b1",
   "metadata": {},
   "source": [
    "## Execute a query"
   ]
  },
  {
   "cell_type": "code",
   "execution_count": 4,
   "id": "173f6354-8280-4303-a540-b4eeaced2d06",
   "metadata": {},
   "outputs": [],
   "source": [
    "def execute_query(connection, query):\n",
    "    cursor = connection.cursor()\n",
    "    try:\n",
    "        cursor.execute(query)\n",
    "        connection.commit()\n",
    "        print('Query executed successfully')\n",
    "    except Error as e:\n",
    "        print(f\"The error '{e}' occurred\")"
   ]
  },
  {
   "cell_type": "code",
   "execution_count": 5,
   "id": "ebc048ea-3c34-4159-8ff7-1bdf3778143e",
   "metadata": {},
   "outputs": [],
   "source": [
    "create_users_table = \"\"\"\n",
    "CREATE TABLE IF NOT EXISTS users (\n",
    "  id INTEGER PRIMARY KEY AUTOINCREMENT,\n",
    "  name TEXT NOT NULL,\n",
    "  age INTEGER,\n",
    "  gender TEXT,\n",
    "  nationality TEXT\n",
    ");\n",
    "\"\"\""
   ]
  },
  {
   "cell_type": "code",
   "execution_count": 6,
   "id": "9218373a-8e50-4aca-981a-8c117b1fd808",
   "metadata": {},
   "outputs": [
    {
     "name": "stdout",
     "output_type": "stream",
     "text": [
      "Query executed successfully\n"
     ]
    }
   ],
   "source": [
    "execute_query(connection, create_users_table)"
   ]
  },
  {
   "cell_type": "code",
   "execution_count": 7,
   "id": "8d6696ed-951e-421a-9152-d9d071d11dac",
   "metadata": {},
   "outputs": [],
   "source": [
    "create_posts_table = \"\"\"\n",
    "CREATE TABLE IF NOT EXISTS posts(\n",
    "  id INTEGER PRIMARY KEY AUTOINCREMENT, \n",
    "  title TEXT NOT NULL, \n",
    "  description TEXT NOT NULL, \n",
    "  user_id INTEGER NOT NULL, \n",
    "  FOREIGN KEY (user_id) REFERENCES users (id)\n",
    ");\n",
    "\"\"\""
   ]
  },
  {
   "cell_type": "code",
   "execution_count": 8,
   "id": "bc30dbdf-85fb-473b-b643-f4cd40998436",
   "metadata": {},
   "outputs": [
    {
     "name": "stdout",
     "output_type": "stream",
     "text": [
      "Query executed successfully\n"
     ]
    }
   ],
   "source": [
    "execute_query(connection, create_posts_table)"
   ]
  },
  {
   "cell_type": "code",
   "execution_count": 9,
   "id": "183e70a0-e0e8-4c8c-994c-094add8cd9f9",
   "metadata": {},
   "outputs": [
    {
     "name": "stdout",
     "output_type": "stream",
     "text": [
      "Query executed successfully\n",
      "Query executed successfully\n"
     ]
    }
   ],
   "source": [
    "create_comments_table = \"\"\"\n",
    "CREATE TABLE IF NOT EXISTS comments (\n",
    "  id INTEGER PRIMARY KEY AUTOINCREMENT, \n",
    "  text TEXT NOT NULL, \n",
    "  user_id INTEGER NOT NULL, \n",
    "  post_id INTEGER NOT NULL, \n",
    "  FOREIGN KEY (user_id) REFERENCES users (id) FOREIGN KEY (post_id) REFERENCES posts (id)\n",
    ");\n",
    "\"\"\"\n",
    "\n",
    "create_likes_table = \"\"\"\n",
    "CREATE TABLE IF NOT EXISTS likes (\n",
    "  id INTEGER PRIMARY KEY AUTOINCREMENT, \n",
    "  user_id INTEGER NOT NULL, \n",
    "  post_id integer NOT NULL, \n",
    "  FOREIGN KEY (user_id) REFERENCES users (id) FOREIGN KEY (post_id) REFERENCES posts (id)\n",
    ");\n",
    "\"\"\"\n",
    "\n",
    "execute_query(connection, create_comments_table)  \n",
    "execute_query(connection, create_likes_table) "
   ]
  },
  {
   "cell_type": "markdown",
   "id": "d07eeee1-9c62-4178-89a6-f16a5d26dba9",
   "metadata": {},
   "source": [
    "## Inserting records"
   ]
  },
  {
   "cell_type": "code",
   "execution_count": 10,
   "id": "f9041cb9-ed16-4032-a5d5-3f7faca622f1",
   "metadata": {},
   "outputs": [
    {
     "name": "stdout",
     "output_type": "stream",
     "text": [
      "Query executed successfully\n"
     ]
    }
   ],
   "source": [
    "create_users = \"\"\"\n",
    "INSERT INTO\n",
    "    users (name, age, gender, nationality)\n",
    "VALUES\n",
    "    ('James', 25, 'male', 'USA'),\n",
    "    ('Leila', 32, 'female', 'France'),\n",
    "    ('Brigitte', 35, 'female', 'England'),\n",
    "    ('Mike', 40, 'male', 'Denmark'),\n",
    "    ('Elizabeth', 21, 'female', 'Canada');\n",
    "\"\"\"\n",
    "\n",
    "execute_query(connection, create_users)"
   ]
  },
  {
   "cell_type": "code",
   "execution_count": 11,
   "id": "2604a132-55a1-46d2-92a9-3d739e4ec4cb",
   "metadata": {},
   "outputs": [
    {
     "name": "stdout",
     "output_type": "stream",
     "text": [
      "Query executed successfully\n"
     ]
    }
   ],
   "source": [
    "create_posts = \"\"\"\n",
    "INSERT INTO\n",
    "  posts (title, description, user_id)\n",
    "VALUES\n",
    "  (\"Happy\", \"I am feeling very happy today\", 1),\n",
    "  (\"Hot Weather\", \"The weather is very hot today\", 2),\n",
    "  (\"Help\", \"I need some help with my work\", 2),\n",
    "  (\"Great News\", \"I am getting married\", 1),\n",
    "  (\"Interesting Game\", \"It was a fantastic game of tennis\", 5),\n",
    "  (\"Party\", \"Anyone up for a late-night party today?\", 3);\n",
    "\"\"\"\n",
    "\n",
    "execute_query(connection, create_posts)  "
   ]
  },
  {
   "cell_type": "code",
   "execution_count": 12,
   "id": "7b2fd59f-9846-4a01-bbfc-e9f86dfacb0f",
   "metadata": {},
   "outputs": [
    {
     "name": "stdout",
     "output_type": "stream",
     "text": [
      "Query executed successfully\n",
      "Query executed successfully\n"
     ]
    }
   ],
   "source": [
    "create_comments = \"\"\"\n",
    "INSERT INTO\n",
    "  comments (text, user_id, post_id)\n",
    "VALUES\n",
    "  ('Count me in', 1, 6),\n",
    "  ('What sort of help?', 5, 3),\n",
    "  ('Congrats buddy', 2, 4),\n",
    "  ('I was rooting for Nadal though', 4, 5),\n",
    "  ('Help with your thesis?', 2, 3),\n",
    "  ('Many congratulations', 5, 4);\n",
    "\"\"\"\n",
    "\n",
    "create_likes = \"\"\"\n",
    "INSERT INTO\n",
    "  likes (user_id, post_id)\n",
    "VALUES\n",
    "  (1, 6),\n",
    "  (2, 3),\n",
    "  (1, 5),\n",
    "  (5, 4),\n",
    "  (2, 4),\n",
    "  (4, 2),\n",
    "  (3, 6);\n",
    "\"\"\"\n",
    "\n",
    "execute_query(connection, create_comments)\n",
    "execute_query(connection, create_likes) "
   ]
  },
  {
   "cell_type": "markdown",
   "id": "75326404-a8ce-4fec-ab58-ab9776072a33",
   "metadata": {},
   "source": [
    "## Selecting Records"
   ]
  },
  {
   "cell_type": "code",
   "execution_count": 13,
   "id": "5d1441c4-24af-4048-8235-c366e4220948",
   "metadata": {},
   "outputs": [],
   "source": [
    "def execute_read_query(connection, query):\n",
    "    cursor = connection.cursor()\n",
    "    result = None\n",
    "    try:\n",
    "        cursor.execute(query)\n",
    "        result = cursor.fetchall()\n",
    "        return result\n",
    "    except Error as e:\n",
    "        print(f\"The error '{e}' occurred\")"
   ]
  },
  {
   "cell_type": "code",
   "execution_count": 19,
   "id": "37cd9cce-261c-488c-80d9-f2cb0be2b6b3",
   "metadata": {},
   "outputs": [
    {
     "name": "stdout",
     "output_type": "stream",
     "text": [
      "(1, 'James', 25, 'male', 'USA')\n",
      "(2, 'Leila', 32, 'female', 'France')\n",
      "(3, 'Brigitte', 35, 'female', 'England')\n",
      "(4, 'Mike', 40, 'male', 'Denmark')\n",
      "(5, 'Elizabeth', 21, 'female', 'Canada')\n"
     ]
    },
    {
     "data": {
      "text/html": [
       "<div>\n",
       "<style scoped>\n",
       "    .dataframe tbody tr th:only-of-type {\n",
       "        vertical-align: middle;\n",
       "    }\n",
       "\n",
       "    .dataframe tbody tr th {\n",
       "        vertical-align: top;\n",
       "    }\n",
       "\n",
       "    .dataframe thead th {\n",
       "        text-align: right;\n",
       "    }\n",
       "</style>\n",
       "<table border=\"1\" class=\"dataframe\">\n",
       "  <thead>\n",
       "    <tr style=\"text-align: right;\">\n",
       "      <th></th>\n",
       "      <th>0</th>\n",
       "      <th>1</th>\n",
       "      <th>2</th>\n",
       "      <th>3</th>\n",
       "      <th>4</th>\n",
       "    </tr>\n",
       "  </thead>\n",
       "  <tbody>\n",
       "    <tr>\n",
       "      <th>0</th>\n",
       "      <td>1</td>\n",
       "      <td>James</td>\n",
       "      <td>25</td>\n",
       "      <td>male</td>\n",
       "      <td>USA</td>\n",
       "    </tr>\n",
       "    <tr>\n",
       "      <th>1</th>\n",
       "      <td>2</td>\n",
       "      <td>Leila</td>\n",
       "      <td>32</td>\n",
       "      <td>female</td>\n",
       "      <td>France</td>\n",
       "    </tr>\n",
       "    <tr>\n",
       "      <th>2</th>\n",
       "      <td>3</td>\n",
       "      <td>Brigitte</td>\n",
       "      <td>35</td>\n",
       "      <td>female</td>\n",
       "      <td>England</td>\n",
       "    </tr>\n",
       "    <tr>\n",
       "      <th>3</th>\n",
       "      <td>4</td>\n",
       "      <td>Mike</td>\n",
       "      <td>40</td>\n",
       "      <td>male</td>\n",
       "      <td>Denmark</td>\n",
       "    </tr>\n",
       "    <tr>\n",
       "      <th>4</th>\n",
       "      <td>5</td>\n",
       "      <td>Elizabeth</td>\n",
       "      <td>21</td>\n",
       "      <td>female</td>\n",
       "      <td>Canada</td>\n",
       "    </tr>\n",
       "  </tbody>\n",
       "</table>\n",
       "</div>"
      ],
      "text/plain": [
       "   0          1   2       3        4\n",
       "0  1      James  25    male      USA\n",
       "1  2      Leila  32  female   France\n",
       "2  3   Brigitte  35  female  England\n",
       "3  4       Mike  40    male  Denmark\n",
       "4  5  Elizabeth  21  female   Canada"
      ]
     },
     "execution_count": 19,
     "metadata": {},
     "output_type": "execute_result"
    }
   ],
   "source": [
    "select_users = \"SELECT * from users\"\n",
    "users = execute_read_query(connection, select_users)\n",
    "\n",
    "for user in users:\n",
    "    print(user)\n",
    "    "
   ]
  },
  {
   "cell_type": "markdown",
   "id": "e39e76f2-004e-4de6-92e1-ea326db838e3",
   "metadata": {},
   "source": [
    "## Updating table records"
   ]
  },
  {
   "cell_type": "code",
   "execution_count": 15,
   "id": "528b841b-6c40-4c54-a704-41d531e7620c",
   "metadata": {},
   "outputs": [
    {
     "name": "stdout",
     "output_type": "stream",
     "text": [
      "Query executed successfully\n"
     ]
    }
   ],
   "source": [
    "update_post_description = \"\"\"\n",
    "UPDATE\n",
    "  posts\n",
    "SET\n",
    "  description = \"The weather has become pleasant now\"\n",
    "WHERE\n",
    "  id = 2\n",
    "\"\"\"\n",
    "\n",
    "execute_query(connection, update_post_description)"
   ]
  },
  {
   "cell_type": "markdown",
   "id": "345ef29d-fc38-4622-b46e-88cb4eb479c6",
   "metadata": {},
   "source": [
    "## Deleting Table Records"
   ]
  },
  {
   "cell_type": "code",
   "execution_count": 16,
   "id": "facda350-8f55-4134-b6c3-c8abcc5fed3e",
   "metadata": {},
   "outputs": [
    {
     "name": "stdout",
     "output_type": "stream",
     "text": [
      "Query executed successfully\n"
     ]
    }
   ],
   "source": [
    "delete_comment = \"DELETE FROM comments WHERE id = 5\"\n",
    "execute_query(connection, delete_comment)"
   ]
  },
  {
   "cell_type": "code",
   "execution_count": null,
   "id": "953f2ff6-bddf-4f60-93ae-9ee75477d4ae",
   "metadata": {},
   "outputs": [],
   "source": []
  }
 ],
 "metadata": {
  "kernelspec": {
   "display_name": "py3.6",
   "language": "python",
   "name": "py3.6"
  },
  "language_info": {
   "codemirror_mode": {
    "name": "ipython",
    "version": 3
   },
   "file_extension": ".py",
   "mimetype": "text/x-python",
   "name": "python",
   "nbconvert_exporter": "python",
   "pygments_lexer": "ipython3",
   "version": "3.6.13"
  }
 },
 "nbformat": 4,
 "nbformat_minor": 5
}
