{
 "cells": [
  {
   "cell_type": "code",
   "execution_count": 5,
   "id": "3f38f0ce-de94-4447-9c26-cbf9ed8d8b56",
   "metadata": {},
   "outputs": [
    {
     "name": "stdout",
     "output_type": "stream",
     "text": [
      "Database opened successfully\n"
     ]
    }
   ],
   "source": [
    "import psycopg2\n",
    "\n",
    "con = psycopg2.connect(database=\"postgres\", user=\"postgres\", password=\"postgres\", host=\"127.0.0.1\", port=\"5432\")\n",
    "\n",
    "print(\"Database opened successfully\")"
   ]
  },
  {
   "cell_type": "markdown",
   "id": "214f2a6e-55a6-4ce5-8764-c3407669d014",
   "metadata": {},
   "source": [
    "## Create Table"
   ]
  },
  {
   "cell_type": "code",
   "execution_count": 6,
   "id": "44fceae4-455a-4938-a17e-9a8cd21d745e",
   "metadata": {},
   "outputs": [
    {
     "name": "stdout",
     "output_type": "stream",
     "text": [
      "Table created successfully\n"
     ]
    }
   ],
   "source": [
    "cur = con.cursor()\n",
    "cur.execute('''CREATE TABLE STUDENT\n",
    "      (ADMISSION INT PRIMARY KEY     NOT NULL,\n",
    "      NAME           TEXT    NOT NULL,\n",
    "      AGE            INT     NOT NULL,\n",
    "      COURSE        CHAR(50),\n",
    "      DEPARTMENT        CHAR(50));''')\n",
    "print(\"Table created successfully\")\n",
    "\n",
    "con.commit()\n",
    "con.close()"
   ]
  },
  {
   "cell_type": "code",
   "execution_count": 7,
   "id": "1df0bb18-b9f9-4c95-b5fd-929507bcd010",
   "metadata": {},
   "outputs": [
    {
     "name": "stdout",
     "output_type": "stream",
     "text": [
      "Database opened successfully\n",
      "Record inserted successfully\n"
     ]
    }
   ],
   "source": [
    "import psycopg2\n",
    "\n",
    "con = psycopg2.connect(database=\"postgres\", user=\"postgres\", password=\"postgres\", host=\"127.0.0.1\", port=\"5432\")\n",
    "print(\"Database opened successfully\")\n",
    "\n",
    "cur = con.cursor()\n",
    "\n",
    "cur.execute(\"INSERT INTO STUDENT (ADMISSION,NAME,AGE,COURSE,DEPARTMENT) VALUES (3420, 'John', 18, 'Computer Science', 'ICT')\");\n",
    "\n",
    "con.commit()\n",
    "print(\"Record inserted successfully\")\n",
    "con.close()"
   ]
  },
  {
   "cell_type": "markdown",
   "id": "f97fcdff-8097-41fc-a3b7-1399a8e20c05",
   "metadata": {},
   "source": [
    "## Inserting Data"
   ]
  },
  {
   "cell_type": "code",
   "execution_count": 9,
   "id": "7d0a2806-de30-4848-8d00-8432afa77d42",
   "metadata": {},
   "outputs": [
    {
     "name": "stdout",
     "output_type": "stream",
     "text": [
      "Database opened successfully\n",
      "Records inserted successfully\n"
     ]
    }
   ],
   "source": [
    "import psycopg2\n",
    "\n",
    "con = psycopg2.connect(database=\"postgres\", user=\"postgres\", password=\"postgres\", host=\"127.0.0.1\", port=\"5432\")\n",
    "print(\"Database opened successfully\")\n",
    "\n",
    "cur = con.cursor()\n",
    "\n",
    "cur.execute(\"INSERT INTO STUDENT (ADMISSION,NAME,AGE,COURSE,DEPARTMENT) VALUES (3419, 'Abel', 17, 'Computer Science', 'ICT')\");\n",
    "cur.execute(\"INSERT INTO STUDENT (ADMISSION,NAME,AGE,COURSE,DEPARTMENT) VALUES (3421, 'Joel', 17, 'Computer Science', 'ICT')\");\n",
    "cur.execute(\"INSERT INTO STUDENT (ADMISSION,NAME,AGE,COURSE,DEPARTMENT) VALUES (3422, 'Antony', 19, 'Electrical Engineering', 'Engineering')\");\n",
    "cur.execute(\"INSERT INTO STUDENT (ADMISSION,NAME,AGE,COURSE,DEPARTMENT) VALUES (3423, 'Alice', 18, 'Information Technology', 'ICT')\");\n",
    "\n",
    "con.commit()\n",
    "print(\"Records inserted successfully\")\n",
    "con.close()"
   ]
  },
  {
   "cell_type": "markdown",
   "id": "2c1dec9d-ef08-46d2-a68f-ae1e5427b559",
   "metadata": {},
   "source": [
    "## Retrieve Data"
   ]
  },
  {
   "cell_type": "code",
   "execution_count": 10,
   "id": "80bdabd7-16cf-4ed7-a46d-d7b91277696b",
   "metadata": {},
   "outputs": [
    {
     "name": "stdout",
     "output_type": "stream",
     "text": [
      "Database opened successfully\n",
      "ADMISSION = 3420\n",
      "NAME = John\n",
      "AGE = 18\n",
      "COURSE = Computer Science                                  \n",
      "DEPARTMENT = ICT                                                \n",
      "\n",
      "ADMISSION = 3419\n",
      "NAME = Abel\n",
      "AGE = 17\n",
      "COURSE = Computer Science                                  \n",
      "DEPARTMENT = ICT                                                \n",
      "\n",
      "ADMISSION = 3421\n",
      "NAME = Joel\n",
      "AGE = 17\n",
      "COURSE = Computer Science                                  \n",
      "DEPARTMENT = ICT                                                \n",
      "\n",
      "ADMISSION = 3422\n",
      "NAME = Antony\n",
      "AGE = 19\n",
      "COURSE = Electrical Engineering                            \n",
      "DEPARTMENT = Engineering                                        \n",
      "\n",
      "ADMISSION = 3423\n",
      "NAME = Alice\n",
      "AGE = 18\n",
      "COURSE = Information Technology                            \n",
      "DEPARTMENT = ICT                                                \n",
      "\n",
      "Operation done successfully\n"
     ]
    }
   ],
   "source": [
    "import psycopg2\n",
    "\n",
    "con = psycopg2.connect(database=\"postgres\", user=\"postgres\", password=\"postgres\", host=\"127.0.0.1\", port=\"5432\")\n",
    "print(\"Database opened successfully\")\n",
    "\n",
    "cur = con.cursor()\n",
    "cur.execute(\"SELECT admission, name, age, course, department from STUDENT\")\n",
    "rows = cur.fetchall()\n",
    "\n",
    "for row in rows:\n",
    "    print(\"ADMISSION =\", row[0])\n",
    "    print(\"NAME =\", row[1])\n",
    "    print(\"AGE =\", row[2])\n",
    "    print(\"COURSE =\", row[3])\n",
    "    print(\"DEPARTMENT =\", row[4], \"\\n\")\n",
    "\n",
    "print(\"Operation done successfully\")\n",
    "con.close()"
   ]
  },
  {
   "cell_type": "markdown",
   "id": "d9d7c369-25e4-46b9-a240-9c8caa7dfbe7",
   "metadata": {},
   "source": [
    "## Update Tables"
   ]
  },
  {
   "cell_type": "code",
   "execution_count": 11,
   "id": "e84219be-cf64-49ca-87f0-d202bee7f52d",
   "metadata": {},
   "outputs": [
    {
     "name": "stdout",
     "output_type": "stream",
     "text": [
      "Database opened successfully\n",
      "Total updated rows: 1\n",
      "ADMISSION = 3419\n",
      "NAME = 17\n",
      "AGE = Abel\n",
      "COURSE = Abel\n",
      "DEPARTMENT = Computer Science                                   \n",
      "\n",
      "ADMISSION = 3421\n",
      "NAME = 17\n",
      "AGE = Joel\n",
      "COURSE = Joel\n",
      "DEPARTMENT = Computer Science                                   \n",
      "\n",
      "ADMISSION = 3422\n",
      "NAME = 19\n",
      "AGE = Antony\n",
      "COURSE = Antony\n",
      "DEPARTMENT = Electrical Engineering                             \n",
      "\n",
      "ADMISSION = 3423\n",
      "NAME = 18\n",
      "AGE = Alice\n",
      "COURSE = Alice\n",
      "DEPARTMENT = Information Technology                             \n",
      "\n",
      "ADMISSION = 3420\n",
      "NAME = 20\n",
      "AGE = John\n",
      "COURSE = John\n",
      "DEPARTMENT = Computer Science                                   \n",
      "\n",
      "Operation done successfully\n"
     ]
    }
   ],
   "source": [
    "import psycopg2\n",
    "\n",
    "con = psycopg2.connect(database=\"postgres\", user=\"postgres\", password=\"postgres\", host=\"127.0.0.1\", port=\"5432\")\n",
    "print(\"Database opened successfully\")\n",
    "\n",
    "cur = con.cursor()\n",
    "\n",
    "cur.execute(\"UPDATE STUDENT set AGE = 20 where ADMISSION = 3420\")\n",
    "con.commit()\n",
    "print(\"Total updated rows:\", cur.rowcount)\n",
    "\n",
    "cur.execute(\"SELECT admission, age, name, course, department from STUDENT\")\n",
    "rows = cur.fetchall()\n",
    "for row in rows:\n",
    "    print(\"ADMISSION =\", row[0])\n",
    "    print(\"NAME =\", row[1])\n",
    "    print(\"AGE =\", row[2])\n",
    "    print(\"COURSE =\", row[2])\n",
    "    print(\"DEPARTMENT =\", row[3], \"\\n\")\n",
    "\n",
    "print(\"Operation done successfully\")\n",
    "con.close()"
   ]
  },
  {
   "cell_type": "markdown",
   "id": "af0ce2af-951a-4c47-a629-c5c03e767773",
   "metadata": {},
   "source": [
    "## Deleting Rows"
   ]
  },
  {
   "cell_type": "code",
   "execution_count": 13,
   "id": "e908d6c9-928b-4c6d-a2da-02b4ea32935e",
   "metadata": {},
   "outputs": [
    {
     "name": "stdout",
     "output_type": "stream",
     "text": [
      "Database opened successfully\n",
      "Total deleted rows: 1\n",
      "ADMISSION = 3419\n",
      "NAME = Abel\n",
      "AGE = 17\n",
      "COURSE = Computer Science                                  \n",
      "DEPARTMENT = ICT                                                \n",
      "\n",
      "ADMISSION = 3421\n",
      "NAME = Joel\n",
      "AGE = 17\n",
      "COURSE = Computer Science                                  \n",
      "DEPARTMENT = ICT                                                \n",
      "\n",
      "ADMISSION = 3422\n",
      "NAME = Antony\n",
      "AGE = 19\n",
      "COURSE = Electrical Engineering                            \n",
      "DEPARTMENT = Engineering                                        \n",
      "\n",
      "ADMISSION = 3423\n",
      "NAME = Alice\n",
      "AGE = 18\n",
      "COURSE = Information Technology                            \n",
      "DEPARTMENT = ICT                                                \n",
      "\n",
      "Deletion successful\n"
     ]
    }
   ],
   "source": [
    "import psycopg2\n",
    "\n",
    "con = psycopg2.connect(database=\"postgres\", user=\"postgres\", password=\"postgres\", host=\"127.0.0.1\", port=\"5432\")\n",
    "print(\"Database opened successfully\")\n",
    "\n",
    "cur = con.cursor()\n",
    "\n",
    "cur.execute(\"DELETE from STUDENT where ADMISSION=3420;\")\n",
    "con.commit()\n",
    "print(\"Total deleted rows:\", cur.rowcount)\n",
    "\n",
    "cur.execute(\"SELECT admission, name, age, course, department from STUDENT\")\n",
    "rows = cur.fetchall()\n",
    "for row in rows:\n",
    "    print(\"ADMISSION =\", row[0])\n",
    "    print(\"NAME =\", row[1])\n",
    "    print(\"AGE =\", row[2])\n",
    "    print(\"COURSE =\", row[3])\n",
    "    print(\"DEPARTMENT =\", row[4], \"\\n\")\n",
    "\n",
    "print(\"Deletion successful\")\n",
    "con.close()"
   ]
  },
  {
   "cell_type": "code",
   "execution_count": null,
   "id": "bc26f2da-dcdf-484b-a0c9-f9e3e868b622",
   "metadata": {},
   "outputs": [],
   "source": []
  }
 ],
 "metadata": {
  "kernelspec": {
   "display_name": "py3.6",
   "language": "python",
   "name": "py3.6"
  },
  "language_info": {
   "codemirror_mode": {
    "name": "ipython",
    "version": 3
   },
   "file_extension": ".py",
   "mimetype": "text/x-python",
   "name": "python",
   "nbconvert_exporter": "python",
   "pygments_lexer": "ipython3",
   "version": "3.6.13"
  }
 },
 "nbformat": 4,
 "nbformat_minor": 5
}
