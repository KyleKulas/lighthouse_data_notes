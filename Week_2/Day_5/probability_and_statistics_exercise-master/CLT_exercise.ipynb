{
 "cells": [
  {
   "cell_type": "markdown",
   "metadata": {},
   "source": [
    "## Central Limit Theorem Exercise"
   ]
  },
  {
   "cell_type": "code",
   "execution_count": 8,
   "metadata": {},
   "outputs": [],
   "source": [
    "import pandas as pd\n",
    "import numpy as np\n",
    "# package with hypothesis tests\n",
    "import scipy.stats as st\n",
    "import matplotlib.pyplot as plt"
   ]
  },
  {
   "cell_type": "code",
   "execution_count": 9,
   "metadata": {},
   "outputs": [
    {
     "name": "stderr",
     "output_type": "stream",
     "text": [
      "/home/kyle/anaconda3/envs/Python3.6/lib/python3.6/site-packages/ipykernel_launcher.py:13: UserWarning: Matplotlib is currently using module://ipykernel.pylab.backend_inline, which is a non-GUI backend, so cannot show the figure.\n",
      "  del sys.path[0]\n"
     ]
    },
    {
     "data": {
      "image/png": "[encoded data removed]",
      "text/plain": [
       "<Figure size 1008x360 with 2 Axes>"
      ]
     },
     "metadata": {
      "needs_background": "light"
     },
     "output_type": "display_data"
    }
   ],
   "source": [
    "#\n",
    "uniform = np.random.rand(10000)\n",
    "normal = np.random.randn(10000)\n",
    "\n",
    "fig = plt.figure(figsize=(14,5))\n",
    "ax1 = fig.add_subplot(1,2,1)\n",
    "ax2 = fig.add_subplot(1,2,2)\n",
    "ax1.hist(uniform, 20)\n",
    "ax1.set_title('Uniform data')\n",
    "ax2.hist(normal, 20)\n",
    "ax2.set_title('Normal data')\n",
    "fig.tight_layout()\n",
    "fig.show();"
   ]
  },
  {
   "cell_type": "markdown",
   "metadata": {},
   "source": [
    "### CLT - simulation"
   ]
  },
  {
   "cell_type": "markdown",
   "metadata": {},
   "source": [
    "### How many samples do we need to take, so that the distribution of means for these samples will pass the shapiro-wilk test for normality if the population is from a Uniform or a Normal distribution?\n",
    "\n",
    "+ Assume the population has 10,000 observation.\n",
    "+ Assume sample size is always 50.\n",
    "\n",
    "We will be suprised to see how fast the test passes for both distributions."
   ]
  },
  {
   "cell_type": "code",
   "execution_count": 28,
   "metadata": {},
   "outputs": [],
   "source": [
    "# Get random sample from population uniform\n",
    "def get_random_sample(population):\n",
    "    pop_copy = population.copy()\n",
    "    np.random.shuffle(pop_copy)\n",
    "    sample = pop_copy[:50]\n",
    "    return sample"
   ]
  },
  {
   "cell_type": "code",
   "execution_count": 34,
   "metadata": {},
   "outputs": [
    {
     "data": {
      "text/plain": [
       "array([0.11312285, 0.16395467, 0.96204703, 0.93193308, 0.98058094,\n",
       "       0.78458164, 0.60740261, 0.35179532, 0.50251663, 0.45120772,\n",
       "       0.71553275, 0.65092153, 0.47918508, 0.50208982, 0.68559648,\n",
       "       0.69009481, 0.58724992, 0.1719246 , 0.98708522, 0.23926948,\n",
       "       0.80131883, 0.48188942, 0.55427481, 0.83085997, 0.58021573,\n",
       "       0.01541601, 0.29470705, 0.57807668, 0.76784786, 0.13029637,\n",
       "       0.80867498, 0.93450932, 0.97006075, 0.43934179, 0.1510945 ,\n",
       "       0.11231467, 0.51632596, 0.22047211, 0.20705965, 0.43098509,\n",
       "       0.84624934, 0.87483286, 0.51583546, 0.80081702, 0.47239113,\n",
       "       0.79500684, 0.44963997, 0.21284036, 0.55566756, 0.80032389])"
      ]
     },
     "execution_count": 34,
     "metadata": {},
     "output_type": "execute_result"
    }
   ],
   "source": [
    "get_random_sample(uniform)"
   ]
  },
  {
   "cell_type": "code",
   "execution_count": 43,
   "metadata": {},
   "outputs": [],
   "source": [
    "def get_mean_list(population, number_of_samples):    \n",
    "    # create a list to hold the mean of each sample\n",
    "    mean_list = []\n",
    "\n",
    "    for x in range(number_of_samples):\n",
    "        mean_list.append(get_random_sample(population).mean())\n",
    "\n",
    "    return mean_list\n"
   ]
  },
  {
   "cell_type": "code",
   "execution_count": 44,
   "metadata": {},
   "outputs": [
    {
     "data": {
      "text/plain": [
       "[0.5431869111220614, 0.5099397677485993, 0.5316868636123935]"
      ]
     },
     "execution_count": 44,
     "metadata": {},
     "output_type": "execute_result"
    }
   ],
   "source": [
    "get_mean_list(uniform,3)"
   ]
  },
  {
   "cell_type": "code",
   "execution_count": 45,
   "metadata": {},
   "outputs": [
    {
     "data": {
      "text/plain": [
       "ShapiroResult(statistic=0.8878632187843323, pvalue=0.3478478193283081)"
      ]
     },
     "execution_count": 45,
     "metadata": {},
     "output_type": "execute_result"
    }
   ],
   "source": [
    "shapiro_test_uniform = st.shapiro(get_mean_list(uniform,3))\n",
    "shapiro_test_uniform"
   ]
  },
  {
   "cell_type": "markdown",
   "metadata": {},
   "source": [
    "test passed with 3 samples"
   ]
  },
  {
   "cell_type": "code",
   "execution_count": 49,
   "metadata": {},
   "outputs": [
    {
     "data": {
      "text/plain": [
       "ShapiroResult(statistic=0.9747352600097656, pvalue=0.695135772228241)"
      ]
     },
     "execution_count": 49,
     "metadata": {},
     "output_type": "execute_result"
    }
   ],
   "source": [
    "shapiro_test_normal = st.shapiro(get_mean_list(normal,3))\n",
    "shapiro_test_normal"
   ]
  },
  {
   "cell_type": "markdown",
   "metadata": {},
   "source": [
    "test passed with 3 samples"
   ]
  },
  {
   "cell_type": "code",
   "execution_count": null,
   "metadata": {},
   "outputs": [],
   "source": []
  }
 ],
 "metadata": {
  "kernelspec": {
   "display_name": "py3.6",
   "language": "python",
   "name": "py3.6"
  },
  "language_info": {
   "codemirror_mode": {
    "name": "ipython",
    "version": 3
   },
   "file_extension": ".py",
   "mimetype": "text/x-python",
   "name": "python",
   "nbconvert_exporter": "python",
   "pygments_lexer": "ipython3",
   "version": "3.6.13"
  }
 },
 "nbformat": 4,
 "nbformat_minor": 4
}
