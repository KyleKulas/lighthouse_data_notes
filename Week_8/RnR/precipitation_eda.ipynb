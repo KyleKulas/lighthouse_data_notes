{
 "cells": [
  {
   "cell_type": "code",
   "execution_count": 1,
   "id": "0dc3c61c-f142-44b7-a979-d091f65e3a42",
   "metadata": {},
   "outputs": [],
   "source": [
    "import requests\n",
    "import pandas as pd\n",
    "import matplotlib.pyplot as plt\n",
    "from IPython.display import JSON\n",
    "from calendar import monthrange\n",
    "\n",
    "import config as cfg\n"
   ]
  },
  {
   "cell_type": "code",
   "execution_count": 2,
   "id": "58749e5e-f6b5-45b1-8fc5-313d204259f8",
   "metadata": {},
   "outputs": [],
   "source": [
    "# get weather data for a particular city from startdate to enddate\n",
    "def get_wwo_weather(city, startdate, enddate):\n",
    "    params = {'q':city,\n",
    "              'date': startdate,\n",
    "              'enddate': enddate, \n",
    "              'tp':24, \n",
    "              'format': 'json',\n",
    "              'key': cfg.WEATHER_KEY\n",
    "             }\n",
    "    url = \"https://api.worldweatheronline.com/premium/v1/past-weather.ashx\"\n",
    "\n",
    "    response = requests.get(url=url, params=params)\n",
    "    if response.status_code == 200:\n",
    "        return response.json()\n",
    "\n",
    "        "
   ]
  },
  {
   "cell_type": "code",
   "execution_count": 3,
   "id": "8dd4aae8-1685-4f49-be16-678667841f27",
   "metadata": {},
   "outputs": [],
   "source": [
    "response = get_wwo_weather('Lytton, Canada', '2021-12-01', '2021-12-15')"
   ]
  },
  {
   "cell_type": "code",
   "execution_count": 4,
   "id": "b089f988-e87c-4cf5-9403-a3ad77e94214",
   "metadata": {
    "tags": []
   },
   "outputs": [
    {
     "data": {
      "application/json": {
       "data": {
        "request": [
         {
          "query": "Lytton, Canada",
          "type": "City"
         }
        ],
        "weather": [
         {
          "astronomy": [
           {
            "moon_illumination": "12",
            "moon_phase": "Waning Crescent",
            "moonrise": "04:04 AM",
            "moonset": "02:44 PM",
            "sunrise": "07:45 AM",
            "sunset": "04:06 PM"
           }
          ],
          "avgtempC": "3",
          "avgtempF": "37",
          "date": "2021-12-01",
          "hourly": [
           {
            "DewPointC": "2",
            "DewPointF": "35",
            "FeelsLikeC": "-1",
            "FeelsLikeF": "30",
            "HeatIndexC": "2",
            "HeatIndexF": "36",
            "WindChillC": "-1",
            "WindChillF": "30",
            "WindGustKmph": "24",
            "WindGustMiles": "15",
            "cloudcover": "88",
            "humidity": "97",
            "precipInches": "0.1",
            "precipMM": "3.1",
            "pressure": "1014",
            "pressureInches": "30",
            "tempC": "3",
            "tempF": "37",
            "time": "24",
            "uvIndex": "1",
            "visibility": "9",
            "visibilityMiles": "5",
            "weatherCode": "296",
            "weatherDesc": [
             {
              "value": "Light rain"
             }
            ],
            "weatherIconUrl": [
             {
              "value": "http://cdn.worldweatheronline.com/images/wsymbols01_png_64/wsymbol_0017_cloudy_with_light_rain.png"
             }
            ],
            "winddir16Point": "SSW",
            "winddirDegree": "213",
            "windspeedKmph": "13",
            "windspeedMiles": "8"
           }
          ],
          "maxtempC": "3",
          "maxtempF": "37",
          "mintempC": "1",
          "mintempF": "34",
          "sunHour": "3.2",
          "totalSnow_cm": "0.0",
          "uvIndex": "1"
         },
         {
          "astronomy": [
           {
            "moon_illumination": "5",
            "moon_phase": "Waning Crescent",
            "moonrise": "05:32 AM",
            "moonset": "03:08 PM",
            "sunrise": "07:46 AM",
            "sunset": "04:05 PM"
           }
          ],
          "avgtempC": "1",
          "avgtempF": "33",
          "date": "2021-12-02",
          "hourly": [
           {
            "DewPointC": "-1",
            "DewPointF": "30",
            "FeelsLikeC": "-2",
            "FeelsLikeF": "29",
            "HeatIndexC": "1",
            "HeatIndexF": "33",
            "WindChillC": "-2",
            "WindChillF": "29",
            "WindGustKmph": "12",
            "WindGustMiles": "7",
            "cloudcover": "73",
            "humidity": "91",
            "precipInches": "0.1",
            "precipMM": "2.8",
            "pressure": "1017",
            "pressureInches": "30",
            "tempC": "2",
            "tempF": "36",
            "time": "24",
            "uvIndex": "1",
            "visibility": "7",
            "visibilityMiles": "4",
            "weatherCode": "353",
            "weatherDesc": [
             {
              "value": "Light rain shower"
             }
            ],
            "weatherIconUrl": [
             {
              "value": "http://cdn.worldweatheronline.com/images/wsymbols01_png_64/wsymbol_0009_light_rain_showers.png"
             }
            ],
            "winddir16Point": "SSE",
            "winddirDegree": "166",
            "windspeedKmph": "8",
            "windspeedMiles": "5"
           }
          ],
          "maxtempC": "2",
          "maxtempF": "36",
          "mintempC": "-4",
          "mintempF": "25",
          "sunHour": "6.9",
          "totalSnow_cm": "0.3",
          "uvIndex": "1"
         },
         {
          "astronomy": [
           {
            "moon_illumination": "0",
            "moon_phase": "New Moon",
            "moonrise": "07:02 AM",
            "moonset": "03:38 PM",
            "sunrise": "07:47 AM",
            "sunset": "04:05 PM"
           }
          ],
          "avgtempC": "-4",
          "avgtempF": "24",
          "date": "2021-12-03",
          "hourly": [
           {
            "DewPointC": "-8",
            "DewPointF": "18",
            "FeelsLikeC": "-6",
            "FeelsLikeF": "21",
            "HeatIndexC": "-5",
            "HeatIndexF": "24",
            "WindChillC": "-6",
            "WindChillF": "21",
            "WindGustKmph": "6",
            "WindGustMiles": "3",
            "cloudcover": "62",
            "humidity": "79",
            "precipInches": "0.0",
            "precipMM": "0.2",
            "pressure": "1026",
            "pressureInches": "30",
            "tempC": "-3",
            "tempF": "27",
            "time": "24",
            "uvIndex": "1",
            "visibility": "9",
            "visibilityMiles": "5",
            "weatherCode": "122",
            "weatherDesc": [
             {
              "value": "Overcast"
             }
            ],
            "weatherIconUrl": [
             {
              "value": "http://cdn.worldweatheronline.com/images/wsymbols01_png_64/wsymbol_0004_black_low_cloud.png"
             }
            ],
            "winddir16Point": "WSW",
            "winddirDegree": "241",
            "windspeedKmph": "4",
            "windspeedMiles": "2"
           }
          ],
          "maxtempC": "-3",
          "maxtempF": "27",
          "mintempC": "-6",
          "mintempF": "21",
          "sunHour": "6.9",
          "totalSnow_cm": "0.1",
          "uvIndex": "1"
         },
         {
          "astronomy": [
           {
            "moon_illumination": "0",
            "moon_phase": "New Moon",
            "moonrise": "08:31 AM",
            "moonset": "04:20 PM",
            "sunrise": "07:49 AM",
            "sunset": "04:05 PM"
           }
          ],
          "avgtempC": "-5",
          "avgtempF": "23",
          "date": "2021-12-04",
          "hourly": [
           {
            "DewPointC": "-8",
            "DewPointF": "18",
            "FeelsLikeC": "-8",
            "FeelsLikeF": "17",
            "HeatIndexC": "-5",
            "HeatIndexF": "22",
            "WindChillC": "-8",
            "WindChillF": "17",
            "WindGustKmph": "10",
            "WindGustMiles": "6",
            "cloudcover": "72",
            "humidity": "85",
            "precipInches": "0.1",
            "precipMM": "1.3",
            "pressure": "1021",
            "pressureInches": "30",
            "tempC": "-3",
            "tempF": "27",
            "time": "24",
            "uvIndex": "1",
            "visibility": "6",
            "visibilityMiles": "3",
            "weatherCode": "338",
            "weatherDesc": [
             {
              "value": "Heavy snow"
             }
            ],
            "weatherIconUrl": [
             {
              "value": "http://cdn.worldweatheronline.com/images/wsymbols01_png_64/wsymbol_0020_cloudy_with_heavy_snow.png"
             }
            ],
            "winddir16Point": "W",
            "winddirDegree": "260",
            "windspeedKmph": "6",
            "windspeedMiles": "4"
           }
          ],
          "maxtempC": "-3",
          "maxtempF": "27",
          "mintempC": "-9",
          "mintempF": "16",
          "sunHour": "3.2",
          "totalSnow_cm": "1.0",
          "uvIndex": "1"
         },
         {
          "astronomy": [
           {
            "moon_illumination": "2",
            "moon_phase": "Waxing Crescent",
            "moonrise": "09:51 AM",
            "moonset": "05:18 PM",
            "sunrise": "07:50 AM",
            "sunset": "04:04 PM"
           }
          ],
          "avgtempC": "-8",
          "avgtempF": "18",
          "date": "2021-12-05",
          "hourly": [
           {
            "DewPointC": "-10",
            "DewPointF": "14",
            "FeelsLikeC": "-10",
            "FeelsLikeF": "13",
            "HeatIndexC": "-8",
            "HeatIndexF": "18",
            "WindChillC": "-10",
            "WindChillF": "13",
            "WindGustKmph": "9",
            "WindGustMiles": "5",
            "cloudcover": "61",
            "humidity": "86",
            "precipInches": "0.0",
            "precipMM": "0.3",
            "pressure": "1032",
            "pressureInches": "30",
            "tempC": "-5",
            "tempF": "23",
            "time": "24",
            "uvIndex": "1",
            "visibility": "9",
            "visibilityMiles": "5",
            "weatherCode": "122",
            "weatherDesc": [
             {
              "value": "Overcast"
             }
            ],
            "weatherIconUrl": [
             {
              "value": "http://cdn.worldweatheronline.com/images/wsymbols01_png_64/wsymbol_0004_black_low_cloud.png"
             }
            ],
            "winddir16Point": "SW",
            "winddirDegree": "224",
            "windspeedKmph": "5",
            "windspeedMiles": "3"
           }
          ],
          "maxtempC": "-5",
          "maxtempF": "23",
          "mintempC": "-11",
          "mintempF": "13",
          "sunHour": "8.5",
          "totalSnow_cm": "0.3",
          "uvIndex": "1"
         },
         {
          "astronomy": [
           {
            "moon_illumination": "10",
            "moon_phase": "Waxing Crescent",
            "moonrise": "10:54 AM",
            "moonset": "06:29 PM",
            "sunrise": "07:51 AM",
            "sunset": "04:04 PM"
           }
          ],
          "avgtempC": "-7",
          "avgtempF": "19",
          "date": "2021-12-06",
          "hourly": [
           {
            "DewPointC": "-10",
            "DewPointF": "15",
            "FeelsLikeC": "-11",
            "FeelsLikeF": "12",
            "HeatIndexC": "-8",
            "HeatIndexF": "18",
            "WindChillC": "-11",
            "WindChillF": "12",
            "WindGustKmph": "10",
            "WindGustMiles": "6",
            "cloudcover": "77",
            "humidity": "88",
            "precipInches": "0.1",
            "precipMM": "1.6",
            "pressure": "1018",
            "pressureInches": "30",
            "tempC": "-5",
            "tempF": "23",
            "time": "24",
            "uvIndex": "1",
            "visibility": "5",
            "visibilityMiles": "2",
            "weatherCode": "368",
            "weatherDesc": [
             {
              "value": "Light snow showers"
             }
            ],
            "weatherIconUrl": [
             {
              "value": "http://cdn.worldweatheronline.com/images/wsymbols01_png_64/wsymbol_0011_light_snow_showers.png"
             }
            ],
            "winddir16Point": "SSE",
            "winddirDegree": "154",
            "windspeedKmph": "7",
            "windspeedMiles": "4"
           }
          ],
          "maxtempC": "-5",
          "maxtempF": "23",
          "mintempC": "-13",
          "mintempF": "10",
          "sunHour": "5.0",
          "totalSnow_cm": "1.4",
          "uvIndex": "1"
         },
         {
          "astronomy": [
           {
            "moon_illumination": "17",
            "moon_phase": "Waxing Crescent",
            "moonrise": "11:41 AM",
            "moonset": "07:51 PM",
            "sunrise": "07:52 AM",
            "sunset": "04:04 PM"
           }
          ],
          "avgtempC": "-5",
          "avgtempF": "23",
          "date": "2021-12-07",
          "hourly": [
           {
            "DewPointC": "-8",
            "DewPointF": "18",
            "FeelsLikeC": "-7",
            "FeelsLikeF": "19",
            "HeatIndexC": "-6",
            "HeatIndexF": "22",
            "WindChillC": "-7",
            "WindChillF": "19",
            "WindGustKmph": "7",
            "WindGustMiles": "4",
            "cloudcover": "41",
            "humidity": "88",
            "precipInches": "0.0",
            "precipMM": "0.0",
            "pressure": "1016",
            "pressureInches": "30",
            "tempC": "-1",
            "tempF": "31",
            "time": "24",
            "uvIndex": "1",
            "visibility": "9",
            "visibilityMiles": "5",
            "weatherCode": "119",
            "weatherDesc": [
             {
              "value": "Cloudy"
             }
            ],
            "weatherIconUrl": [
             {
              "value": "http://cdn.worldweatheronline.com/images/wsymbols01_png_64/wsymbol_0003_white_cloud.png"
             }
            ],
            "winddir16Point": "SW",
            "winddirDegree": "223",
            "windspeedKmph": "4",
            "windspeedMiles": "2"
           }
          ],
          "maxtempC": "-1",
          "maxtempF": "31",
          "mintempC": "-10",
          "mintempF": "15",
          "sunHour": "6.9",
          "totalSnow_cm": "0.0",
          "uvIndex": "1"
         },
         {
          "astronomy": [
           {
            "moon_illumination": "24",
            "moon_phase": "Waxing Crescent",
            "moonrise": "12:13 PM",
            "moonset": "09:14 PM",
            "sunrise": "07:53 AM",
            "sunset": "04:03 PM"
           }
          ],
          "avgtempC": "-3",
          "avgtempF": "26",
          "date": "2021-12-08",
          "hourly": [
           {
            "DewPointC": "-5",
            "DewPointF": "22",
            "FeelsLikeC": "-7",
            "FeelsLikeF": "19",
            "HeatIndexC": "-4",
            "HeatIndexF": "24",
            "WindChillC": "-7",
            "WindChillF": "19",
            "WindGustKmph": "14",
            "WindGustMiles": "9",
            "cloudcover": "76",
            "humidity": "92",
            "precipInches": "0.1",
            "precipMM": "3.0",
            "pressure": "1002",
            "pressureInches": "30",
            "tempC": "-0",
            "tempF": "31",
            "time": "24",
            "uvIndex": "1",
            "visibility": "5",
            "visibilityMiles": "3",
            "weatherCode": "371",
            "weatherDesc": [
             {
              "value": "Moderate or heavy snow showers"
             }
            ],
            "weatherIconUrl": [
             {
              "value": "http://cdn.worldweatheronline.com/images/wsymbols01_png_64/wsymbol_0012_heavy_snow_showers.png"
             }
            ],
            "winddir16Point": "SSW",
            "winddirDegree": "198",
            "windspeedKmph": "8",
            "windspeedMiles": "5"
           }
          ],
          "maxtempC": "-0",
          "maxtempF": "31",
          "mintempC": "-10",
          "mintempF": "13",
          "sunHour": "3.2",
          "totalSnow_cm": "2.2",
          "uvIndex": "1"
         },
         {
          "astronomy": [
           {
            "moon_illumination": "31",
            "moon_phase": "Waxing Crescent",
            "moonrise": "12:37 PM",
            "moonset": "10:33 PM",
            "sunrise": "07:54 AM",
            "sunset": "04:03 PM"
           }
          ],
          "avgtempC": "-8",
          "avgtempF": "17",
          "date": "2021-12-09",
          "hourly": [
           {
            "DewPointC": "-11",
            "DewPointF": "11",
            "FeelsLikeC": "-14",
            "FeelsLikeF": "8",
            "HeatIndexC": "-10",
            "HeatIndexF": "15",
            "WindChillC": "-14",
            "WindChillF": "8",
            "WindGustKmph": "13",
            "WindGustMiles": "8",
            "cloudcover": "44",
            "humidity": "88",
            "precipInches": "0.0",
            "precipMM": "0.0",
            "pressure": "1011",
            "pressureInches": "30",
            "tempC": "-5",
            "tempF": "24",
            "time": "24",
            "uvIndex": "1",
            "visibility": "10",
            "visibilityMiles": "6",
            "weatherCode": "122",
            "weatherDesc": [
             {
              "value": "Overcast"
             }
            ],
            "weatherIconUrl": [
             {
              "value": "http://cdn.worldweatheronline.com/images/wsymbols01_png_64/wsymbol_0004_black_low_cloud.png"
             }
            ],
            "winddir16Point": "SW",
            "winddirDegree": "231",
            "windspeedKmph": "7",
            "windspeedMiles": "4"
           }
          ],
          "maxtempC": "-5",
          "maxtempF": "24",
          "mintempC": "-12",
          "mintempF": "10",
          "sunHour": "8.5",
          "totalSnow_cm": "0.0",
          "uvIndex": "1"
         },
         {
          "astronomy": [
           {
            "moon_illumination": "39",
            "moon_phase": "Waxing Crescent",
            "moonrise": "12:56 PM",
            "moonset": "11:49 PM",
            "sunrise": "07:55 AM",
            "sunset": "04:03 PM"
           }
          ],
          "avgtempC": "-9",
          "avgtempF": "16",
          "date": "2021-12-10",
          "hourly": [
           {
            "DewPointC": "-11",
            "DewPointF": "12",
            "FeelsLikeC": "-15",
            "FeelsLikeF": "5",
            "HeatIndexC": "-10",
            "HeatIndexF": "14",
            "WindChillC": "-15",
            "WindChillF": "5",
            "WindGustKmph": "17",
            "WindGustMiles": "11",
            "cloudcover": "49",
            "humidity": "91",
            "precipInches": "0.0",
            "precipMM": "0.0",
            "pressure": "1017",
            "pressureInches": "30",
            "tempC": "-5",
            "tempF": "24",
            "time": "24",
            "uvIndex": "1",
            "visibility": "6",
            "visibilityMiles": "3",
            "weatherCode": "323",
            "weatherDesc": [
             {
              "value": "Patchy light snow"
             }
            ],
            "weatherIconUrl": [
             {
              "value": "http://cdn.worldweatheronline.com/images/wsymbols01_png_64/wsymbol_0011_light_snow_showers.png"
             }
            ],
            "winddir16Point": "SW",
            "winddirDegree": "225",
            "windspeedKmph": "9",
            "windspeedMiles": "6"
           }
          ],
          "maxtempC": "-5",
          "maxtempF": "24",
          "mintempC": "-14",
          "mintempF": "8",
          "sunHour": "6.9",
          "totalSnow_cm": "0.0",
          "uvIndex": "1"
         },
         {
          "astronomy": [
           {
            "moon_illumination": "46",
            "moon_phase": "First Quarter",
            "moonrise": "01:12 PM",
            "moonset": "No moonset",
            "sunrise": "07:56 AM",
            "sunset": "04:03 PM"
           }
          ],
          "avgtempC": "-3",
          "avgtempF": "26",
          "date": "2021-12-11",
          "hourly": [
           {
            "DewPointC": "-5",
            "DewPointF": "23",
            "FeelsLikeC": "-8",
            "FeelsLikeF": "17",
            "HeatIndexC": "-4",
            "HeatIndexF": "24",
            "WindChillC": "-8",
            "WindChillF": "17",
            "WindGustKmph": "16",
            "WindGustMiles": "10",
            "cloudcover": "83",
            "humidity": "94",
            "precipInches": "0.3",
            "precipMM": "6.4",
            "pressure": "992",
            "pressureInches": "29",
            "tempC": "-1",
            "tempF": "29",
            "time": "24",
            "uvIndex": "1",
            "visibility": "6",
            "visibilityMiles": "3",
            "weatherCode": "353",
            "weatherDesc": [
             {
              "value": "Light rain shower"
             }
            ],
            "weatherIconUrl": [
             {
              "value": "http://cdn.worldweatheronline.com/images/wsymbols01_png_64/wsymbol_0009_light_rain_showers.png"
             }
            ],
            "winddir16Point": "S",
            "winddirDegree": "187",
            "windspeedKmph": "9",
            "windspeedMiles": "6"
           }
          ],
          "maxtempC": "-1",
          "maxtempF": "29",
          "mintempC": "-7",
          "mintempF": "19",
          "sunHour": "3.2",
          "totalSnow_cm": "0.7",
          "uvIndex": "1"
         },
         {
          "astronomy": [
           {
            "moon_illumination": "53",
            "moon_phase": "First Quarter",
            "moonrise": "01:26 PM",
            "moonset": "01:01 AM",
            "sunrise": "07:57 AM",
            "sunset": "04:03 PM"
           }
          ],
          "avgtempC": "-10",
          "avgtempF": "14",
          "date": "2021-12-12",
          "hourly": [
           {
            "DewPointC": "-10",
            "DewPointF": "14",
            "FeelsLikeC": "-13",
            "FeelsLikeF": "9",
            "HeatIndexC": "-9",
            "HeatIndexF": "15",
            "WindChillC": "-13",
            "WindChillF": "9",
            "WindGustKmph": "12",
            "WindGustMiles": "7",
            "cloudcover": "79",
            "humidity": "95",
            "precipInches": "0.1",
            "precipMM": "2.8",
            "pressure": "1001",
            "pressureInches": "30",
            "tempC": "-6",
            "tempF": "22",
            "time": "24",
            "uvIndex": "1",
            "visibility": "4",
            "visibilityMiles": "2",
            "weatherCode": "338",
            "weatherDesc": [
             {
              "value": "Heavy snow"
             }
            ],
            "weatherIconUrl": [
             {
              "value": "http://cdn.worldweatheronline.com/images/wsymbols01_png_64/wsymbol_0020_cloudy_with_heavy_snow.png"
             }
            ],
            "winddir16Point": "SSW",
            "winddirDegree": "204",
            "windspeedKmph": "7",
            "windspeedMiles": "4"
           }
          ],
          "maxtempC": "-6",
          "maxtempF": "22",
          "mintempC": "-14",
          "mintempF": "6",
          "sunHour": "5.0",
          "totalSnow_cm": "2.4",
          "uvIndex": "1"
         },
         {
          "astronomy": [
           {
            "moon_illumination": "61",
            "moon_phase": "First Quarter",
            "moonrise": "01:40 PM",
            "moonset": "02:11 AM",
            "sunrise": "07:58 AM",
            "sunset": "04:03 PM"
           }
          ],
          "avgtempC": "-9",
          "avgtempF": "16",
          "date": "2021-12-13",
          "hourly": [
           {
            "DewPointC": "-10",
            "DewPointF": "14",
            "FeelsLikeC": "-12",
            "FeelsLikeF": "11",
            "HeatIndexC": "-10",
            "HeatIndexF": "14",
            "WindChillC": "-12",
            "WindChillF": "11",
            "WindGustKmph": "6",
            "WindGustMiles": "4",
            "cloudcover": "96",
            "humidity": "97",
            "precipInches": "0.0",
            "precipMM": "0.9",
            "pressure": "1004",
            "pressureInches": "30",
            "tempC": "-7",
            "tempF": "19",
            "time": "24",
            "uvIndex": "1",
            "visibility": "6",
            "visibilityMiles": "3",
            "weatherCode": "338",
            "weatherDesc": [
             {
              "value": "Heavy snow"
             }
            ],
            "weatherIconUrl": [
             {
              "value": "http://cdn.worldweatheronline.com/images/wsymbols01_png_64/wsymbol_0020_cloudy_with_heavy_snow.png"
             }
            ],
            "winddir16Point": "E",
            "winddirDegree": "93",
            "windspeedKmph": "4",
            "windspeedMiles": "2"
           }
          ],
          "maxtempC": "-7",
          "maxtempF": "19",
          "mintempC": "-13",
          "mintempF": "8",
          "sunHour": "3.2",
          "totalSnow_cm": "0.8",
          "uvIndex": "1"
         },
         {
          "astronomy": [
           {
            "moon_illumination": "68",
            "moon_phase": "Waxing Gibbous",
            "moonrise": "01:55 PM",
            "moonset": "03:20 AM",
            "sunrise": "07:59 AM",
            "sunset": "04:03 PM"
           }
          ],
          "avgtempC": "-11",
          "avgtempF": "12",
          "date": "2021-12-14",
          "hourly": [
           {
            "DewPointC": "-13",
            "DewPointF": "9",
            "FeelsLikeC": "-15",
            "FeelsLikeF": "5",
            "HeatIndexC": "-12",
            "HeatIndexF": "11",
            "WindChillC": "-15",
            "WindChillF": "5",
            "WindGustKmph": "9",
            "WindGustMiles": "6",
            "cloudcover": "77",
            "humidity": "94",
            "precipInches": "0.0",
            "precipMM": "0.1",
            "pressure": "1011",
            "pressureInches": "30",
            "tempC": "-8",
            "tempF": "17",
            "time": "24",
            "uvIndex": "1",
            "visibility": "5",
            "visibilityMiles": "2",
            "weatherCode": "326",
            "weatherDesc": [
             {
              "value": "Light snow"
             }
            ],
            "weatherIconUrl": [
             {
              "value": "http://cdn.worldweatheronline.com/images/wsymbols01_png_64/wsymbol_0011_light_snow_showers.png"
             }
            ],
            "winddir16Point": "SW",
            "winddirDegree": "235",
            "windspeedKmph": "5",
            "windspeedMiles": "3"
           }
          ],
          "maxtempC": "-8",
          "maxtempF": "17",
          "mintempC": "-15",
          "mintempF": "4",
          "sunHour": "6.9",
          "totalSnow_cm": "0.1",
          "uvIndex": "1"
         },
         {
          "astronomy": [
           {
            "moon_illumination": "75",
            "moon_phase": "Waxing Gibbous",
            "moonrise": "02:13 PM",
            "moonset": "04:29 AM",
            "sunrise": "08:00 AM",
            "sunset": "04:04 PM"
           }
          ],
          "avgtempC": "-12",
          "avgtempF": "10",
          "date": "2021-12-15",
          "hourly": [
           {
            "DewPointC": "-13",
            "DewPointF": "8",
            "FeelsLikeC": "-14",
            "FeelsLikeF": "6",
            "HeatIndexC": "-13",
            "HeatIndexF": "9",
            "WindChillC": "-14",
            "WindChillF": "6",
            "WindGustKmph": "5",
            "WindGustMiles": "3",
            "cloudcover": "99",
            "humidity": "96",
            "precipInches": "0.0",
            "precipMM": "0.0",
            "pressure": "1016",
            "pressureInches": "30",
            "tempC": "-9",
            "tempF": "17",
            "time": "24",
            "uvIndex": "1",
            "visibility": "3",
            "visibilityMiles": "1",
            "weatherCode": "260",
            "weatherDesc": [
             {
              "value": "Freezing fog"
             }
            ],
            "weatherIconUrl": [
             {
              "value": "http://cdn.worldweatheronline.com/images/wsymbols01_png_64/wsymbol_0007_fog.png"
             }
            ],
            "winddir16Point": "SW",
            "winddirDegree": "224",
            "windspeedKmph": "3",
            "windspeedMiles": "2"
           }
          ],
          "maxtempC": "-9",
          "maxtempF": "17",
          "mintempC": "-15",
          "mintempF": "6",
          "sunHour": "3.0",
          "totalSnow_cm": "0.0",
          "uvIndex": "1"
         }
        ]
       }
      },
      "text/plain": [
       "<IPython.core.display.JSON object>"
      ]
     },
     "execution_count": 4,
     "metadata": {
      "application/json": {
       "expanded": false,
       "root": "root"
      }
     },
     "output_type": "execute_result"
    }
   ],
   "source": [
    "JSON(response)"
   ]
  },
  {
   "cell_type": "code",
   "execution_count": 5,
   "id": "9742741f-4dc6-4c1d-aa65-96b203acb721",
   "metadata": {},
   "outputs": [],
   "source": [
    "def parse_json_weather(response):\n",
    "    \"\"\" Parses response from wwo_get_weather(). \n",
    "        Returns df with hourly weather from all dates in the the response \"\"\"\n",
    "    \n",
    "    dates = range(len(response['data']['weather']))\n",
    "    rows = []\n",
    "    \n",
    "    for index in dates:\n",
    "        date = response['data']['weather'][index]['date']\n",
    "        maxtempC = response['data']['weather'][index]['maxtempC']\n",
    "        mintempC = response['data']['weather'][index]['mintempC']\n",
    "        avgtempC = response['data']['weather'][index]['avgtempC']\n",
    "        precip = response['data']['weather'][index]['hourly'][0]['precipMM']\n",
    "        totalSnow_cm = response['data']['weather'][index]['totalSnow_cm']\n",
    "        rows.append({'date': date, \n",
    "                    'maxtempC': maxtempC,\n",
    "                    'mintempC': mintempC,\n",
    "                    'avgtempC': avgtempC,\n",
    "                    'precip': precip,\n",
    "                    'totalSnow_cm': totalSnow_cm} )                              \n",
    "        \n",
    "    parsed_weather_df = pd.DataFrame(rows)\n",
    "    return parsed_weather_df"
   ]
  },
  {
   "cell_type": "code",
   "execution_count": 6,
   "id": "651a39c6-72c8-4077-9b67-47da7f35e573",
   "metadata": {
    "tags": []
   },
   "outputs": [
    {
     "data": {
      "text/html": [
       "<div>\n",
       "<style scoped>\n",
       "    .dataframe tbody tr th:only-of-type {\n",
       "        vertical-align: middle;\n",
       "    }\n",
       "\n",
       "    .dataframe tbody tr th {\n",
       "        vertical-align: top;\n",
       "    }\n",
       "\n",
       "    .dataframe thead th {\n",
       "        text-align: right;\n",
       "    }\n",
       "</style>\n",
       "<table border=\"1\" class=\"dataframe\">\n",
       "  <thead>\n",
       "    <tr style=\"text-align: right;\">\n",
       "      <th></th>\n",
       "      <th>date</th>\n",
       "      <th>maxtempC</th>\n",
       "      <th>mintempC</th>\n",
       "      <th>avgtempC</th>\n",
       "      <th>precip</th>\n",
       "      <th>totalSnow_cm</th>\n",
       "    </tr>\n",
       "  </thead>\n",
       "  <tbody>\n",
       "    <tr>\n",
       "      <th>0</th>\n",
       "      <td>2021-12-01</td>\n",
       "      <td>3</td>\n",
       "      <td>1</td>\n",
       "      <td>3</td>\n",
       "      <td>3.1</td>\n",
       "      <td>0.0</td>\n",
       "    </tr>\n",
       "    <tr>\n",
       "      <th>1</th>\n",
       "      <td>2021-12-02</td>\n",
       "      <td>2</td>\n",
       "      <td>-4</td>\n",
       "      <td>1</td>\n",
       "      <td>2.8</td>\n",
       "      <td>0.3</td>\n",
       "    </tr>\n",
       "    <tr>\n",
       "      <th>2</th>\n",
       "      <td>2021-12-03</td>\n",
       "      <td>-3</td>\n",
       "      <td>-6</td>\n",
       "      <td>-4</td>\n",
       "      <td>0.2</td>\n",
       "      <td>0.1</td>\n",
       "    </tr>\n",
       "    <tr>\n",
       "      <th>3</th>\n",
       "      <td>2021-12-04</td>\n",
       "      <td>-3</td>\n",
       "      <td>-9</td>\n",
       "      <td>-5</td>\n",
       "      <td>1.3</td>\n",
       "      <td>1.0</td>\n",
       "    </tr>\n",
       "    <tr>\n",
       "      <th>4</th>\n",
       "      <td>2021-12-05</td>\n",
       "      <td>-5</td>\n",
       "      <td>-11</td>\n",
       "      <td>-8</td>\n",
       "      <td>0.3</td>\n",
       "      <td>0.3</td>\n",
       "    </tr>\n",
       "    <tr>\n",
       "      <th>5</th>\n",
       "      <td>2021-12-06</td>\n",
       "      <td>-5</td>\n",
       "      <td>-13</td>\n",
       "      <td>-7</td>\n",
       "      <td>1.6</td>\n",
       "      <td>1.4</td>\n",
       "    </tr>\n",
       "    <tr>\n",
       "      <th>6</th>\n",
       "      <td>2021-12-07</td>\n",
       "      <td>-1</td>\n",
       "      <td>-10</td>\n",
       "      <td>-5</td>\n",
       "      <td>0.0</td>\n",
       "      <td>0.0</td>\n",
       "    </tr>\n",
       "    <tr>\n",
       "      <th>7</th>\n",
       "      <td>2021-12-08</td>\n",
       "      <td>-0</td>\n",
       "      <td>-10</td>\n",
       "      <td>-3</td>\n",
       "      <td>3.0</td>\n",
       "      <td>2.2</td>\n",
       "    </tr>\n",
       "    <tr>\n",
       "      <th>8</th>\n",
       "      <td>2021-12-09</td>\n",
       "      <td>-5</td>\n",
       "      <td>-12</td>\n",
       "      <td>-8</td>\n",
       "      <td>0.0</td>\n",
       "      <td>0.0</td>\n",
       "    </tr>\n",
       "    <tr>\n",
       "      <th>9</th>\n",
       "      <td>2021-12-10</td>\n",
       "      <td>-5</td>\n",
       "      <td>-14</td>\n",
       "      <td>-9</td>\n",
       "      <td>0.0</td>\n",
       "      <td>0.0</td>\n",
       "    </tr>\n",
       "    <tr>\n",
       "      <th>10</th>\n",
       "      <td>2021-12-11</td>\n",
       "      <td>-1</td>\n",
       "      <td>-7</td>\n",
       "      <td>-3</td>\n",
       "      <td>6.4</td>\n",
       "      <td>0.7</td>\n",
       "    </tr>\n",
       "    <tr>\n",
       "      <th>11</th>\n",
       "      <td>2021-12-12</td>\n",
       "      <td>-6</td>\n",
       "      <td>-14</td>\n",
       "      <td>-10</td>\n",
       "      <td>2.8</td>\n",
       "      <td>2.4</td>\n",
       "    </tr>\n",
       "    <tr>\n",
       "      <th>12</th>\n",
       "      <td>2021-12-13</td>\n",
       "      <td>-7</td>\n",
       "      <td>-13</td>\n",
       "      <td>-9</td>\n",
       "      <td>0.9</td>\n",
       "      <td>0.8</td>\n",
       "    </tr>\n",
       "    <tr>\n",
       "      <th>13</th>\n",
       "      <td>2021-12-14</td>\n",
       "      <td>-8</td>\n",
       "      <td>-15</td>\n",
       "      <td>-11</td>\n",
       "      <td>0.1</td>\n",
       "      <td>0.1</td>\n",
       "    </tr>\n",
       "    <tr>\n",
       "      <th>14</th>\n",
       "      <td>2021-12-15</td>\n",
       "      <td>-9</td>\n",
       "      <td>-15</td>\n",
       "      <td>-12</td>\n",
       "      <td>0.0</td>\n",
       "      <td>0.0</td>\n",
       "    </tr>\n",
       "  </tbody>\n",
       "</table>\n",
       "</div>"
      ],
      "text/plain": [
       "          date maxtempC mintempC avgtempC precip totalSnow_cm\n",
       "0   2021-12-01        3        1        3    3.1          0.0\n",
       "1   2021-12-02        2       -4        1    2.8          0.3\n",
       "2   2021-12-03       -3       -6       -4    0.2          0.1\n",
       "3   2021-12-04       -3       -9       -5    1.3          1.0\n",
       "4   2021-12-05       -5      -11       -8    0.3          0.3\n",
       "5   2021-12-06       -5      -13       -7    1.6          1.4\n",
       "6   2021-12-07       -1      -10       -5    0.0          0.0\n",
       "7   2021-12-08       -0      -10       -3    3.0          2.2\n",
       "8   2021-12-09       -5      -12       -8    0.0          0.0\n",
       "9   2021-12-10       -5      -14       -9    0.0          0.0\n",
       "10  2021-12-11       -1       -7       -3    6.4          0.7\n",
       "11  2021-12-12       -6      -14      -10    2.8          2.4\n",
       "12  2021-12-13       -7      -13       -9    0.9          0.8\n",
       "13  2021-12-14       -8      -15      -11    0.1          0.1\n",
       "14  2021-12-15       -9      -15      -12    0.0          0.0"
      ]
     },
     "execution_count": 6,
     "metadata": {},
     "output_type": "execute_result"
    }
   ],
   "source": [
    "parse_json_weather(response)"
   ]
  },
  {
   "cell_type": "code",
   "execution_count": 7,
   "id": "9f674cec-5ef9-4652-be96-8b1ea90a0ac4",
   "metadata": {},
   "outputs": [],
   "source": [
    "def get_weather_data(start_year, cities):\n",
    "    year = start_year\n",
    "    df = pd.DataFrame()\n",
    "    for city in cities:\n",
    "        while year <= 2021:\n",
    "            months = [f'{i:02}'for i in range(1,13)]\n",
    "            for month in months:\n",
    "                start_date = f'{year}-{month}-01'\n",
    "                end_date = f'{year}-{month}-{monthrange(int(year), int(month))[1]}' \n",
    "                try:\n",
    "                    response_json = get_wwo_weather(city, start_date, end_date)\n",
    "                    temp_df = parse_json_weather(response_json)\n",
    "                    df = pd.concat([df, temp_df])\n",
    "                except:\n",
    "                    print('failed to collect:', year, month)\n",
    "                print(year, month)\n",
    "            year += 1\n",
    "    return df"
   ]
  },
  {
   "cell_type": "code",
   "execution_count": 38,
   "id": "e0cea972-6d54-4995-b970-3438184060cc",
   "metadata": {
    "tags": []
   },
   "outputs": [
    {
     "name": "stdout",
     "output_type": "stream",
     "text": [
      "failed to collect: 2008 01\n",
      "2008 01\n",
      "failed to collect: 2008 02\n",
      "2008 02\n",
      "failed to collect: 2008 03\n",
      "2008 03\n",
      "failed to collect: 2008 04\n",
      "2008 04\n",
      "failed to collect: 2008 05\n",
      "2008 05\n",
      "failed to collect: 2008 06\n",
      "2008 06\n",
      "2008 07\n",
      "2008 08\n",
      "2008 09\n",
      "2008 10\n",
      "2008 11\n",
      "2008 12\n",
      "2009 01\n",
      "2009 02\n",
      "2009 03\n",
      "2009 04\n",
      "2009 05\n",
      "2009 06\n",
      "2009 07\n",
      "2009 08\n",
      "2009 09\n",
      "2009 10\n",
      "2009 11\n",
      "2009 12\n",
      "2010 01\n",
      "2010 02\n",
      "2010 03\n",
      "2010 04\n",
      "2010 05\n",
      "2010 06\n",
      "2010 07\n",
      "2010 08\n",
      "2010 09\n",
      "2010 10\n",
      "2010 11\n",
      "2010 12\n",
      "2011 01\n",
      "2011 02\n",
      "2011 03\n",
      "2011 04\n",
      "2011 05\n",
      "2011 06\n",
      "2011 07\n",
      "2011 08\n",
      "2011 09\n",
      "2011 10\n",
      "2011 11\n",
      "2011 12\n",
      "2012 01\n",
      "2012 02\n",
      "2012 03\n",
      "2012 04\n",
      "2012 05\n",
      "2012 06\n",
      "2012 07\n",
      "2012 08\n",
      "2012 09\n",
      "2012 10\n",
      "2012 11\n",
      "2012 12\n",
      "2013 01\n",
      "2013 02\n",
      "2013 03\n",
      "2013 04\n",
      "2013 05\n",
      "2013 06\n",
      "2013 07\n",
      "2013 08\n",
      "2013 09\n",
      "2013 10\n",
      "2013 11\n",
      "2013 12\n",
      "2014 01\n",
      "2014 02\n",
      "2014 03\n",
      "2014 04\n",
      "2014 05\n",
      "2014 06\n",
      "2014 07\n",
      "2014 08\n",
      "2014 09\n",
      "2014 10\n",
      "2014 11\n",
      "2014 12\n",
      "2015 01\n",
      "2015 02\n",
      "2015 03\n",
      "2015 04\n",
      "2015 05\n",
      "2015 06\n",
      "2015 07\n",
      "2015 08\n",
      "2015 09\n",
      "2015 10\n",
      "2015 11\n",
      "2015 12\n",
      "2016 01\n",
      "2016 02\n",
      "2016 03\n",
      "2016 04\n",
      "2016 05\n",
      "2016 06\n",
      "2016 07\n",
      "2016 08\n",
      "2016 09\n",
      "2016 10\n",
      "2016 11\n",
      "2016 12\n",
      "2017 01\n",
      "2017 02\n",
      "2017 03\n",
      "2017 04\n",
      "2017 05\n",
      "2017 06\n",
      "2017 07\n",
      "2017 08\n",
      "2017 09\n",
      "2017 10\n",
      "2017 11\n",
      "2017 12\n",
      "2018 01\n",
      "2018 02\n",
      "2018 03\n",
      "2018 04\n",
      "2018 05\n",
      "2018 06\n",
      "2018 07\n",
      "2018 08\n",
      "2018 09\n",
      "2018 10\n",
      "2018 11\n",
      "2018 12\n",
      "2019 01\n",
      "2019 02\n",
      "2019 03\n",
      "2019 04\n",
      "2019 05\n",
      "2019 06\n",
      "2019 07\n",
      "2019 08\n",
      "2019 09\n",
      "2019 10\n",
      "2019 11\n",
      "2019 12\n",
      "2020 01\n",
      "2020 02\n",
      "2020 03\n",
      "2020 04\n",
      "2020 05\n",
      "2020 06\n",
      "2020 07\n",
      "2020 08\n",
      "2020 09\n",
      "2020 10\n",
      "2020 11\n",
      "2020 12\n",
      "2021 01\n",
      "2021 02\n",
      "2021 03\n",
      "2021 04\n",
      "2021 05\n",
      "2021 06\n",
      "2021 07\n",
      "2021 08\n",
      "2021 09\n",
      "2021 10\n",
      "2021 11\n",
      "failed to collect: 2021 12\n",
      "2021 12\n"
     ]
    }
   ],
   "source": [
    "df = get_weather_data(2008, ['Abbotsford, Canada'])"
   ]
  },
  {
   "cell_type": "code",
   "execution_count": 35,
   "id": "6d840aa9-a40e-4477-9587-1151469d43ee",
   "metadata": {},
   "outputs": [
    {
     "data": {
      "text/html": [
       "<div>\n",
       "<style scoped>\n",
       "    .dataframe tbody tr th:only-of-type {\n",
       "        vertical-align: middle;\n",
       "    }\n",
       "\n",
       "    .dataframe tbody tr th {\n",
       "        vertical-align: top;\n",
       "    }\n",
       "\n",
       "    .dataframe thead th {\n",
       "        text-align: right;\n",
       "    }\n",
       "</style>\n",
       "<table border=\"1\" class=\"dataframe\">\n",
       "  <thead>\n",
       "    <tr style=\"text-align: right;\">\n",
       "      <th></th>\n",
       "      <th>date</th>\n",
       "      <th>maxtempC</th>\n",
       "      <th>mintempC</th>\n",
       "      <th>avgtempC</th>\n",
       "      <th>precip</th>\n",
       "      <th>totalSnow_cm</th>\n",
       "    </tr>\n",
       "  </thead>\n",
       "  <tbody>\n",
       "    <tr>\n",
       "      <th>0</th>\n",
       "      <td>2008-07-01</td>\n",
       "      <td>28</td>\n",
       "      <td>3</td>\n",
       "      <td>24</td>\n",
       "      <td>0.0</td>\n",
       "      <td>0.0</td>\n",
       "    </tr>\n",
       "    <tr>\n",
       "      <th>1</th>\n",
       "      <td>2008-07-02</td>\n",
       "      <td>31</td>\n",
       "      <td>6</td>\n",
       "      <td>26</td>\n",
       "      <td>0.0</td>\n",
       "      <td>0.0</td>\n",
       "    </tr>\n",
       "    <tr>\n",
       "      <th>2</th>\n",
       "      <td>2008-07-03</td>\n",
       "      <td>20</td>\n",
       "      <td>6</td>\n",
       "      <td>16</td>\n",
       "      <td>1.5</td>\n",
       "      <td>0.0</td>\n",
       "    </tr>\n",
       "    <tr>\n",
       "      <th>3</th>\n",
       "      <td>2008-07-04</td>\n",
       "      <td>17</td>\n",
       "      <td>9</td>\n",
       "      <td>13</td>\n",
       "      <td>1.2</td>\n",
       "      <td>0.0</td>\n",
       "    </tr>\n",
       "    <tr>\n",
       "      <th>4</th>\n",
       "      <td>2008-07-05</td>\n",
       "      <td>19</td>\n",
       "      <td>10</td>\n",
       "      <td>15</td>\n",
       "      <td>2.7</td>\n",
       "      <td>0.0</td>\n",
       "    </tr>\n",
       "    <tr>\n",
       "      <th>...</th>\n",
       "      <td>...</td>\n",
       "      <td>...</td>\n",
       "      <td>...</td>\n",
       "      <td>...</td>\n",
       "      <td>...</td>\n",
       "      <td>...</td>\n",
       "    </tr>\n",
       "    <tr>\n",
       "      <th>25</th>\n",
       "      <td>2021-11-26</td>\n",
       "      <td>10</td>\n",
       "      <td>7</td>\n",
       "      <td>9</td>\n",
       "      <td>8.6</td>\n",
       "      <td>0.0</td>\n",
       "    </tr>\n",
       "    <tr>\n",
       "      <th>26</th>\n",
       "      <td>2021-11-27</td>\n",
       "      <td>11</td>\n",
       "      <td>8</td>\n",
       "      <td>10</td>\n",
       "      <td>8.3</td>\n",
       "      <td>0.0</td>\n",
       "    </tr>\n",
       "    <tr>\n",
       "      <th>27</th>\n",
       "      <td>2021-11-28</td>\n",
       "      <td>10</td>\n",
       "      <td>8</td>\n",
       "      <td>9</td>\n",
       "      <td>1.1</td>\n",
       "      <td>0.0</td>\n",
       "    </tr>\n",
       "    <tr>\n",
       "      <th>28</th>\n",
       "      <td>2021-11-29</td>\n",
       "      <td>12</td>\n",
       "      <td>7</td>\n",
       "      <td>10</td>\n",
       "      <td>2.3</td>\n",
       "      <td>0.0</td>\n",
       "    </tr>\n",
       "    <tr>\n",
       "      <th>29</th>\n",
       "      <td>2021-11-30</td>\n",
       "      <td>9</td>\n",
       "      <td>8</td>\n",
       "      <td>8</td>\n",
       "      <td>4.5</td>\n",
       "      <td>0.0</td>\n",
       "    </tr>\n",
       "  </tbody>\n",
       "</table>\n",
       "<p>4901 rows × 6 columns</p>\n",
       "</div>"
      ],
      "text/plain": [
       "          date maxtempC mintempC avgtempC precip totalSnow_cm\n",
       "0   2008-07-01       28        3       24    0.0          0.0\n",
       "1   2008-07-02       31        6       26    0.0          0.0\n",
       "2   2008-07-03       20        6       16    1.5          0.0\n",
       "3   2008-07-04       17        9       13    1.2          0.0\n",
       "4   2008-07-05       19       10       15    2.7          0.0\n",
       "..         ...      ...      ...      ...    ...          ...\n",
       "25  2021-11-26       10        7        9    8.6          0.0\n",
       "26  2021-11-27       11        8       10    8.3          0.0\n",
       "27  2021-11-28       10        8        9    1.1          0.0\n",
       "28  2021-11-29       12        7       10    2.3          0.0\n",
       "29  2021-11-30        9        8        8    4.5          0.0\n",
       "\n",
       "[4901 rows x 6 columns]"
      ]
     },
     "execution_count": 35,
     "metadata": {},
     "output_type": "execute_result"
    }
   ],
   "source": [
    "df"
   ]
  },
  {
   "cell_type": "code",
   "execution_count": 171,
   "id": "f783553f-9c48-4751-8ca4-aace4db44f5c",
   "metadata": {},
   "outputs": [],
   "source": [
    "df2 = pd.concat([df2,df1])"
   ]
  },
  {
   "cell_type": "code",
   "execution_count": 41,
   "id": "17de37ed-2f6f-4bb5-a967-98a864d16a78",
   "metadata": {},
   "outputs": [
    {
     "data": {
      "text/html": [
       "<div>\n",
       "<style scoped>\n",
       "    .dataframe tbody tr th:only-of-type {\n",
       "        vertical-align: middle;\n",
       "    }\n",
       "\n",
       "    .dataframe tbody tr th {\n",
       "        vertical-align: top;\n",
       "    }\n",
       "\n",
       "    .dataframe thead th {\n",
       "        text-align: right;\n",
       "    }\n",
       "</style>\n",
       "<table border=\"1\" class=\"dataframe\">\n",
       "  <thead>\n",
       "    <tr style=\"text-align: right;\">\n",
       "      <th></th>\n",
       "      <th>date</th>\n",
       "      <th>maxtempC</th>\n",
       "      <th>mintempC</th>\n",
       "      <th>avgtempC</th>\n",
       "      <th>precip</th>\n",
       "      <th>totalSnow_cm</th>\n",
       "      <th>city</th>\n",
       "    </tr>\n",
       "  </thead>\n",
       "  <tbody>\n",
       "    <tr>\n",
       "      <th>0</th>\n",
       "      <td>2008-07-01</td>\n",
       "      <td>24</td>\n",
       "      <td>13</td>\n",
       "      <td>22</td>\n",
       "      <td>0.0</td>\n",
       "      <td>0.0</td>\n",
       "      <td>Abbotsford</td>\n",
       "    </tr>\n",
       "    <tr>\n",
       "      <th>1</th>\n",
       "      <td>2008-07-02</td>\n",
       "      <td>28</td>\n",
       "      <td>14</td>\n",
       "      <td>25</td>\n",
       "      <td>0.0</td>\n",
       "      <td>0.0</td>\n",
       "      <td>Abbotsford</td>\n",
       "    </tr>\n",
       "    <tr>\n",
       "      <th>2</th>\n",
       "      <td>2008-07-03</td>\n",
       "      <td>20</td>\n",
       "      <td>12</td>\n",
       "      <td>18</td>\n",
       "      <td>0.8</td>\n",
       "      <td>0.0</td>\n",
       "      <td>Abbotsford</td>\n",
       "    </tr>\n",
       "    <tr>\n",
       "      <th>3</th>\n",
       "      <td>2008-07-04</td>\n",
       "      <td>16</td>\n",
       "      <td>10</td>\n",
       "      <td>15</td>\n",
       "      <td>2.3</td>\n",
       "      <td>0.0</td>\n",
       "      <td>Abbotsford</td>\n",
       "    </tr>\n",
       "    <tr>\n",
       "      <th>4</th>\n",
       "      <td>2008-07-05</td>\n",
       "      <td>19</td>\n",
       "      <td>12</td>\n",
       "      <td>16</td>\n",
       "      <td>1.9</td>\n",
       "      <td>0.0</td>\n",
       "      <td>Abbotsford</td>\n",
       "    </tr>\n",
       "    <tr>\n",
       "      <th>...</th>\n",
       "      <td>...</td>\n",
       "      <td>...</td>\n",
       "      <td>...</td>\n",
       "      <td>...</td>\n",
       "      <td>...</td>\n",
       "      <td>...</td>\n",
       "      <td>...</td>\n",
       "    </tr>\n",
       "    <tr>\n",
       "      <th>25</th>\n",
       "      <td>2021-11-26</td>\n",
       "      <td>11</td>\n",
       "      <td>6</td>\n",
       "      <td>9</td>\n",
       "      <td>5.7</td>\n",
       "      <td>0.0</td>\n",
       "      <td>Abbotsford</td>\n",
       "    </tr>\n",
       "    <tr>\n",
       "      <th>26</th>\n",
       "      <td>2021-11-27</td>\n",
       "      <td>11</td>\n",
       "      <td>9</td>\n",
       "      <td>10</td>\n",
       "      <td>12.1</td>\n",
       "      <td>0.0</td>\n",
       "      <td>Abbotsford</td>\n",
       "    </tr>\n",
       "    <tr>\n",
       "      <th>27</th>\n",
       "      <td>2021-11-28</td>\n",
       "      <td>12</td>\n",
       "      <td>10</td>\n",
       "      <td>12</td>\n",
       "      <td>5.6</td>\n",
       "      <td>0.0</td>\n",
       "      <td>Abbotsford</td>\n",
       "    </tr>\n",
       "    <tr>\n",
       "      <th>28</th>\n",
       "      <td>2021-11-29</td>\n",
       "      <td>12</td>\n",
       "      <td>8</td>\n",
       "      <td>10</td>\n",
       "      <td>3.7</td>\n",
       "      <td>0.0</td>\n",
       "      <td>Abbotsford</td>\n",
       "    </tr>\n",
       "    <tr>\n",
       "      <th>29</th>\n",
       "      <td>2021-11-30</td>\n",
       "      <td>9</td>\n",
       "      <td>8</td>\n",
       "      <td>8</td>\n",
       "      <td>10.1</td>\n",
       "      <td>0.0</td>\n",
       "      <td>Abbotsford</td>\n",
       "    </tr>\n",
       "  </tbody>\n",
       "</table>\n",
       "<p>4901 rows × 7 columns</p>\n",
       "</div>"
      ],
      "text/plain": [
       "          date maxtempC mintempC avgtempC precip totalSnow_cm        city\n",
       "0   2008-07-01       24       13       22    0.0          0.0  Abbotsford\n",
       "1   2008-07-02       28       14       25    0.0          0.0  Abbotsford\n",
       "2   2008-07-03       20       12       18    0.8          0.0  Abbotsford\n",
       "3   2008-07-04       16       10       15    2.3          0.0  Abbotsford\n",
       "4   2008-07-05       19       12       16    1.9          0.0  Abbotsford\n",
       "..         ...      ...      ...      ...    ...          ...         ...\n",
       "25  2021-11-26       11        6        9    5.7          0.0  Abbotsford\n",
       "26  2021-11-27       11        9       10   12.1          0.0  Abbotsford\n",
       "27  2021-11-28       12       10       12    5.6          0.0  Abbotsford\n",
       "28  2021-11-29       12        8       10    3.7          0.0  Abbotsford\n",
       "29  2021-11-30        9        8        8   10.1          0.0  Abbotsford\n",
       "\n",
       "[4901 rows x 7 columns]"
      ]
     },
     "execution_count": 41,
     "metadata": {},
     "output_type": "execute_result"
    }
   ],
   "source": [
    "df['city'] = 'Abbotsford'\n",
    "df\n"
   ]
  },
  {
   "cell_type": "code",
   "execution_count": 42,
   "id": "4ba168ce-7ccc-4830-8720-c8d5f43b72bc",
   "metadata": {},
   "outputs": [],
   "source": [
    "# Save dataframe\n",
    "df = df.set_index('date')\n",
    "df.to_csv('data/abbotsford_weather.csv', mode='a')"
   ]
  },
  {
   "cell_type": "code",
   "execution_count": 43,
   "id": "3d99ac32-33f1-48ee-ba86-43828312e0d1",
   "metadata": {},
   "outputs": [],
   "source": [
    "# load dataframe from file\n",
    "df = pd.read_csv('data/abbotsford_weather.csv', parse_dates=['date'])\n"
   ]
  },
  {
   "cell_type": "code",
   "execution_count": 40,
   "id": "2ed84624-9a3c-4ab0-8d99-03ccde167f2e",
   "metadata": {},
   "outputs": [
    {
     "data": {
      "text/html": [
       "<div>\n",
       "<style scoped>\n",
       "    .dataframe tbody tr th:only-of-type {\n",
       "        vertical-align: middle;\n",
       "    }\n",
       "\n",
       "    .dataframe tbody tr th {\n",
       "        vertical-align: top;\n",
       "    }\n",
       "\n",
       "    .dataframe thead th {\n",
       "        text-align: right;\n",
       "    }\n",
       "</style>\n",
       "<table border=\"1\" class=\"dataframe\">\n",
       "  <thead>\n",
       "    <tr style=\"text-align: right;\">\n",
       "      <th></th>\n",
       "      <th>date</th>\n",
       "      <th>maxtempC</th>\n",
       "      <th>mintempC</th>\n",
       "      <th>avgtempC</th>\n",
       "      <th>precip</th>\n",
       "      <th>totalSnow_cm</th>\n",
       "      <th>city</th>\n",
       "    </tr>\n",
       "  </thead>\n",
       "  <tbody>\n",
       "    <tr>\n",
       "      <th>0</th>\n",
       "      <td>2008-07-01</td>\n",
       "      <td>24</td>\n",
       "      <td>13</td>\n",
       "      <td>22</td>\n",
       "      <td>0.0</td>\n",
       "      <td>0.0</td>\n",
       "      <td>Abbotsford</td>\n",
       "    </tr>\n",
       "    <tr>\n",
       "      <th>1</th>\n",
       "      <td>2008-07-02</td>\n",
       "      <td>28</td>\n",
       "      <td>14</td>\n",
       "      <td>25</td>\n",
       "      <td>0.0</td>\n",
       "      <td>0.0</td>\n",
       "      <td>Abbotsford</td>\n",
       "    </tr>\n",
       "    <tr>\n",
       "      <th>2</th>\n",
       "      <td>2008-07-03</td>\n",
       "      <td>20</td>\n",
       "      <td>12</td>\n",
       "      <td>18</td>\n",
       "      <td>0.8</td>\n",
       "      <td>0.0</td>\n",
       "      <td>Abbotsford</td>\n",
       "    </tr>\n",
       "    <tr>\n",
       "      <th>3</th>\n",
       "      <td>2008-07-04</td>\n",
       "      <td>16</td>\n",
       "      <td>10</td>\n",
       "      <td>15</td>\n",
       "      <td>2.3</td>\n",
       "      <td>0.0</td>\n",
       "      <td>Abbotsford</td>\n",
       "    </tr>\n",
       "    <tr>\n",
       "      <th>4</th>\n",
       "      <td>2008-07-05</td>\n",
       "      <td>19</td>\n",
       "      <td>12</td>\n",
       "      <td>16</td>\n",
       "      <td>1.9</td>\n",
       "      <td>0.0</td>\n",
       "      <td>Abbotsford</td>\n",
       "    </tr>\n",
       "    <tr>\n",
       "      <th>...</th>\n",
       "      <td>...</td>\n",
       "      <td>...</td>\n",
       "      <td>...</td>\n",
       "      <td>...</td>\n",
       "      <td>...</td>\n",
       "      <td>...</td>\n",
       "      <td>...</td>\n",
       "    </tr>\n",
       "    <tr>\n",
       "      <th>25</th>\n",
       "      <td>2021-11-26</td>\n",
       "      <td>11</td>\n",
       "      <td>6</td>\n",
       "      <td>9</td>\n",
       "      <td>5.7</td>\n",
       "      <td>0.0</td>\n",
       "      <td>Abbotsford</td>\n",
       "    </tr>\n",
       "    <tr>\n",
       "      <th>26</th>\n",
       "      <td>2021-11-27</td>\n",
       "      <td>11</td>\n",
       "      <td>9</td>\n",
       "      <td>10</td>\n",
       "      <td>12.1</td>\n",
       "      <td>0.0</td>\n",
       "      <td>Abbotsford</td>\n",
       "    </tr>\n",
       "    <tr>\n",
       "      <th>27</th>\n",
       "      <td>2021-11-28</td>\n",
       "      <td>12</td>\n",
       "      <td>10</td>\n",
       "      <td>12</td>\n",
       "      <td>5.6</td>\n",
       "      <td>0.0</td>\n",
       "      <td>Abbotsford</td>\n",
       "    </tr>\n",
       "    <tr>\n",
       "      <th>28</th>\n",
       "      <td>2021-11-29</td>\n",
       "      <td>12</td>\n",
       "      <td>8</td>\n",
       "      <td>10</td>\n",
       "      <td>3.7</td>\n",
       "      <td>0.0</td>\n",
       "      <td>Abbotsford</td>\n",
       "    </tr>\n",
       "    <tr>\n",
       "      <th>29</th>\n",
       "      <td>2021-11-30</td>\n",
       "      <td>9</td>\n",
       "      <td>8</td>\n",
       "      <td>8</td>\n",
       "      <td>10.1</td>\n",
       "      <td>0.0</td>\n",
       "      <td>Abbotsford</td>\n",
       "    </tr>\n",
       "  </tbody>\n",
       "</table>\n",
       "<p>4901 rows × 7 columns</p>\n",
       "</div>"
      ],
      "text/plain": [
       "          date maxtempC mintempC avgtempC precip totalSnow_cm        city\n",
       "0   2008-07-01       24       13       22    0.0          0.0  Abbotsford\n",
       "1   2008-07-02       28       14       25    0.0          0.0  Abbotsford\n",
       "2   2008-07-03       20       12       18    0.8          0.0  Abbotsford\n",
       "3   2008-07-04       16       10       15    2.3          0.0  Abbotsford\n",
       "4   2008-07-05       19       12       16    1.9          0.0  Abbotsford\n",
       "..         ...      ...      ...      ...    ...          ...         ...\n",
       "25  2021-11-26       11        6        9    5.7          0.0  Abbotsford\n",
       "26  2021-11-27       11        9       10   12.1          0.0  Abbotsford\n",
       "27  2021-11-28       12       10       12    5.6          0.0  Abbotsford\n",
       "28  2021-11-29       12        8       10    3.7          0.0  Abbotsford\n",
       "29  2021-11-30        9        8        8   10.1          0.0  Abbotsford\n",
       "\n",
       "[4901 rows x 7 columns]"
      ]
     },
     "execution_count": 40,
     "metadata": {},
     "output_type": "execute_result"
    }
   ],
   "source": [
    "df"
   ]
  },
  {
   "cell_type": "code",
   "execution_count": 14,
   "id": "766ed966-414b-45f8-9e08-e7fd58ea00b4",
   "metadata": {},
   "outputs": [],
   "source": [
    "df = df.set_index('date')"
   ]
  },
  {
   "cell_type": "code",
   "execution_count": 44,
   "id": "bb9240ea-bcb7-4743-9edc-89efa9dec11c",
   "metadata": {},
   "outputs": [],
   "source": [
    "# Group by month and sum\n",
    "grouped = df.groupby(pd.Grouper(key='date', freq='M')).sum()\n",
    "grouped['city'] = df['city'][0]"
   ]
  },
  {
   "cell_type": "code",
   "execution_count": 45,
   "id": "13d58a07-856d-44ca-9c76-74c1b0f9af72",
   "metadata": {},
   "outputs": [
    {
     "data": {
      "text/html": [
       "<div>\n",
       "<style scoped>\n",
       "    .dataframe tbody tr th:only-of-type {\n",
       "        vertical-align: middle;\n",
       "    }\n",
       "\n",
       "    .dataframe tbody tr th {\n",
       "        vertical-align: top;\n",
       "    }\n",
       "\n",
       "    .dataframe thead th {\n",
       "        text-align: right;\n",
       "    }\n",
       "</style>\n",
       "<table border=\"1\" class=\"dataframe\">\n",
       "  <thead>\n",
       "    <tr style=\"text-align: right;\">\n",
       "      <th></th>\n",
       "      <th>maxtempC</th>\n",
       "      <th>mintempC</th>\n",
       "      <th>avgtempC</th>\n",
       "      <th>precip</th>\n",
       "      <th>totalSnow_cm</th>\n",
       "      <th>city</th>\n",
       "    </tr>\n",
       "    <tr>\n",
       "      <th>date</th>\n",
       "      <th></th>\n",
       "      <th></th>\n",
       "      <th></th>\n",
       "      <th></th>\n",
       "      <th></th>\n",
       "      <th></th>\n",
       "    </tr>\n",
       "  </thead>\n",
       "  <tbody>\n",
       "    <tr>\n",
       "      <th>2008-07-31</th>\n",
       "      <td>645</td>\n",
       "      <td>275</td>\n",
       "      <td>570</td>\n",
       "      <td>30.0</td>\n",
       "      <td>0.0</td>\n",
       "      <td>Abbotsford</td>\n",
       "    </tr>\n",
       "    <tr>\n",
       "      <th>2008-08-31</th>\n",
       "      <td>655</td>\n",
       "      <td>315</td>\n",
       "      <td>565</td>\n",
       "      <td>201.0</td>\n",
       "      <td>0.0</td>\n",
       "      <td>Abbotsford</td>\n",
       "    </tr>\n",
       "    <tr>\n",
       "      <th>2008-09-30</th>\n",
       "      <td>598</td>\n",
       "      <td>261</td>\n",
       "      <td>478</td>\n",
       "      <td>50.2</td>\n",
       "      <td>0.0</td>\n",
       "      <td>Abbotsford</td>\n",
       "    </tr>\n",
       "    <tr>\n",
       "      <th>2008-10-31</th>\n",
       "      <td>403</td>\n",
       "      <td>184</td>\n",
       "      <td>309</td>\n",
       "      <td>140.7</td>\n",
       "      <td>0.0</td>\n",
       "      <td>Abbotsford</td>\n",
       "    </tr>\n",
       "    <tr>\n",
       "      <th>2008-11-30</th>\n",
       "      <td>279</td>\n",
       "      <td>155</td>\n",
       "      <td>222</td>\n",
       "      <td>432.4</td>\n",
       "      <td>0.0</td>\n",
       "      <td>Abbotsford</td>\n",
       "    </tr>\n",
       "    <tr>\n",
       "      <th>...</th>\n",
       "      <td>...</td>\n",
       "      <td>...</td>\n",
       "      <td>...</td>\n",
       "      <td>...</td>\n",
       "      <td>...</td>\n",
       "      <td>...</td>\n",
       "    </tr>\n",
       "    <tr>\n",
       "      <th>2021-07-31</th>\n",
       "      <td>785</td>\n",
       "      <td>443</td>\n",
       "      <td>666</td>\n",
       "      <td>0.1</td>\n",
       "      <td>0.0</td>\n",
       "      <td>Abbotsford</td>\n",
       "    </tr>\n",
       "    <tr>\n",
       "      <th>2021-08-31</th>\n",
       "      <td>742</td>\n",
       "      <td>425</td>\n",
       "      <td>627</td>\n",
       "      <td>13.9</td>\n",
       "      <td>0.0</td>\n",
       "      <td>Abbotsford</td>\n",
       "    </tr>\n",
       "    <tr>\n",
       "      <th>2021-09-30</th>\n",
       "      <td>570</td>\n",
       "      <td>304</td>\n",
       "      <td>464</td>\n",
       "      <td>51.8</td>\n",
       "      <td>0.0</td>\n",
       "      <td>Abbotsford</td>\n",
       "    </tr>\n",
       "    <tr>\n",
       "      <th>2021-10-31</th>\n",
       "      <td>368</td>\n",
       "      <td>185</td>\n",
       "      <td>287</td>\n",
       "      <td>66.5</td>\n",
       "      <td>0.0</td>\n",
       "      <td>Abbotsford</td>\n",
       "    </tr>\n",
       "    <tr>\n",
       "      <th>2021-11-30</th>\n",
       "      <td>265</td>\n",
       "      <td>133</td>\n",
       "      <td>206</td>\n",
       "      <td>140.3</td>\n",
       "      <td>0.0</td>\n",
       "      <td>Abbotsford</td>\n",
       "    </tr>\n",
       "  </tbody>\n",
       "</table>\n",
       "<p>161 rows × 6 columns</p>\n",
       "</div>"
      ],
      "text/plain": [
       "            maxtempC  mintempC  avgtempC  precip  totalSnow_cm        city\n",
       "date                                                                      \n",
       "2008-07-31       645       275       570    30.0           0.0  Abbotsford\n",
       "2008-08-31       655       315       565   201.0           0.0  Abbotsford\n",
       "2008-09-30       598       261       478    50.2           0.0  Abbotsford\n",
       "2008-10-31       403       184       309   140.7           0.0  Abbotsford\n",
       "2008-11-30       279       155       222   432.4           0.0  Abbotsford\n",
       "...              ...       ...       ...     ...           ...         ...\n",
       "2021-07-31       785       443       666     0.1           0.0  Abbotsford\n",
       "2021-08-31       742       425       627    13.9           0.0  Abbotsford\n",
       "2021-09-30       570       304       464    51.8           0.0  Abbotsford\n",
       "2021-10-31       368       185       287    66.5           0.0  Abbotsford\n",
       "2021-11-30       265       133       206   140.3           0.0  Abbotsford\n",
       "\n",
       "[161 rows x 6 columns]"
      ]
     },
     "execution_count": 45,
     "metadata": {},
     "output_type": "execute_result"
    }
   ],
   "source": [
    "grouped"
   ]
  },
  {
   "cell_type": "code",
   "execution_count": 46,
   "id": "14d5ca1b-4938-49db-902d-268a3cd30089",
   "metadata": {},
   "outputs": [
    {
     "data": {
      "image/png": "[encoded data removed]",
      "text/plain": [
       "<Figure size 1080x720 with 1 Axes>"
      ]
     },
     "metadata": {
      "needs_background": "light"
     },
     "output_type": "display_data"
    }
   ],
   "source": [
    "# Group by month and sum\n",
    "city = df['city'][0]\n",
    "grouped = df.groupby(pd.Grouper(key='date', freq='M')).sum()\n",
    "\n",
    "grouped['precip'].plot(title=f'{city} Monthly Total Precipitation',\n",
    "                       style='k-',\n",
    "                      figsize=(15,10),\n",
    "                      grid=True)\n",
    "plt.savefig(f'{city}MonthlyTotalPrecip')"
   ]
  },
  {
   "cell_type": "code",
   "execution_count": 25,
   "id": "9f2c6811-c82b-4723-960c-1e3872a0ffbc",
   "metadata": {},
   "outputs": [
    {
     "data": {
      "text/plain": [
       "<Figure size 432x288 with 0 Axes>"
      ]
     },
     "metadata": {},
     "output_type": "display_data"
    }
   ],
   "source": [
    "plt.savefig('LyttonMonthlyTotalPrecip')"
   ]
  },
  {
   "cell_type": "code",
   "execution_count": 181,
   "id": "ebbb6959-ffe0-4e9c-81d2-da71d50cb6db",
   "metadata": {},
   "outputs": [
    {
     "data": {
      "image/png": "[encoded data removed]",
      "text/plain": [
       "<Figure size 1080x720 with 1 Axes>"
      ]
     },
     "metadata": {
      "needs_background": "light"
     },
     "output_type": "display_data"
    }
   ],
   "source": [
    "fig, ax = plt.subplots(figsize = (15,10))\n",
    "ax.plot(df['precip'], label='Total Precipitation (MM)' )\n",
    "ax.fill_between(df.index, df['precip'])\n",
    "ax.plot(df['avgtempC'], label='Average Temp (C)', alpha=0.7)\n",
    "ax.set_title('Abbotsford Daily')\n",
    "plt.legend()\n",
    "plt.show()\n"
   ]
  },
  {
   "cell_type": "code",
   "execution_count": 147,
   "id": "0ce2b27c-9cac-471b-8e37-42f426073013",
   "metadata": {},
   "outputs": [
    {
     "data": {
      "text/plain": [
       "<Figure size 432x288 with 0 Axes>"
      ]
     },
     "metadata": {},
     "output_type": "display_data"
    }
   ],
   "source": [
    "plt.savefig('AbbotsfordDaily')"
   ]
  },
  {
   "cell_type": "code",
   "execution_count": 199,
   "id": "d8718af2-1d3e-471f-9387-9643d29d86f6",
   "metadata": {},
   "outputs": [
    {
     "data": {
      "text/html": [
       "<div>\n",
       "<style scoped>\n",
       "    .dataframe tbody tr th:only-of-type {\n",
       "        vertical-align: middle;\n",
       "    }\n",
       "\n",
       "    .dataframe tbody tr th {\n",
       "        vertical-align: top;\n",
       "    }\n",
       "\n",
       "    .dataframe thead th {\n",
       "        text-align: right;\n",
       "    }\n",
       "</style>\n",
       "<table border=\"1\" class=\"dataframe\">\n",
       "  <thead>\n",
       "    <tr style=\"text-align: right;\">\n",
       "      <th></th>\n",
       "      <th>date</th>\n",
       "      <th>maxtempC</th>\n",
       "      <th>mintempC</th>\n",
       "      <th>avgtempC</th>\n",
       "      <th>precip</th>\n",
       "      <th>totalSnow_cm</th>\n",
       "    </tr>\n",
       "  </thead>\n",
       "  <tbody>\n",
       "    <tr>\n",
       "      <th>0</th>\n",
       "      <td>2008-07-01</td>\n",
       "      <td>27</td>\n",
       "      <td>6</td>\n",
       "      <td>20</td>\n",
       "      <td>0.3</td>\n",
       "      <td>0.0</td>\n",
       "    </tr>\n",
       "    <tr>\n",
       "      <th>1</th>\n",
       "      <td>2008-07-02</td>\n",
       "      <td>28</td>\n",
       "      <td>3</td>\n",
       "      <td>21</td>\n",
       "      <td>0.0</td>\n",
       "      <td>0.0</td>\n",
       "    </tr>\n",
       "    <tr>\n",
       "      <th>2</th>\n",
       "      <td>2008-07-03</td>\n",
       "      <td>16</td>\n",
       "      <td>6</td>\n",
       "      <td>13</td>\n",
       "      <td>10.3</td>\n",
       "      <td>0.0</td>\n",
       "    </tr>\n",
       "    <tr>\n",
       "      <th>3</th>\n",
       "      <td>2008-07-04</td>\n",
       "      <td>15</td>\n",
       "      <td>3</td>\n",
       "      <td>10</td>\n",
       "      <td>1.1</td>\n",
       "      <td>0.0</td>\n",
       "    </tr>\n",
       "    <tr>\n",
       "      <th>4</th>\n",
       "      <td>2008-07-05</td>\n",
       "      <td>19</td>\n",
       "      <td>3</td>\n",
       "      <td>12</td>\n",
       "      <td>1.0</td>\n",
       "      <td>0.0</td>\n",
       "    </tr>\n",
       "    <tr>\n",
       "      <th>...</th>\n",
       "      <td>...</td>\n",
       "      <td>...</td>\n",
       "      <td>...</td>\n",
       "      <td>...</td>\n",
       "      <td>...</td>\n",
       "      <td>...</td>\n",
       "    </tr>\n",
       "    <tr>\n",
       "      <th>4896</th>\n",
       "      <td>2021-11-26</td>\n",
       "      <td>4</td>\n",
       "      <td>-3</td>\n",
       "      <td>1</td>\n",
       "      <td>1.7</td>\n",
       "      <td>0.2</td>\n",
       "    </tr>\n",
       "    <tr>\n",
       "      <th>4897</th>\n",
       "      <td>2021-11-27</td>\n",
       "      <td>2</td>\n",
       "      <td>-3</td>\n",
       "      <td>0</td>\n",
       "      <td>0.4</td>\n",
       "      <td>0.0</td>\n",
       "    </tr>\n",
       "    <tr>\n",
       "      <th>4898</th>\n",
       "      <td>2021-11-28</td>\n",
       "      <td>4</td>\n",
       "      <td>-2</td>\n",
       "      <td>2</td>\n",
       "      <td>0.6</td>\n",
       "      <td>0.0</td>\n",
       "    </tr>\n",
       "    <tr>\n",
       "      <th>4899</th>\n",
       "      <td>2021-11-29</td>\n",
       "      <td>4</td>\n",
       "      <td>-6</td>\n",
       "      <td>1</td>\n",
       "      <td>0.2</td>\n",
       "      <td>0.0</td>\n",
       "    </tr>\n",
       "    <tr>\n",
       "      <th>4900</th>\n",
       "      <td>2021-11-30</td>\n",
       "      <td>5</td>\n",
       "      <td>-5</td>\n",
       "      <td>1</td>\n",
       "      <td>0.0</td>\n",
       "      <td>0.0</td>\n",
       "    </tr>\n",
       "  </tbody>\n",
       "</table>\n",
       "<p>4901 rows × 6 columns</p>\n",
       "</div>"
      ],
      "text/plain": [
       "           date  maxtempC  mintempC  avgtempC  precip  totalSnow_cm\n",
       "0    2008-07-01        27         6        20     0.3           0.0\n",
       "1    2008-07-02        28         3        21     0.0           0.0\n",
       "2    2008-07-03        16         6        13    10.3           0.0\n",
       "3    2008-07-04        15         3        10     1.1           0.0\n",
       "4    2008-07-05        19         3        12     1.0           0.0\n",
       "...         ...       ...       ...       ...     ...           ...\n",
       "4896 2021-11-26         4        -3         1     1.7           0.2\n",
       "4897 2021-11-27         2        -3         0     0.4           0.0\n",
       "4898 2021-11-28         4        -2         2     0.6           0.0\n",
       "4899 2021-11-29         4        -6         1     0.2           0.0\n",
       "4900 2021-11-30         5        -5         1     0.0           0.0\n",
       "\n",
       "[4901 rows x 6 columns]"
      ]
     },
     "execution_count": 199,
     "metadata": {},
     "output_type": "execute_result"
    }
   ],
   "source": [
    "df"
   ]
  },
  {
   "cell_type": "code",
   "execution_count": 47,
   "id": "211e8be2-9381-4d95-9b82-8e5366de33fe",
   "metadata": {},
   "outputs": [],
   "source": [
    "# load dataframe from file\n",
    "df = pd.read_csv('data/abbotsford_weather.csv', parse_dates=['date'])\n",
    "\n",
    "df['day'] = df['date'].dt.day\n",
    "df['month'] = df['date'].dt.month\n",
    "df['year'] = df['date'].dt.year\n",
    "\n"
   ]
  },
  {
   "cell_type": "code",
   "execution_count": null,
   "id": "7c501303-89b2-4c5a-ab2e-dbda7d67f597",
   "metadata": {},
   "outputs": [],
   "source": []
  },
  {
   "cell_type": "code",
   "execution_count": null,
   "id": "92322ff2-9cfe-45a0-bf09-200175ff4699",
   "metadata": {},
   "outputs": [],
   "source": []
  },
  {
   "cell_type": "code",
   "execution_count": null,
   "id": "50296c0d-70dd-42ce-8506-94c919d8d779",
   "metadata": {},
   "outputs": [],
   "source": []
  },
  {
   "cell_type": "code",
   "execution_count": 55,
   "id": "a1192161-25b8-438c-93db-d3e1c2925c51",
   "metadata": {},
   "outputs": [
    {
     "data": {
      "image/png": "[encoded data removed]",
      "text/plain": [
       "<Figure size 1080x720 with 1 Axes>"
      ]
     },
     "metadata": {
      "needs_background": "light"
     },
     "output_type": "display_data"
    }
   ],
   "source": [
    "fig, ax = plt.subplots(figsize = (15,10))\n",
    "for year in range(2016,2021):\n",
    "    df1 = df[(df['month'] == 11) & (df['year'] == year)]\n",
    "    city = df['city'][0]\n",
    "    \n",
    "\n",
    "    ax.plot('day', 'precip', label=year, data= df1 )\n",
    "    # ax.plot(df1['day'], df1['maxtempC'], c='red', label='Max Temp (C)', alpha=0.5 )\n",
    "    # ax.plot(df1['day'], df1['mintempC'], c='green', label='Min Temp (C)', alpha=.5)\n",
    "    # ax.plot(df1['day'], df1['avgtempC'], c='black',label='Average Temp (C)', alpha=0.9)\n",
    "\n",
    "\n",
    "ax.set_title(f'{city} November Total Daily Precipitation')\n",
    "plt.legend()\n",
    "plt.show()\n"
   ]
  },
  {
   "cell_type": "code",
   "execution_count": null,
   "id": "a8340d83-abf0-43a9-86ee-84c504917744",
   "metadata": {},
   "outputs": [],
   "source": []
  }
 ],
 "metadata": {
  "kernelspec": {
   "display_name": "bootcamp_env",
   "language": "python",
   "name": "bootcamp_env"
  },
  "language_info": {
   "codemirror_mode": {
    "name": "ipython",
    "version": 3
   },
   "file_extension": ".py",
   "mimetype": "text/x-python",
   "name": "python",
   "nbconvert_exporter": "python",
   "pygments_lexer": "ipython3",
   "version": "3.8.12"
  }
 },
 "nbformat": 4,
 "nbformat_minor": 5
}
