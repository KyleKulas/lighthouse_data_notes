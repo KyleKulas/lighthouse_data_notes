{
 "cells": [
  {
   "cell_type": "markdown",
   "id": "2c69981f-d7f7-4141-a731-8896ac6c66ba",
   "metadata": {},
   "source": [
    "# Tech Interview 1\n",
    "Kyle Kulas\n",
    "10 Nov 2021"
   ]
  },
  {
   "cell_type": "code",
   "execution_count": null,
   "id": "f3f205e3-5501-47f9-8faf-af4bf45b323b",
   "metadata": {},
   "outputs": [],
   "source": []
  },
  {
   "cell_type": "code",
   "execution_count": null,
   "id": "d58703c2-c887-4a5e-a124-ccf4da8fb7e4",
   "metadata": {},
   "outputs": [],
   "source": []
  }
 ],
 "metadata": {
  "kernelspec": {
   "display_name": "py3.6",
   "language": "python",
   "name": "py3.6"
  },
  "language_info": {
   "codemirror_mode": {
    "name": "ipython",
    "version": 3
   },
   "file_extension": ".py",
   "mimetype": "text/x-python",
   "name": "python",
   "nbconvert_exporter": "python",
   "pygments_lexer": "ipython3",
   "version": "3.6.13"
  }
 },
 "nbformat": 4,
 "nbformat_minor": 5
}
