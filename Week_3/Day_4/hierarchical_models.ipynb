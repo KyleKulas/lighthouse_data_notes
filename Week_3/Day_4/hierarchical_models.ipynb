{
 "cells": [
  {
   "cell_type": "markdown",
   "id": "280bbfab-98c9-4d2d-a48e-6e75496b86bb",
   "metadata": {},
   "source": [
    "# Hierarchical Models\n",
    "Kyle Kulas\n"
   ]
  },
  {
   "cell_type": "code",
   "execution_count": 8,
   "id": "53d767d1-f604-49d0-b703-5ed80c20d06b",
   "metadata": {},
   "outputs": [],
   "source": [
    "from sklearn.datasets import make_blobs\n",
    "import matplotlib.pyplot as plt\n",
    "import numpy as np\n",
    "# aglomerative clustering\n",
    "from sklearn.cluster import AgglomerativeClustering\n",
    "\n",
    "# cluster hierarchy\n",
    "import scipy.cluster.hierarchy as sch\n",
    "\n",
    "# Generate clusters\n",
    "X, y = make_blobs(n_samples = 150,\n",
    "                  n_features = 2,\n",
    "                  centers = 3,\n",
    "                  cluster_std = 0.5,\n",
    "                  random_state = 0)\n",
    "\n",
    "def plot_clusters(X, y_res, plt_cluster_centers = False):\n",
    "    X_centroids = []\n",
    "    Y_centroids = []\n",
    "    \n",
    "    for cluster in set(y_res):\n",
    "        x = X[y_res == cluster, 0]\n",
    "        y = X[y_res == cluster, 1]\n",
    "        X_centroids.append(np.mean(x))\n",
    "        Y_centroids.append(np.mean(y))\n",
    "        \n",
    "        plt.scatter(x,\n",
    "                    y,\n",
    "                    s=50,\n",
    "                    marker='s',\n",
    "                    label = f'cluster {cluster}')\n",
    "        \n",
    "    if plt_cluster_centers:\n",
    "        plt.scatter(X_centroids,\n",
    "                    Y_centroids,\n",
    "                    marker = '*',\n",
    "                    c= 'red',\n",
    "                    s = 250,\n",
    "                    label= 'centroids')\n",
    "\n",
    "    plt.legend()\n",
    "    plt.grid()\n",
    "    plt.show()"
   ]
  },
  {
   "cell_type": "markdown",
   "id": "389d1079-6253-4b55-b41d-a588c0db3e1b",
   "metadata": {},
   "source": [
    "## Hierarchical clustering\n",
    "The next step is to create an object from the AgglomerativeClustering class:"
   ]
  },
  {
   "cell_type": "code",
   "execution_count": 9,
   "id": "14eaa456-2b76-471f-91d0-413cd0d0fded",
   "metadata": {},
   "outputs": [],
   "source": [
    "ac = AgglomerativeClustering(affinity='euclidean',\n",
    "                             linkage='ward',\n",
    "                             n_clusters =3)"
   ]
  },
  {
   "cell_type": "code",
   "execution_count": 10,
   "id": "3906fee5-05c1-444e-96e1-c8964ace452f",
   "metadata": {},
   "outputs": [],
   "source": [
    "y_hc = ac.fit_predict(X)"
   ]
  },
  {
   "cell_type": "code",
   "execution_count": 11,
   "id": "ee079f9e-3b4e-4b4d-9523-93ee6fce36f8",
   "metadata": {},
   "outputs": [
    {
     "data": {
      "image/png": "[encoded data removed]",
      "text/plain": [
       "<Figure size 432x288 with 1 Axes>"
      ]
     },
     "metadata": {
      "needs_background": "light"
     },
     "output_type": "display_data"
    }
   ],
   "source": [
    "plot_clusters(X, y_hc)"
   ]
  },
  {
   "cell_type": "markdown",
   "id": "43c14aaa-815c-4b68-88c9-45a2c04a7cd0",
   "metadata": {},
   "source": [
    "## Dendrogram"
   ]
  },
  {
   "cell_type": "code",
   "execution_count": 15,
   "id": "a48d7781-147b-4bcf-b911-e502ff02b17f",
   "metadata": {},
   "outputs": [],
   "source": [
    "def plot_dendrogram(X, method = 'ward'):\n",
    "    dendrogram = sch.dendrogram(sch.linkage(X,method=method))\n",
    "    plt.title('Dendrogram')\n",
    "    plt.ylabel('Euclidean distances')\n",
    "    plt.xlabel('Point')"
   ]
  },
  {
   "cell_type": "code",
   "execution_count": 16,
   "id": "6d1fb881-f2e2-4d93-ab0e-bc03ffbf0658",
   "metadata": {},
   "outputs": [
    {
     "data": {
      "image/png": "[encoded data removed]",
      "text/plain": [
       "<Figure size 432x288 with 1 Axes>"
      ]
     },
     "metadata": {
      "needs_background": "light"
     },
     "output_type": "display_data"
    }
   ],
   "source": [
    "plot_dendrogram(X)"
   ]
  },
  {
   "cell_type": "code",
   "execution_count": null,
   "id": "5e42fa00-651b-4ee7-95eb-ef20c03dfe24",
   "metadata": {},
   "outputs": [],
   "source": []
  }
 ],
 "metadata": {
  "kernelspec": {
   "display_name": "py3.6",
   "language": "python",
   "name": "py3.6"
  },
  "language_info": {
   "codemirror_mode": {
    "name": "ipython",
    "version": 3
   },
   "file_extension": ".py",
   "mimetype": "text/x-python",
   "name": "python",
   "nbconvert_exporter": "python",
   "pygments_lexer": "ipython3",
   "version": "3.6.13"
  }
 },
 "nbformat": 4,
 "nbformat_minor": 5
}
