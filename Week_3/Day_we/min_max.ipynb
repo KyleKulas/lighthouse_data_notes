{
 "cells": [
  {
   "cell_type": "markdown",
   "id": "dc9776ba-3951-41c5-8314-1594031fe026",
   "metadata": {},
   "source": [
    "# Min Max of Function in Python\n",
    "Kyle Kulas\n",
    "\n",
    "Tutorial: https://realpython.com/python-scipy-cluster-optimize/"
   ]
  },
  {
   "cell_type": "code",
   "execution_count": 3,
   "id": "c078b93c-2499-4a89-86c9-aff1735b6893",
   "metadata": {},
   "outputs": [],
   "source": [
    "import scipy\n",
    "from pathlib import Path\n",
    "import numpy as np\n",
    "from scipy.cluster.vq import whiten, kmeans, vq"
   ]
  },
  {
   "cell_type": "code",
   "execution_count": 5,
   "id": "7dbec6ac-e345-4d1c-95cf-96fad2a51923",
   "metadata": {},
   "outputs": [],
   "source": [
    "data = Path(\"data/SMSSpamCollection\").read_text()\n",
    "data = data.strip()\n",
    "data = data.split(\"\\n\")"
   ]
  },
  {
   "cell_type": "code",
   "execution_count": 11,
   "id": "08f64581-7b77-4098-be76-d7130db9376f",
   "metadata": {},
   "outputs": [],
   "source": [
    "digit_counts = np.empty((len(data),2), dtype=int)"
   ]
  },
  {
   "cell_type": "code",
   "execution_count": 12,
   "id": "cd870c4a-8c21-4498-8dcb-0079af4de34a",
   "metadata": {},
   "outputs": [],
   "source": [
    "for i, line in enumerate(data):\n",
    "    case, message = line.split(\"\\t\")\n",
    "    num_digits = sum(c.isdigit() for c in message)\n",
    "    digit_counts[i, 0] = 0 if case == \"ham\" else 1\n",
    "    digit_counts[i, 1] = num_digits"
   ]
  },
  {
   "cell_type": "code",
   "execution_count": 15,
   "id": "1dbd70ed-633e-4187-a2fe-10e03df0e944",
   "metadata": {},
   "outputs": [],
   "source": [
    "unique_counts = np.unique(digit_counts[:,1], return_counts=True)"
   ]
  },
  {
   "cell_type": "code",
   "execution_count": 16,
   "id": "3d40e791-7063-4882-9ba1-ca5bca0abb93",
   "metadata": {},
   "outputs": [
    {
     "data": {
      "text/plain": [
       "(array([ 0,  1,  2,  3,  4,  5,  6,  7,  8,  9, 10, 11, 12, 13, 14, 15, 16,\n",
       "        17, 18, 19, 20, 21, 22, 23, 24, 25, 26, 27, 28, 29, 30, 31, 32, 33,\n",
       "        34, 35, 36, 37, 40, 41, 47]),\n",
       " array([4110,  486,  160,   78,   42,   39,   16,   14,   28,   17,   16,\n",
       "          34,   30,   31,   37,   29,   35,   33,   41,   47,   18,   31,\n",
       "          28,   36,   34,   16,   16,   13,   19,    9,    2,    6,    3,\n",
       "           4,    3,    4,    1,    1,    4,    2,    1]))"
      ]
     },
     "execution_count": 16,
     "metadata": {},
     "output_type": "execute_result"
    }
   ],
   "source": [
    "unique_counts"
   ]
  },
  {
   "cell_type": "markdown",
   "id": "4592fb1d-532d-4b61-a3db-2257ed9264ca",
   "metadata": {},
   "source": [
    "Next, you need to transform unique_counts into a shape that’s suitable for clustering:"
   ]
  },
  {
   "cell_type": "code",
   "execution_count": 17,
   "id": "a61f42ef-e45e-4049-9934-02c414b4d496",
   "metadata": {},
   "outputs": [
    {
     "data": {
      "text/plain": [
       "array([[   0, 4110],\n",
       "       [   1,  486],\n",
       "       [   2,  160],\n",
       "       [   3,   78],\n",
       "       [   4,   42],\n",
       "       [   5,   39],\n",
       "       [   6,   16],\n",
       "       [   7,   14],\n",
       "       [   8,   28],\n",
       "       [   9,   17],\n",
       "       [  10,   16],\n",
       "       [  11,   34],\n",
       "       [  12,   30],\n",
       "       [  13,   31],\n",
       "       [  14,   37],\n",
       "       [  15,   29],\n",
       "       [  16,   35],\n",
       "       [  17,   33],\n",
       "       [  18,   41],\n",
       "       [  19,   47],\n",
       "       [  20,   18],\n",
       "       [  21,   31],\n",
       "       [  22,   28],\n",
       "       [  23,   36],\n",
       "       [  24,   34],\n",
       "       [  25,   16],\n",
       "       [  26,   16],\n",
       "       [  27,   13],\n",
       "       [  28,   19],\n",
       "       [  29,    9],\n",
       "       [  30,    2],\n",
       "       [  31,    6],\n",
       "       [  32,    3],\n",
       "       [  33,    4],\n",
       "       [  34,    3],\n",
       "       [  35,    4],\n",
       "       [  36,    1],\n",
       "       [  37,    1],\n",
       "       [  40,    4],\n",
       "       [  41,    2],\n",
       "       [  47,    1]])"
      ]
     },
     "execution_count": 17,
     "metadata": {},
     "output_type": "execute_result"
    }
   ],
   "source": [
    "unique_counts = np.transpose(np.vstack(unique_counts))\n",
    "unique_counts"
   ]
  },
  {
   "cell_type": "markdown",
   "id": "90d620a8-6e79-4195-bc58-146d4a7b057d",
   "metadata": {},
   "source": [
    "You use whiten() to normalize each feature to have unit variance, which improves the results from kmeans(). Then, kmeans() takes the whitened data and the number of clusters to create as arguments. In this example, you want to create 3 clusters, for definitely ham, definitely spam, and unknown. kmeans() returns two values:"
   ]
  },
  {
   "cell_type": "code",
   "execution_count": 18,
   "id": "402c43c5-f95c-4c79-ac13-8d7aa6dc5b18",
   "metadata": {},
   "outputs": [],
   "source": [
    "whitened_counts = whiten(unique_counts)\n",
    "codebook, _ = kmeans(whitened_counts, 3)"
   ]
  },
  {
   "cell_type": "markdown",
   "id": "2f2dda8d-a455-47ef-a7db-cb5328c49ddd",
   "metadata": {},
   "source": [
    "Next, you should determine which cluster each observation belongs to by using vq():"
   ]
  },
  {
   "cell_type": "code",
   "execution_count": 19,
   "id": "f6be6fbe-e079-481f-8f38-c11bef9d51e3",
   "metadata": {},
   "outputs": [],
   "source": [
    "codes, _ = vq(whitened_counts, codebook)"
   ]
  },
  {
   "cell_type": "markdown",
   "id": "07d1528d-2126-420c-bde8-f62bac09d8ae",
   "metadata": {},
   "source": [
    "The clustering algorithm randomly assigns the code 0, 1, or 2 to each cluster, so you need to identify which is which. You can use this code to find the code associated with each cluster:"
   ]
  },
  {
   "cell_type": "code",
   "execution_count": 20,
   "id": "855f4afc-5bac-413b-822c-8379cb0ea122",
   "metadata": {},
   "outputs": [],
   "source": [
    "ham_code = codes[0]\n",
    "spam_code = codes[-1]\n",
    "unknown_code = list(set(range(3)) ^ set((ham_code, spam_code)))[0]"
   ]
  },
  {
   "cell_type": "code",
   "execution_count": 22,
   "id": "2264438e-8038-4092-ad0c-fb77bfc0565f",
   "metadata": {},
   "outputs": [
    {
     "name": "stdout",
     "output_type": "stream",
     "text": [
      "definitely ham: [   0 4110]\n",
      "definitely spam: [47  1]\n",
      "unknown: [20 18]\n"
     ]
    }
   ],
   "source": [
    "print(\"definitely ham:\", unique_counts[codes == ham_code][-1])\n",
    "print(\"definitely spam:\", unique_counts[codes == spam_code][-1])\n",
    "print(\"unknown:\", unique_counts[codes == unknown_code][-1])"
   ]
  },
  {
   "cell_type": "code",
   "execution_count": 23,
   "id": "75381041-a3b1-4184-a790-9fc0af8a158c",
   "metadata": {},
   "outputs": [],
   "source": [
    "digits = digit_counts[:, 1]\n",
    "predicted_hams = digits == 0\n",
    "predicted_spams = digits > 20\n",
    "predicted_unknowns = np.logical_and(digits > 0, digits <=20)"
   ]
  },
  {
   "cell_type": "code",
   "execution_count": 24,
   "id": "81e8e784-75d6-4ea4-9de2-85b00630fd3c",
   "metadata": {},
   "outputs": [],
   "source": [
    "spam_cluster = digit_counts[predicted_spams]\n",
    "ham_cluster = digit_counts[predicted_hams]\n",
    "unk_cluster = digit_counts[predicted_unknowns]"
   ]
  },
  {
   "cell_type": "code",
   "execution_count": 25,
   "id": "e14c80e1-f62d-4326-a71e-83b743ae9469",
   "metadata": {},
   "outputs": [
    {
     "name": "stdout",
     "output_type": "stream",
     "text": [
      "hams: (array([0, 1]), array([4071,   39]))\n",
      "spams: (array([0, 1]), array([  1, 232]))\n",
      "unknowns: (array([0, 1]), array([755, 476]))\n"
     ]
    }
   ],
   "source": [
    "print(\"hams:\", np.unique(ham_cluster[:,0], return_counts=True))\n",
    "print(\"spams:\", np.unique(spam_cluster[:,0], return_counts=True))\n",
    "print(\"unknowns:\", np.unique(unk_cluster[:,0], return_counts=True))"
   ]
  },
  {
   "cell_type": "markdown",
   "id": "add527c1-9818-4b16-ae83-0101fd898a01",
   "metadata": {},
   "source": [
    "## Using the Optimize module in SciPy"
   ]
  },
  {
   "cell_type": "code",
   "execution_count": 28,
   "id": "83b04f43-fef5-46fe-82bb-b7173b2f9baa",
   "metadata": {},
   "outputs": [
    {
     "data": {
      "text/plain": [
       "     fun: 0.17451818777634331\n",
       "    nfev: 16\n",
       "     nit: 12\n",
       " success: True\n",
       "       x: 0.5503212087491959"
      ]
     },
     "execution_count": 28,
     "metadata": {},
     "output_type": "execute_result"
    }
   ],
   "source": [
    "from scipy.optimize import minimize_scalar\n",
    "\n",
    "def objective_function(x):\n",
    "    return 3 * x ** 4 - 2 * x + 1\n",
    "\n",
    "res = minimize_scalar(objective_function)\n",
    "res"
   ]
  },
  {
   "cell_type": "code",
   "execution_count": 31,
   "id": "0b9bf99c-eab0-4c3e-9024-80b86a081c7e",
   "metadata": {},
   "outputs": [
    {
     "data": {
      "text/plain": [
       "     fun: -0.24999999999999994\n",
       "    nfev: 15\n",
       "     nit: 11\n",
       " success: True\n",
       "       x: 0.7071067853059209"
      ]
     },
     "execution_count": 31,
     "metadata": {},
     "output_type": "execute_result"
    }
   ],
   "source": [
    "def objective_function2(x):\n",
    "    return (x ** 4) - (x ** 2)\n",
    "\n",
    "res = minimize_scalar(objective_function2)\n",
    "res"
   ]
  },
  {
   "cell_type": "code",
   "execution_count": 36,
   "id": "38993882-d16c-4ffb-b6fe-98b388847d2c",
   "metadata": {},
   "outputs": [
    {
     "data": {
      "text/plain": [
       "     fun: -0.24999999999999997\n",
       "    nfev: 17\n",
       "     nit: 13\n",
       " success: True\n",
       "       x: 0.7071067809244586"
      ]
     },
     "execution_count": 36,
     "metadata": {},
     "output_type": "execute_result"
    }
   ],
   "source": [
    "res = minimize_scalar(objective_function2, bracket=(-1,0))\n",
    "res"
   ]
  },
  {
   "cell_type": "code",
   "execution_count": 38,
   "id": "e39f1bbf-656a-40e0-b524-b037650f266a",
   "metadata": {},
   "outputs": [
    {
     "data": {
      "text/plain": [
       "     fun: -0.24999999999998732\n",
       " message: 'Solution found.'\n",
       "    nfev: 10\n",
       "  status: 0\n",
       " success: True\n",
       "       x: -0.707106701474177"
      ]
     },
     "execution_count": 38,
     "metadata": {},
     "output_type": "execute_result"
    }
   ],
   "source": [
    "res = minimize_scalar(objective_function2, method='bounded', bounds=(-1,0))\n",
    "res"
   ]
  },
  {
   "cell_type": "markdown",
   "id": "c4cf0c99-f5a3-4311-8ec4-9f30af8f319a",
   "metadata": {},
   "source": [
    "## Minimize function with many variables"
   ]
  },
  {
   "cell_type": "code",
   "execution_count": 40,
   "id": "55c27f33-f1ec-4f8f-90b4-f71aa9e778f7",
   "metadata": {},
   "outputs": [],
   "source": [
    "import numpy as np\n",
    "from scipy.optimize import minimize, LinearConstraint\n",
    "\n",
    "n_buyers = 10\n",
    "n_shares = 15\n"
   ]
  },
  {
   "cell_type": "code",
   "execution_count": 41,
   "id": "1a602402-1d87-418c-9004-1a8cf66996e8",
   "metadata": {},
   "outputs": [],
   "source": [
    "np.random.seed(10)\n",
    "prices = np.random.random(n_buyers)\n",
    "money_available = np.random.randint(1, 4, n_buyers)"
   ]
  },
  {
   "cell_type": "code",
   "execution_count": 42,
   "id": "2fc45866-2beb-4434-a09d-905dba1017e0",
   "metadata": {},
   "outputs": [
    {
     "name": "stdout",
     "output_type": "stream",
     "text": [
      "[0.77132064 0.02075195 0.63364823 0.74880388 0.49850701 0.22479665\n",
      " 0.19806286 0.76053071 0.16911084 0.08833981]\n",
      "[1 1 1 3 1 3 3 2 1 1]\n",
      "[ 1.29647768 48.18824404  1.57816269  4.00638948  2.00598984 13.34539487\n",
      " 15.14670609  2.62974258  5.91328161 11.3199242 ]\n"
     ]
    }
   ],
   "source": [
    "n_shares_per_buyer = money_available / prices\n",
    "print(prices, money_available, n_shares_per_buyer, sep='\\n')"
   ]
  },
  {
   "cell_type": "code",
   "execution_count": 43,
   "id": "53b620be-9df9-45b5-9223-26cdf94ff1a3",
   "metadata": {},
   "outputs": [],
   "source": [
    "constraint = LinearConstraint(np.ones(n_buyers), lb = n_shares, ub = n_shares)"
   ]
  },
  {
   "cell_type": "code",
   "execution_count": 44,
   "id": "14e1b4e2-e26d-49a6-b9a4-50e6a3e383d8",
   "metadata": {},
   "outputs": [],
   "source": [
    "bounds = [(0,n) for n in n_shares_per_buyer]"
   ]
  },
  {
   "cell_type": "code",
   "execution_count": 45,
   "id": "72060ea4-2691-44ab-8e61-3300efbf2f26",
   "metadata": {},
   "outputs": [],
   "source": [
    "def objective_function(x, prices):\n",
    "    return -x.dot(prices)"
   ]
  },
  {
   "cell_type": "code",
   "execution_count": 49,
   "id": "be97d433-a4b0-43cf-90d3-92a9d5206ba7",
   "metadata": {},
   "outputs": [
    {
     "name": "stdout",
     "output_type": "stream",
     "text": [
      "     fun: -8.783020157087606\n",
      "     jac: array([-0.77132058, -0.02075195, -0.63364828, -0.74880385, -0.49850702,\n",
      "       -0.22479653, -0.19806278, -0.76053071, -0.16911077, -0.08833981])\n",
      " message: 'Optimization terminated successfully'\n",
      "    nfev: 165\n",
      "     nit: 15\n",
      "    njev: 15\n",
      "  status: 0\n",
      " success: True\n",
      "       x: array([1.29647768e+00, 0.00000000e+00, 1.57816269e+00, 4.00638948e+00,\n",
      "       2.00598984e+00, 3.48323773e+00, 0.00000000e+00, 2.62974258e+00,\n",
      "       3.87044794e-14, 1.15382561e-13])\n"
     ]
    }
   ],
   "source": [
    "res = minimize(objective_function,\n",
    "               x0 = 10 * np.random.random(n_buyers),\n",
    "               args = (prices,),\n",
    "               constraints = constraint,\n",
    "               bounds = bounds,)\n",
    "print(res)"
   ]
  },
  {
   "cell_type": "code",
   "execution_count": 51,
   "id": "6717003b-dce9-4926-996f-542ed0a38efc",
   "metadata": {},
   "outputs": [
    {
     "name": "stdout",
     "output_type": "stream",
     "text": [
      "The total number of shares is: 15.000000000000016\n",
      "Leftover money for each buyer: [1.44328993e-14 1.00000000e+00 1.53210777e-14 3.55271368e-14\n",
      " 2.58681965e-14 2.21697984e+00 3.00000000e+00 3.19744231e-14\n",
      " 1.00000000e+00 1.00000000e+00]\n"
     ]
    }
   ],
   "source": [
    "print(\"The total number of shares is:\", sum(res.x))\n",
    "print(\"Leftover money for each buyer:\", money_available - res.x * prices)"
   ]
  },
  {
   "cell_type": "code",
   "execution_count": null,
   "id": "447996fd-c68e-4831-958e-23d094f00d61",
   "metadata": {},
   "outputs": [],
   "source": []
  }
 ],
 "metadata": {
  "kernelspec": {
   "display_name": "py3.6",
   "language": "python",
   "name": "py3.6"
  },
  "language_info": {
   "codemirror_mode": {
    "name": "ipython",
    "version": 3
   },
   "file_extension": ".py",
   "mimetype": "text/x-python",
   "name": "python",
   "nbconvert_exporter": "python",
   "pygments_lexer": "ipython3",
   "version": "3.6.13"
  }
 },
 "nbformat": 4,
 "nbformat_minor": 5
}
